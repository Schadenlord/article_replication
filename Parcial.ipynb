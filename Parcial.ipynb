{
 "cells": [
  {
   "cell_type": "markdown",
   "metadata": {},
   "source": [
    "# Configurações iniciais"
   ]
  },
  {
   "cell_type": "code",
   "execution_count": 792,
   "metadata": {},
   "outputs": [],
   "source": [
    "# Importando as bibliotecas necessárias\n",
    "import pandas as pd\n",
    "import numpy as np\n",
    "import statsmodels.api as sm\n",
    "from linearmodels.panel import PanelOLS\n",
    "from linearmodels.panel import RandomEffects\n",
    "import datetime"
   ]
  },
  {
   "cell_type": "code",
   "execution_count": 793,
   "metadata": {},
   "outputs": [
    {
     "data": {
      "text/html": [
       "<div>\n",
       "<style scoped>\n",
       "    .dataframe tbody tr th:only-of-type {\n",
       "        vertical-align: middle;\n",
       "    }\n",
       "\n",
       "    .dataframe tbody tr th {\n",
       "        vertical-align: top;\n",
       "    }\n",
       "\n",
       "    .dataframe thead th {\n",
       "        text-align: right;\n",
       "    }\n",
       "</style>\n",
       "<table border=\"1\" class=\"dataframe\">\n",
       "  <thead>\n",
       "    <tr style=\"text-align: right;\">\n",
       "      <th></th>\n",
       "      <th>country</th>\n",
       "      <th>year</th>\n",
       "      <th>index25a</th>\n",
       "      <th>index5a</th>\n",
       "      <th>index75a</th>\n",
       "      <th>index10a</th>\n",
       "      <th>index125a</th>\n",
       "      <th>index15a</th>\n",
       "      <th>alternate</th>\n",
       "      <th>efw_index_1</th>\n",
       "      <th>...</th>\n",
       "      <th>y55</th>\n",
       "      <th>y56</th>\n",
       "      <th>y57</th>\n",
       "      <th>y58</th>\n",
       "      <th>y59</th>\n",
       "      <th>y60</th>\n",
       "      <th>y61</th>\n",
       "      <th>y62</th>\n",
       "      <th>y63</th>\n",
       "      <th>y64</th>\n",
       "    </tr>\n",
       "  </thead>\n",
       "  <tbody>\n",
       "    <tr>\n",
       "      <th>0</th>\n",
       "      <td>Afghanistan</td>\n",
       "      <td>1960.0</td>\n",
       "      <td>NaN</td>\n",
       "      <td>NaN</td>\n",
       "      <td>NaN</td>\n",
       "      <td>NaN</td>\n",
       "      <td>NaN</td>\n",
       "      <td>NaN</td>\n",
       "      <td>NaN</td>\n",
       "      <td>NaN</td>\n",
       "      <td>...</td>\n",
       "      <td>0.0</td>\n",
       "      <td>0.0</td>\n",
       "      <td>0.0</td>\n",
       "      <td>0.0</td>\n",
       "      <td>0.0</td>\n",
       "      <td>0.0</td>\n",
       "      <td>0.0</td>\n",
       "      <td>0.0</td>\n",
       "      <td>0.0</td>\n",
       "      <td>0.0</td>\n",
       "    </tr>\n",
       "    <tr>\n",
       "      <th>1</th>\n",
       "      <td>Afghanistan</td>\n",
       "      <td>1961.0</td>\n",
       "      <td>NaN</td>\n",
       "      <td>NaN</td>\n",
       "      <td>NaN</td>\n",
       "      <td>NaN</td>\n",
       "      <td>NaN</td>\n",
       "      <td>NaN</td>\n",
       "      <td>NaN</td>\n",
       "      <td>NaN</td>\n",
       "      <td>...</td>\n",
       "      <td>0.0</td>\n",
       "      <td>0.0</td>\n",
       "      <td>0.0</td>\n",
       "      <td>0.0</td>\n",
       "      <td>0.0</td>\n",
       "      <td>0.0</td>\n",
       "      <td>0.0</td>\n",
       "      <td>0.0</td>\n",
       "      <td>0.0</td>\n",
       "      <td>0.0</td>\n",
       "    </tr>\n",
       "    <tr>\n",
       "      <th>2</th>\n",
       "      <td>Afghanistan</td>\n",
       "      <td>1962.0</td>\n",
       "      <td>NaN</td>\n",
       "      <td>NaN</td>\n",
       "      <td>NaN</td>\n",
       "      <td>NaN</td>\n",
       "      <td>NaN</td>\n",
       "      <td>NaN</td>\n",
       "      <td>NaN</td>\n",
       "      <td>NaN</td>\n",
       "      <td>...</td>\n",
       "      <td>0.0</td>\n",
       "      <td>0.0</td>\n",
       "      <td>0.0</td>\n",
       "      <td>0.0</td>\n",
       "      <td>0.0</td>\n",
       "      <td>0.0</td>\n",
       "      <td>0.0</td>\n",
       "      <td>0.0</td>\n",
       "      <td>0.0</td>\n",
       "      <td>0.0</td>\n",
       "    </tr>\n",
       "    <tr>\n",
       "      <th>3</th>\n",
       "      <td>Afghanistan</td>\n",
       "      <td>1963.0</td>\n",
       "      <td>NaN</td>\n",
       "      <td>NaN</td>\n",
       "      <td>NaN</td>\n",
       "      <td>NaN</td>\n",
       "      <td>NaN</td>\n",
       "      <td>NaN</td>\n",
       "      <td>NaN</td>\n",
       "      <td>NaN</td>\n",
       "      <td>...</td>\n",
       "      <td>0.0</td>\n",
       "      <td>0.0</td>\n",
       "      <td>0.0</td>\n",
       "      <td>0.0</td>\n",
       "      <td>0.0</td>\n",
       "      <td>0.0</td>\n",
       "      <td>0.0</td>\n",
       "      <td>0.0</td>\n",
       "      <td>0.0</td>\n",
       "      <td>0.0</td>\n",
       "    </tr>\n",
       "    <tr>\n",
       "      <th>4</th>\n",
       "      <td>Afghanistan</td>\n",
       "      <td>1964.0</td>\n",
       "      <td>NaN</td>\n",
       "      <td>NaN</td>\n",
       "      <td>NaN</td>\n",
       "      <td>NaN</td>\n",
       "      <td>NaN</td>\n",
       "      <td>NaN</td>\n",
       "      <td>NaN</td>\n",
       "      <td>NaN</td>\n",
       "      <td>...</td>\n",
       "      <td>0.0</td>\n",
       "      <td>0.0</td>\n",
       "      <td>0.0</td>\n",
       "      <td>0.0</td>\n",
       "      <td>0.0</td>\n",
       "      <td>0.0</td>\n",
       "      <td>0.0</td>\n",
       "      <td>0.0</td>\n",
       "      <td>0.0</td>\n",
       "      <td>0.0</td>\n",
       "    </tr>\n",
       "    <tr>\n",
       "      <th>...</th>\n",
       "      <td>...</td>\n",
       "      <td>...</td>\n",
       "      <td>...</td>\n",
       "      <td>...</td>\n",
       "      <td>...</td>\n",
       "      <td>...</td>\n",
       "      <td>...</td>\n",
       "      <td>...</td>\n",
       "      <td>...</td>\n",
       "      <td>...</td>\n",
       "      <td>...</td>\n",
       "      <td>...</td>\n",
       "      <td>...</td>\n",
       "      <td>...</td>\n",
       "      <td>...</td>\n",
       "      <td>...</td>\n",
       "      <td>...</td>\n",
       "      <td>...</td>\n",
       "      <td>...</td>\n",
       "      <td>...</td>\n",
       "      <td>...</td>\n",
       "    </tr>\n",
       "    <tr>\n",
       "      <th>15885</th>\n",
       "      <td>Zimbabwe</td>\n",
       "      <td>2019.0</td>\n",
       "      <td>NaN</td>\n",
       "      <td>NaN</td>\n",
       "      <td>NaN</td>\n",
       "      <td>NaN</td>\n",
       "      <td>NaN</td>\n",
       "      <td>NaN</td>\n",
       "      <td>NaN</td>\n",
       "      <td>4.719465</td>\n",
       "      <td>...</td>\n",
       "      <td>0.0</td>\n",
       "      <td>0.0</td>\n",
       "      <td>0.0</td>\n",
       "      <td>0.0</td>\n",
       "      <td>0.0</td>\n",
       "      <td>1.0</td>\n",
       "      <td>0.0</td>\n",
       "      <td>0.0</td>\n",
       "      <td>0.0</td>\n",
       "      <td>0.0</td>\n",
       "    </tr>\n",
       "    <tr>\n",
       "      <th>15886</th>\n",
       "      <td>Zimbabwe</td>\n",
       "      <td>2020.0</td>\n",
       "      <td>NaN</td>\n",
       "      <td>NaN</td>\n",
       "      <td>NaN</td>\n",
       "      <td>NaN</td>\n",
       "      <td>NaN</td>\n",
       "      <td>NaN</td>\n",
       "      <td>NaN</td>\n",
       "      <td>4.480000</td>\n",
       "      <td>...</td>\n",
       "      <td>0.0</td>\n",
       "      <td>0.0</td>\n",
       "      <td>0.0</td>\n",
       "      <td>0.0</td>\n",
       "      <td>0.0</td>\n",
       "      <td>0.0</td>\n",
       "      <td>1.0</td>\n",
       "      <td>0.0</td>\n",
       "      <td>0.0</td>\n",
       "      <td>0.0</td>\n",
       "    </tr>\n",
       "    <tr>\n",
       "      <th>15887</th>\n",
       "      <td>Zimbabwe</td>\n",
       "      <td>2021.0</td>\n",
       "      <td>NaN</td>\n",
       "      <td>NaN</td>\n",
       "      <td>NaN</td>\n",
       "      <td>NaN</td>\n",
       "      <td>NaN</td>\n",
       "      <td>NaN</td>\n",
       "      <td>NaN</td>\n",
       "      <td>NaN</td>\n",
       "      <td>...</td>\n",
       "      <td>0.0</td>\n",
       "      <td>0.0</td>\n",
       "      <td>0.0</td>\n",
       "      <td>0.0</td>\n",
       "      <td>0.0</td>\n",
       "      <td>0.0</td>\n",
       "      <td>0.0</td>\n",
       "      <td>1.0</td>\n",
       "      <td>0.0</td>\n",
       "      <td>0.0</td>\n",
       "    </tr>\n",
       "    <tr>\n",
       "      <th>15888</th>\n",
       "      <td>Zimbabwe</td>\n",
       "      <td>2022.0</td>\n",
       "      <td>NaN</td>\n",
       "      <td>NaN</td>\n",
       "      <td>NaN</td>\n",
       "      <td>NaN</td>\n",
       "      <td>NaN</td>\n",
       "      <td>NaN</td>\n",
       "      <td>NaN</td>\n",
       "      <td>NaN</td>\n",
       "      <td>...</td>\n",
       "      <td>0.0</td>\n",
       "      <td>0.0</td>\n",
       "      <td>0.0</td>\n",
       "      <td>0.0</td>\n",
       "      <td>0.0</td>\n",
       "      <td>0.0</td>\n",
       "      <td>0.0</td>\n",
       "      <td>0.0</td>\n",
       "      <td>1.0</td>\n",
       "      <td>0.0</td>\n",
       "    </tr>\n",
       "    <tr>\n",
       "      <th>15889</th>\n",
       "      <td>Zimbabwe</td>\n",
       "      <td>2023.0</td>\n",
       "      <td>NaN</td>\n",
       "      <td>NaN</td>\n",
       "      <td>NaN</td>\n",
       "      <td>NaN</td>\n",
       "      <td>NaN</td>\n",
       "      <td>NaN</td>\n",
       "      <td>NaN</td>\n",
       "      <td>NaN</td>\n",
       "      <td>...</td>\n",
       "      <td>0.0</td>\n",
       "      <td>0.0</td>\n",
       "      <td>0.0</td>\n",
       "      <td>0.0</td>\n",
       "      <td>0.0</td>\n",
       "      <td>0.0</td>\n",
       "      <td>0.0</td>\n",
       "      <td>0.0</td>\n",
       "      <td>0.0</td>\n",
       "      <td>1.0</td>\n",
       "    </tr>\n",
       "  </tbody>\n",
       "</table>\n",
       "<p>15890 rows × 93 columns</p>\n",
       "</div>"
      ],
      "text/plain": [
       "           country    year  index25a  index5a  index75a  index10a  index125a   \n",
       "0      Afghanistan  1960.0       NaN      NaN       NaN       NaN        NaN  \\\n",
       "1      Afghanistan  1961.0       NaN      NaN       NaN       NaN        NaN   \n",
       "2      Afghanistan  1962.0       NaN      NaN       NaN       NaN        NaN   \n",
       "3      Afghanistan  1963.0       NaN      NaN       NaN       NaN        NaN   \n",
       "4      Afghanistan  1964.0       NaN      NaN       NaN       NaN        NaN   \n",
       "...            ...     ...       ...      ...       ...       ...        ...   \n",
       "15885     Zimbabwe  2019.0       NaN      NaN       NaN       NaN        NaN   \n",
       "15886     Zimbabwe  2020.0       NaN      NaN       NaN       NaN        NaN   \n",
       "15887     Zimbabwe  2021.0       NaN      NaN       NaN       NaN        NaN   \n",
       "15888     Zimbabwe  2022.0       NaN      NaN       NaN       NaN        NaN   \n",
       "15889     Zimbabwe  2023.0       NaN      NaN       NaN       NaN        NaN   \n",
       "\n",
       "       index15a  alternate  efw_index_1  ...  y55  y56  y57  y58  y59  y60   \n",
       "0           NaN        NaN          NaN  ...  0.0  0.0  0.0  0.0  0.0  0.0  \\\n",
       "1           NaN        NaN          NaN  ...  0.0  0.0  0.0  0.0  0.0  0.0   \n",
       "2           NaN        NaN          NaN  ...  0.0  0.0  0.0  0.0  0.0  0.0   \n",
       "3           NaN        NaN          NaN  ...  0.0  0.0  0.0  0.0  0.0  0.0   \n",
       "4           NaN        NaN          NaN  ...  0.0  0.0  0.0  0.0  0.0  0.0   \n",
       "...         ...        ...          ...  ...  ...  ...  ...  ...  ...  ...   \n",
       "15885       NaN        NaN     4.719465  ...  0.0  0.0  0.0  0.0  0.0  1.0   \n",
       "15886       NaN        NaN     4.480000  ...  0.0  0.0  0.0  0.0  0.0  0.0   \n",
       "15887       NaN        NaN          NaN  ...  0.0  0.0  0.0  0.0  0.0  0.0   \n",
       "15888       NaN        NaN          NaN  ...  0.0  0.0  0.0  0.0  0.0  0.0   \n",
       "15889       NaN        NaN          NaN  ...  0.0  0.0  0.0  0.0  0.0  0.0   \n",
       "\n",
       "       y61  y62  y63  y64  \n",
       "0      0.0  0.0  0.0  0.0  \n",
       "1      0.0  0.0  0.0  0.0  \n",
       "2      0.0  0.0  0.0  0.0  \n",
       "3      0.0  0.0  0.0  0.0  \n",
       "4      0.0  0.0  0.0  0.0  \n",
       "...    ...  ...  ...  ...  \n",
       "15885  0.0  0.0  0.0  0.0  \n",
       "15886  1.0  0.0  0.0  0.0  \n",
       "15887  0.0  1.0  0.0  0.0  \n",
       "15888  0.0  0.0  1.0  0.0  \n",
       "15889  0.0  0.0  0.0  1.0  \n",
       "\n",
       "[15890 rows x 93 columns]"
      ]
     },
     "execution_count": 793,
     "metadata": {},
     "output_type": "execute_result"
    }
   ],
   "source": [
    "# Dando uma olhada na data de hoje\n",
    "adate = datetime.date.today().strftime(\"%Y-%m-%d\")\n",
    "\n",
    "# Carregando os dados em formato .dta do Stata\n",
    "data = pd.read_stata(\"replication data.dta\")\n",
    "\n",
    "# Dando uma olhada nos dados\n",
    "data"
   ]
  },
  {
   "cell_type": "code",
   "execution_count": 794,
   "metadata": {},
   "outputs": [
    {
     "data": {
      "text/html": [
       "<div>\n",
       "<style scoped>\n",
       "    .dataframe tbody tr th:only-of-type {\n",
       "        vertical-align: middle;\n",
       "    }\n",
       "\n",
       "    .dataframe tbody tr th {\n",
       "        vertical-align: top;\n",
       "    }\n",
       "\n",
       "    .dataframe thead th {\n",
       "        text-align: right;\n",
       "    }\n",
       "</style>\n",
       "<table border=\"1\" class=\"dataframe\">\n",
       "  <thead>\n",
       "    <tr style=\"text-align: right;\">\n",
       "      <th></th>\n",
       "      <th></th>\n",
       "      <th>country</th>\n",
       "      <th>year</th>\n",
       "      <th>index25a</th>\n",
       "      <th>index5a</th>\n",
       "      <th>index75a</th>\n",
       "      <th>index10a</th>\n",
       "      <th>index125a</th>\n",
       "      <th>index15a</th>\n",
       "      <th>alternate</th>\n",
       "      <th>efw_index_1</th>\n",
       "      <th>...</th>\n",
       "      <th>y55</th>\n",
       "      <th>y56</th>\n",
       "      <th>y57</th>\n",
       "      <th>y58</th>\n",
       "      <th>y59</th>\n",
       "      <th>y60</th>\n",
       "      <th>y61</th>\n",
       "      <th>y62</th>\n",
       "      <th>y63</th>\n",
       "      <th>y64</th>\n",
       "    </tr>\n",
       "    <tr>\n",
       "      <th>countrycode</th>\n",
       "      <th>year</th>\n",
       "      <th></th>\n",
       "      <th></th>\n",
       "      <th></th>\n",
       "      <th></th>\n",
       "      <th></th>\n",
       "      <th></th>\n",
       "      <th></th>\n",
       "      <th></th>\n",
       "      <th></th>\n",
       "      <th></th>\n",
       "      <th></th>\n",
       "      <th></th>\n",
       "      <th></th>\n",
       "      <th></th>\n",
       "      <th></th>\n",
       "      <th></th>\n",
       "      <th></th>\n",
       "      <th></th>\n",
       "      <th></th>\n",
       "      <th></th>\n",
       "      <th></th>\n",
       "    </tr>\n",
       "  </thead>\n",
       "  <tbody>\n",
       "    <tr>\n",
       "      <th rowspan=\"5\" valign=\"top\">Afghanistan</th>\n",
       "      <th>1960.0</th>\n",
       "      <td>Afghanistan</td>\n",
       "      <td>1960.0</td>\n",
       "      <td>NaN</td>\n",
       "      <td>NaN</td>\n",
       "      <td>NaN</td>\n",
       "      <td>NaN</td>\n",
       "      <td>NaN</td>\n",
       "      <td>NaN</td>\n",
       "      <td>NaN</td>\n",
       "      <td>NaN</td>\n",
       "      <td>...</td>\n",
       "      <td>0.0</td>\n",
       "      <td>0.0</td>\n",
       "      <td>0.0</td>\n",
       "      <td>0.0</td>\n",
       "      <td>0.0</td>\n",
       "      <td>0.0</td>\n",
       "      <td>0.0</td>\n",
       "      <td>0.0</td>\n",
       "      <td>0.0</td>\n",
       "      <td>0.0</td>\n",
       "    </tr>\n",
       "    <tr>\n",
       "      <th>1961.0</th>\n",
       "      <td>Afghanistan</td>\n",
       "      <td>1961.0</td>\n",
       "      <td>NaN</td>\n",
       "      <td>NaN</td>\n",
       "      <td>NaN</td>\n",
       "      <td>NaN</td>\n",
       "      <td>NaN</td>\n",
       "      <td>NaN</td>\n",
       "      <td>NaN</td>\n",
       "      <td>NaN</td>\n",
       "      <td>...</td>\n",
       "      <td>0.0</td>\n",
       "      <td>0.0</td>\n",
       "      <td>0.0</td>\n",
       "      <td>0.0</td>\n",
       "      <td>0.0</td>\n",
       "      <td>0.0</td>\n",
       "      <td>0.0</td>\n",
       "      <td>0.0</td>\n",
       "      <td>0.0</td>\n",
       "      <td>0.0</td>\n",
       "    </tr>\n",
       "    <tr>\n",
       "      <th>1962.0</th>\n",
       "      <td>Afghanistan</td>\n",
       "      <td>1962.0</td>\n",
       "      <td>NaN</td>\n",
       "      <td>NaN</td>\n",
       "      <td>NaN</td>\n",
       "      <td>NaN</td>\n",
       "      <td>NaN</td>\n",
       "      <td>NaN</td>\n",
       "      <td>NaN</td>\n",
       "      <td>NaN</td>\n",
       "      <td>...</td>\n",
       "      <td>0.0</td>\n",
       "      <td>0.0</td>\n",
       "      <td>0.0</td>\n",
       "      <td>0.0</td>\n",
       "      <td>0.0</td>\n",
       "      <td>0.0</td>\n",
       "      <td>0.0</td>\n",
       "      <td>0.0</td>\n",
       "      <td>0.0</td>\n",
       "      <td>0.0</td>\n",
       "    </tr>\n",
       "    <tr>\n",
       "      <th>1963.0</th>\n",
       "      <td>Afghanistan</td>\n",
       "      <td>1963.0</td>\n",
       "      <td>NaN</td>\n",
       "      <td>NaN</td>\n",
       "      <td>NaN</td>\n",
       "      <td>NaN</td>\n",
       "      <td>NaN</td>\n",
       "      <td>NaN</td>\n",
       "      <td>NaN</td>\n",
       "      <td>NaN</td>\n",
       "      <td>...</td>\n",
       "      <td>0.0</td>\n",
       "      <td>0.0</td>\n",
       "      <td>0.0</td>\n",
       "      <td>0.0</td>\n",
       "      <td>0.0</td>\n",
       "      <td>0.0</td>\n",
       "      <td>0.0</td>\n",
       "      <td>0.0</td>\n",
       "      <td>0.0</td>\n",
       "      <td>0.0</td>\n",
       "    </tr>\n",
       "    <tr>\n",
       "      <th>1964.0</th>\n",
       "      <td>Afghanistan</td>\n",
       "      <td>1964.0</td>\n",
       "      <td>NaN</td>\n",
       "      <td>NaN</td>\n",
       "      <td>NaN</td>\n",
       "      <td>NaN</td>\n",
       "      <td>NaN</td>\n",
       "      <td>NaN</td>\n",
       "      <td>NaN</td>\n",
       "      <td>NaN</td>\n",
       "      <td>...</td>\n",
       "      <td>0.0</td>\n",
       "      <td>0.0</td>\n",
       "      <td>0.0</td>\n",
       "      <td>0.0</td>\n",
       "      <td>0.0</td>\n",
       "      <td>0.0</td>\n",
       "      <td>0.0</td>\n",
       "      <td>0.0</td>\n",
       "      <td>0.0</td>\n",
       "      <td>0.0</td>\n",
       "    </tr>\n",
       "    <tr>\n",
       "      <th>...</th>\n",
       "      <th>...</th>\n",
       "      <td>...</td>\n",
       "      <td>...</td>\n",
       "      <td>...</td>\n",
       "      <td>...</td>\n",
       "      <td>...</td>\n",
       "      <td>...</td>\n",
       "      <td>...</td>\n",
       "      <td>...</td>\n",
       "      <td>...</td>\n",
       "      <td>...</td>\n",
       "      <td>...</td>\n",
       "      <td>...</td>\n",
       "      <td>...</td>\n",
       "      <td>...</td>\n",
       "      <td>...</td>\n",
       "      <td>...</td>\n",
       "      <td>...</td>\n",
       "      <td>...</td>\n",
       "      <td>...</td>\n",
       "      <td>...</td>\n",
       "      <td>...</td>\n",
       "    </tr>\n",
       "    <tr>\n",
       "      <th rowspan=\"5\" valign=\"top\">Zimbabwe</th>\n",
       "      <th>2019.0</th>\n",
       "      <td>Zimbabwe</td>\n",
       "      <td>2019.0</td>\n",
       "      <td>NaN</td>\n",
       "      <td>NaN</td>\n",
       "      <td>NaN</td>\n",
       "      <td>NaN</td>\n",
       "      <td>NaN</td>\n",
       "      <td>NaN</td>\n",
       "      <td>NaN</td>\n",
       "      <td>4.719465</td>\n",
       "      <td>...</td>\n",
       "      <td>0.0</td>\n",
       "      <td>0.0</td>\n",
       "      <td>0.0</td>\n",
       "      <td>0.0</td>\n",
       "      <td>0.0</td>\n",
       "      <td>1.0</td>\n",
       "      <td>0.0</td>\n",
       "      <td>0.0</td>\n",
       "      <td>0.0</td>\n",
       "      <td>0.0</td>\n",
       "    </tr>\n",
       "    <tr>\n",
       "      <th>2020.0</th>\n",
       "      <td>Zimbabwe</td>\n",
       "      <td>2020.0</td>\n",
       "      <td>NaN</td>\n",
       "      <td>NaN</td>\n",
       "      <td>NaN</td>\n",
       "      <td>NaN</td>\n",
       "      <td>NaN</td>\n",
       "      <td>NaN</td>\n",
       "      <td>NaN</td>\n",
       "      <td>4.480000</td>\n",
       "      <td>...</td>\n",
       "      <td>0.0</td>\n",
       "      <td>0.0</td>\n",
       "      <td>0.0</td>\n",
       "      <td>0.0</td>\n",
       "      <td>0.0</td>\n",
       "      <td>0.0</td>\n",
       "      <td>1.0</td>\n",
       "      <td>0.0</td>\n",
       "      <td>0.0</td>\n",
       "      <td>0.0</td>\n",
       "    </tr>\n",
       "    <tr>\n",
       "      <th>2021.0</th>\n",
       "      <td>Zimbabwe</td>\n",
       "      <td>2021.0</td>\n",
       "      <td>NaN</td>\n",
       "      <td>NaN</td>\n",
       "      <td>NaN</td>\n",
       "      <td>NaN</td>\n",
       "      <td>NaN</td>\n",
       "      <td>NaN</td>\n",
       "      <td>NaN</td>\n",
       "      <td>NaN</td>\n",
       "      <td>...</td>\n",
       "      <td>0.0</td>\n",
       "      <td>0.0</td>\n",
       "      <td>0.0</td>\n",
       "      <td>0.0</td>\n",
       "      <td>0.0</td>\n",
       "      <td>0.0</td>\n",
       "      <td>0.0</td>\n",
       "      <td>1.0</td>\n",
       "      <td>0.0</td>\n",
       "      <td>0.0</td>\n",
       "    </tr>\n",
       "    <tr>\n",
       "      <th>2022.0</th>\n",
       "      <td>Zimbabwe</td>\n",
       "      <td>2022.0</td>\n",
       "      <td>NaN</td>\n",
       "      <td>NaN</td>\n",
       "      <td>NaN</td>\n",
       "      <td>NaN</td>\n",
       "      <td>NaN</td>\n",
       "      <td>NaN</td>\n",
       "      <td>NaN</td>\n",
       "      <td>NaN</td>\n",
       "      <td>...</td>\n",
       "      <td>0.0</td>\n",
       "      <td>0.0</td>\n",
       "      <td>0.0</td>\n",
       "      <td>0.0</td>\n",
       "      <td>0.0</td>\n",
       "      <td>0.0</td>\n",
       "      <td>0.0</td>\n",
       "      <td>0.0</td>\n",
       "      <td>1.0</td>\n",
       "      <td>0.0</td>\n",
       "    </tr>\n",
       "    <tr>\n",
       "      <th>2023.0</th>\n",
       "      <td>Zimbabwe</td>\n",
       "      <td>2023.0</td>\n",
       "      <td>NaN</td>\n",
       "      <td>NaN</td>\n",
       "      <td>NaN</td>\n",
       "      <td>NaN</td>\n",
       "      <td>NaN</td>\n",
       "      <td>NaN</td>\n",
       "      <td>NaN</td>\n",
       "      <td>NaN</td>\n",
       "      <td>...</td>\n",
       "      <td>0.0</td>\n",
       "      <td>0.0</td>\n",
       "      <td>0.0</td>\n",
       "      <td>0.0</td>\n",
       "      <td>0.0</td>\n",
       "      <td>0.0</td>\n",
       "      <td>0.0</td>\n",
       "      <td>0.0</td>\n",
       "      <td>0.0</td>\n",
       "      <td>1.0</td>\n",
       "    </tr>\n",
       "  </tbody>\n",
       "</table>\n",
       "<p>15890 rows × 93 columns</p>\n",
       "</div>"
      ],
      "text/plain": [
       "                        country    year  index25a  index5a  index75a   \n",
       "countrycode year                                                       \n",
       "Afghanistan 1960.0  Afghanistan  1960.0       NaN      NaN       NaN  \\\n",
       "            1961.0  Afghanistan  1961.0       NaN      NaN       NaN   \n",
       "            1962.0  Afghanistan  1962.0       NaN      NaN       NaN   \n",
       "            1963.0  Afghanistan  1963.0       NaN      NaN       NaN   \n",
       "            1964.0  Afghanistan  1964.0       NaN      NaN       NaN   \n",
       "...                         ...     ...       ...      ...       ...   \n",
       "Zimbabwe    2019.0     Zimbabwe  2019.0       NaN      NaN       NaN   \n",
       "            2020.0     Zimbabwe  2020.0       NaN      NaN       NaN   \n",
       "            2021.0     Zimbabwe  2021.0       NaN      NaN       NaN   \n",
       "            2022.0     Zimbabwe  2022.0       NaN      NaN       NaN   \n",
       "            2023.0     Zimbabwe  2023.0       NaN      NaN       NaN   \n",
       "\n",
       "                    index10a  index125a  index15a  alternate  efw_index_1   \n",
       "countrycode year                                                            \n",
       "Afghanistan 1960.0       NaN        NaN       NaN        NaN          NaN  \\\n",
       "            1961.0       NaN        NaN       NaN        NaN          NaN   \n",
       "            1962.0       NaN        NaN       NaN        NaN          NaN   \n",
       "            1963.0       NaN        NaN       NaN        NaN          NaN   \n",
       "            1964.0       NaN        NaN       NaN        NaN          NaN   \n",
       "...                      ...        ...       ...        ...          ...   \n",
       "Zimbabwe    2019.0       NaN        NaN       NaN        NaN     4.719465   \n",
       "            2020.0       NaN        NaN       NaN        NaN     4.480000   \n",
       "            2021.0       NaN        NaN       NaN        NaN          NaN   \n",
       "            2022.0       NaN        NaN       NaN        NaN          NaN   \n",
       "            2023.0       NaN        NaN       NaN        NaN          NaN   \n",
       "\n",
       "                    ...  y55  y56  y57  y58  y59  y60  y61  y62  y63  y64  \n",
       "countrycode year    ...                                                    \n",
       "Afghanistan 1960.0  ...  0.0  0.0  0.0  0.0  0.0  0.0  0.0  0.0  0.0  0.0  \n",
       "            1961.0  ...  0.0  0.0  0.0  0.0  0.0  0.0  0.0  0.0  0.0  0.0  \n",
       "            1962.0  ...  0.0  0.0  0.0  0.0  0.0  0.0  0.0  0.0  0.0  0.0  \n",
       "            1963.0  ...  0.0  0.0  0.0  0.0  0.0  0.0  0.0  0.0  0.0  0.0  \n",
       "            1964.0  ...  0.0  0.0  0.0  0.0  0.0  0.0  0.0  0.0  0.0  0.0  \n",
       "...                 ...  ...  ...  ...  ...  ...  ...  ...  ...  ...  ...  \n",
       "Zimbabwe    2019.0  ...  0.0  0.0  0.0  0.0  0.0  1.0  0.0  0.0  0.0  0.0  \n",
       "            2020.0  ...  0.0  0.0  0.0  0.0  0.0  0.0  1.0  0.0  0.0  0.0  \n",
       "            2021.0  ...  0.0  0.0  0.0  0.0  0.0  0.0  0.0  1.0  0.0  0.0  \n",
       "            2022.0  ...  0.0  0.0  0.0  0.0  0.0  0.0  0.0  0.0  1.0  0.0  \n",
       "            2023.0  ...  0.0  0.0  0.0  0.0  0.0  0.0  0.0  0.0  0.0  1.0  \n",
       "\n",
       "[15890 rows x 93 columns]"
      ]
     },
     "execution_count": 794,
     "metadata": {},
     "output_type": "execute_result"
    }
   ],
   "source": [
    "# Colocando os dados em multi-index para painel\n",
    "# Declarando o 'i' como índice do País e o 't' como índice do ano\n",
    "data = data.set_index(['countrycode', 'year'], drop=False)\n",
    "\n",
    "# Criando o log do PIB per capita para a análise\n",
    "data['lngdp'] = np.log(data['gdppc'])\n",
    "\n",
    "# Dando uma olhada nos dados\n",
    "data"
   ]
  },
  {
   "cell_type": "code",
   "execution_count": 795,
   "metadata": {},
   "outputs": [
    {
     "data": {
      "text/plain": [
       "countrycode  year  \n",
       "Afghanistan  1960.0    0.0\n",
       "             1961.0    0.0\n",
       "             1962.0    0.0\n",
       "             1963.0    0.0\n",
       "             1964.0    0.0\n",
       "                      ... \n",
       "Zimbabwe     2019.0    1.0\n",
       "             2020.0    1.0\n",
       "             2021.0    1.0\n",
       "             2022.0    1.0\n",
       "             2023.0    1.0\n",
       "Name: min_legor_uk, Length: 15890, dtype: float64"
      ]
     },
     "execution_count": 795,
     "metadata": {},
     "output_type": "execute_result"
    }
   ],
   "source": [
    "# Criando a variavel de minimo de legor_uk por país (equivalente ao \"1.legor_uk\")\n",
    "data['min_legor_uk'] = data.groupby('country')['legor_uk'].transform('min')\n",
    "\n",
    "# Olhando se a variável foi criada corretamente\n",
    "data['min_legor_uk']"
   ]
  },
  {
   "cell_type": "code",
   "execution_count": 796,
   "metadata": {},
   "outputs": [],
   "source": [
    "# Criando lags de 1 e 5 anos das variáveis usadas nas regressões\n",
    "lags = [1, 5]\n",
    "variables = ['index25a', 'index5a', 'index75a', 'index10a', 'index125a', 'index15a', 'netoda_gdp_cons', 'resource_rent', 'index125a', 'gdpg', 'lngdp', 'alternate', 'christian_int', 'warDummy', 'legor_fr', 'coup', 'gini_disp', 'min_legor_uk']\n",
    "\n",
    "for var in variables:\n",
    "    for lag in lags:\n",
    "        if lag == 1:\n",
    "            data[f'l_{var}'] = data[var].shift(lag) \n",
    "        else:\n",
    "            data[f'l{lag}_{var}'] = data[var].shift(lag)"
   ]
  },
  {
   "cell_type": "code",
   "execution_count": 797,
   "metadata": {},
   "outputs": [],
   "source": [
    "\n",
    "# Criando um indicador de país com dados completos\n",
    "data['sample_full'] = np.where((~data['l_gdpg'].isnull()) & \n",
    "                                (~data['l_lngdp'].isnull()) & \n",
    "                                (~data['l_netoda_gdp_cons'].isnull()) & \n",
    "                                (~data['efw_index_1_int'].isnull()) & \n",
    "                                (~data['warDummy'].isnull()) & \n",
    "                                (~data['l_alternate'].isnull()) & \n",
    "                                (~data['l_christian_int'].isnull()) & \n",
    "                                (~data['l_resource_rent'].isnull()) & \n",
    "                                (~data['min_legor_uk'].isnull()), 1, 0)\n"
   ]
  },
  {
   "cell_type": "code",
   "execution_count": 798,
   "metadata": {},
   "outputs": [],
   "source": [
    "# Criando um dataframe apenas com os dados completos\n",
    "df_filtered = data[data['sample_full'] == 1]"
   ]
  },
  {
   "cell_type": "code",
   "execution_count": 799,
   "metadata": {},
   "outputs": [
    {
     "name": "stderr",
     "output_type": "stream",
     "text": [
      "C:\\Users\\guian\\AppData\\Local\\Temp\\ipykernel_28260\\597667771.py:2: SettingWithCopyWarning:\n",
      "\n",
      "\n",
      "A value is trying to be set on a copy of a slice from a DataFrame.\n",
      "Try using .loc[row_indexer,col_indexer] = value instead\n",
      "\n",
      "See the caveats in the documentation: https://pandas.pydata.org/pandas-docs/stable/user_guide/indexing.html#returning-a-view-versus-a-copy\n",
      "\n"
     ]
    }
   ],
   "source": [
    "# Criando um indicador de país com dados completos para as variáveis especificadas\n",
    "df_filtered['sample_full5'] = np.where((~df_filtered['l5_index25a'].isnull()) & \n",
    "                               (~df_filtered['l5_netoda_gdp_cons'].isnull()) & \n",
    "                               (~df_filtered['l5_resource_rent'].isnull()) & \n",
    "                               (~df_filtered['l5_lngdp'].isnull()) & \n",
    "                               (~df_filtered['l5_gdpg'].isnull()) & \n",
    "                               (~df_filtered['l5_warDummy'].isnull()) & \n",
    "                               (~df_filtered['l5_christian_int'].isnull()) & \n",
    "                               (~df_filtered['min_legor_uk'].isnull()) & \n",
    "                               (~df_filtered['l5_legor_fr'].isnull()) & \n",
    "                               (~df_filtered['l5_coup'].isnull()) & \n",
    "                               (~df_filtered['l5_gini_disp'].isnull()) & \n",
    "                               (~df_filtered['efw_index_1_int'].isnull()), 1, 0)\n",
    "\n",
    "subset_5L = df_filtered[df_filtered['sample_full5'] == 1]"
   ]
  },
  {
   "cell_type": "code",
   "execution_count": 800,
   "metadata": {},
   "outputs": [],
   "source": [
    "df_filtered.to_csv('df_filtered.csv')"
   ]
  },
  {
   "cell_type": "markdown",
   "metadata": {},
   "source": [
    "# Tabela 2 - Sumário de estatísticas descritivas\n"
   ]
  },
  {
   "cell_type": "code",
   "execution_count": 801,
   "metadata": {},
   "outputs": [],
   "source": [
    "# Criando as estatísticas descritivas para as variáveis efw_index_1_int e efw_index_1\n",
    "# O efw_index_1_int é a variável de liberdade econômica interpolada para o ano t e o efw_index_1 é a variável de liberdade econômica para o ano t\n",
    "efw_stats = df_filtered[['efw_index_1_int', 'efw_index_1']].describe()\n",
    "\n",
    "# Criando as estatísticas descritivas para as variáveis index25a, index5a, index75a, index10a, index125a e index15a\n",
    "# Essas variaveis são as taxas de desconto para memória do regime\n",
    "multi_stats = df_filtered[['index25a', 'index5a', 'index75a', 'index10a', \n",
    "                          'index125a', 'index15a']].describe()  \n",
    "\n",
    "# Criando as estatísticas descritivas para as variáveis de controle adicionais\n",
    "other_stats = df_filtered[['netoda_gdp_cons', 'l_resource_rent', 'gdppc', 'gdpg', \n",
    "                          'warDummy', 'christian_int', 'legor_uk', 'legor_fr', \n",
    "                          'coup', 'gini_disp']].describe() \n"
   ]
  },
  {
   "cell_type": "code",
   "execution_count": 802,
   "metadata": {},
   "outputs": [
    {
     "data": {
      "text/html": [
       "<div>\n",
       "<style scoped>\n",
       "    .dataframe tbody tr th:only-of-type {\n",
       "        vertical-align: middle;\n",
       "    }\n",
       "\n",
       "    .dataframe tbody tr th {\n",
       "        vertical-align: top;\n",
       "    }\n",
       "\n",
       "    .dataframe thead th {\n",
       "        text-align: right;\n",
       "    }\n",
       "</style>\n",
       "<table border=\"1\" class=\"dataframe\">\n",
       "  <thead>\n",
       "    <tr style=\"text-align: right;\">\n",
       "      <th></th>\n",
       "      <th>count</th>\n",
       "      <th>mean</th>\n",
       "      <th>std</th>\n",
       "      <th>min</th>\n",
       "      <th>25%</th>\n",
       "      <th>50%</th>\n",
       "      <th>75%</th>\n",
       "      <th>max</th>\n",
       "    </tr>\n",
       "  </thead>\n",
       "  <tbody>\n",
       "    <tr>\n",
       "      <th>efw_index_1_int</th>\n",
       "      <td>4699.0</td>\n",
       "      <td>6.138698</td>\n",
       "      <td>1.297296</td>\n",
       "      <td>2.370152</td>\n",
       "      <td>5.176242</td>\n",
       "      <td>6.195428</td>\n",
       "      <td>7.179706</td>\n",
       "      <td>8.849427</td>\n",
       "    </tr>\n",
       "    <tr>\n",
       "      <th>efw_index_1</th>\n",
       "      <td>2534.0</td>\n",
       "      <td>6.528460</td>\n",
       "      <td>1.159425</td>\n",
       "      <td>2.370152</td>\n",
       "      <td>5.751824</td>\n",
       "      <td>6.651100</td>\n",
       "      <td>7.440007</td>\n",
       "      <td>8.849427</td>\n",
       "    </tr>\n",
       "  </tbody>\n",
       "</table>\n",
       "</div>"
      ],
      "text/plain": [
       "                  count      mean       std       min       25%       50%   \n",
       "efw_index_1_int  4699.0  6.138698  1.297296  2.370152  5.176242  6.195428  \\\n",
       "efw_index_1      2534.0  6.528460  1.159425  2.370152  5.751824  6.651100   \n",
       "\n",
       "                      75%       max  \n",
       "efw_index_1_int  7.179706  8.849427  \n",
       "efw_index_1      7.440007  8.849427  "
      ]
     },
     "execution_count": 802,
     "metadata": {},
     "output_type": "execute_result"
    }
   ],
   "source": [
    "# Dados transpostos\n",
    "efw_stats = efw_stats.transpose()\n",
    "efw_stats"
   ]
  },
  {
   "cell_type": "code",
   "execution_count": 803,
   "metadata": {},
   "outputs": [
    {
     "data": {
      "text/html": [
       "<div>\n",
       "<style scoped>\n",
       "    .dataframe tbody tr th:only-of-type {\n",
       "        vertical-align: middle;\n",
       "    }\n",
       "\n",
       "    .dataframe tbody tr th {\n",
       "        vertical-align: top;\n",
       "    }\n",
       "\n",
       "    .dataframe thead th {\n",
       "        text-align: right;\n",
       "    }\n",
       "</style>\n",
       "<table border=\"1\" class=\"dataframe\">\n",
       "  <thead>\n",
       "    <tr style=\"text-align: right;\">\n",
       "      <th></th>\n",
       "      <th>count</th>\n",
       "      <th>mean</th>\n",
       "      <th>std</th>\n",
       "      <th>min</th>\n",
       "      <th>25%</th>\n",
       "      <th>50%</th>\n",
       "      <th>75%</th>\n",
       "      <th>max</th>\n",
       "    </tr>\n",
       "  </thead>\n",
       "  <tbody>\n",
       "    <tr>\n",
       "      <th>index25a</th>\n",
       "      <td>4699.0</td>\n",
       "      <td>0.387388</td>\n",
       "      <td>6.053289</td>\n",
       "      <td>-10.0</td>\n",
       "      <td>-4.932185</td>\n",
       "      <td>-0.538582</td>\n",
       "      <td>6.000000</td>\n",
       "      <td>10.0</td>\n",
       "    </tr>\n",
       "    <tr>\n",
       "      <th>index5a</th>\n",
       "      <td>4699.0</td>\n",
       "      <td>1.010515</td>\n",
       "      <td>6.341417</td>\n",
       "      <td>-10.0</td>\n",
       "      <td>-4.842709</td>\n",
       "      <td>0.793132</td>\n",
       "      <td>7.000000</td>\n",
       "      <td>10.0</td>\n",
       "    </tr>\n",
       "    <tr>\n",
       "      <th>index75a</th>\n",
       "      <td>4699.0</td>\n",
       "      <td>1.435040</td>\n",
       "      <td>6.512435</td>\n",
       "      <td>-10.0</td>\n",
       "      <td>-4.716534</td>\n",
       "      <td>2.014048</td>\n",
       "      <td>7.897259</td>\n",
       "      <td>10.0</td>\n",
       "    </tr>\n",
       "    <tr>\n",
       "      <th>index10a</th>\n",
       "      <td>4699.0</td>\n",
       "      <td>1.735425</td>\n",
       "      <td>6.634987</td>\n",
       "      <td>-10.0</td>\n",
       "      <td>-4.645097</td>\n",
       "      <td>3.043038</td>\n",
       "      <td>8.034561</td>\n",
       "      <td>10.0</td>\n",
       "    </tr>\n",
       "    <tr>\n",
       "      <th>index125a</th>\n",
       "      <td>4699.0</td>\n",
       "      <td>1.950036</td>\n",
       "      <td>6.724942</td>\n",
       "      <td>-10.0</td>\n",
       "      <td>-4.588282</td>\n",
       "      <td>3.721570</td>\n",
       "      <td>8.612123</td>\n",
       "      <td>10.0</td>\n",
       "    </tr>\n",
       "    <tr>\n",
       "      <th>index15a</th>\n",
       "      <td>4699.0</td>\n",
       "      <td>2.105674</td>\n",
       "      <td>6.791350</td>\n",
       "      <td>-10.0</td>\n",
       "      <td>-4.631075</td>\n",
       "      <td>4.000000</td>\n",
       "      <td>8.887104</td>\n",
       "      <td>10.0</td>\n",
       "    </tr>\n",
       "  </tbody>\n",
       "</table>\n",
       "</div>"
      ],
      "text/plain": [
       "            count      mean       std   min       25%       50%       75%   \n",
       "index25a   4699.0  0.387388  6.053289 -10.0 -4.932185 -0.538582  6.000000  \\\n",
       "index5a    4699.0  1.010515  6.341417 -10.0 -4.842709  0.793132  7.000000   \n",
       "index75a   4699.0  1.435040  6.512435 -10.0 -4.716534  2.014048  7.897259   \n",
       "index10a   4699.0  1.735425  6.634987 -10.0 -4.645097  3.043038  8.034561   \n",
       "index125a  4699.0  1.950036  6.724942 -10.0 -4.588282  3.721570  8.612123   \n",
       "index15a   4699.0  2.105674  6.791350 -10.0 -4.631075  4.000000  8.887104   \n",
       "\n",
       "            max  \n",
       "index25a   10.0  \n",
       "index5a    10.0  \n",
       "index75a   10.0  \n",
       "index10a   10.0  \n",
       "index125a  10.0  \n",
       "index15a   10.0  "
      ]
     },
     "execution_count": 803,
     "metadata": {},
     "output_type": "execute_result"
    }
   ],
   "source": [
    "# Dados transpostos\n",
    "multi_stats = multi_stats.transpose()\n",
    "multi_stats"
   ]
  },
  {
   "cell_type": "code",
   "execution_count": 804,
   "metadata": {},
   "outputs": [
    {
     "data": {
      "text/html": [
       "<div>\n",
       "<style scoped>\n",
       "    .dataframe tbody tr th:only-of-type {\n",
       "        vertical-align: middle;\n",
       "    }\n",
       "\n",
       "    .dataframe tbody tr th {\n",
       "        vertical-align: top;\n",
       "    }\n",
       "\n",
       "    .dataframe thead th {\n",
       "        text-align: right;\n",
       "    }\n",
       "</style>\n",
       "<table border=\"1\" class=\"dataframe\">\n",
       "  <thead>\n",
       "    <tr style=\"text-align: right;\">\n",
       "      <th></th>\n",
       "      <th>count</th>\n",
       "      <th>mean</th>\n",
       "      <th>std</th>\n",
       "      <th>min</th>\n",
       "      <th>25%</th>\n",
       "      <th>50%</th>\n",
       "      <th>75%</th>\n",
       "      <th>max</th>\n",
       "    </tr>\n",
       "  </thead>\n",
       "  <tbody>\n",
       "    <tr>\n",
       "      <th>netoda_gdp_cons</th>\n",
       "      <td>4699.0</td>\n",
       "      <td>3.278842</td>\n",
       "      <td>5.594048</td>\n",
       "      <td>-0.404108</td>\n",
       "      <td>0.000000</td>\n",
       "      <td>0.690308</td>\n",
       "      <td>4.311052</td>\n",
       "      <td>81.430641</td>\n",
       "    </tr>\n",
       "    <tr>\n",
       "      <th>l_resource_rent</th>\n",
       "      <td>4699.0</td>\n",
       "      <td>7.130206</td>\n",
       "      <td>9.902853</td>\n",
       "      <td>0.000326</td>\n",
       "      <td>0.689513</td>\n",
       "      <td>3.068439</td>\n",
       "      <td>9.206702</td>\n",
       "      <td>79.740753</td>\n",
       "    </tr>\n",
       "    <tr>\n",
       "      <th>gdppc</th>\n",
       "      <td>4699.0</td>\n",
       "      <td>11220.826172</td>\n",
       "      <td>16500.599609</td>\n",
       "      <td>157.101151</td>\n",
       "      <td>1262.883728</td>\n",
       "      <td>3731.156006</td>\n",
       "      <td>14258.699707</td>\n",
       "      <td>114047.906250</td>\n",
       "    </tr>\n",
       "    <tr>\n",
       "      <th>gdpg</th>\n",
       "      <td>4699.0</td>\n",
       "      <td>3.668001</td>\n",
       "      <td>4.936245</td>\n",
       "      <td>-50.248066</td>\n",
       "      <td>1.550542</td>\n",
       "      <td>3.875825</td>\n",
       "      <td>6.071374</td>\n",
       "      <td>39.487095</td>\n",
       "    </tr>\n",
       "    <tr>\n",
       "      <th>warDummy</th>\n",
       "      <td>4699.0</td>\n",
       "      <td>0.085763</td>\n",
       "      <td>0.280043</td>\n",
       "      <td>0.000000</td>\n",
       "      <td>0.000000</td>\n",
       "      <td>0.000000</td>\n",
       "      <td>0.000000</td>\n",
       "      <td>1.000000</td>\n",
       "    </tr>\n",
       "    <tr>\n",
       "      <th>christian_int</th>\n",
       "      <td>4699.0</td>\n",
       "      <td>0.630347</td>\n",
       "      <td>0.480641</td>\n",
       "      <td>0.000000</td>\n",
       "      <td>0.000000</td>\n",
       "      <td>1.000000</td>\n",
       "      <td>1.000000</td>\n",
       "      <td>1.000000</td>\n",
       "    </tr>\n",
       "    <tr>\n",
       "      <th>legor_uk</th>\n",
       "      <td>4699.0</td>\n",
       "      <td>0.302405</td>\n",
       "      <td>0.459348</td>\n",
       "      <td>0.000000</td>\n",
       "      <td>0.000000</td>\n",
       "      <td>0.000000</td>\n",
       "      <td>1.000000</td>\n",
       "      <td>1.000000</td>\n",
       "    </tr>\n",
       "    <tr>\n",
       "      <th>legor_fr</th>\n",
       "      <td>4699.0</td>\n",
       "      <td>0.561396</td>\n",
       "      <td>0.496269</td>\n",
       "      <td>0.000000</td>\n",
       "      <td>0.000000</td>\n",
       "      <td>1.000000</td>\n",
       "      <td>1.000000</td>\n",
       "      <td>1.000000</td>\n",
       "    </tr>\n",
       "    <tr>\n",
       "      <th>coup</th>\n",
       "      <td>4479.0</td>\n",
       "      <td>0.043983</td>\n",
       "      <td>0.205080</td>\n",
       "      <td>0.000000</td>\n",
       "      <td>0.000000</td>\n",
       "      <td>0.000000</td>\n",
       "      <td>0.000000</td>\n",
       "      <td>1.000000</td>\n",
       "    </tr>\n",
       "    <tr>\n",
       "      <th>gini_disp</th>\n",
       "      <td>3530.0</td>\n",
       "      <td>39.069740</td>\n",
       "      <td>8.840777</td>\n",
       "      <td>20.299999</td>\n",
       "      <td>32.400002</td>\n",
       "      <td>39.599998</td>\n",
       "      <td>45.074997</td>\n",
       "      <td>65.400002</td>\n",
       "    </tr>\n",
       "  </tbody>\n",
       "</table>\n",
       "</div>"
      ],
      "text/plain": [
       "                  count          mean           std         min          25%   \n",
       "netoda_gdp_cons  4699.0      3.278842      5.594048   -0.404108     0.000000  \\\n",
       "l_resource_rent  4699.0      7.130206      9.902853    0.000326     0.689513   \n",
       "gdppc            4699.0  11220.826172  16500.599609  157.101151  1262.883728   \n",
       "gdpg             4699.0      3.668001      4.936245  -50.248066     1.550542   \n",
       "warDummy         4699.0      0.085763      0.280043    0.000000     0.000000   \n",
       "christian_int    4699.0      0.630347      0.480641    0.000000     0.000000   \n",
       "legor_uk         4699.0      0.302405      0.459348    0.000000     0.000000   \n",
       "legor_fr         4699.0      0.561396      0.496269    0.000000     0.000000   \n",
       "coup             4479.0      0.043983      0.205080    0.000000     0.000000   \n",
       "gini_disp        3530.0     39.069740      8.840777   20.299999    32.400002   \n",
       "\n",
       "                         50%           75%            max  \n",
       "netoda_gdp_cons     0.690308      4.311052      81.430641  \n",
       "l_resource_rent     3.068439      9.206702      79.740753  \n",
       "gdppc            3731.156006  14258.699707  114047.906250  \n",
       "gdpg                3.875825      6.071374      39.487095  \n",
       "warDummy            0.000000      0.000000       1.000000  \n",
       "christian_int       1.000000      1.000000       1.000000  \n",
       "legor_uk            0.000000      1.000000       1.000000  \n",
       "legor_fr            1.000000      1.000000       1.000000  \n",
       "coup                0.000000      0.000000       1.000000  \n",
       "gini_disp          39.599998     45.074997      65.400002  "
      ]
     },
     "execution_count": 804,
     "metadata": {},
     "output_type": "execute_result"
    }
   ],
   "source": [
    "# Dados transpostos\n",
    "other_stats = other_stats.transpose()\n",
    "other_stats"
   ]
  },
  {
   "cell_type": "code",
   "execution_count": 805,
   "metadata": {},
   "outputs": [
    {
     "data": {
      "text/html": [
       "<div>\n",
       "<style scoped>\n",
       "    .dataframe tbody tr th:only-of-type {\n",
       "        vertical-align: middle;\n",
       "    }\n",
       "\n",
       "    .dataframe tbody tr th {\n",
       "        vertical-align: top;\n",
       "    }\n",
       "\n",
       "    .dataframe thead th {\n",
       "        text-align: right;\n",
       "    }\n",
       "</style>\n",
       "<table border=\"1\" class=\"dataframe\">\n",
       "  <thead>\n",
       "    <tr style=\"text-align: right;\">\n",
       "      <th></th>\n",
       "      <th>count</th>\n",
       "      <th>mean</th>\n",
       "      <th>std</th>\n",
       "      <th>min</th>\n",
       "      <th>25%</th>\n",
       "      <th>50%</th>\n",
       "      <th>75%</th>\n",
       "      <th>max</th>\n",
       "    </tr>\n",
       "  </thead>\n",
       "  <tbody>\n",
       "    <tr>\n",
       "      <th>efw_index_1_int</th>\n",
       "      <td>4699.0</td>\n",
       "      <td>6.138698</td>\n",
       "      <td>1.297296</td>\n",
       "      <td>2.370152</td>\n",
       "      <td>5.176242</td>\n",
       "      <td>6.195428</td>\n",
       "      <td>7.179706</td>\n",
       "      <td>8.849427</td>\n",
       "    </tr>\n",
       "    <tr>\n",
       "      <th>efw_index_1</th>\n",
       "      <td>2534.0</td>\n",
       "      <td>6.528460</td>\n",
       "      <td>1.159425</td>\n",
       "      <td>2.370152</td>\n",
       "      <td>5.751824</td>\n",
       "      <td>6.651100</td>\n",
       "      <td>7.440007</td>\n",
       "      <td>8.849427</td>\n",
       "    </tr>\n",
       "    <tr>\n",
       "      <th>index25a</th>\n",
       "      <td>4699.0</td>\n",
       "      <td>0.387388</td>\n",
       "      <td>6.053289</td>\n",
       "      <td>-10.000000</td>\n",
       "      <td>-4.932185</td>\n",
       "      <td>-0.538582</td>\n",
       "      <td>6.000000</td>\n",
       "      <td>10.000000</td>\n",
       "    </tr>\n",
       "    <tr>\n",
       "      <th>index5a</th>\n",
       "      <td>4699.0</td>\n",
       "      <td>1.010515</td>\n",
       "      <td>6.341417</td>\n",
       "      <td>-10.000000</td>\n",
       "      <td>-4.842709</td>\n",
       "      <td>0.793132</td>\n",
       "      <td>7.000000</td>\n",
       "      <td>10.000000</td>\n",
       "    </tr>\n",
       "    <tr>\n",
       "      <th>index75a</th>\n",
       "      <td>4699.0</td>\n",
       "      <td>1.435040</td>\n",
       "      <td>6.512435</td>\n",
       "      <td>-10.000000</td>\n",
       "      <td>-4.716534</td>\n",
       "      <td>2.014048</td>\n",
       "      <td>7.897259</td>\n",
       "      <td>10.000000</td>\n",
       "    </tr>\n",
       "    <tr>\n",
       "      <th>index10a</th>\n",
       "      <td>4699.0</td>\n",
       "      <td>1.735425</td>\n",
       "      <td>6.634987</td>\n",
       "      <td>-10.000000</td>\n",
       "      <td>-4.645097</td>\n",
       "      <td>3.043038</td>\n",
       "      <td>8.034561</td>\n",
       "      <td>10.000000</td>\n",
       "    </tr>\n",
       "    <tr>\n",
       "      <th>index125a</th>\n",
       "      <td>4699.0</td>\n",
       "      <td>1.950036</td>\n",
       "      <td>6.724942</td>\n",
       "      <td>-10.000000</td>\n",
       "      <td>-4.588282</td>\n",
       "      <td>3.721570</td>\n",
       "      <td>8.612123</td>\n",
       "      <td>10.000000</td>\n",
       "    </tr>\n",
       "    <tr>\n",
       "      <th>index15a</th>\n",
       "      <td>4699.0</td>\n",
       "      <td>2.105674</td>\n",
       "      <td>6.791350</td>\n",
       "      <td>-10.000000</td>\n",
       "      <td>-4.631075</td>\n",
       "      <td>4.000000</td>\n",
       "      <td>8.887104</td>\n",
       "      <td>10.000000</td>\n",
       "    </tr>\n",
       "    <tr>\n",
       "      <th>netoda_gdp_cons</th>\n",
       "      <td>4699.0</td>\n",
       "      <td>3.278842</td>\n",
       "      <td>5.594048</td>\n",
       "      <td>-0.404108</td>\n",
       "      <td>0.000000</td>\n",
       "      <td>0.690308</td>\n",
       "      <td>4.311052</td>\n",
       "      <td>81.430641</td>\n",
       "    </tr>\n",
       "    <tr>\n",
       "      <th>l_resource_rent</th>\n",
       "      <td>4699.0</td>\n",
       "      <td>7.130206</td>\n",
       "      <td>9.902853</td>\n",
       "      <td>0.000326</td>\n",
       "      <td>0.689513</td>\n",
       "      <td>3.068439</td>\n",
       "      <td>9.206702</td>\n",
       "      <td>79.740753</td>\n",
       "    </tr>\n",
       "    <tr>\n",
       "      <th>gdppc</th>\n",
       "      <td>4699.0</td>\n",
       "      <td>11220.826172</td>\n",
       "      <td>16500.599609</td>\n",
       "      <td>157.101151</td>\n",
       "      <td>1262.883728</td>\n",
       "      <td>3731.156006</td>\n",
       "      <td>14258.699707</td>\n",
       "      <td>114047.906250</td>\n",
       "    </tr>\n",
       "    <tr>\n",
       "      <th>gdpg</th>\n",
       "      <td>4699.0</td>\n",
       "      <td>3.668001</td>\n",
       "      <td>4.936245</td>\n",
       "      <td>-50.248066</td>\n",
       "      <td>1.550542</td>\n",
       "      <td>3.875825</td>\n",
       "      <td>6.071374</td>\n",
       "      <td>39.487095</td>\n",
       "    </tr>\n",
       "    <tr>\n",
       "      <th>warDummy</th>\n",
       "      <td>4699.0</td>\n",
       "      <td>0.085763</td>\n",
       "      <td>0.280043</td>\n",
       "      <td>0.000000</td>\n",
       "      <td>0.000000</td>\n",
       "      <td>0.000000</td>\n",
       "      <td>0.000000</td>\n",
       "      <td>1.000000</td>\n",
       "    </tr>\n",
       "    <tr>\n",
       "      <th>christian_int</th>\n",
       "      <td>4699.0</td>\n",
       "      <td>0.630347</td>\n",
       "      <td>0.480641</td>\n",
       "      <td>0.000000</td>\n",
       "      <td>0.000000</td>\n",
       "      <td>1.000000</td>\n",
       "      <td>1.000000</td>\n",
       "      <td>1.000000</td>\n",
       "    </tr>\n",
       "    <tr>\n",
       "      <th>legor_uk</th>\n",
       "      <td>4699.0</td>\n",
       "      <td>0.302405</td>\n",
       "      <td>0.459348</td>\n",
       "      <td>0.000000</td>\n",
       "      <td>0.000000</td>\n",
       "      <td>0.000000</td>\n",
       "      <td>1.000000</td>\n",
       "      <td>1.000000</td>\n",
       "    </tr>\n",
       "    <tr>\n",
       "      <th>legor_fr</th>\n",
       "      <td>4699.0</td>\n",
       "      <td>0.561396</td>\n",
       "      <td>0.496269</td>\n",
       "      <td>0.000000</td>\n",
       "      <td>0.000000</td>\n",
       "      <td>1.000000</td>\n",
       "      <td>1.000000</td>\n",
       "      <td>1.000000</td>\n",
       "    </tr>\n",
       "    <tr>\n",
       "      <th>coup</th>\n",
       "      <td>4479.0</td>\n",
       "      <td>0.043983</td>\n",
       "      <td>0.205080</td>\n",
       "      <td>0.000000</td>\n",
       "      <td>0.000000</td>\n",
       "      <td>0.000000</td>\n",
       "      <td>0.000000</td>\n",
       "      <td>1.000000</td>\n",
       "    </tr>\n",
       "    <tr>\n",
       "      <th>gini_disp</th>\n",
       "      <td>3530.0</td>\n",
       "      <td>39.069740</td>\n",
       "      <td>8.840777</td>\n",
       "      <td>20.299999</td>\n",
       "      <td>32.400002</td>\n",
       "      <td>39.599998</td>\n",
       "      <td>45.074997</td>\n",
       "      <td>65.400002</td>\n",
       "    </tr>\n",
       "  </tbody>\n",
       "</table>\n",
       "</div>"
      ],
      "text/plain": [
       "                  count          mean           std         min          25%   \n",
       "efw_index_1_int  4699.0      6.138698      1.297296    2.370152     5.176242  \\\n",
       "efw_index_1      2534.0      6.528460      1.159425    2.370152     5.751824   \n",
       "index25a         4699.0      0.387388      6.053289  -10.000000    -4.932185   \n",
       "index5a          4699.0      1.010515      6.341417  -10.000000    -4.842709   \n",
       "index75a         4699.0      1.435040      6.512435  -10.000000    -4.716534   \n",
       "index10a         4699.0      1.735425      6.634987  -10.000000    -4.645097   \n",
       "index125a        4699.0      1.950036      6.724942  -10.000000    -4.588282   \n",
       "index15a         4699.0      2.105674      6.791350  -10.000000    -4.631075   \n",
       "netoda_gdp_cons  4699.0      3.278842      5.594048   -0.404108     0.000000   \n",
       "l_resource_rent  4699.0      7.130206      9.902853    0.000326     0.689513   \n",
       "gdppc            4699.0  11220.826172  16500.599609  157.101151  1262.883728   \n",
       "gdpg             4699.0      3.668001      4.936245  -50.248066     1.550542   \n",
       "warDummy         4699.0      0.085763      0.280043    0.000000     0.000000   \n",
       "christian_int    4699.0      0.630347      0.480641    0.000000     0.000000   \n",
       "legor_uk         4699.0      0.302405      0.459348    0.000000     0.000000   \n",
       "legor_fr         4699.0      0.561396      0.496269    0.000000     0.000000   \n",
       "coup             4479.0      0.043983      0.205080    0.000000     0.000000   \n",
       "gini_disp        3530.0     39.069740      8.840777   20.299999    32.400002   \n",
       "\n",
       "                         50%           75%            max  \n",
       "efw_index_1_int     6.195428      7.179706       8.849427  \n",
       "efw_index_1         6.651100      7.440007       8.849427  \n",
       "index25a           -0.538582      6.000000      10.000000  \n",
       "index5a             0.793132      7.000000      10.000000  \n",
       "index75a            2.014048      7.897259      10.000000  \n",
       "index10a            3.043038      8.034561      10.000000  \n",
       "index125a           3.721570      8.612123      10.000000  \n",
       "index15a            4.000000      8.887104      10.000000  \n",
       "netoda_gdp_cons     0.690308      4.311052      81.430641  \n",
       "l_resource_rent     3.068439      9.206702      79.740753  \n",
       "gdppc            3731.156006  14258.699707  114047.906250  \n",
       "gdpg                3.875825      6.071374      39.487095  \n",
       "warDummy            0.000000      0.000000       1.000000  \n",
       "christian_int       1.000000      1.000000       1.000000  \n",
       "legor_uk            0.000000      1.000000       1.000000  \n",
       "legor_fr            1.000000      1.000000       1.000000  \n",
       "coup                0.000000      0.000000       1.000000  \n",
       "gini_disp          39.599998     45.074997      65.400002  "
      ]
     },
     "execution_count": 805,
     "metadata": {},
     "output_type": "execute_result"
    }
   ],
   "source": [
    "# Lista para concatenar os dados\n",
    "concate = [efw_stats, multi_stats, other_stats]\n",
    "\n",
    "# Concatenando os dados\n",
    "tabela_completa = pd.concat(concate)\n",
    "\n",
    "# Exibindo a tabela completa igual ao artigo\n",
    "tabela_completa"
   ]
  },
  {
   "cell_type": "code",
   "execution_count": 806,
   "metadata": {},
   "outputs": [],
   "source": [
    "tabela_completa.to_csv('tabela_completa.csv', index=False, decimal=',')\n"
   ]
  },
  {
   "cell_type": "markdown",
   "metadata": {},
   "source": [
    "# Figuras do Chile e da França"
   ]
  },
  {
   "cell_type": "code",
   "execution_count": 807,
   "metadata": {},
   "outputs": [],
   "source": [
    "# Importando as bibliotecas necessárias para gráficos\n",
    "import seaborn as sns\n",
    "import matplotlib.pyplot as plt\n",
    "import plotly.express as px\n",
    "\n",
    "# Criando um subset dos dados do Chile a partir de 1970 usando query para facilitar\n",
    "data_chile = data.query(\"country == 'Chile' and year > 1969\")\n",
    "\n",
    "# Criando um subset dos dados da França a partir de 1970 usando query para facilitar\n",
    "data_france = data.query(\"country == 'France' and year > 1969\")\n"
   ]
  },
  {
   "cell_type": "code",
   "execution_count": 808,
   "metadata": {},
   "outputs": [
    {
     "data": {
      "image/png": "[encoded data removed]",
      "text/plain": [
       "<Figure size 1000x800 with 2 Axes>"
      ]
     },
     "metadata": {},
     "output_type": "display_data"
    }
   ],
   "source": [
    "# Criando um gráfico com dois subplots para comparar os dados do Chile e da França\n",
    "fig, axes = plt.subplots(2, 1, figsize=(10, 8))\n",
    "\n",
    "# Plotando as linhas para o Chile e as respectivas legendas\n",
    "sns.lineplot(data=data_chile, x='year', y='index25a', ax=axes[0], label='2.5% depreciation')\n",
    "sns.lineplot(data=data_chile, x='year', y='index125a', ax=axes[0], label='12.5% depreciation')\n",
    "sns.lineplot(data=data_chile, x='year', y='alternate', ax=axes[0], label='alternate')\n",
    "axes[0].set_title('Chile')\n",
    "axes[0].set_ylabel('Regime Memory')\n",
    "\n",
    "# Plotando as linhas para a França e as respectivas legendas\n",
    "sns.lineplot(data=data_france, x='year', y='index25a', ax=axes[1], label='2.5% depreciation')\n",
    "sns.lineplot(data=data_france, x='year', y='index125a', ax=axes[1], label='12.5% depreciation')\n",
    "sns.lineplot(data=data_france, x='year', y='alternate', ax=axes[1], label='alternate')\n",
    "axes[1].set_title('France')\n",
    "axes[1].set_ylabel('Regime Memory')\n",
    "\n",
    "# Ajustando o layout\n",
    "plt.tight_layout()\n",
    "\n",
    "# Exbindo o gráfico final\n",
    "plt.show()\n"
   ]
  },
  {
   "cell_type": "markdown",
   "metadata": {},
   "source": [
    "#### Outra visualização dos dados para o Chile e França\n",
    "#### Tornando mais interativa a visualização dos dados"
   ]
  },
  {
   "cell_type": "code",
   "execution_count": 809,
   "metadata": {},
   "outputs": [
    {
     "data": {
      "application/vnd.plotly.v1+json": {
       "config": {
        "plotlyServerURL": "https://plot.ly"
       },
       "data": [
        {
         "hovertemplate": "variable=index25a<br>countrycode=Chile<br>year=%{x}<br>value=%{y}<extra></extra>",
         "legendgroup": "index25a",
         "line": {
          "color": "#636efa",
          "dash": "solid"
         },
         "marker": {
          "symbol": "circle"
         },
         "mode": "lines",
         "name": "index25a",
         "orientation": "v",
         "showlegend": true,
         "type": "scatter",
         "x": [
          1970,
          1971,
          1972,
          1973,
          1974,
          1975,
          1976,
          1977,
          1978,
          1979,
          1980,
          1981,
          1982,
          1983,
          1984,
          1985,
          1986,
          1987,
          1988,
          1989,
          1990,
          1991,
          1992,
          1993,
          1994,
          1995,
          1996,
          1997,
          1998,
          1999,
          2000,
          2001,
          2002,
          2003,
          2004,
          2005,
          2006,
          2007,
          2008,
          2009,
          2010,
          2011,
          2012,
          2013,
          2014,
          2015,
          2016,
          2017,
          2018,
          2019,
          2020,
          2021,
          2022
         ],
         "xaxis": "x",
         "y": [
          2.9526615142822266,
          3.031028985977173,
          3.1073265075683594,
          2.847766637802124,
          2.5950446128845215,
          2.348970890045166,
          2.109363079071045,
          1.8760428428649902,
          1.6488381624221802,
          1.4275814294815063,
          1.2121105194091797,
          1.002267599105835,
          0.7978998422622681,
          0.847041666507721,
          0.672362744808197,
          0.5022271871566772,
          0.3365124464035034,
          0.17509952187538147,
          0.17509952187538147,
          0.37930774688720703,
          0.5779687166213989,
          0.7712443470954895,
          0.9592912197113037,
          1.1422607898712158,
          1.3202996253967285,
          1.4935497045516968,
          1.6621482372283936,
          1.8262282609939575,
          1.9859185218811035,
          2.141343593597412,
          2.5632379055023193,
          2.7293100357055664,
          2.890967845916748,
          3.048335313796997,
          3.2015328407287598,
          3.3506765365600586,
          3.872175693511963,
          4.029566764831543,
          4.182810306549072,
          4.3320207595825195,
          4.477309703826904,
          4.6187849044799805,
          4.7565507888793945,
          4.890709400177002,
          5.021358489990234,
          5.148593902587891,
          null,
          null,
          null,
          null,
          null,
          null,
          null
         ],
         "yaxis": "y"
        },
        {
         "hovertemplate": "variable=index125a<br>countrycode=Chile<br>year=%{x}<br>value=%{y}<extra></extra>",
         "legendgroup": "index125a",
         "line": {
          "color": "#EF553B",
          "dash": "solid"
         },
         "marker": {
          "symbol": "circle"
         },
         "mode": "lines",
         "name": "index125a",
         "orientation": "v",
         "showlegend": true,
         "type": "scatter",
         "x": [
          1970,
          1971,
          1972,
          1973,
          1974,
          1975,
          1976,
          1977,
          1978,
          1979,
          1980,
          1981,
          1982,
          1983,
          1984,
          1985,
          1986,
          1987,
          1988,
          1989,
          1990,
          1991,
          1992,
          1993,
          1994,
          1995,
          1996,
          1997,
          1998,
          1999,
          2000,
          2001,
          2002,
          2003,
          2004,
          2005,
          2006,
          2007,
          2008,
          2009,
          2010,
          2011,
          2012,
          2013,
          2014,
          2015,
          2016,
          2017,
          2018,
          2019,
          2020,
          2021,
          2022
         ],
         "xaxis": "x",
         "y": [
          5.506460666656494,
          5.568167686462402,
          5.622157573699951,
          4.044104099273682,
          2.6633734703063965,
          1.4552853107452393,
          0.3982471823692322,
          -0.5266312956809998,
          -1.3358770608901978,
          -2.043949604034424,
          -2.6634998321533203,
          -3.2055957317352295,
          -3.679922103881836,
          -3.325106143951416,
          -3.6594817638397217,
          -3.952057123184204,
          -4.208057880401611,
          -4.432056903839111,
          -4.432056903839111,
          -2.6871652603149414,
          -1.2098593711853027,
          0.046610601246356964,
          1.1194062232971191,
          2.0384128093719482,
          2.8279099464416504,
          3.5078015327453613,
          4.094532012939453,
          4.60178279876709,
          5.041006565093994,
          5.421840667724609,
          6.571648120880127,
          6.882030963897705,
          7.151981830596924,
          7.386948108673096,
          7.59160041809082,
          7.769954204559326,
          8.84546947479248,
          8.991227149963379,
          9.118424415588379,
          9.229462623596191,
          9.326421737670898,
          9.411109924316406,
          9.485095977783203,
          9.5497465133667,
          9.606247901916504,
          9.655633926391602,
          null,
          null,
          null,
          null,
          null,
          null,
          null
         ],
         "yaxis": "y"
        },
        {
         "hovertemplate": "variable=alternate<br>countrycode=Chile<br>year=%{x}<br>value=%{y}<extra></extra>",
         "legendgroup": "alternate",
         "line": {
          "color": "#00cc96",
          "dash": "solid"
         },
         "marker": {
          "symbol": "circle"
         },
         "mode": "lines",
         "name": "alternate",
         "orientation": "v",
         "showlegend": true,
         "type": "scatter",
         "x": [
          1970,
          1971,
          1972,
          1973,
          1974,
          1975,
          1976,
          1977,
          1978,
          1979,
          1980,
          1981,
          1982,
          1983,
          1984,
          1985,
          1986,
          1987,
          1988,
          1989,
          1990,
          1991,
          1992,
          1993,
          1994,
          1995,
          1996,
          1997,
          1998,
          1999,
          2000,
          2001,
          2002,
          2003,
          2004,
          2005,
          2006,
          2007,
          2008,
          2009,
          2010,
          2011,
          2012,
          2013,
          2014,
          2015,
          2016,
          2017,
          2018,
          2019,
          2020,
          2021,
          2022
         ],
         "xaxis": "x",
         "y": [
          0.6644737124443054,
          0.6993464231491089,
          0.7337662577629089,
          0.6838709712028503,
          0.6346153616905212,
          0.5859872698783875,
          0.5379746556282043,
          0.49056604504585266,
          0.4437499940395355,
          0.39751553535461426,
          0.35185185074806213,
          0.30674847960472107,
          0.2621951103210449,
          0.28484848141670227,
          0.2469879537820816,
          0.20958083868026733,
          0.1726190447807312,
          0.13609467446804047,
          0.13609467446804047,
          0.1823529452085495,
          0.22807016968727112,
          0.2732558250427246,
          0.3179190754890442,
          0.36206895112991333,
          0.4057142734527588,
          0.4488636255264282,
          0.49152541160583496,
          0.533707857131958,
          0.575419008731842,
          0.6166666746139526,
          0.7237569093704224,
          0.7692307829856873,
          0.8142076730728149,
          0.8586956262588501,
          0.9027026891708374,
          0.9462365508079529,
          1.0855615139007568,
          1.1329786777496338,
          1.179894208908081,
          1.2263157367706299,
          1.2722513675689697,
          1.3177083730697632,
          1.362694263458252,
          1.4072165489196777,
          1.451282024383545,
          1.4948979616165161,
          null,
          null,
          null,
          null,
          null,
          null,
          null
         ],
         "yaxis": "y"
        }
       ],
       "layout": {
        "annotations": [
         {
          "font": {},
          "showarrow": false,
          "text": "countrycode=Chile",
          "textangle": 90,
          "x": 0.98,
          "xanchor": "left",
          "xref": "paper",
          "y": 0.5,
          "yanchor": "middle",
          "yref": "paper"
         }
        ],
        "height": 600,
        "legend": {
         "title": {
          "text": "variable"
         },
         "tracegroupgap": 0
        },
        "template": {
         "data": {
          "bar": [
           {
            "error_x": {
             "color": "#2a3f5f"
            },
            "error_y": {
             "color": "#2a3f5f"
            },
            "marker": {
             "line": {
              "color": "#E5ECF6",
              "width": 0.5
             },
             "pattern": {
              "fillmode": "overlay",
              "size": 10,
              "solidity": 0.2
             }
            },
            "type": "bar"
           }
          ],
          "barpolar": [
           {
            "marker": {
             "line": {
              "color": "#E5ECF6",
              "width": 0.5
             },
             "pattern": {
              "fillmode": "overlay",
              "size": 10,
              "solidity": 0.2
             }
            },
            "type": "barpolar"
           }
          ],
          "carpet": [
           {
            "aaxis": {
             "endlinecolor": "#2a3f5f",
             "gridcolor": "white",
             "linecolor": "white",
             "minorgridcolor": "white",
             "startlinecolor": "#2a3f5f"
            },
            "baxis": {
             "endlinecolor": "#2a3f5f",
             "gridcolor": "white",
             "linecolor": "white",
             "minorgridcolor": "white",
             "startlinecolor": "#2a3f5f"
            },
            "type": "carpet"
           }
          ],
          "choropleth": [
           {
            "colorbar": {
             "outlinewidth": 0,
             "ticks": ""
            },
            "type": "choropleth"
           }
          ],
          "contour": [
           {
            "colorbar": {
             "outlinewidth": 0,
             "ticks": ""
            },
            "colorscale": [
             [
              0,
              "#0d0887"
             ],
             [
              0.1111111111111111,
              "#46039f"
             ],
             [
              0.2222222222222222,
              "#7201a8"
             ],
             [
              0.3333333333333333,
              "#9c179e"
             ],
             [
              0.4444444444444444,
              "#bd3786"
             ],
             [
              0.5555555555555556,
              "#d8576b"
             ],
             [
              0.6666666666666666,
              "#ed7953"
             ],
             [
              0.7777777777777778,
              "#fb9f3a"
             ],
             [
              0.8888888888888888,
              "#fdca26"
             ],
             [
              1,
              "#f0f921"
             ]
            ],
            "type": "contour"
           }
          ],
          "contourcarpet": [
           {
            "colorbar": {
             "outlinewidth": 0,
             "ticks": ""
            },
            "type": "contourcarpet"
           }
          ],
          "heatmap": [
           {
            "colorbar": {
             "outlinewidth": 0,
             "ticks": ""
            },
            "colorscale": [
             [
              0,
              "#0d0887"
             ],
             [
              0.1111111111111111,
              "#46039f"
             ],
             [
              0.2222222222222222,
              "#7201a8"
             ],
             [
              0.3333333333333333,
              "#9c179e"
             ],
             [
              0.4444444444444444,
              "#bd3786"
             ],
             [
              0.5555555555555556,
              "#d8576b"
             ],
             [
              0.6666666666666666,
              "#ed7953"
             ],
             [
              0.7777777777777778,
              "#fb9f3a"
             ],
             [
              0.8888888888888888,
              "#fdca26"
             ],
             [
              1,
              "#f0f921"
             ]
            ],
            "type": "heatmap"
           }
          ],
          "heatmapgl": [
           {
            "colorbar": {
             "outlinewidth": 0,
             "ticks": ""
            },
            "colorscale": [
             [
              0,
              "#0d0887"
             ],
             [
              0.1111111111111111,
              "#46039f"
             ],
             [
              0.2222222222222222,
              "#7201a8"
             ],
             [
              0.3333333333333333,
              "#9c179e"
             ],
             [
              0.4444444444444444,
              "#bd3786"
             ],
             [
              0.5555555555555556,
              "#d8576b"
             ],
             [
              0.6666666666666666,
              "#ed7953"
             ],
             [
              0.7777777777777778,
              "#fb9f3a"
             ],
             [
              0.8888888888888888,
              "#fdca26"
             ],
             [
              1,
              "#f0f921"
             ]
            ],
            "type": "heatmapgl"
           }
          ],
          "histogram": [
           {
            "marker": {
             "pattern": {
              "fillmode": "overlay",
              "size": 10,
              "solidity": 0.2
             }
            },
            "type": "histogram"
           }
          ],
          "histogram2d": [
           {
            "colorbar": {
             "outlinewidth": 0,
             "ticks": ""
            },
            "colorscale": [
             [
              0,
              "#0d0887"
             ],
             [
              0.1111111111111111,
              "#46039f"
             ],
             [
              0.2222222222222222,
              "#7201a8"
             ],
             [
              0.3333333333333333,
              "#9c179e"
             ],
             [
              0.4444444444444444,
              "#bd3786"
             ],
             [
              0.5555555555555556,
              "#d8576b"
             ],
             [
              0.6666666666666666,
              "#ed7953"
             ],
             [
              0.7777777777777778,
              "#fb9f3a"
             ],
             [
              0.8888888888888888,
              "#fdca26"
             ],
             [
              1,
              "#f0f921"
             ]
            ],
            "type": "histogram2d"
           }
          ],
          "histogram2dcontour": [
           {
            "colorbar": {
             "outlinewidth": 0,
             "ticks": ""
            },
            "colorscale": [
             [
              0,
              "#0d0887"
             ],
             [
              0.1111111111111111,
              "#46039f"
             ],
             [
              0.2222222222222222,
              "#7201a8"
             ],
             [
              0.3333333333333333,
              "#9c179e"
             ],
             [
              0.4444444444444444,
              "#bd3786"
             ],
             [
              0.5555555555555556,
              "#d8576b"
             ],
             [
              0.6666666666666666,
              "#ed7953"
             ],
             [
              0.7777777777777778,
              "#fb9f3a"
             ],
             [
              0.8888888888888888,
              "#fdca26"
             ],
             [
              1,
              "#f0f921"
             ]
            ],
            "type": "histogram2dcontour"
           }
          ],
          "mesh3d": [
           {
            "colorbar": {
             "outlinewidth": 0,
             "ticks": ""
            },
            "type": "mesh3d"
           }
          ],
          "parcoords": [
           {
            "line": {
             "colorbar": {
              "outlinewidth": 0,
              "ticks": ""
             }
            },
            "type": "parcoords"
           }
          ],
          "pie": [
           {
            "automargin": true,
            "type": "pie"
           }
          ],
          "scatter": [
           {
            "fillpattern": {
             "fillmode": "overlay",
             "size": 10,
             "solidity": 0.2
            },
            "type": "scatter"
           }
          ],
          "scatter3d": [
           {
            "line": {
             "colorbar": {
              "outlinewidth": 0,
              "ticks": ""
             }
            },
            "marker": {
             "colorbar": {
              "outlinewidth": 0,
              "ticks": ""
             }
            },
            "type": "scatter3d"
           }
          ],
          "scattercarpet": [
           {
            "marker": {
             "colorbar": {
              "outlinewidth": 0,
              "ticks": ""
             }
            },
            "type": "scattercarpet"
           }
          ],
          "scattergeo": [
           {
            "marker": {
             "colorbar": {
              "outlinewidth": 0,
              "ticks": ""
             }
            },
            "type": "scattergeo"
           }
          ],
          "scattergl": [
           {
            "marker": {
             "colorbar": {
              "outlinewidth": 0,
              "ticks": ""
             }
            },
            "type": "scattergl"
           }
          ],
          "scattermapbox": [
           {
            "marker": {
             "colorbar": {
              "outlinewidth": 0,
              "ticks": ""
             }
            },
            "type": "scattermapbox"
           }
          ],
          "scatterpolar": [
           {
            "marker": {
             "colorbar": {
              "outlinewidth": 0,
              "ticks": ""
             }
            },
            "type": "scatterpolar"
           }
          ],
          "scatterpolargl": [
           {
            "marker": {
             "colorbar": {
              "outlinewidth": 0,
              "ticks": ""
             }
            },
            "type": "scatterpolargl"
           }
          ],
          "scatterternary": [
           {
            "marker": {
             "colorbar": {
              "outlinewidth": 0,
              "ticks": ""
             }
            },
            "type": "scatterternary"
           }
          ],
          "surface": [
           {
            "colorbar": {
             "outlinewidth": 0,
             "ticks": ""
            },
            "colorscale": [
             [
              0,
              "#0d0887"
             ],
             [
              0.1111111111111111,
              "#46039f"
             ],
             [
              0.2222222222222222,
              "#7201a8"
             ],
             [
              0.3333333333333333,
              "#9c179e"
             ],
             [
              0.4444444444444444,
              "#bd3786"
             ],
             [
              0.5555555555555556,
              "#d8576b"
             ],
             [
              0.6666666666666666,
              "#ed7953"
             ],
             [
              0.7777777777777778,
              "#fb9f3a"
             ],
             [
              0.8888888888888888,
              "#fdca26"
             ],
             [
              1,
              "#f0f921"
             ]
            ],
            "type": "surface"
           }
          ],
          "table": [
           {
            "cells": {
             "fill": {
              "color": "#EBF0F8"
             },
             "line": {
              "color": "white"
             }
            },
            "header": {
             "fill": {
              "color": "#C8D4E3"
             },
             "line": {
              "color": "white"
             }
            },
            "type": "table"
           }
          ]
         },
         "layout": {
          "annotationdefaults": {
           "arrowcolor": "#2a3f5f",
           "arrowhead": 0,
           "arrowwidth": 1
          },
          "autotypenumbers": "strict",
          "coloraxis": {
           "colorbar": {
            "outlinewidth": 0,
            "ticks": ""
           }
          },
          "colorscale": {
           "diverging": [
            [
             0,
             "#8e0152"
            ],
            [
             0.1,
             "#c51b7d"
            ],
            [
             0.2,
             "#de77ae"
            ],
            [
             0.3,
             "#f1b6da"
            ],
            [
             0.4,
             "#fde0ef"
            ],
            [
             0.5,
             "#f7f7f7"
            ],
            [
             0.6,
             "#e6f5d0"
            ],
            [
             0.7,
             "#b8e186"
            ],
            [
             0.8,
             "#7fbc41"
            ],
            [
             0.9,
             "#4d9221"
            ],
            [
             1,
             "#276419"
            ]
           ],
           "sequential": [
            [
             0,
             "#0d0887"
            ],
            [
             0.1111111111111111,
             "#46039f"
            ],
            [
             0.2222222222222222,
             "#7201a8"
            ],
            [
             0.3333333333333333,
             "#9c179e"
            ],
            [
             0.4444444444444444,
             "#bd3786"
            ],
            [
             0.5555555555555556,
             "#d8576b"
            ],
            [
             0.6666666666666666,
             "#ed7953"
            ],
            [
             0.7777777777777778,
             "#fb9f3a"
            ],
            [
             0.8888888888888888,
             "#fdca26"
            ],
            [
             1,
             "#f0f921"
            ]
           ],
           "sequentialminus": [
            [
             0,
             "#0d0887"
            ],
            [
             0.1111111111111111,
             "#46039f"
            ],
            [
             0.2222222222222222,
             "#7201a8"
            ],
            [
             0.3333333333333333,
             "#9c179e"
            ],
            [
             0.4444444444444444,
             "#bd3786"
            ],
            [
             0.5555555555555556,
             "#d8576b"
            ],
            [
             0.6666666666666666,
             "#ed7953"
            ],
            [
             0.7777777777777778,
             "#fb9f3a"
            ],
            [
             0.8888888888888888,
             "#fdca26"
            ],
            [
             1,
             "#f0f921"
            ]
           ]
          },
          "colorway": [
           "#636efa",
           "#EF553B",
           "#00cc96",
           "#ab63fa",
           "#FFA15A",
           "#19d3f3",
           "#FF6692",
           "#B6E880",
           "#FF97FF",
           "#FECB52"
          ],
          "font": {
           "color": "#2a3f5f"
          },
          "geo": {
           "bgcolor": "white",
           "lakecolor": "white",
           "landcolor": "#E5ECF6",
           "showlakes": true,
           "showland": true,
           "subunitcolor": "white"
          },
          "hoverlabel": {
           "align": "left"
          },
          "hovermode": "closest",
          "mapbox": {
           "style": "light"
          },
          "paper_bgcolor": "white",
          "plot_bgcolor": "#E5ECF6",
          "polar": {
           "angularaxis": {
            "gridcolor": "white",
            "linecolor": "white",
            "ticks": ""
           },
           "bgcolor": "#E5ECF6",
           "radialaxis": {
            "gridcolor": "white",
            "linecolor": "white",
            "ticks": ""
           }
          },
          "scene": {
           "xaxis": {
            "backgroundcolor": "#E5ECF6",
            "gridcolor": "white",
            "gridwidth": 2,
            "linecolor": "white",
            "showbackground": true,
            "ticks": "",
            "zerolinecolor": "white"
           },
           "yaxis": {
            "backgroundcolor": "#E5ECF6",
            "gridcolor": "white",
            "gridwidth": 2,
            "linecolor": "white",
            "showbackground": true,
            "ticks": "",
            "zerolinecolor": "white"
           },
           "zaxis": {
            "backgroundcolor": "#E5ECF6",
            "gridcolor": "white",
            "gridwidth": 2,
            "linecolor": "white",
            "showbackground": true,
            "ticks": "",
            "zerolinecolor": "white"
           }
          },
          "shapedefaults": {
           "line": {
            "color": "#2a3f5f"
           }
          },
          "ternary": {
           "aaxis": {
            "gridcolor": "white",
            "linecolor": "white",
            "ticks": ""
           },
           "baxis": {
            "gridcolor": "white",
            "linecolor": "white",
            "ticks": ""
           },
           "bgcolor": "#E5ECF6",
           "caxis": {
            "gridcolor": "white",
            "linecolor": "white",
            "ticks": ""
           }
          },
          "title": {
           "x": 0.05
          },
          "xaxis": {
           "automargin": true,
           "gridcolor": "white",
           "linecolor": "white",
           "ticks": "",
           "title": {
            "standoff": 15
           },
           "zerolinecolor": "white",
           "zerolinewidth": 2
          },
          "yaxis": {
           "automargin": true,
           "gridcolor": "white",
           "linecolor": "white",
           "ticks": "",
           "title": {
            "standoff": 15
           },
           "zerolinecolor": "white",
           "zerolinewidth": 2
          }
         }
        },
        "title": {
         "text": "Chile Regime Memory"
        },
        "width": 1400,
        "xaxis": {
         "anchor": "y",
         "domain": [
          0,
          0.98
         ],
         "title": {
          "text": "year"
         }
        },
        "yaxis": {
         "anchor": "x",
         "domain": [
          0,
          1
         ],
         "title": {
          "text": "Regime Memory"
         }
        }
       }
      }
     },
     "metadata": {},
     "output_type": "display_data"
    }
   ],
   "source": [
    "# Criando o gráfico para o Chile com o Plotly \n",
    "fig = px.line(data_chile, x='year', y=['index25a', 'index125a', 'alternate'], \n",
    "              facet_row='countrycode', facet_row_spacing=0.05,\n",
    "              labels={'index25a': '2.5% depreciation', 'index125a': '12.5% depreciation', 'alternate': 'alternate'},\n",
    "              title='Chile Regime Memory',\n",
    "              width=1400, height=600)\n",
    "\n",
    "# Dando um update no layout\n",
    "fig.update_layout(yaxis=dict(title='Regime Memory'))\n",
    "\n",
    "# Mostando o gráfico\n",
    "fig.show()"
   ]
  },
  {
   "cell_type": "code",
   "execution_count": 810,
   "metadata": {},
   "outputs": [
    {
     "data": {
      "application/vnd.plotly.v1+json": {
       "config": {
        "plotlyServerURL": "https://plot.ly"
       },
       "data": [
        {
         "hovertemplate": "variable=index25a<br>countrycode=France<br>year=%{x}<br>value=%{y}<extra></extra>",
         "legendgroup": "index25a",
         "line": {
          "color": "#636efa",
          "dash": "solid"
         },
         "marker": {
          "symbol": "circle"
         },
         "mode": "lines",
         "name": "index25a",
         "orientation": "v",
         "showlegend": true,
         "type": "scatter",
         "x": [
          1970,
          1971,
          1972,
          1973,
          1974,
          1975,
          1976,
          1977,
          1978,
          1979,
          1980,
          1981,
          1982,
          1983,
          1984,
          1985,
          1986,
          1987,
          1988,
          1989,
          1990,
          1991,
          1992,
          1993,
          1994,
          1995,
          1996,
          1997,
          1998,
          1999,
          2000,
          2001,
          2002,
          2003,
          2004,
          2005,
          2006,
          2007,
          2008,
          2009,
          2010,
          2011,
          2012,
          2013,
          2014,
          2015,
          2016,
          2017,
          2018,
          2019,
          2020,
          2021,
          2022
         ],
         "xaxis": "x",
         "y": [
          6.919525146484375,
          6.948453426361084,
          6.976557731628418,
          7.003863334655762,
          7.030395984649658,
          7.056179523468018,
          7.08123779296875,
          7.105593204498291,
          7.12926721572876,
          7.152280330657959,
          7.17465353012085,
          7.196406364440918,
          7.217556476593018,
          7.238123416900635,
          7.258123874664307,
          7.27757453918457,
          7.679875373840332,
          7.714404106140137,
          7.74799108505249,
          7.78066349029541,
          7.812448978424072,
          7.843372344970703,
          7.873459339141846,
          7.90273380279541,
          7.931220054626465,
          7.958939552307129,
          7.985915184020996,
          8.012167930603027,
          8.037717819213867,
          8.062585830688477,
          8.086791038513184,
          8.1103515625,
          8.133285522460938,
          8.155611991882324,
          8.177345275878906,
          8.198504447937012,
          8.219104766845703,
          8.239161491394043,
          8.258688926696777,
          8.277703285217285,
          8.296217918395996,
          8.31424617767334,
          8.331802368164062,
          8.348897933959961,
          8.365547180175781,
          8.381760597229004,
          null,
          null,
          null,
          null,
          null,
          null,
          null
         ],
         "yaxis": "y"
        },
        {
         "hovertemplate": "variable=index125a<br>countrycode=France<br>year=%{x}<br>value=%{y}<extra></extra>",
         "legendgroup": "index125a",
         "line": {
          "color": "#EF553B",
          "dash": "solid"
         },
         "marker": {
          "symbol": "circle"
         },
         "mode": "lines",
         "name": "index125a",
         "orientation": "v",
         "showlegend": true,
         "type": "scatter",
         "x": [
          1970,
          1971,
          1972,
          1973,
          1974,
          1975,
          1976,
          1977,
          1978,
          1979,
          1980,
          1981,
          1982,
          1983,
          1984,
          1985,
          1986,
          1987,
          1988,
          1989,
          1990,
          1991,
          1992,
          1993,
          1994,
          1995,
          1996,
          1997,
          1998,
          1999,
          2000,
          2001,
          2002,
          2003,
          2004,
          2005,
          2006,
          2007,
          2008,
          2009,
          2010,
          2011,
          2012,
          2013,
          2014,
          2015,
          2016,
          2017,
          2018,
          2019,
          2020,
          2021,
          2022
         ],
         "xaxis": "x",
         "y": [
          6.340162754058838,
          6.549164295196533,
          6.731681823730469,
          6.891110420227051,
          7.030401229858398,
          7.152120590209961,
          7.258502960205078,
          7.351493835449219,
          7.4327898025512695,
          7.503868579864502,
          7.56602144241333,
          7.620372772216797,
          7.667905807495117,
          7.709478378295898,
          7.745840549468994,
          7.777646064758301,
          8.715967178344727,
          8.75150203704834,
          8.782587051391602,
          8.809782028198242,
          8.833573341369629,
          8.854386329650879,
          8.872596740722656,
          8.888527870178223,
          8.902466773986816,
          8.91466236114502,
          8.925332069396973,
          8.934667587280273,
          8.942835807800293,
          8.949982643127441,
          8.956235885620117,
          8.96170711517334,
          8.9664945602417,
          8.970683097839355,
          8.974348068237305,
          8.977554321289062,
          8.98036003112793,
          8.982815742492676,
          8.984963417053223,
          8.98684310913086,
          8.98848819732666,
          8.989927291870117,
          8.991186141967773,
          8.992287635803223,
          8.99325180053711,
          8.994095802307129,
          null,
          null,
          null,
          null,
          null,
          null,
          null
         ],
         "yaxis": "y"
        },
        {
         "hovertemplate": "variable=alternate<br>countrycode=France<br>year=%{x}<br>value=%{y}<extra></extra>",
         "legendgroup": "alternate",
         "line": {
          "color": "#00cc96",
          "dash": "solid"
         },
         "marker": {
          "symbol": "circle"
         },
         "mode": "lines",
         "name": "alternate",
         "orientation": "v",
         "showlegend": true,
         "type": "scatter",
         "x": [
          1970,
          1971,
          1972,
          1973,
          1974,
          1975,
          1976,
          1977,
          1978,
          1979,
          1980,
          1981,
          1982,
          1983,
          1984,
          1985,
          1986,
          1987,
          1988,
          1989,
          1990,
          1991,
          1992,
          1993,
          1994,
          1995,
          1996,
          1997,
          1998,
          1999,
          2000,
          2001,
          2002,
          2003,
          2004,
          2005,
          2006,
          2007,
          2008,
          2009,
          2010,
          2011,
          2012,
          2013,
          2014,
          2015,
          2016,
          2017,
          2018,
          2019,
          2020,
          2021,
          2022
         ],
         "xaxis": "x",
         "y": [
          3.965277671813965,
          3.993103504180908,
          4.020547866821289,
          4.047618865966797,
          4.074324131011963,
          4.100671291351318,
          4.12666654586792,
          4.152318000793457,
          4.177631378173828,
          4.2026143074035645,
          4.2272725105285645,
          4.251613140106201,
          4.275640964508057,
          4.299363136291504,
          4.322784900665283,
          4.345911979675293,
          4.481249809265137,
          4.509316921234131,
          4.537036895751953,
          4.564417362213135,
          4.591463565826416,
          4.6181817054748535,
          4.644578456878662,
          4.670658588409424,
          4.6964287757873535,
          4.721893310546875,
          4.747058868408203,
          4.771929740905762,
          4.796511650085449,
          4.820809364318848,
          4.844827651977539,
          4.8685712814331055,
          4.892045497894287,
          4.91525411605835,
          4.938202381134033,
          4.960893630981445,
          4.983333110809326,
          5.005524635314941,
          5.027472496032715,
          5.049180507659912,
          5.070652008056641,
          5.091891765594482,
          5.112903118133545,
          5.133689880371094,
          5.154255390167236,
          5.17460298538208,
          null,
          null,
          null,
          null,
          null,
          null,
          null
         ],
         "yaxis": "y"
        }
       ],
       "layout": {
        "annotations": [
         {
          "font": {},
          "showarrow": false,
          "text": "countrycode=France",
          "textangle": 90,
          "x": 0.98,
          "xanchor": "left",
          "xref": "paper",
          "y": 0.5,
          "yanchor": "middle",
          "yref": "paper"
         }
        ],
        "height": 600,
        "legend": {
         "title": {
          "text": "variable"
         },
         "tracegroupgap": 0
        },
        "template": {
         "data": {
          "bar": [
           {
            "error_x": {
             "color": "#2a3f5f"
            },
            "error_y": {
             "color": "#2a3f5f"
            },
            "marker": {
             "line": {
              "color": "#E5ECF6",
              "width": 0.5
             },
             "pattern": {
              "fillmode": "overlay",
              "size": 10,
              "solidity": 0.2
             }
            },
            "type": "bar"
           }
          ],
          "barpolar": [
           {
            "marker": {
             "line": {
              "color": "#E5ECF6",
              "width": 0.5
             },
             "pattern": {
              "fillmode": "overlay",
              "size": 10,
              "solidity": 0.2
             }
            },
            "type": "barpolar"
           }
          ],
          "carpet": [
           {
            "aaxis": {
             "endlinecolor": "#2a3f5f",
             "gridcolor": "white",
             "linecolor": "white",
             "minorgridcolor": "white",
             "startlinecolor": "#2a3f5f"
            },
            "baxis": {
             "endlinecolor": "#2a3f5f",
             "gridcolor": "white",
             "linecolor": "white",
             "minorgridcolor": "white",
             "startlinecolor": "#2a3f5f"
            },
            "type": "carpet"
           }
          ],
          "choropleth": [
           {
            "colorbar": {
             "outlinewidth": 0,
             "ticks": ""
            },
            "type": "choropleth"
           }
          ],
          "contour": [
           {
            "colorbar": {
             "outlinewidth": 0,
             "ticks": ""
            },
            "colorscale": [
             [
              0,
              "#0d0887"
             ],
             [
              0.1111111111111111,
              "#46039f"
             ],
             [
              0.2222222222222222,
              "#7201a8"
             ],
             [
              0.3333333333333333,
              "#9c179e"
             ],
             [
              0.4444444444444444,
              "#bd3786"
             ],
             [
              0.5555555555555556,
              "#d8576b"
             ],
             [
              0.6666666666666666,
              "#ed7953"
             ],
             [
              0.7777777777777778,
              "#fb9f3a"
             ],
             [
              0.8888888888888888,
              "#fdca26"
             ],
             [
              1,
              "#f0f921"
             ]
            ],
            "type": "contour"
           }
          ],
          "contourcarpet": [
           {
            "colorbar": {
             "outlinewidth": 0,
             "ticks": ""
            },
            "type": "contourcarpet"
           }
          ],
          "heatmap": [
           {
            "colorbar": {
             "outlinewidth": 0,
             "ticks": ""
            },
            "colorscale": [
             [
              0,
              "#0d0887"
             ],
             [
              0.1111111111111111,
              "#46039f"
             ],
             [
              0.2222222222222222,
              "#7201a8"
             ],
             [
              0.3333333333333333,
              "#9c179e"
             ],
             [
              0.4444444444444444,
              "#bd3786"
             ],
             [
              0.5555555555555556,
              "#d8576b"
             ],
             [
              0.6666666666666666,
              "#ed7953"
             ],
             [
              0.7777777777777778,
              "#fb9f3a"
             ],
             [
              0.8888888888888888,
              "#fdca26"
             ],
             [
              1,
              "#f0f921"
             ]
            ],
            "type": "heatmap"
           }
          ],
          "heatmapgl": [
           {
            "colorbar": {
             "outlinewidth": 0,
             "ticks": ""
            },
            "colorscale": [
             [
              0,
              "#0d0887"
             ],
             [
              0.1111111111111111,
              "#46039f"
             ],
             [
              0.2222222222222222,
              "#7201a8"
             ],
             [
              0.3333333333333333,
              "#9c179e"
             ],
             [
              0.4444444444444444,
              "#bd3786"
             ],
             [
              0.5555555555555556,
              "#d8576b"
             ],
             [
              0.6666666666666666,
              "#ed7953"
             ],
             [
              0.7777777777777778,
              "#fb9f3a"
             ],
             [
              0.8888888888888888,
              "#fdca26"
             ],
             [
              1,
              "#f0f921"
             ]
            ],
            "type": "heatmapgl"
           }
          ],
          "histogram": [
           {
            "marker": {
             "pattern": {
              "fillmode": "overlay",
              "size": 10,
              "solidity": 0.2
             }
            },
            "type": "histogram"
           }
          ],
          "histogram2d": [
           {
            "colorbar": {
             "outlinewidth": 0,
             "ticks": ""
            },
            "colorscale": [
             [
              0,
              "#0d0887"
             ],
             [
              0.1111111111111111,
              "#46039f"
             ],
             [
              0.2222222222222222,
              "#7201a8"
             ],
             [
              0.3333333333333333,
              "#9c179e"
             ],
             [
              0.4444444444444444,
              "#bd3786"
             ],
             [
              0.5555555555555556,
              "#d8576b"
             ],
             [
              0.6666666666666666,
              "#ed7953"
             ],
             [
              0.7777777777777778,
              "#fb9f3a"
             ],
             [
              0.8888888888888888,
              "#fdca26"
             ],
             [
              1,
              "#f0f921"
             ]
            ],
            "type": "histogram2d"
           }
          ],
          "histogram2dcontour": [
           {
            "colorbar": {
             "outlinewidth": 0,
             "ticks": ""
            },
            "colorscale": [
             [
              0,
              "#0d0887"
             ],
             [
              0.1111111111111111,
              "#46039f"
             ],
             [
              0.2222222222222222,
              "#7201a8"
             ],
             [
              0.3333333333333333,
              "#9c179e"
             ],
             [
              0.4444444444444444,
              "#bd3786"
             ],
             [
              0.5555555555555556,
              "#d8576b"
             ],
             [
              0.6666666666666666,
              "#ed7953"
             ],
             [
              0.7777777777777778,
              "#fb9f3a"
             ],
             [
              0.8888888888888888,
              "#fdca26"
             ],
             [
              1,
              "#f0f921"
             ]
            ],
            "type": "histogram2dcontour"
           }
          ],
          "mesh3d": [
           {
            "colorbar": {
             "outlinewidth": 0,
             "ticks": ""
            },
            "type": "mesh3d"
           }
          ],
          "parcoords": [
           {
            "line": {
             "colorbar": {
              "outlinewidth": 0,
              "ticks": ""
             }
            },
            "type": "parcoords"
           }
          ],
          "pie": [
           {
            "automargin": true,
            "type": "pie"
           }
          ],
          "scatter": [
           {
            "fillpattern": {
             "fillmode": "overlay",
             "size": 10,
             "solidity": 0.2
            },
            "type": "scatter"
           }
          ],
          "scatter3d": [
           {
            "line": {
             "colorbar": {
              "outlinewidth": 0,
              "ticks": ""
             }
            },
            "marker": {
             "colorbar": {
              "outlinewidth": 0,
              "ticks": ""
             }
            },
            "type": "scatter3d"
           }
          ],
          "scattercarpet": [
           {
            "marker": {
             "colorbar": {
              "outlinewidth": 0,
              "ticks": ""
             }
            },
            "type": "scattercarpet"
           }
          ],
          "scattergeo": [
           {
            "marker": {
             "colorbar": {
              "outlinewidth": 0,
              "ticks": ""
             }
            },
            "type": "scattergeo"
           }
          ],
          "scattergl": [
           {
            "marker": {
             "colorbar": {
              "outlinewidth": 0,
              "ticks": ""
             }
            },
            "type": "scattergl"
           }
          ],
          "scattermapbox": [
           {
            "marker": {
             "colorbar": {
              "outlinewidth": 0,
              "ticks": ""
             }
            },
            "type": "scattermapbox"
           }
          ],
          "scatterpolar": [
           {
            "marker": {
             "colorbar": {
              "outlinewidth": 0,
              "ticks": ""
             }
            },
            "type": "scatterpolar"
           }
          ],
          "scatterpolargl": [
           {
            "marker": {
             "colorbar": {
              "outlinewidth": 0,
              "ticks": ""
             }
            },
            "type": "scatterpolargl"
           }
          ],
          "scatterternary": [
           {
            "marker": {
             "colorbar": {
              "outlinewidth": 0,
              "ticks": ""
             }
            },
            "type": "scatterternary"
           }
          ],
          "surface": [
           {
            "colorbar": {
             "outlinewidth": 0,
             "ticks": ""
            },
            "colorscale": [
             [
              0,
              "#0d0887"
             ],
             [
              0.1111111111111111,
              "#46039f"
             ],
             [
              0.2222222222222222,
              "#7201a8"
             ],
             [
              0.3333333333333333,
              "#9c179e"
             ],
             [
              0.4444444444444444,
              "#bd3786"
             ],
             [
              0.5555555555555556,
              "#d8576b"
             ],
             [
              0.6666666666666666,
              "#ed7953"
             ],
             [
              0.7777777777777778,
              "#fb9f3a"
             ],
             [
              0.8888888888888888,
              "#fdca26"
             ],
             [
              1,
              "#f0f921"
             ]
            ],
            "type": "surface"
           }
          ],
          "table": [
           {
            "cells": {
             "fill": {
              "color": "#EBF0F8"
             },
             "line": {
              "color": "white"
             }
            },
            "header": {
             "fill": {
              "color": "#C8D4E3"
             },
             "line": {
              "color": "white"
             }
            },
            "type": "table"
           }
          ]
         },
         "layout": {
          "annotationdefaults": {
           "arrowcolor": "#2a3f5f",
           "arrowhead": 0,
           "arrowwidth": 1
          },
          "autotypenumbers": "strict",
          "coloraxis": {
           "colorbar": {
            "outlinewidth": 0,
            "ticks": ""
           }
          },
          "colorscale": {
           "diverging": [
            [
             0,
             "#8e0152"
            ],
            [
             0.1,
             "#c51b7d"
            ],
            [
             0.2,
             "#de77ae"
            ],
            [
             0.3,
             "#f1b6da"
            ],
            [
             0.4,
             "#fde0ef"
            ],
            [
             0.5,
             "#f7f7f7"
            ],
            [
             0.6,
             "#e6f5d0"
            ],
            [
             0.7,
             "#b8e186"
            ],
            [
             0.8,
             "#7fbc41"
            ],
            [
             0.9,
             "#4d9221"
            ],
            [
             1,
             "#276419"
            ]
           ],
           "sequential": [
            [
             0,
             "#0d0887"
            ],
            [
             0.1111111111111111,
             "#46039f"
            ],
            [
             0.2222222222222222,
             "#7201a8"
            ],
            [
             0.3333333333333333,
             "#9c179e"
            ],
            [
             0.4444444444444444,
             "#bd3786"
            ],
            [
             0.5555555555555556,
             "#d8576b"
            ],
            [
             0.6666666666666666,
             "#ed7953"
            ],
            [
             0.7777777777777778,
             "#fb9f3a"
            ],
            [
             0.8888888888888888,
             "#fdca26"
            ],
            [
             1,
             "#f0f921"
            ]
           ],
           "sequentialminus": [
            [
             0,
             "#0d0887"
            ],
            [
             0.1111111111111111,
             "#46039f"
            ],
            [
             0.2222222222222222,
             "#7201a8"
            ],
            [
             0.3333333333333333,
             "#9c179e"
            ],
            [
             0.4444444444444444,
             "#bd3786"
            ],
            [
             0.5555555555555556,
             "#d8576b"
            ],
            [
             0.6666666666666666,
             "#ed7953"
            ],
            [
             0.7777777777777778,
             "#fb9f3a"
            ],
            [
             0.8888888888888888,
             "#fdca26"
            ],
            [
             1,
             "#f0f921"
            ]
           ]
          },
          "colorway": [
           "#636efa",
           "#EF553B",
           "#00cc96",
           "#ab63fa",
           "#FFA15A",
           "#19d3f3",
           "#FF6692",
           "#B6E880",
           "#FF97FF",
           "#FECB52"
          ],
          "font": {
           "color": "#2a3f5f"
          },
          "geo": {
           "bgcolor": "white",
           "lakecolor": "white",
           "landcolor": "#E5ECF6",
           "showlakes": true,
           "showland": true,
           "subunitcolor": "white"
          },
          "hoverlabel": {
           "align": "left"
          },
          "hovermode": "closest",
          "mapbox": {
           "style": "light"
          },
          "paper_bgcolor": "white",
          "plot_bgcolor": "#E5ECF6",
          "polar": {
           "angularaxis": {
            "gridcolor": "white",
            "linecolor": "white",
            "ticks": ""
           },
           "bgcolor": "#E5ECF6",
           "radialaxis": {
            "gridcolor": "white",
            "linecolor": "white",
            "ticks": ""
           }
          },
          "scene": {
           "xaxis": {
            "backgroundcolor": "#E5ECF6",
            "gridcolor": "white",
            "gridwidth": 2,
            "linecolor": "white",
            "showbackground": true,
            "ticks": "",
            "zerolinecolor": "white"
           },
           "yaxis": {
            "backgroundcolor": "#E5ECF6",
            "gridcolor": "white",
            "gridwidth": 2,
            "linecolor": "white",
            "showbackground": true,
            "ticks": "",
            "zerolinecolor": "white"
           },
           "zaxis": {
            "backgroundcolor": "#E5ECF6",
            "gridcolor": "white",
            "gridwidth": 2,
            "linecolor": "white",
            "showbackground": true,
            "ticks": "",
            "zerolinecolor": "white"
           }
          },
          "shapedefaults": {
           "line": {
            "color": "#2a3f5f"
           }
          },
          "ternary": {
           "aaxis": {
            "gridcolor": "white",
            "linecolor": "white",
            "ticks": ""
           },
           "baxis": {
            "gridcolor": "white",
            "linecolor": "white",
            "ticks": ""
           },
           "bgcolor": "#E5ECF6",
           "caxis": {
            "gridcolor": "white",
            "linecolor": "white",
            "ticks": ""
           }
          },
          "title": {
           "x": 0.05
          },
          "xaxis": {
           "automargin": true,
           "gridcolor": "white",
           "linecolor": "white",
           "ticks": "",
           "title": {
            "standoff": 15
           },
           "zerolinecolor": "white",
           "zerolinewidth": 2
          },
          "yaxis": {
           "automargin": true,
           "gridcolor": "white",
           "linecolor": "white",
           "ticks": "",
           "title": {
            "standoff": 15
           },
           "zerolinecolor": "white",
           "zerolinewidth": 2
          }
         }
        },
        "title": {
         "text": "France Regime Memory"
        },
        "width": 1400,
        "xaxis": {
         "anchor": "y",
         "domain": [
          0,
          0.98
         ],
         "title": {
          "text": "year"
         }
        },
        "yaxis": {
         "anchor": "x",
         "domain": [
          0,
          1
         ],
         "title": {
          "text": "Regime Memory"
         }
        }
       }
      }
     },
     "metadata": {},
     "output_type": "display_data"
    }
   ],
   "source": [
    "# Criando o gráfico para a França com o Plotly\n",
    "fig = px.line(data_france, x='year', y=['index25a', 'index125a', 'alternate'], \n",
    "              facet_row='countrycode', facet_row_spacing=0.05,\n",
    "              labels={'index25a': '2.5% depreciation', 'index125a': '12.5% depreciation', 'alternate': 'alternate'},\n",
    "              title='France Regime Memory',\n",
    "              width=1400, height=600)\n",
    "\n",
    "# Dando um update no layout\n",
    "fig.update_layout(yaxis=dict(title='Regime Memory'))\n",
    "\n",
    "# Mostando o gráfico\n",
    "fig.show()\n"
   ]
  },
  {
   "cell_type": "markdown",
   "metadata": {},
   "source": [
    "# Tabela 3 - Os resultados Principais"
   ]
  },
  {
   "cell_type": "code",
   "execution_count": 811,
   "metadata": {},
   "outputs": [],
   "source": [
    "# Criando as variáveis de controle para as regressões\n",
    "control1 = \"l_netoda_gdp_cons + l_resource_rent + l_lngdp + l_gdpg + l_warDummy + l_christian_int + min_legor_uk + l_legor_fr\"\n",
    "control2 = \"l_netoda_gdp_cons + l_resource_rent + l_lngdp + l_gdpg + l_warDummy + l_christian_int + min_legor_uk + l_legor_fr + l_coup\"\n",
    "control3 = \"l_netoda_gdp_cons + l_resource_rent + l_lngdp + l_gdpg + l_warDummy + l_christian_int + min_legor_uk + l_legor_fr + l_coup + l_gini_disp\"\n",
    "\n",
    "control5 = \"l5_netoda_gdp_cons l5_resource_rent l5_lngdp l5_gdpg l5_warDummy l5_christian_int min_legor_uk l5_legor_fr l5_coup l5_gini_disp\""
   ]
  },
  {
   "cell_type": "markdown",
   "metadata": {},
   "source": [
    "## Regressão 1"
   ]
  },
  {
   "cell_type": "markdown",
   "metadata": {},
   "source": [
    "#### Robusto"
   ]
  },
  {
   "cell_type": "code",
   "execution_count": 812,
   "metadata": {},
   "outputs": [
    {
     "name": "stdout",
     "output_type": "stream",
     "text": [
      "efw_index_1_int ~ l_index25a + l_netoda_gdp_cons + l_resource_rent + l_lngdp + l_gdpg + l_warDummy + l_christian_int + min_legor_uk + l_legor_fr + C(year)\n"
     ]
    },
    {
     "name": "stderr",
     "output_type": "stream",
     "text": [
      "c:\\Users\\guian\\AppData\\Local\\Programs\\Python\\Python311\\Lib\\site-packages\\linearmodels\\panel\\model.py:1214: MissingValueWarning:\n",
      "\n",
      "\n",
      "Inputs contain missing values. Dropping rows with missing observations.\n",
      "\n"
     ]
    },
    {
     "data": {
      "text/html": [
       "<table class=\"simpletable\">\n",
       "<caption>PanelOLS Estimation Summary</caption>\n",
       "<tr>\n",
       "  <th>Dep. Variable:</th>     <td>efw_index_1_int</td> <th>  R-squared:         </th>     <td>0.7320</td>  \n",
       "</tr>\n",
       "<tr>\n",
       "  <th>Estimator:</th>            <td>PanelOLS</td>     <th>  R-squared (Between):</th>    <td>0.7658</td>  \n",
       "</tr>\n",
       "<tr>\n",
       "  <th>No. Observations:</th>       <td>4697</td>       <th>  R-squared (Within):</th>     <td>0.6113</td>  \n",
       "</tr>\n",
       "<tr>\n",
       "  <th>Date:</th>             <td>Sat, Jun 22 2024</td> <th>  R-squared (Overall):</th>    <td>0.7320</td>  \n",
       "</tr>\n",
       "<tr>\n",
       "  <th>Time:</th>                 <td>15:41:37</td>     <th>  Log-likelihood     </th>     <td>-4795.3</td> \n",
       "</tr>\n",
       "<tr>\n",
       "  <th>Cov. Estimator:</th>        <td>Robust</td>      <th>                     </th>        <td></td>     \n",
       "</tr>\n",
       "<tr>\n",
       "  <th></th>                          <td></td>         <th>  F-statistic:       </th>     <td>239.26</td>  \n",
       "</tr>\n",
       "<tr>\n",
       "  <th>Entities:</th>                <td>144</td>       <th>  P-value            </th>     <td>0.0000</td>  \n",
       "</tr>\n",
       "<tr>\n",
       "  <th>Avg Obs:</th>               <td>32.618</td>      <th>  Distribution:      </th>   <td>F(53,4643)</td>\n",
       "</tr>\n",
       "<tr>\n",
       "  <th>Min Obs:</th>               <td>3.0000</td>      <th>                     </th>        <td></td>     \n",
       "</tr>\n",
       "<tr>\n",
       "  <th>Max Obs:</th>               <td>45.000</td>      <th>  F-statistic (robust):</th>  <td>1.01e+04</td> \n",
       "</tr>\n",
       "<tr>\n",
       "  <th></th>                          <td></td>         <th>  P-value            </th>     <td>0.0000</td>  \n",
       "</tr>\n",
       "<tr>\n",
       "  <th>Time periods:</th>            <td>45</td>        <th>  Distribution:      </th>   <td>F(53,4643)</td>\n",
       "</tr>\n",
       "<tr>\n",
       "  <th>Avg Obs:</th>               <td>104.38</td>      <th>                     </th>        <td></td>     \n",
       "</tr>\n",
       "<tr>\n",
       "  <th>Min Obs:</th>               <td>62.000</td>      <th>                     </th>        <td></td>     \n",
       "</tr>\n",
       "<tr>\n",
       "  <th>Max Obs:</th>               <td>144.00</td>      <th>                     </th>        <td></td>     \n",
       "</tr>\n",
       "<tr>\n",
       "  <th></th>                          <td></td>         <th>                     </th>        <td></td>     \n",
       "</tr>\n",
       "</table>\n",
       "<table class=\"simpletable\">\n",
       "<caption>Parameter Estimates</caption>\n",
       "<tr>\n",
       "          <td></td>          <th>Parameter</th> <th>Std. Err.</th> <th>T-stat</th>  <th>P-value</th> <th>Lower CI</th> <th>Upper CI</th>\n",
       "</tr>\n",
       "<tr>\n",
       "  <th>l_index25a</th>         <td>0.0434</td>    <td>0.0024</td>   <td>17.776</td>  <td>0.0000</td>   <td>0.0386</td>   <td>0.0482</td> \n",
       "</tr>\n",
       "<tr>\n",
       "  <th>l_netoda_gdp_cons</th>  <td>0.0200</td>    <td>0.0029</td>   <td>6.8531</td>  <td>0.0000</td>   <td>0.0143</td>   <td>0.0258</td> \n",
       "</tr>\n",
       "<tr>\n",
       "  <th>l_resource_rent</th>    <td>-0.0235</td>   <td>0.0014</td>   <td>-17.023</td> <td>0.0000</td>   <td>-0.0262</td>  <td>-0.0208</td>\n",
       "</tr>\n",
       "<tr>\n",
       "  <th>l_lngdp</th>            <td>0.4919</td>    <td>0.0107</td>   <td>45.992</td>  <td>0.0000</td>   <td>0.4709</td>   <td>0.5129</td> \n",
       "</tr>\n",
       "<tr>\n",
       "  <th>l_gdpg</th>             <td>0.0192</td>    <td>0.0029</td>   <td>6.6437</td>  <td>0.0000</td>   <td>0.0135</td>   <td>0.0249</td> \n",
       "</tr>\n",
       "<tr>\n",
       "  <th>l_warDummy</th>         <td>-0.2338</td>   <td>0.0401</td>   <td>-5.8333</td> <td>0.0000</td>   <td>-0.3123</td>  <td>-0.1552</td>\n",
       "</tr>\n",
       "<tr>\n",
       "  <th>l_christian_int</th>    <td>-0.1433</td>   <td>0.0245</td>   <td>-5.8546</td> <td>0.0000</td>   <td>-0.1912</td>  <td>-0.0953</td>\n",
       "</tr>\n",
       "<tr>\n",
       "  <th>min_legor_uk</th>       <td>0.0889</td>    <td>0.0320</td>   <td>2.7796</td>  <td>0.0055</td>   <td>0.0262</td>   <td>0.1517</td> \n",
       "</tr>\n",
       "<tr>\n",
       "  <th>l_legor_fr</th>         <td>-0.0653</td>   <td>0.0294</td>   <td>-2.2258</td> <td>0.0261</td>   <td>-0.1229</td>  <td>-0.0078</td>\n",
       "</tr>\n",
       "<tr>\n",
       "  <th>C(year)[T.1971.0]</th>  <td>1.6490</td>    <td>0.1421</td>   <td>11.603</td>  <td>0.0000</td>   <td>1.3704</td>   <td>1.9277</td> \n",
       "</tr>\n",
       "<tr>\n",
       "  <th>C(year)[T.1972.0]</th>  <td>1.5846</td>    <td>0.1416</td>   <td>11.192</td>  <td>0.0000</td>   <td>1.3071</td>   <td>1.8622</td> \n",
       "</tr>\n",
       "<tr>\n",
       "  <th>C(year)[T.1973.0]</th>  <td>1.5121</td>    <td>0.1437</td>   <td>10.520</td>  <td>0.0000</td>   <td>1.2303</td>   <td>1.7939</td> \n",
       "</tr>\n",
       "<tr>\n",
       "  <th>C(year)[T.1974.0]</th>  <td>1.4734</td>    <td>0.1443</td>   <td>10.214</td>  <td>0.0000</td>   <td>1.1906</td>   <td>1.7562</td> \n",
       "</tr>\n",
       "<tr>\n",
       "  <th>C(year)[T.1975.0]</th>  <td>1.4739</td>    <td>0.1345</td>   <td>10.955</td>  <td>0.0000</td>   <td>1.2101</td>   <td>1.7376</td> \n",
       "</tr>\n",
       "<tr>\n",
       "  <th>C(year)[T.1976.0]</th>  <td>1.4781</td>    <td>0.1324</td>   <td>11.162</td>  <td>0.0000</td>   <td>1.2185</td>   <td>1.7377</td> \n",
       "</tr>\n",
       "<tr>\n",
       "  <th>C(year)[T.1977.0]</th>  <td>1.4175</td>    <td>0.1305</td>   <td>10.858</td>  <td>0.0000</td>   <td>1.1616</td>   <td>1.6735</td> \n",
       "</tr>\n",
       "<tr>\n",
       "  <th>C(year)[T.1978.0]</th>  <td>1.4458</td>    <td>0.1299</td>   <td>11.129</td>  <td>0.0000</td>   <td>1.1911</td>   <td>1.7005</td> \n",
       "</tr>\n",
       "<tr>\n",
       "  <th>C(year)[T.1979.0]</th>  <td>1.4368</td>    <td>0.1307</td>   <td>10.989</td>  <td>0.0000</td>   <td>1.1805</td>   <td>1.6932</td> \n",
       "</tr>\n",
       "<tr>\n",
       "  <th>C(year)[T.1980.0]</th>  <td>1.5108</td>    <td>0.1321</td>   <td>11.436</td>  <td>0.0000</td>   <td>1.2518</td>   <td>1.7699</td> \n",
       "</tr>\n",
       "<tr>\n",
       "  <th>C(year)[T.1981.0]</th>  <td>1.5101</td>    <td>0.1333</td>   <td>11.326</td>  <td>0.0000</td>   <td>1.2487</td>   <td>1.7715</td> \n",
       "</tr>\n",
       "<tr>\n",
       "  <th>C(year)[T.1982.0]</th>  <td>1.5137</td>    <td>0.1314</td>   <td>11.524</td>  <td>0.0000</td>   <td>1.2562</td>   <td>1.7712</td> \n",
       "</tr>\n",
       "<tr>\n",
       "  <th>C(year)[T.1983.0]</th>  <td>1.5466</td>    <td>0.1324</td>   <td>11.677</td>  <td>0.0000</td>   <td>1.2869</td>   <td>1.8063</td> \n",
       "</tr>\n",
       "<tr>\n",
       "  <th>C(year)[T.1984.0]</th>  <td>1.5623</td>    <td>0.1323</td>   <td>11.805</td>  <td>0.0000</td>   <td>1.3028</td>   <td>1.8217</td> \n",
       "</tr>\n",
       "<tr>\n",
       "  <th>C(year)[T.1985.0]</th>  <td>1.5162</td>    <td>0.1366</td>   <td>11.098</td>  <td>0.0000</td>   <td>1.2483</td>   <td>1.7840</td> \n",
       "</tr>\n",
       "<tr>\n",
       "  <th>C(year)[T.1986.0]</th>  <td>1.5714</td>    <td>0.1334</td>   <td>11.778</td>  <td>0.0000</td>   <td>1.3099</td>   <td>1.8330</td> \n",
       "</tr>\n",
       "<tr>\n",
       "  <th>C(year)[T.1987.0]</th>  <td>1.6156</td>    <td>0.1326</td>   <td>12.185</td>  <td>0.0000</td>   <td>1.3557</td>   <td>1.8756</td> \n",
       "</tr>\n",
       "<tr>\n",
       "  <th>C(year)[T.1988.0]</th>  <td>1.7037</td>    <td>0.1328</td>   <td>12.827</td>  <td>0.0000</td>   <td>1.4433</td>   <td>1.9641</td> \n",
       "</tr>\n",
       "<tr>\n",
       "  <th>C(year)[T.1989.0]</th>  <td>1.7339</td>    <td>0.1322</td>   <td>13.115</td>  <td>0.0000</td>   <td>1.4747</td>   <td>1.9930</td> \n",
       "</tr>\n",
       "<tr>\n",
       "  <th>C(year)[T.1990.0]</th>  <td>1.8175</td>    <td>0.1291</td>   <td>14.080</td>  <td>0.0000</td>   <td>1.5644</td>   <td>2.0706</td> \n",
       "</tr>\n",
       "<tr>\n",
       "  <th>C(year)[T.1991.0]</th>  <td>1.9093</td>    <td>0.1270</td>   <td>15.034</td>  <td>0.0000</td>   <td>1.6603</td>   <td>2.1583</td> \n",
       "</tr>\n",
       "<tr>\n",
       "  <th>C(year)[T.1992.0]</th>  <td>1.9691</td>    <td>0.1260</td>   <td>15.633</td>  <td>0.0000</td>   <td>1.7221</td>   <td>2.2160</td> \n",
       "</tr>\n",
       "<tr>\n",
       "  <th>C(year)[T.1993.0]</th>  <td>2.0526</td>    <td>0.1223</td>   <td>16.786</td>  <td>0.0000</td>   <td>1.8128</td>   <td>2.2923</td> \n",
       "</tr>\n",
       "<tr>\n",
       "  <th>C(year)[T.1994.0]</th>  <td>2.1300</td>    <td>0.1205</td>   <td>17.675</td>  <td>0.0000</td>   <td>1.8937</td>   <td>2.3662</td> \n",
       "</tr>\n",
       "<tr>\n",
       "  <th>C(year)[T.1995.0]</th>  <td>2.2042</td>    <td>0.1232</td>   <td>17.893</td>  <td>0.0000</td>   <td>1.9627</td>   <td>2.4457</td> \n",
       "</tr>\n",
       "<tr>\n",
       "  <th>C(year)[T.1996.0]</th>  <td>2.2526</td>    <td>0.1197</td>   <td>18.819</td>  <td>0.0000</td>   <td>2.0179</td>   <td>2.4872</td> \n",
       "</tr>\n",
       "<tr>\n",
       "  <th>C(year)[T.1997.0]</th>  <td>2.2978</td>    <td>0.1175</td>   <td>19.552</td>  <td>0.0000</td>   <td>2.0674</td>   <td>2.5282</td> \n",
       "</tr>\n",
       "<tr>\n",
       "  <th>C(year)[T.1998.0]</th>  <td>2.3800</td>    <td>0.1155</td>   <td>20.608</td>  <td>0.0000</td>   <td>2.1536</td>   <td>2.6064</td> \n",
       "</tr>\n",
       "<tr>\n",
       "  <th>C(year)[T.1999.0]</th>  <td>2.4637</td>    <td>0.1159</td>   <td>21.250</td>  <td>0.0000</td>   <td>2.2364</td>   <td>2.6909</td> \n",
       "</tr>\n",
       "<tr>\n",
       "  <th>C(year)[T.2000.0]</th>  <td>2.5618</td>    <td>0.1153</td>   <td>22.221</td>  <td>0.0000</td>   <td>2.3358</td>   <td>2.7878</td> \n",
       "</tr>\n",
       "<tr>\n",
       "  <th>C(year)[T.2001.0]</th>  <td>2.5520</td>    <td>0.1158</td>   <td>22.037</td>  <td>0.0000</td>   <td>2.3250</td>   <td>2.7790</td> \n",
       "</tr>\n",
       "<tr>\n",
       "  <th>C(year)[T.2002.0]</th>  <td>2.6169</td>    <td>0.1179</td>   <td>22.187</td>  <td>0.0000</td>   <td>2.3856</td>   <td>2.8481</td> \n",
       "</tr>\n",
       "<tr>\n",
       "  <th>C(year)[T.2003.0]</th>  <td>2.6233</td>    <td>0.1178</td>   <td>22.275</td>  <td>0.0000</td>   <td>2.3924</td>   <td>2.8542</td> \n",
       "</tr>\n",
       "<tr>\n",
       "  <th>C(year)[T.2004.0]</th>  <td>2.6393</td>    <td>0.1189</td>   <td>22.194</td>  <td>0.0000</td>   <td>2.4062</td>   <td>2.8725</td> \n",
       "</tr>\n",
       "<tr>\n",
       "  <th>C(year)[T.2005.0]</th>  <td>2.6935</td>    <td>0.1177</td>   <td>22.892</td>  <td>0.0000</td>   <td>2.4628</td>   <td>2.9242</td> \n",
       "</tr>\n",
       "<tr>\n",
       "  <th>C(year)[T.2006.0]</th>  <td>2.7433</td>    <td>0.1168</td>   <td>23.491</td>  <td>0.0000</td>   <td>2.5143</td>   <td>2.9722</td> \n",
       "</tr>\n",
       "<tr>\n",
       "  <th>C(year)[T.2007.0]</th>  <td>2.7385</td>    <td>0.1184</td>   <td>23.138</td>  <td>0.0000</td>   <td>2.5065</td>   <td>2.9705</td> \n",
       "</tr>\n",
       "<tr>\n",
       "  <th>C(year)[T.2008.0]</th>  <td>2.6807</td>    <td>0.1154</td>   <td>23.238</td>  <td>0.0000</td>   <td>2.4546</td>   <td>2.9069</td> \n",
       "</tr>\n",
       "<tr>\n",
       "  <th>C(year)[T.2009.0]</th>  <td>2.7285</td>    <td>0.1137</td>   <td>23.993</td>  <td>0.0000</td>   <td>2.5056</td>   <td>2.9515</td> \n",
       "</tr>\n",
       "<tr>\n",
       "  <th>C(year)[T.2010.0]</th>  <td>2.7972</td>    <td>0.1143</td>   <td>24.464</td>  <td>0.0000</td>   <td>2.5730</td>   <td>3.0213</td> \n",
       "</tr>\n",
       "<tr>\n",
       "  <th>C(year)[T.2011.0]</th>  <td>2.7200</td>    <td>0.1169</td>   <td>23.260</td>  <td>0.0000</td>   <td>2.4908</td>   <td>2.9493</td> \n",
       "</tr>\n",
       "<tr>\n",
       "  <th>C(year)[T.2012.0]</th>  <td>2.7825</td>    <td>0.1138</td>   <td>24.457</td>  <td>0.0000</td>   <td>2.5595</td>   <td>3.0056</td> \n",
       "</tr>\n",
       "<tr>\n",
       "  <th>C(year)[T.2013.0]</th>  <td>2.7477</td>    <td>0.1128</td>   <td>24.366</td>  <td>0.0000</td>   <td>2.5267</td>   <td>2.9688</td> \n",
       "</tr>\n",
       "<tr>\n",
       "  <th>C(year)[T.2014.0]</th>  <td>2.7963</td>    <td>0.1153</td>   <td>24.261</td>  <td>0.0000</td>   <td>2.5703</td>   <td>3.0222</td> \n",
       "</tr>\n",
       "<tr>\n",
       "  <th>C(year)[T.2015.0]</th>  <td>2.7660</td>    <td>0.1164</td>   <td>23.756</td>  <td>0.0000</td>   <td>2.5377</td>   <td>2.9943</td> \n",
       "</tr>\n",
       "</table><br/><br/>"
      ],
      "text/plain": [
       "<class 'linearmodels.compat.statsmodels.Summary'>\n",
       "\"\"\"\n",
       "                          PanelOLS Estimation Summary                           \n",
       "================================================================================\n",
       "Dep. Variable:        efw_index_1_int   R-squared:                        0.7320\n",
       "Estimator:                   PanelOLS   R-squared (Between):              0.7658\n",
       "No. Observations:                4697   R-squared (Within):               0.6113\n",
       "Date:                Sat, Jun 22 2024   R-squared (Overall):              0.7320\n",
       "Time:                        15:41:37   Log-likelihood                   -4795.3\n",
       "Cov. Estimator:                Robust                                           \n",
       "                                        F-statistic:                      239.26\n",
       "Entities:                         144   P-value                           0.0000\n",
       "Avg Obs:                       32.618   Distribution:                 F(53,4643)\n",
       "Min Obs:                       3.0000                                           \n",
       "Max Obs:                       45.000   F-statistic (robust):           1.01e+04\n",
       "                                        P-value                           0.0000\n",
       "Time periods:                      45   Distribution:                 F(53,4643)\n",
       "Avg Obs:                       104.38                                           \n",
       "Min Obs:                       62.000                                           \n",
       "Max Obs:                       144.00                                           \n",
       "                                                                                \n",
       "                                 Parameter Estimates                                 \n",
       "=====================================================================================\n",
       "                   Parameter  Std. Err.     T-stat    P-value    Lower CI    Upper CI\n",
       "-------------------------------------------------------------------------------------\n",
       "l_index25a            0.0434     0.0024     17.776     0.0000      0.0386      0.0482\n",
       "l_netoda_gdp_cons     0.0200     0.0029     6.8531     0.0000      0.0143      0.0258\n",
       "l_resource_rent      -0.0235     0.0014    -17.023     0.0000     -0.0262     -0.0208\n",
       "l_lngdp               0.4919     0.0107     45.992     0.0000      0.4709      0.5129\n",
       "l_gdpg                0.0192     0.0029     6.6437     0.0000      0.0135      0.0249\n",
       "l_warDummy           -0.2338     0.0401    -5.8333     0.0000     -0.3123     -0.1552\n",
       "l_christian_int      -0.1433     0.0245    -5.8546     0.0000     -0.1912     -0.0953\n",
       "min_legor_uk          0.0889     0.0320     2.7796     0.0055      0.0262      0.1517\n",
       "l_legor_fr           -0.0653     0.0294    -2.2258     0.0261     -0.1229     -0.0078\n",
       "C(year)[T.1971.0]     1.6490     0.1421     11.603     0.0000      1.3704      1.9277\n",
       "C(year)[T.1972.0]     1.5846     0.1416     11.192     0.0000      1.3071      1.8622\n",
       "C(year)[T.1973.0]     1.5121     0.1437     10.520     0.0000      1.2303      1.7939\n",
       "C(year)[T.1974.0]     1.4734     0.1443     10.214     0.0000      1.1906      1.7562\n",
       "C(year)[T.1975.0]     1.4739     0.1345     10.955     0.0000      1.2101      1.7376\n",
       "C(year)[T.1976.0]     1.4781     0.1324     11.162     0.0000      1.2185      1.7377\n",
       "C(year)[T.1977.0]     1.4175     0.1305     10.858     0.0000      1.1616      1.6735\n",
       "C(year)[T.1978.0]     1.4458     0.1299     11.129     0.0000      1.1911      1.7005\n",
       "C(year)[T.1979.0]     1.4368     0.1307     10.989     0.0000      1.1805      1.6932\n",
       "C(year)[T.1980.0]     1.5108     0.1321     11.436     0.0000      1.2518      1.7699\n",
       "C(year)[T.1981.0]     1.5101     0.1333     11.326     0.0000      1.2487      1.7715\n",
       "C(year)[T.1982.0]     1.5137     0.1314     11.524     0.0000      1.2562      1.7712\n",
       "C(year)[T.1983.0]     1.5466     0.1324     11.677     0.0000      1.2869      1.8063\n",
       "C(year)[T.1984.0]     1.5623     0.1323     11.805     0.0000      1.3028      1.8217\n",
       "C(year)[T.1985.0]     1.5162     0.1366     11.098     0.0000      1.2483      1.7840\n",
       "C(year)[T.1986.0]     1.5714     0.1334     11.778     0.0000      1.3099      1.8330\n",
       "C(year)[T.1987.0]     1.6156     0.1326     12.185     0.0000      1.3557      1.8756\n",
       "C(year)[T.1988.0]     1.7037     0.1328     12.827     0.0000      1.4433      1.9641\n",
       "C(year)[T.1989.0]     1.7339     0.1322     13.115     0.0000      1.4747      1.9930\n",
       "C(year)[T.1990.0]     1.8175     0.1291     14.080     0.0000      1.5644      2.0706\n",
       "C(year)[T.1991.0]     1.9093     0.1270     15.034     0.0000      1.6603      2.1583\n",
       "C(year)[T.1992.0]     1.9691     0.1260     15.633     0.0000      1.7221      2.2160\n",
       "C(year)[T.1993.0]     2.0526     0.1223     16.786     0.0000      1.8128      2.2923\n",
       "C(year)[T.1994.0]     2.1300     0.1205     17.675     0.0000      1.8937      2.3662\n",
       "C(year)[T.1995.0]     2.2042     0.1232     17.893     0.0000      1.9627      2.4457\n",
       "C(year)[T.1996.0]     2.2526     0.1197     18.819     0.0000      2.0179      2.4872\n",
       "C(year)[T.1997.0]     2.2978     0.1175     19.552     0.0000      2.0674      2.5282\n",
       "C(year)[T.1998.0]     2.3800     0.1155     20.608     0.0000      2.1536      2.6064\n",
       "C(year)[T.1999.0]     2.4637     0.1159     21.250     0.0000      2.2364      2.6909\n",
       "C(year)[T.2000.0]     2.5618     0.1153     22.221     0.0000      2.3358      2.7878\n",
       "C(year)[T.2001.0]     2.5520     0.1158     22.037     0.0000      2.3250      2.7790\n",
       "C(year)[T.2002.0]     2.6169     0.1179     22.187     0.0000      2.3856      2.8481\n",
       "C(year)[T.2003.0]     2.6233     0.1178     22.275     0.0000      2.3924      2.8542\n",
       "C(year)[T.2004.0]     2.6393     0.1189     22.194     0.0000      2.4062      2.8725\n",
       "C(year)[T.2005.0]     2.6935     0.1177     22.892     0.0000      2.4628      2.9242\n",
       "C(year)[T.2006.0]     2.7433     0.1168     23.491     0.0000      2.5143      2.9722\n",
       "C(year)[T.2007.0]     2.7385     0.1184     23.138     0.0000      2.5065      2.9705\n",
       "C(year)[T.2008.0]     2.6807     0.1154     23.238     0.0000      2.4546      2.9069\n",
       "C(year)[T.2009.0]     2.7285     0.1137     23.993     0.0000      2.5056      2.9515\n",
       "C(year)[T.2010.0]     2.7972     0.1143     24.464     0.0000      2.5730      3.0213\n",
       "C(year)[T.2011.0]     2.7200     0.1169     23.260     0.0000      2.4908      2.9493\n",
       "C(year)[T.2012.0]     2.7825     0.1138     24.457     0.0000      2.5595      3.0056\n",
       "C(year)[T.2013.0]     2.7477     0.1128     24.366     0.0000      2.5267      2.9688\n",
       "C(year)[T.2014.0]     2.7963     0.1153     24.261     0.0000      2.5703      3.0222\n",
       "C(year)[T.2015.0]     2.7660     0.1164     23.756     0.0000      2.5377      2.9943\n",
       "=====================================================================================\n",
       "\n",
       "\n",
       "\"\"\""
      ]
     },
     "execution_count": 812,
     "metadata": {},
     "output_type": "execute_result"
    }
   ],
   "source": [
    "formula1 = \"efw_index_1_int ~ l_index25a + l_netoda_gdp_cons + l_resource_rent + l_lngdp + l_gdpg + l_warDummy + l_christian_int + min_legor_uk + l_legor_fr + C(year)\"\n",
    "\n",
    "# Exibe a nova fórmula\n",
    "print(formula1)\n",
    "\n",
    "model1 = PanelOLS.from_formula(formula=formula1, data=df_filtered, check_rank=False).fit(cov_type='robust')\n",
    "\n",
    "model1.summary"
   ]
  },
  {
   "cell_type": "markdown",
   "metadata": {},
   "source": [
    "#### Clusters"
   ]
  },
  {
   "cell_type": "code",
   "execution_count": 813,
   "metadata": {},
   "outputs": [
    {
     "name": "stderr",
     "output_type": "stream",
     "text": [
      "c:\\Users\\guian\\AppData\\Local\\Programs\\Python\\Python311\\Lib\\site-packages\\linearmodels\\panel\\model.py:1214: MissingValueWarning:\n",
      "\n",
      "\n",
      "Inputs contain missing values. Dropping rows with missing observations.\n",
      "\n"
     ]
    },
    {
     "data": {
      "text/html": [
       "<table class=\"simpletable\">\n",
       "<caption>PanelOLS Estimation Summary</caption>\n",
       "<tr>\n",
       "  <th>Dep. Variable:</th>     <td>efw_index_1_int</td> <th>  R-squared:         </th>     <td>0.7320</td>  \n",
       "</tr>\n",
       "<tr>\n",
       "  <th>Estimator:</th>            <td>PanelOLS</td>     <th>  R-squared (Between):</th>    <td>0.7658</td>  \n",
       "</tr>\n",
       "<tr>\n",
       "  <th>No. Observations:</th>       <td>4697</td>       <th>  R-squared (Within):</th>     <td>0.6113</td>  \n",
       "</tr>\n",
       "<tr>\n",
       "  <th>Date:</th>             <td>Sat, Jun 22 2024</td> <th>  R-squared (Overall):</th>    <td>0.7320</td>  \n",
       "</tr>\n",
       "<tr>\n",
       "  <th>Time:</th>                 <td>15:41:38</td>     <th>  Log-likelihood     </th>     <td>-4795.3</td> \n",
       "</tr>\n",
       "<tr>\n",
       "  <th>Cov. Estimator:</th>       <td>Clustered</td>    <th>                     </th>        <td></td>     \n",
       "</tr>\n",
       "<tr>\n",
       "  <th></th>                          <td></td>         <th>  F-statistic:       </th>     <td>239.26</td>  \n",
       "</tr>\n",
       "<tr>\n",
       "  <th>Entities:</th>                <td>144</td>       <th>  P-value            </th>     <td>0.0000</td>  \n",
       "</tr>\n",
       "<tr>\n",
       "  <th>Avg Obs:</th>               <td>32.618</td>      <th>  Distribution:      </th>   <td>F(53,4643)</td>\n",
       "</tr>\n",
       "<tr>\n",
       "  <th>Min Obs:</th>               <td>3.0000</td>      <th>                     </th>        <td></td>     \n",
       "</tr>\n",
       "<tr>\n",
       "  <th>Max Obs:</th>               <td>45.000</td>      <th>  F-statistic (robust):</th>   <td>1402.1</td>  \n",
       "</tr>\n",
       "<tr>\n",
       "  <th></th>                          <td></td>         <th>  P-value            </th>     <td>0.0000</td>  \n",
       "</tr>\n",
       "<tr>\n",
       "  <th>Time periods:</th>            <td>45</td>        <th>  Distribution:      </th>   <td>F(53,4643)</td>\n",
       "</tr>\n",
       "<tr>\n",
       "  <th>Avg Obs:</th>               <td>104.38</td>      <th>                     </th>        <td></td>     \n",
       "</tr>\n",
       "<tr>\n",
       "  <th>Min Obs:</th>               <td>62.000</td>      <th>                     </th>        <td></td>     \n",
       "</tr>\n",
       "<tr>\n",
       "  <th>Max Obs:</th>               <td>144.00</td>      <th>                     </th>        <td></td>     \n",
       "</tr>\n",
       "<tr>\n",
       "  <th></th>                          <td></td>         <th>                     </th>        <td></td>     \n",
       "</tr>\n",
       "</table>\n",
       "<table class=\"simpletable\">\n",
       "<caption>Parameter Estimates</caption>\n",
       "<tr>\n",
       "          <td></td>          <th>Parameter</th> <th>Std. Err.</th> <th>T-stat</th>  <th>P-value</th> <th>Lower CI</th> <th>Upper CI</th>\n",
       "</tr>\n",
       "<tr>\n",
       "  <th>l_index25a</th>         <td>0.0434</td>    <td>0.0099</td>   <td>4.4001</td>  <td>0.0000</td>   <td>0.0241</td>   <td>0.0627</td> \n",
       "</tr>\n",
       "<tr>\n",
       "  <th>l_netoda_gdp_cons</th>  <td>0.0200</td>    <td>0.0092</td>   <td>2.1800</td>  <td>0.0293</td>   <td>0.0020</td>   <td>0.0380</td> \n",
       "</tr>\n",
       "<tr>\n",
       "  <th>l_resource_rent</th>    <td>-0.0235</td>   <td>0.0054</td>   <td>-4.3240</td> <td>0.0000</td>   <td>-0.0341</td>  <td>-0.0128</td>\n",
       "</tr>\n",
       "<tr>\n",
       "  <th>l_lngdp</th>            <td>0.4919</td>    <td>0.0410</td>   <td>12.009</td>  <td>0.0000</td>   <td>0.4116</td>   <td>0.5722</td> \n",
       "</tr>\n",
       "<tr>\n",
       "  <th>l_gdpg</th>             <td>0.0192</td>    <td>0.0044</td>   <td>4.3322</td>  <td>0.0000</td>   <td>0.0105</td>   <td>0.0279</td> \n",
       "</tr>\n",
       "<tr>\n",
       "  <th>l_warDummy</th>         <td>-0.2338</td>   <td>0.0996</td>   <td>-2.3465</td> <td>0.0190</td>   <td>-0.4291</td>  <td>-0.0385</td>\n",
       "</tr>\n",
       "<tr>\n",
       "  <th>l_christian_int</th>    <td>-0.1433</td>   <td>0.1027</td>   <td>-1.3946</td> <td>0.1632</td>   <td>-0.3447</td>  <td>0.0581</td> \n",
       "</tr>\n",
       "<tr>\n",
       "  <th>min_legor_uk</th>       <td>0.0889</td>    <td>0.1140</td>   <td>0.7805</td>  <td>0.4352</td>   <td>-0.1345</td>  <td>0.3124</td> \n",
       "</tr>\n",
       "<tr>\n",
       "  <th>l_legor_fr</th>         <td>-0.0653</td>   <td>0.0962</td>   <td>-0.6793</td> <td>0.4970</td>   <td>-0.2539</td>  <td>0.1232</td> \n",
       "</tr>\n",
       "<tr>\n",
       "  <th>C(year)[T.1971.0]</th>  <td>1.6490</td>    <td>0.3627</td>   <td>4.5471</td>  <td>0.0000</td>   <td>0.9380</td>   <td>2.3600</td> \n",
       "</tr>\n",
       "<tr>\n",
       "  <th>C(year)[T.1972.0]</th>  <td>1.5846</td>    <td>0.3617</td>   <td>4.3812</td>  <td>0.0000</td>   <td>0.8756</td>   <td>2.2937</td> \n",
       "</tr>\n",
       "<tr>\n",
       "  <th>C(year)[T.1973.0]</th>  <td>1.5121</td>    <td>0.3605</td>   <td>4.1945</td>  <td>0.0000</td>   <td>0.8053</td>   <td>2.2188</td> \n",
       "</tr>\n",
       "<tr>\n",
       "  <th>C(year)[T.1974.0]</th>  <td>1.4734</td>    <td>0.3645</td>   <td>4.0428</td>  <td>0.0001</td>   <td>0.7589</td>   <td>2.1879</td> \n",
       "</tr>\n",
       "<tr>\n",
       "  <th>C(year)[T.1975.0]</th>  <td>1.4739</td>    <td>0.3552</td>   <td>4.1497</td>  <td>0.0000</td>   <td>0.7775</td>   <td>2.1702</td> \n",
       "</tr>\n",
       "<tr>\n",
       "  <th>C(year)[T.1976.0]</th>  <td>1.4781</td>    <td>0.3602</td>   <td>4.1031</td>  <td>0.0000</td>   <td>0.7719</td>   <td>2.1844</td> \n",
       "</tr>\n",
       "<tr>\n",
       "  <th>C(year)[T.1977.0]</th>  <td>1.4175</td>    <td>0.3607</td>   <td>3.9304</td>  <td>0.0001</td>   <td>0.7105</td>   <td>2.1246</td> \n",
       "</tr>\n",
       "<tr>\n",
       "  <th>C(year)[T.1978.0]</th>  <td>1.4458</td>    <td>0.3614</td>   <td>4.0008</td>  <td>0.0001</td>   <td>0.7373</td>   <td>2.1543</td> \n",
       "</tr>\n",
       "<tr>\n",
       "  <th>C(year)[T.1979.0]</th>  <td>1.4368</td>    <td>0.3639</td>   <td>3.9485</td>  <td>0.0001</td>   <td>0.7234</td>   <td>2.1502</td> \n",
       "</tr>\n",
       "<tr>\n",
       "  <th>C(year)[T.1980.0]</th>  <td>1.5108</td>    <td>0.3621</td>   <td>4.1723</td>  <td>0.0000</td>   <td>0.8009</td>   <td>2.2208</td> \n",
       "</tr>\n",
       "<tr>\n",
       "  <th>C(year)[T.1981.0]</th>  <td>1.5101</td>    <td>0.3595</td>   <td>4.2012</td>  <td>0.0000</td>   <td>0.8054</td>   <td>2.2149</td> \n",
       "</tr>\n",
       "<tr>\n",
       "  <th>C(year)[T.1982.0]</th>  <td>1.5137</td>    <td>0.3552</td>   <td>4.2622</td>  <td>0.0000</td>   <td>0.8175</td>   <td>2.2100</td> \n",
       "</tr>\n",
       "<tr>\n",
       "  <th>C(year)[T.1983.0]</th>  <td>1.5466</td>    <td>0.3552</td>   <td>4.3541</td>  <td>0.0000</td>   <td>0.8502</td>   <td>2.2430</td> \n",
       "</tr>\n",
       "<tr>\n",
       "  <th>C(year)[T.1984.0]</th>  <td>1.5623</td>    <td>0.3492</td>   <td>4.4744</td>  <td>0.0000</td>   <td>0.8778</td>   <td>2.2468</td> \n",
       "</tr>\n",
       "<tr>\n",
       "  <th>C(year)[T.1985.0]</th>  <td>1.5162</td>    <td>0.3516</td>   <td>4.3118</td>  <td>0.0000</td>   <td>0.8268</td>   <td>2.2055</td> \n",
       "</tr>\n",
       "<tr>\n",
       "  <th>C(year)[T.1986.0]</th>  <td>1.5714</td>    <td>0.3504</td>   <td>4.4844</td>  <td>0.0000</td>   <td>0.8844</td>   <td>2.2584</td> \n",
       "</tr>\n",
       "<tr>\n",
       "  <th>C(year)[T.1987.0]</th>  <td>1.6156</td>    <td>0.3522</td>   <td>4.5878</td>  <td>0.0000</td>   <td>0.9252</td>   <td>2.3060</td> \n",
       "</tr>\n",
       "<tr>\n",
       "  <th>C(year)[T.1988.0]</th>  <td>1.7037</td>    <td>0.3537</td>   <td>4.8174</td>  <td>0.0000</td>   <td>1.0104</td>   <td>2.3971</td> \n",
       "</tr>\n",
       "<tr>\n",
       "  <th>C(year)[T.1989.0]</th>  <td>1.7339</td>    <td>0.3556</td>   <td>4.8757</td>  <td>0.0000</td>   <td>1.0367</td>   <td>2.4310</td> \n",
       "</tr>\n",
       "<tr>\n",
       "  <th>C(year)[T.1990.0]</th>  <td>1.8175</td>    <td>0.3592</td>   <td>5.0595</td>  <td>0.0000</td>   <td>1.1132</td>   <td>2.5217</td> \n",
       "</tr>\n",
       "<tr>\n",
       "  <th>C(year)[T.1991.0]</th>  <td>1.9093</td>    <td>0.3590</td>   <td>5.3191</td>  <td>0.0000</td>   <td>1.2056</td>   <td>2.6130</td> \n",
       "</tr>\n",
       "<tr>\n",
       "  <th>C(year)[T.1992.0]</th>  <td>1.9691</td>    <td>0.3632</td>   <td>5.4216</td>  <td>0.0000</td>   <td>1.2570</td>   <td>2.6811</td> \n",
       "</tr>\n",
       "<tr>\n",
       "  <th>C(year)[T.1993.0]</th>  <td>2.0526</td>    <td>0.3595</td>   <td>5.7095</td>  <td>0.0000</td>   <td>1.3478</td>   <td>2.7574</td> \n",
       "</tr>\n",
       "<tr>\n",
       "  <th>C(year)[T.1994.0]</th>  <td>2.1300</td>    <td>0.3604</td>   <td>5.9102</td>  <td>0.0000</td>   <td>1.4234</td>   <td>2.8365</td> \n",
       "</tr>\n",
       "<tr>\n",
       "  <th>C(year)[T.1995.0]</th>  <td>2.2042</td>    <td>0.3658</td>   <td>6.0260</td>  <td>0.0000</td>   <td>1.4871</td>   <td>2.9213</td> \n",
       "</tr>\n",
       "<tr>\n",
       "  <th>C(year)[T.1996.0]</th>  <td>2.2526</td>    <td>0.3645</td>   <td>6.1798</td>  <td>0.0000</td>   <td>1.5380</td>   <td>2.9672</td> \n",
       "</tr>\n",
       "<tr>\n",
       "  <th>C(year)[T.1997.0]</th>  <td>2.2978</td>    <td>0.3619</td>   <td>6.3500</td>  <td>0.0000</td>   <td>1.5884</td>   <td>3.0072</td> \n",
       "</tr>\n",
       "<tr>\n",
       "  <th>C(year)[T.1998.0]</th>  <td>2.3800</td>    <td>0.3625</td>   <td>6.5651</td>  <td>0.0000</td>   <td>1.6693</td>   <td>3.0907</td> \n",
       "</tr>\n",
       "<tr>\n",
       "  <th>C(year)[T.1999.0]</th>  <td>2.4637</td>    <td>0.3667</td>   <td>6.7184</td>  <td>0.0000</td>   <td>1.7447</td>   <td>3.1826</td> \n",
       "</tr>\n",
       "<tr>\n",
       "  <th>C(year)[T.2000.0]</th>  <td>2.5618</td>    <td>0.3679</td>   <td>6.9637</td>  <td>0.0000</td>   <td>1.8406</td>   <td>3.2830</td> \n",
       "</tr>\n",
       "<tr>\n",
       "  <th>C(year)[T.2001.0]</th>  <td>2.5520</td>    <td>0.3661</td>   <td>6.9711</td>  <td>0.0000</td>   <td>1.8343</td>   <td>3.2697</td> \n",
       "</tr>\n",
       "<tr>\n",
       "  <th>C(year)[T.2002.0]</th>  <td>2.6169</td>    <td>0.3669</td>   <td>7.1318</td>  <td>0.0000</td>   <td>1.8975</td>   <td>3.3362</td> \n",
       "</tr>\n",
       "<tr>\n",
       "  <th>C(year)[T.2003.0]</th>  <td>2.6233</td>    <td>0.3680</td>   <td>7.1287</td>  <td>0.0000</td>   <td>1.9019</td>   <td>3.3447</td> \n",
       "</tr>\n",
       "<tr>\n",
       "  <th>C(year)[T.2004.0]</th>  <td>2.6393</td>    <td>0.3710</td>   <td>7.1132</td>  <td>0.0000</td>   <td>1.9119</td>   <td>3.3667</td> \n",
       "</tr>\n",
       "<tr>\n",
       "  <th>C(year)[T.2005.0]</th>  <td>2.6935</td>    <td>0.3697</td>   <td>7.2855</td>  <td>0.0000</td>   <td>1.9687</td>   <td>3.4183</td> \n",
       "</tr>\n",
       "<tr>\n",
       "  <th>C(year)[T.2006.0]</th>  <td>2.7433</td>    <td>0.3670</td>   <td>7.4747</td>  <td>0.0000</td>   <td>2.0238</td>   <td>3.4628</td> \n",
       "</tr>\n",
       "<tr>\n",
       "  <th>C(year)[T.2007.0]</th>  <td>2.7385</td>    <td>0.3696</td>   <td>7.4097</td>  <td>0.0000</td>   <td>2.0140</td>   <td>3.4631</td> \n",
       "</tr>\n",
       "<tr>\n",
       "  <th>C(year)[T.2008.0]</th>  <td>2.6807</td>    <td>0.3673</td>   <td>7.2988</td>  <td>0.0000</td>   <td>1.9607</td>   <td>3.4008</td> \n",
       "</tr>\n",
       "<tr>\n",
       "  <th>C(year)[T.2009.0]</th>  <td>2.7285</td>    <td>0.3665</td>   <td>7.4446</td>  <td>0.0000</td>   <td>2.0100</td>   <td>3.4470</td> \n",
       "</tr>\n",
       "<tr>\n",
       "  <th>C(year)[T.2010.0]</th>  <td>2.7972</td>    <td>0.3687</td>   <td>7.5857</td>  <td>0.0000</td>   <td>2.0743</td>   <td>3.5201</td> \n",
       "</tr>\n",
       "<tr>\n",
       "  <th>C(year)[T.2011.0]</th>  <td>2.7200</td>    <td>0.3725</td>   <td>7.3024</td>  <td>0.0000</td>   <td>1.9898</td>   <td>3.4503</td> \n",
       "</tr>\n",
       "<tr>\n",
       "  <th>C(year)[T.2012.0]</th>  <td>2.7825</td>    <td>0.3661</td>   <td>7.5994</td>  <td>0.0000</td>   <td>2.0647</td>   <td>3.5004</td> \n",
       "</tr>\n",
       "<tr>\n",
       "  <th>C(year)[T.2013.0]</th>  <td>2.7477</td>    <td>0.3666</td>   <td>7.4958</td>  <td>0.0000</td>   <td>2.0291</td>   <td>3.4664</td> \n",
       "</tr>\n",
       "<tr>\n",
       "  <th>C(year)[T.2014.0]</th>  <td>2.7963</td>    <td>0.3693</td>   <td>7.5711</td>  <td>0.0000</td>   <td>2.0722</td>   <td>3.5203</td> \n",
       "</tr>\n",
       "<tr>\n",
       "  <th>C(year)[T.2015.0]</th>  <td>2.7660</td>    <td>0.3722</td>   <td>7.4305</td>  <td>0.0000</td>   <td>2.0362</td>   <td>3.4958</td> \n",
       "</tr>\n",
       "</table><br/><br/>"
      ],
      "text/plain": [
       "<class 'linearmodels.compat.statsmodels.Summary'>\n",
       "\"\"\"\n",
       "                          PanelOLS Estimation Summary                           \n",
       "================================================================================\n",
       "Dep. Variable:        efw_index_1_int   R-squared:                        0.7320\n",
       "Estimator:                   PanelOLS   R-squared (Between):              0.7658\n",
       "No. Observations:                4697   R-squared (Within):               0.6113\n",
       "Date:                Sat, Jun 22 2024   R-squared (Overall):              0.7320\n",
       "Time:                        15:41:38   Log-likelihood                   -4795.3\n",
       "Cov. Estimator:             Clustered                                           \n",
       "                                        F-statistic:                      239.26\n",
       "Entities:                         144   P-value                           0.0000\n",
       "Avg Obs:                       32.618   Distribution:                 F(53,4643)\n",
       "Min Obs:                       3.0000                                           \n",
       "Max Obs:                       45.000   F-statistic (robust):             1402.1\n",
       "                                        P-value                           0.0000\n",
       "Time periods:                      45   Distribution:                 F(53,4643)\n",
       "Avg Obs:                       104.38                                           \n",
       "Min Obs:                       62.000                                           \n",
       "Max Obs:                       144.00                                           \n",
       "                                                                                \n",
       "                                 Parameter Estimates                                 \n",
       "=====================================================================================\n",
       "                   Parameter  Std. Err.     T-stat    P-value    Lower CI    Upper CI\n",
       "-------------------------------------------------------------------------------------\n",
       "l_index25a            0.0434     0.0099     4.4001     0.0000      0.0241      0.0627\n",
       "l_netoda_gdp_cons     0.0200     0.0092     2.1800     0.0293      0.0020      0.0380\n",
       "l_resource_rent      -0.0235     0.0054    -4.3240     0.0000     -0.0341     -0.0128\n",
       "l_lngdp               0.4919     0.0410     12.009     0.0000      0.4116      0.5722\n",
       "l_gdpg                0.0192     0.0044     4.3322     0.0000      0.0105      0.0279\n",
       "l_warDummy           -0.2338     0.0996    -2.3465     0.0190     -0.4291     -0.0385\n",
       "l_christian_int      -0.1433     0.1027    -1.3946     0.1632     -0.3447      0.0581\n",
       "min_legor_uk          0.0889     0.1140     0.7805     0.4352     -0.1345      0.3124\n",
       "l_legor_fr           -0.0653     0.0962    -0.6793     0.4970     -0.2539      0.1232\n",
       "C(year)[T.1971.0]     1.6490     0.3627     4.5471     0.0000      0.9380      2.3600\n",
       "C(year)[T.1972.0]     1.5846     0.3617     4.3812     0.0000      0.8756      2.2937\n",
       "C(year)[T.1973.0]     1.5121     0.3605     4.1945     0.0000      0.8053      2.2188\n",
       "C(year)[T.1974.0]     1.4734     0.3645     4.0428     0.0001      0.7589      2.1879\n",
       "C(year)[T.1975.0]     1.4739     0.3552     4.1497     0.0000      0.7775      2.1702\n",
       "C(year)[T.1976.0]     1.4781     0.3602     4.1031     0.0000      0.7719      2.1844\n",
       "C(year)[T.1977.0]     1.4175     0.3607     3.9304     0.0001      0.7105      2.1246\n",
       "C(year)[T.1978.0]     1.4458     0.3614     4.0008     0.0001      0.7373      2.1543\n",
       "C(year)[T.1979.0]     1.4368     0.3639     3.9485     0.0001      0.7234      2.1502\n",
       "C(year)[T.1980.0]     1.5108     0.3621     4.1723     0.0000      0.8009      2.2208\n",
       "C(year)[T.1981.0]     1.5101     0.3595     4.2012     0.0000      0.8054      2.2149\n",
       "C(year)[T.1982.0]     1.5137     0.3552     4.2622     0.0000      0.8175      2.2100\n",
       "C(year)[T.1983.0]     1.5466     0.3552     4.3541     0.0000      0.8502      2.2430\n",
       "C(year)[T.1984.0]     1.5623     0.3492     4.4744     0.0000      0.8778      2.2468\n",
       "C(year)[T.1985.0]     1.5162     0.3516     4.3118     0.0000      0.8268      2.2055\n",
       "C(year)[T.1986.0]     1.5714     0.3504     4.4844     0.0000      0.8844      2.2584\n",
       "C(year)[T.1987.0]     1.6156     0.3522     4.5878     0.0000      0.9252      2.3060\n",
       "C(year)[T.1988.0]     1.7037     0.3537     4.8174     0.0000      1.0104      2.3971\n",
       "C(year)[T.1989.0]     1.7339     0.3556     4.8757     0.0000      1.0367      2.4310\n",
       "C(year)[T.1990.0]     1.8175     0.3592     5.0595     0.0000      1.1132      2.5217\n",
       "C(year)[T.1991.0]     1.9093     0.3590     5.3191     0.0000      1.2056      2.6130\n",
       "C(year)[T.1992.0]     1.9691     0.3632     5.4216     0.0000      1.2570      2.6811\n",
       "C(year)[T.1993.0]     2.0526     0.3595     5.7095     0.0000      1.3478      2.7574\n",
       "C(year)[T.1994.0]     2.1300     0.3604     5.9102     0.0000      1.4234      2.8365\n",
       "C(year)[T.1995.0]     2.2042     0.3658     6.0260     0.0000      1.4871      2.9213\n",
       "C(year)[T.1996.0]     2.2526     0.3645     6.1798     0.0000      1.5380      2.9672\n",
       "C(year)[T.1997.0]     2.2978     0.3619     6.3500     0.0000      1.5884      3.0072\n",
       "C(year)[T.1998.0]     2.3800     0.3625     6.5651     0.0000      1.6693      3.0907\n",
       "C(year)[T.1999.0]     2.4637     0.3667     6.7184     0.0000      1.7447      3.1826\n",
       "C(year)[T.2000.0]     2.5618     0.3679     6.9637     0.0000      1.8406      3.2830\n",
       "C(year)[T.2001.0]     2.5520     0.3661     6.9711     0.0000      1.8343      3.2697\n",
       "C(year)[T.2002.0]     2.6169     0.3669     7.1318     0.0000      1.8975      3.3362\n",
       "C(year)[T.2003.0]     2.6233     0.3680     7.1287     0.0000      1.9019      3.3447\n",
       "C(year)[T.2004.0]     2.6393     0.3710     7.1132     0.0000      1.9119      3.3667\n",
       "C(year)[T.2005.0]     2.6935     0.3697     7.2855     0.0000      1.9687      3.4183\n",
       "C(year)[T.2006.0]     2.7433     0.3670     7.4747     0.0000      2.0238      3.4628\n",
       "C(year)[T.2007.0]     2.7385     0.3696     7.4097     0.0000      2.0140      3.4631\n",
       "C(year)[T.2008.0]     2.6807     0.3673     7.2988     0.0000      1.9607      3.4008\n",
       "C(year)[T.2009.0]     2.7285     0.3665     7.4446     0.0000      2.0100      3.4470\n",
       "C(year)[T.2010.0]     2.7972     0.3687     7.5857     0.0000      2.0743      3.5201\n",
       "C(year)[T.2011.0]     2.7200     0.3725     7.3024     0.0000      1.9898      3.4503\n",
       "C(year)[T.2012.0]     2.7825     0.3661     7.5994     0.0000      2.0647      3.5004\n",
       "C(year)[T.2013.0]     2.7477     0.3666     7.4958     0.0000      2.0291      3.4664\n",
       "C(year)[T.2014.0]     2.7963     0.3693     7.5711     0.0000      2.0722      3.5203\n",
       "C(year)[T.2015.0]     2.7660     0.3722     7.4305     0.0000      2.0362      3.4958\n",
       "=====================================================================================\n",
       "\n",
       "\n",
       "\"\"\""
      ]
     },
     "execution_count": 813,
     "metadata": {},
     "output_type": "execute_result"
    }
   ],
   "source": [
    "model1 = PanelOLS.from_formula(formula=formula1, data=df_filtered, check_rank=False).fit(cov_type='clustered', cluster_entity=True)\n",
    "\n",
    "model1.summary"
   ]
  },
  {
   "cell_type": "code",
   "execution_count": 814,
   "metadata": {},
   "outputs": [
    {
     "name": "stderr",
     "output_type": "stream",
     "text": [
      "C:\\Users\\guian\\AppData\\Local\\Temp\\ipykernel_28260\\1005006792.py:3: SettingWithCopyWarning:\n",
      "\n",
      "\n",
      "A value is trying to be set on a copy of a slice from a DataFrame.\n",
      "Try using .loc[row_indexer,col_indexer] = value instead\n",
      "\n",
      "See the caveats in the documentation: https://pandas.pydata.org/pandas-docs/stable/user_guide/indexing.html#returning-a-view-versus-a-copy\n",
      "\n"
     ]
    },
    {
     "data": {
      "text/plain": [
       "countrycode  year  \n",
       "Albania      1990.0    0.132626\n",
       "             1991.0    0.530926\n",
       "             1992.0    0.861769\n",
       "             1993.0    0.429985\n",
       "             1994.0   -0.049788\n",
       "                         ...   \n",
       "Zimbabwe     2011.0   -1.303971\n",
       "             2012.0   -0.958776\n",
       "             2013.0   -0.922763\n",
       "             2014.0   -0.264073\n",
       "             2015.0    0.265423\n",
       "Name: res1, Length: 4699, dtype: float64"
      ]
     },
     "execution_count": 814,
     "metadata": {},
     "output_type": "execute_result"
    }
   ],
   "source": [
    "reg1 = model1\n",
    "\n",
    "df_filtered['res1'] = model1.resids\n",
    "df_filtered['res1']"
   ]
  },
  {
   "cell_type": "markdown",
   "metadata": {},
   "source": [
    "## Regressão 2"
   ]
  },
  {
   "cell_type": "markdown",
   "metadata": {},
   "source": [
    "#### Robusto\n"
   ]
  },
  {
   "cell_type": "code",
   "execution_count": 815,
   "metadata": {},
   "outputs": [
    {
     "name": "stderr",
     "output_type": "stream",
     "text": [
      "c:\\Users\\guian\\AppData\\Local\\Programs\\Python\\Python311\\Lib\\site-packages\\linearmodels\\panel\\model.py:1214: MissingValueWarning:\n",
      "\n",
      "\n",
      "Inputs contain missing values. Dropping rows with missing observations.\n",
      "\n"
     ]
    },
    {
     "name": "stdout",
     "output_type": "stream",
     "text": [
      "efw_index_1_int ~ l_index125a + l_netoda_gdp_cons + l_resource_rent + l_lngdp + l_gdpg + l_warDummy + l_christian_int + min_legor_uk + l_legor_fr + C(year)\n"
     ]
    },
    {
     "data": {
      "text/html": [
       "<table class=\"simpletable\">\n",
       "<caption>PanelOLS Estimation Summary</caption>\n",
       "<tr>\n",
       "  <th>Dep. Variable:</th>     <td>efw_index_1_int</td> <th>  R-squared:         </th>     <td>0.7376</td>  \n",
       "</tr>\n",
       "<tr>\n",
       "  <th>Estimator:</th>            <td>PanelOLS</td>     <th>  R-squared (Between):</th>    <td>0.7687</td>  \n",
       "</tr>\n",
       "<tr>\n",
       "  <th>No. Observations:</th>       <td>4697</td>       <th>  R-squared (Within):</th>     <td>0.6302</td>  \n",
       "</tr>\n",
       "<tr>\n",
       "  <th>Date:</th>             <td>Sat, Jun 22 2024</td> <th>  R-squared (Overall):</th>    <td>0.7376</td>  \n",
       "</tr>\n",
       "<tr>\n",
       "  <th>Time:</th>                 <td>15:41:38</td>     <th>  Log-likelihood     </th>     <td>-4745.3</td> \n",
       "</tr>\n",
       "<tr>\n",
       "  <th>Cov. Estimator:</th>        <td>Robust</td>      <th>                     </th>        <td></td>     \n",
       "</tr>\n",
       "<tr>\n",
       "  <th></th>                          <td></td>         <th>  F-statistic:       </th>     <td>246.28</td>  \n",
       "</tr>\n",
       "<tr>\n",
       "  <th>Entities:</th>                <td>144</td>       <th>  P-value            </th>     <td>0.0000</td>  \n",
       "</tr>\n",
       "<tr>\n",
       "  <th>Avg Obs:</th>               <td>32.618</td>      <th>  Distribution:      </th>   <td>F(53,4643)</td>\n",
       "</tr>\n",
       "<tr>\n",
       "  <th>Min Obs:</th>               <td>3.0000</td>      <th>                     </th>        <td></td>     \n",
       "</tr>\n",
       "<tr>\n",
       "  <th>Max Obs:</th>               <td>45.000</td>      <th>  F-statistic (robust):</th>  <td> 1.1e+04</td> \n",
       "</tr>\n",
       "<tr>\n",
       "  <th></th>                          <td></td>         <th>  P-value            </th>     <td>0.0000</td>  \n",
       "</tr>\n",
       "<tr>\n",
       "  <th>Time periods:</th>            <td>45</td>        <th>  Distribution:      </th>   <td>F(53,4643)</td>\n",
       "</tr>\n",
       "<tr>\n",
       "  <th>Avg Obs:</th>               <td>104.38</td>      <th>                     </th>        <td></td>     \n",
       "</tr>\n",
       "<tr>\n",
       "  <th>Min Obs:</th>               <td>62.000</td>      <th>                     </th>        <td></td>     \n",
       "</tr>\n",
       "<tr>\n",
       "  <th>Max Obs:</th>               <td>144.00</td>      <th>                     </th>        <td></td>     \n",
       "</tr>\n",
       "<tr>\n",
       "  <th></th>                          <td></td>         <th>                     </th>        <td></td>     \n",
       "</tr>\n",
       "</table>\n",
       "<table class=\"simpletable\">\n",
       "<caption>Parameter Estimates</caption>\n",
       "<tr>\n",
       "          <td></td>          <th>Parameter</th> <th>Std. Err.</th> <th>T-stat</th>  <th>P-value</th> <th>Lower CI</th> <th>Upper CI</th>\n",
       "</tr>\n",
       "<tr>\n",
       "  <th>l_index125a</th>        <td>0.0447</td>    <td>0.0023</td>   <td>19.244</td>  <td>0.0000</td>   <td>0.0401</td>   <td>0.0492</td> \n",
       "</tr>\n",
       "<tr>\n",
       "  <th>l_netoda_gdp_cons</th>  <td>0.0203</td>    <td>0.0028</td>   <td>7.2123</td>  <td>0.0000</td>   <td>0.0148</td>   <td>0.0258</td> \n",
       "</tr>\n",
       "<tr>\n",
       "  <th>l_resource_rent</th>    <td>-0.0212</td>   <td>0.0014</td>   <td>-15.222</td> <td>0.0000</td>   <td>-0.0239</td>  <td>-0.0184</td>\n",
       "</tr>\n",
       "<tr>\n",
       "  <th>l_lngdp</th>            <td>0.4986</td>    <td>0.0100</td>   <td>49.830</td>  <td>0.0000</td>   <td>0.4790</td>   <td>0.5182</td> \n",
       "</tr>\n",
       "<tr>\n",
       "  <th>l_gdpg</th>             <td>0.0188</td>    <td>0.0028</td>   <td>6.6079</td>  <td>0.0000</td>   <td>0.0132</td>   <td>0.0244</td> \n",
       "</tr>\n",
       "<tr>\n",
       "  <th>l_warDummy</th>         <td>-0.2093</td>   <td>0.0403</td>   <td>-5.1989</td> <td>0.0000</td>   <td>-0.2882</td>  <td>-0.1304</td>\n",
       "</tr>\n",
       "<tr>\n",
       "  <th>l_christian_int</th>    <td>-0.1853</td>   <td>0.0249</td>   <td>-7.4423</td> <td>0.0000</td>   <td>-0.2341</td>  <td>-0.1365</td>\n",
       "</tr>\n",
       "<tr>\n",
       "  <th>min_legor_uk</th>       <td>0.1622</td>    <td>0.0298</td>   <td>5.4363</td>  <td>0.0000</td>   <td>0.1037</td>   <td>0.2207</td> \n",
       "</tr>\n",
       "<tr>\n",
       "  <th>l_legor_fr</th>         <td>-0.0473</td>   <td>0.0281</td>   <td>-1.6791</td> <td>0.0932</td>   <td>-0.1025</td>  <td>0.0079</td> \n",
       "</tr>\n",
       "<tr>\n",
       "  <th>C(year)[T.1971.0]</th>  <td>1.5872</td>    <td>0.1379</td>   <td>11.508</td>  <td>0.0000</td>   <td>1.3168</td>   <td>1.8576</td> \n",
       "</tr>\n",
       "<tr>\n",
       "  <th>C(year)[T.1972.0]</th>  <td>1.5241</td>    <td>0.1368</td>   <td>11.141</td>  <td>0.0000</td>   <td>1.2559</td>   <td>1.7923</td> \n",
       "</tr>\n",
       "<tr>\n",
       "  <th>C(year)[T.1973.0]</th>  <td>1.4567</td>    <td>0.1391</td>   <td>10.471</td>  <td>0.0000</td>   <td>1.1840</td>   <td>1.7295</td> \n",
       "</tr>\n",
       "<tr>\n",
       "  <th>C(year)[T.1974.0]</th>  <td>1.4173</td>    <td>0.1400</td>   <td>10.123</td>  <td>0.0000</td>   <td>1.1428</td>   <td>1.6918</td> \n",
       "</tr>\n",
       "<tr>\n",
       "  <th>C(year)[T.1975.0]</th>  <td>1.4102</td>    <td>0.1302</td>   <td>10.828</td>  <td>0.0000</td>   <td>1.1549</td>   <td>1.6655</td> \n",
       "</tr>\n",
       "<tr>\n",
       "  <th>C(year)[T.1976.0]</th>  <td>1.4162</td>    <td>0.1275</td>   <td>11.104</td>  <td>0.0000</td>   <td>1.1662</td>   <td>1.6663</td> \n",
       "</tr>\n",
       "<tr>\n",
       "  <th>C(year)[T.1977.0]</th>  <td>1.3548</td>    <td>0.1255</td>   <td>10.791</td>  <td>0.0000</td>   <td>1.1087</td>   <td>1.6009</td> \n",
       "</tr>\n",
       "<tr>\n",
       "  <th>C(year)[T.1978.0]</th>  <td>1.3819</td>    <td>0.1247</td>   <td>11.086</td>  <td>0.0000</td>   <td>1.1375</td>   <td>1.6263</td> \n",
       "</tr>\n",
       "<tr>\n",
       "  <th>C(year)[T.1979.0]</th>  <td>1.3713</td>    <td>0.1252</td>   <td>10.953</td>  <td>0.0000</td>   <td>1.1259</td>   <td>1.6168</td> \n",
       "</tr>\n",
       "<tr>\n",
       "  <th>C(year)[T.1980.0]</th>  <td>1.4307</td>    <td>0.1264</td>   <td>11.320</td>  <td>0.0000</td>   <td>1.1829</td>   <td>1.6785</td> \n",
       "</tr>\n",
       "<tr>\n",
       "  <th>C(year)[T.1981.0]</th>  <td>1.4295</td>    <td>0.1277</td>   <td>11.194</td>  <td>0.0000</td>   <td>1.1792</td>   <td>1.6799</td> \n",
       "</tr>\n",
       "<tr>\n",
       "  <th>C(year)[T.1982.0]</th>  <td>1.4342</td>    <td>0.1263</td>   <td>11.359</td>  <td>0.0000</td>   <td>1.1867</td>   <td>1.6817</td> \n",
       "</tr>\n",
       "<tr>\n",
       "  <th>C(year)[T.1983.0]</th>  <td>1.4651</td>    <td>0.1277</td>   <td>11.477</td>  <td>0.0000</td>   <td>1.2148</td>   <td>1.7154</td> \n",
       "</tr>\n",
       "<tr>\n",
       "  <th>C(year)[T.1984.0]</th>  <td>1.4769</td>    <td>0.1275</td>   <td>11.583</td>  <td>0.0000</td>   <td>1.2269</td>   <td>1.7268</td> \n",
       "</tr>\n",
       "<tr>\n",
       "  <th>C(year)[T.1985.0]</th>  <td>1.4301</td>    <td>0.1321</td>   <td>10.823</td>  <td>0.0000</td>   <td>1.1711</td>   <td>1.6891</td> \n",
       "</tr>\n",
       "<tr>\n",
       "  <th>C(year)[T.1986.0]</th>  <td>1.4828</td>    <td>0.1291</td>   <td>11.487</td>  <td>0.0000</td>   <td>1.2297</td>   <td>1.7359</td> \n",
       "</tr>\n",
       "<tr>\n",
       "  <th>C(year)[T.1987.0]</th>  <td>1.5257</td>    <td>0.1283</td>   <td>11.894</td>  <td>0.0000</td>   <td>1.2742</td>   <td>1.7772</td> \n",
       "</tr>\n",
       "<tr>\n",
       "  <th>C(year)[T.1988.0]</th>  <td>1.6090</td>    <td>0.1286</td>   <td>12.508</td>  <td>0.0000</td>   <td>1.3568</td>   <td>1.8612</td> \n",
       "</tr>\n",
       "<tr>\n",
       "  <th>C(year)[T.1989.0]</th>  <td>1.6365</td>    <td>0.1279</td>   <td>12.800</td>  <td>0.0000</td>   <td>1.3859</td>   <td>1.8872</td> \n",
       "</tr>\n",
       "<tr>\n",
       "  <th>C(year)[T.1990.0]</th>  <td>1.7115</td>    <td>0.1242</td>   <td>13.783</td>  <td>0.0000</td>   <td>1.4681</td>   <td>1.9550</td> \n",
       "</tr>\n",
       "<tr>\n",
       "  <th>C(year)[T.1991.0]</th>  <td>1.7947</td>    <td>0.1217</td>   <td>14.743</td>  <td>0.0000</td>   <td>1.5560</td>   <td>2.0333</td> \n",
       "</tr>\n",
       "<tr>\n",
       "  <th>C(year)[T.1992.0]</th>  <td>1.8508</td>    <td>0.1202</td>   <td>15.398</td>  <td>0.0000</td>   <td>1.6151</td>   <td>2.0864</td> \n",
       "</tr>\n",
       "<tr>\n",
       "  <th>C(year)[T.1993.0]</th>  <td>1.9237</td>    <td>0.1164</td>   <td>16.523</td>  <td>0.0000</td>   <td>1.6954</td>   <td>2.1520</td> \n",
       "</tr>\n",
       "<tr>\n",
       "  <th>C(year)[T.1994.0]</th>  <td>1.9925</td>    <td>0.1146</td>   <td>17.393</td>  <td>0.0000</td>   <td>1.7679</td>   <td>2.2171</td> \n",
       "</tr>\n",
       "<tr>\n",
       "  <th>C(year)[T.1995.0]</th>  <td>2.0554</td>    <td>0.1170</td>   <td>17.569</td>  <td>0.0000</td>   <td>1.8261</td>   <td>2.2848</td> \n",
       "</tr>\n",
       "<tr>\n",
       "  <th>C(year)[T.1996.0]</th>  <td>2.0935</td>    <td>0.1139</td>   <td>18.379</td>  <td>0.0000</td>   <td>1.8702</td>   <td>2.3168</td> \n",
       "</tr>\n",
       "<tr>\n",
       "  <th>C(year)[T.1997.0]</th>  <td>2.1313</td>    <td>0.1111</td>   <td>19.180</td>  <td>0.0000</td>   <td>1.9134</td>   <td>2.3492</td> \n",
       "</tr>\n",
       "<tr>\n",
       "  <th>C(year)[T.1998.0]</th>  <td>2.2098</td>    <td>0.1088</td>   <td>20.314</td>  <td>0.0000</td>   <td>1.9966</td>   <td>2.4231</td> \n",
       "</tr>\n",
       "<tr>\n",
       "  <th>C(year)[T.1999.0]</th>  <td>2.2901</td>    <td>0.1090</td>   <td>21.014</td>  <td>0.0000</td>   <td>2.0764</td>   <td>2.5037</td> \n",
       "</tr>\n",
       "<tr>\n",
       "  <th>C(year)[T.2000.0]</th>  <td>2.3820</td>    <td>0.1079</td>   <td>22.080</td>  <td>0.0000</td>   <td>2.1705</td>   <td>2.5935</td> \n",
       "</tr>\n",
       "<tr>\n",
       "  <th>C(year)[T.2001.0]</th>  <td>2.3655</td>    <td>0.1079</td>   <td>21.926</td>  <td>0.0000</td>   <td>2.1540</td>   <td>2.5770</td> \n",
       "</tr>\n",
       "<tr>\n",
       "  <th>C(year)[T.2002.0]</th>  <td>2.4263</td>    <td>0.1093</td>   <td>22.205</td>  <td>0.0000</td>   <td>2.2121</td>   <td>2.6405</td> \n",
       "</tr>\n",
       "<tr>\n",
       "  <th>C(year)[T.2003.0]</th>  <td>2.4288</td>    <td>0.1091</td>   <td>22.256</td>  <td>0.0000</td>   <td>2.2149</td>   <td>2.6428</td> \n",
       "</tr>\n",
       "<tr>\n",
       "  <th>C(year)[T.2004.0]</th>  <td>2.4385</td>    <td>0.1105</td>   <td>22.067</td>  <td>0.0000</td>   <td>2.2219</td>   <td>2.6552</td> \n",
       "</tr>\n",
       "<tr>\n",
       "  <th>C(year)[T.2005.0]</th>  <td>2.4920</td>    <td>0.1095</td>   <td>22.753</td>  <td>0.0000</td>   <td>2.2773</td>   <td>2.7067</td> \n",
       "</tr>\n",
       "<tr>\n",
       "  <th>C(year)[T.2006.0]</th>  <td>2.5379</td>    <td>0.1086</td>   <td>23.367</td>  <td>0.0000</td>   <td>2.3250</td>   <td>2.7508</td> \n",
       "</tr>\n",
       "<tr>\n",
       "  <th>C(year)[T.2007.0]</th>  <td>2.5278</td>    <td>0.1099</td>   <td>22.993</td>  <td>0.0000</td>   <td>2.3123</td>   <td>2.7434</td> \n",
       "</tr>\n",
       "<tr>\n",
       "  <th>C(year)[T.2008.0]</th>  <td>2.4704</td>    <td>0.1071</td>   <td>23.071</td>  <td>0.0000</td>   <td>2.2604</td>   <td>2.6803</td> \n",
       "</tr>\n",
       "<tr>\n",
       "  <th>C(year)[T.2009.0]</th>  <td>2.5159</td>    <td>0.1054</td>   <td>23.872</td>  <td>0.0000</td>   <td>2.3092</td>   <td>2.7225</td> \n",
       "</tr>\n",
       "<tr>\n",
       "  <th>C(year)[T.2010.0]</th>  <td>2.5939</td>    <td>0.1055</td>   <td>24.592</td>  <td>0.0000</td>   <td>2.3871</td>   <td>2.8007</td> \n",
       "</tr>\n",
       "<tr>\n",
       "  <th>C(year)[T.2011.0]</th>  <td>2.5152</td>    <td>0.1087</td>   <td>23.139</td>  <td>0.0000</td>   <td>2.3021</td>   <td>2.7283</td> \n",
       "</tr>\n",
       "<tr>\n",
       "  <th>C(year)[T.2012.0]</th>  <td>2.5724</td>    <td>0.1060</td>   <td>24.268</td>  <td>0.0000</td>   <td>2.3646</td>   <td>2.7803</td> \n",
       "</tr>\n",
       "<tr>\n",
       "  <th>C(year)[T.2013.0]</th>  <td>2.5425</td>    <td>0.1049</td>   <td>24.227</td>  <td>0.0000</td>   <td>2.3368</td>   <td>2.7482</td> \n",
       "</tr>\n",
       "<tr>\n",
       "  <th>C(year)[T.2014.0]</th>  <td>2.5914</td>    <td>0.1075</td>   <td>24.117</td>  <td>0.0000</td>   <td>2.3808</td>   <td>2.8021</td> \n",
       "</tr>\n",
       "<tr>\n",
       "  <th>C(year)[T.2015.0]</th>  <td>2.5638</td>    <td>0.1084</td>   <td>23.640</td>  <td>0.0000</td>   <td>2.3512</td>   <td>2.7764</td> \n",
       "</tr>\n",
       "</table><br/><br/>"
      ],
      "text/plain": [
       "<class 'linearmodels.compat.statsmodels.Summary'>\n",
       "\"\"\"\n",
       "                          PanelOLS Estimation Summary                           \n",
       "================================================================================\n",
       "Dep. Variable:        efw_index_1_int   R-squared:                        0.7376\n",
       "Estimator:                   PanelOLS   R-squared (Between):              0.7687\n",
       "No. Observations:                4697   R-squared (Within):               0.6302\n",
       "Date:                Sat, Jun 22 2024   R-squared (Overall):              0.7376\n",
       "Time:                        15:41:38   Log-likelihood                   -4745.3\n",
       "Cov. Estimator:                Robust                                           \n",
       "                                        F-statistic:                      246.28\n",
       "Entities:                         144   P-value                           0.0000\n",
       "Avg Obs:                       32.618   Distribution:                 F(53,4643)\n",
       "Min Obs:                       3.0000                                           \n",
       "Max Obs:                       45.000   F-statistic (robust):            1.1e+04\n",
       "                                        P-value                           0.0000\n",
       "Time periods:                      45   Distribution:                 F(53,4643)\n",
       "Avg Obs:                       104.38                                           \n",
       "Min Obs:                       62.000                                           \n",
       "Max Obs:                       144.00                                           \n",
       "                                                                                \n",
       "                                 Parameter Estimates                                 \n",
       "=====================================================================================\n",
       "                   Parameter  Std. Err.     T-stat    P-value    Lower CI    Upper CI\n",
       "-------------------------------------------------------------------------------------\n",
       "l_index125a           0.0447     0.0023     19.244     0.0000      0.0401      0.0492\n",
       "l_netoda_gdp_cons     0.0203     0.0028     7.2123     0.0000      0.0148      0.0258\n",
       "l_resource_rent      -0.0212     0.0014    -15.222     0.0000     -0.0239     -0.0184\n",
       "l_lngdp               0.4986     0.0100     49.830     0.0000      0.4790      0.5182\n",
       "l_gdpg                0.0188     0.0028     6.6079     0.0000      0.0132      0.0244\n",
       "l_warDummy           -0.2093     0.0403    -5.1989     0.0000     -0.2882     -0.1304\n",
       "l_christian_int      -0.1853     0.0249    -7.4423     0.0000     -0.2341     -0.1365\n",
       "min_legor_uk          0.1622     0.0298     5.4363     0.0000      0.1037      0.2207\n",
       "l_legor_fr           -0.0473     0.0281    -1.6791     0.0932     -0.1025      0.0079\n",
       "C(year)[T.1971.0]     1.5872     0.1379     11.508     0.0000      1.3168      1.8576\n",
       "C(year)[T.1972.0]     1.5241     0.1368     11.141     0.0000      1.2559      1.7923\n",
       "C(year)[T.1973.0]     1.4567     0.1391     10.471     0.0000      1.1840      1.7295\n",
       "C(year)[T.1974.0]     1.4173     0.1400     10.123     0.0000      1.1428      1.6918\n",
       "C(year)[T.1975.0]     1.4102     0.1302     10.828     0.0000      1.1549      1.6655\n",
       "C(year)[T.1976.0]     1.4162     0.1275     11.104     0.0000      1.1662      1.6663\n",
       "C(year)[T.1977.0]     1.3548     0.1255     10.791     0.0000      1.1087      1.6009\n",
       "C(year)[T.1978.0]     1.3819     0.1247     11.086     0.0000      1.1375      1.6263\n",
       "C(year)[T.1979.0]     1.3713     0.1252     10.953     0.0000      1.1259      1.6168\n",
       "C(year)[T.1980.0]     1.4307     0.1264     11.320     0.0000      1.1829      1.6785\n",
       "C(year)[T.1981.0]     1.4295     0.1277     11.194     0.0000      1.1792      1.6799\n",
       "C(year)[T.1982.0]     1.4342     0.1263     11.359     0.0000      1.1867      1.6817\n",
       "C(year)[T.1983.0]     1.4651     0.1277     11.477     0.0000      1.2148      1.7154\n",
       "C(year)[T.1984.0]     1.4769     0.1275     11.583     0.0000      1.2269      1.7268\n",
       "C(year)[T.1985.0]     1.4301     0.1321     10.823     0.0000      1.1711      1.6891\n",
       "C(year)[T.1986.0]     1.4828     0.1291     11.487     0.0000      1.2297      1.7359\n",
       "C(year)[T.1987.0]     1.5257     0.1283     11.894     0.0000      1.2742      1.7772\n",
       "C(year)[T.1988.0]     1.6090     0.1286     12.508     0.0000      1.3568      1.8612\n",
       "C(year)[T.1989.0]     1.6365     0.1279     12.800     0.0000      1.3859      1.8872\n",
       "C(year)[T.1990.0]     1.7115     0.1242     13.783     0.0000      1.4681      1.9550\n",
       "C(year)[T.1991.0]     1.7947     0.1217     14.743     0.0000      1.5560      2.0333\n",
       "C(year)[T.1992.0]     1.8508     0.1202     15.398     0.0000      1.6151      2.0864\n",
       "C(year)[T.1993.0]     1.9237     0.1164     16.523     0.0000      1.6954      2.1520\n",
       "C(year)[T.1994.0]     1.9925     0.1146     17.393     0.0000      1.7679      2.2171\n",
       "C(year)[T.1995.0]     2.0554     0.1170     17.569     0.0000      1.8261      2.2848\n",
       "C(year)[T.1996.0]     2.0935     0.1139     18.379     0.0000      1.8702      2.3168\n",
       "C(year)[T.1997.0]     2.1313     0.1111     19.180     0.0000      1.9134      2.3492\n",
       "C(year)[T.1998.0]     2.2098     0.1088     20.314     0.0000      1.9966      2.4231\n",
       "C(year)[T.1999.0]     2.2901     0.1090     21.014     0.0000      2.0764      2.5037\n",
       "C(year)[T.2000.0]     2.3820     0.1079     22.080     0.0000      2.1705      2.5935\n",
       "C(year)[T.2001.0]     2.3655     0.1079     21.926     0.0000      2.1540      2.5770\n",
       "C(year)[T.2002.0]     2.4263     0.1093     22.205     0.0000      2.2121      2.6405\n",
       "C(year)[T.2003.0]     2.4288     0.1091     22.256     0.0000      2.2149      2.6428\n",
       "C(year)[T.2004.0]     2.4385     0.1105     22.067     0.0000      2.2219      2.6552\n",
       "C(year)[T.2005.0]     2.4920     0.1095     22.753     0.0000      2.2773      2.7067\n",
       "C(year)[T.2006.0]     2.5379     0.1086     23.367     0.0000      2.3250      2.7508\n",
       "C(year)[T.2007.0]     2.5278     0.1099     22.993     0.0000      2.3123      2.7434\n",
       "C(year)[T.2008.0]     2.4704     0.1071     23.071     0.0000      2.2604      2.6803\n",
       "C(year)[T.2009.0]     2.5159     0.1054     23.872     0.0000      2.3092      2.7225\n",
       "C(year)[T.2010.0]     2.5939     0.1055     24.592     0.0000      2.3871      2.8007\n",
       "C(year)[T.2011.0]     2.5152     0.1087     23.139     0.0000      2.3021      2.7283\n",
       "C(year)[T.2012.0]     2.5724     0.1060     24.268     0.0000      2.3646      2.7803\n",
       "C(year)[T.2013.0]     2.5425     0.1049     24.227     0.0000      2.3368      2.7482\n",
       "C(year)[T.2014.0]     2.5914     0.1075     24.117     0.0000      2.3808      2.8021\n",
       "C(year)[T.2015.0]     2.5638     0.1084     23.640     0.0000      2.3512      2.7764\n",
       "=====================================================================================\n",
       "\n",
       "\n",
       "\"\"\""
      ]
     },
     "execution_count": 815,
     "metadata": {},
     "output_type": "execute_result"
    }
   ],
   "source": [
    "formula2 = \"efw_index_1_int ~ l_index125a + l_netoda_gdp_cons + l_resource_rent + l_lngdp + l_gdpg + l_warDummy + l_christian_int + min_legor_uk + l_legor_fr + C(year)\"\n",
    "\n",
    "# Exibe a nova fórmula\n",
    "print(formula2)\n",
    "\n",
    "model2 = PanelOLS.from_formula(formula=formula2, data=df_filtered, check_rank=False).fit(cov_type='robust')\n",
    "\n",
    "model2.summary"
   ]
  },
  {
   "cell_type": "markdown",
   "metadata": {},
   "source": [
    "#### Clusters"
   ]
  },
  {
   "cell_type": "code",
   "execution_count": 816,
   "metadata": {},
   "outputs": [
    {
     "name": "stderr",
     "output_type": "stream",
     "text": [
      "c:\\Users\\guian\\AppData\\Local\\Programs\\Python\\Python311\\Lib\\site-packages\\linearmodels\\panel\\model.py:1214: MissingValueWarning:\n",
      "\n",
      "\n",
      "Inputs contain missing values. Dropping rows with missing observations.\n",
      "\n"
     ]
    },
    {
     "data": {
      "text/html": [
       "<table class=\"simpletable\">\n",
       "<caption>PanelOLS Estimation Summary</caption>\n",
       "<tr>\n",
       "  <th>Dep. Variable:</th>     <td>efw_index_1_int</td> <th>  R-squared:         </th>     <td>0.7376</td>  \n",
       "</tr>\n",
       "<tr>\n",
       "  <th>Estimator:</th>            <td>PanelOLS</td>     <th>  R-squared (Between):</th>    <td>0.7687</td>  \n",
       "</tr>\n",
       "<tr>\n",
       "  <th>No. Observations:</th>       <td>4697</td>       <th>  R-squared (Within):</th>     <td>0.6302</td>  \n",
       "</tr>\n",
       "<tr>\n",
       "  <th>Date:</th>             <td>Sat, Jun 22 2024</td> <th>  R-squared (Overall):</th>    <td>0.7376</td>  \n",
       "</tr>\n",
       "<tr>\n",
       "  <th>Time:</th>                 <td>15:41:38</td>     <th>  Log-likelihood     </th>     <td>-4745.3</td> \n",
       "</tr>\n",
       "<tr>\n",
       "  <th>Cov. Estimator:</th>       <td>Clustered</td>    <th>                     </th>        <td></td>     \n",
       "</tr>\n",
       "<tr>\n",
       "  <th></th>                          <td></td>         <th>  F-statistic:       </th>     <td>246.28</td>  \n",
       "</tr>\n",
       "<tr>\n",
       "  <th>Entities:</th>                <td>144</td>       <th>  P-value            </th>     <td>0.0000</td>  \n",
       "</tr>\n",
       "<tr>\n",
       "  <th>Avg Obs:</th>               <td>32.618</td>      <th>  Distribution:      </th>   <td>F(53,4643)</td>\n",
       "</tr>\n",
       "<tr>\n",
       "  <th>Min Obs:</th>               <td>3.0000</td>      <th>                     </th>        <td></td>     \n",
       "</tr>\n",
       "<tr>\n",
       "  <th>Max Obs:</th>               <td>45.000</td>      <th>  F-statistic (robust):</th>   <td>1409.8</td>  \n",
       "</tr>\n",
       "<tr>\n",
       "  <th></th>                          <td></td>         <th>  P-value            </th>     <td>0.0000</td>  \n",
       "</tr>\n",
       "<tr>\n",
       "  <th>Time periods:</th>            <td>45</td>        <th>  Distribution:      </th>   <td>F(53,4643)</td>\n",
       "</tr>\n",
       "<tr>\n",
       "  <th>Avg Obs:</th>               <td>104.38</td>      <th>                     </th>        <td></td>     \n",
       "</tr>\n",
       "<tr>\n",
       "  <th>Min Obs:</th>               <td>62.000</td>      <th>                     </th>        <td></td>     \n",
       "</tr>\n",
       "<tr>\n",
       "  <th>Max Obs:</th>               <td>144.00</td>      <th>                     </th>        <td></td>     \n",
       "</tr>\n",
       "<tr>\n",
       "  <th></th>                          <td></td>         <th>                     </th>        <td></td>     \n",
       "</tr>\n",
       "</table>\n",
       "<table class=\"simpletable\">\n",
       "<caption>Parameter Estimates</caption>\n",
       "<tr>\n",
       "          <td></td>          <th>Parameter</th> <th>Std. Err.</th> <th>T-stat</th>  <th>P-value</th> <th>Lower CI</th> <th>Upper CI</th>\n",
       "</tr>\n",
       "<tr>\n",
       "  <th>l_index125a</th>        <td>0.0447</td>    <td>0.0094</td>   <td>4.7277</td>  <td>0.0000</td>   <td>0.0261</td>   <td>0.0632</td> \n",
       "</tr>\n",
       "<tr>\n",
       "  <th>l_netoda_gdp_cons</th>  <td>0.0203</td>    <td>0.0090</td>   <td>2.2600</td>  <td>0.0239</td>   <td>0.0027</td>   <td>0.0379</td> \n",
       "</tr>\n",
       "<tr>\n",
       "  <th>l_resource_rent</th>    <td>-0.0212</td>   <td>0.0057</td>   <td>-3.7183</td> <td>0.0002</td>   <td>-0.0323</td>  <td>-0.0100</td>\n",
       "</tr>\n",
       "<tr>\n",
       "  <th>l_lngdp</th>            <td>0.4986</td>    <td>0.0395</td>   <td>12.614</td>  <td>0.0000</td>   <td>0.4211</td>   <td>0.5761</td> \n",
       "</tr>\n",
       "<tr>\n",
       "  <th>l_gdpg</th>             <td>0.0188</td>    <td>0.0044</td>   <td>4.3205</td>  <td>0.0000</td>   <td>0.0103</td>   <td>0.0273</td> \n",
       "</tr>\n",
       "<tr>\n",
       "  <th>l_warDummy</th>         <td>-0.2093</td>   <td>0.1057</td>   <td>-1.9809</td> <td>0.0477</td>   <td>-0.4164</td>  <td>-0.0022</td>\n",
       "</tr>\n",
       "<tr>\n",
       "  <th>l_christian_int</th>    <td>-0.1853</td>   <td>0.1054</td>   <td>-1.7589</td> <td>0.0787</td>   <td>-0.3918</td>  <td>0.0212</td> \n",
       "</tr>\n",
       "<tr>\n",
       "  <th>min_legor_uk</th>       <td>0.1622</td>    <td>0.1090</td>   <td>1.4872</td>  <td>0.1370</td>   <td>-0.0516</td>  <td>0.3759</td> \n",
       "</tr>\n",
       "<tr>\n",
       "  <th>l_legor_fr</th>         <td>-0.0473</td>   <td>0.0947</td>   <td>-0.4993</td> <td>0.6176</td>   <td>-0.2329</td>  <td>0.1383</td> \n",
       "</tr>\n",
       "<tr>\n",
       "  <th>C(year)[T.1971.0]</th>  <td>1.5872</td>    <td>0.3540</td>   <td>4.4831</td>  <td>0.0000</td>   <td>0.8931</td>   <td>2.2813</td> \n",
       "</tr>\n",
       "<tr>\n",
       "  <th>C(year)[T.1972.0]</th>  <td>1.5241</td>    <td>0.3522</td>   <td>4.3275</td>  <td>0.0000</td>   <td>0.8337</td>   <td>2.2146</td> \n",
       "</tr>\n",
       "<tr>\n",
       "  <th>C(year)[T.1973.0]</th>  <td>1.4567</td>    <td>0.3515</td>   <td>4.1446</td>  <td>0.0000</td>   <td>0.7677</td>   <td>2.1458</td> \n",
       "</tr>\n",
       "<tr>\n",
       "  <th>C(year)[T.1974.0]</th>  <td>1.4173</td>    <td>0.3558</td>   <td>3.9834</td>  <td>0.0001</td>   <td>0.7198</td>   <td>2.1148</td> \n",
       "</tr>\n",
       "<tr>\n",
       "  <th>C(year)[T.1975.0]</th>  <td>1.4102</td>    <td>0.3444</td>   <td>4.0943</td>  <td>0.0000</td>   <td>0.7349</td>   <td>2.0854</td> \n",
       "</tr>\n",
       "<tr>\n",
       "  <th>C(year)[T.1976.0]</th>  <td>1.4162</td>    <td>0.3482</td>   <td>4.0671</td>  <td>0.0000</td>   <td>0.7336</td>   <td>2.0989</td> \n",
       "</tr>\n",
       "<tr>\n",
       "  <th>C(year)[T.1977.0]</th>  <td>1.3548</td>    <td>0.3498</td>   <td>3.8733</td>  <td>0.0001</td>   <td>0.6691</td>   <td>2.0405</td> \n",
       "</tr>\n",
       "<tr>\n",
       "  <th>C(year)[T.1978.0]</th>  <td>1.3819</td>    <td>0.3499</td>   <td>3.9491</td>  <td>0.0001</td>   <td>0.6959</td>   <td>2.0680</td> \n",
       "</tr>\n",
       "<tr>\n",
       "  <th>C(year)[T.1979.0]</th>  <td>1.3713</td>    <td>0.3524</td>   <td>3.8917</td>  <td>0.0001</td>   <td>0.6805</td>   <td>2.0622</td> \n",
       "</tr>\n",
       "<tr>\n",
       "  <th>C(year)[T.1980.0]</th>  <td>1.4307</td>    <td>0.3514</td>   <td>4.0712</td>  <td>0.0000</td>   <td>0.7417</td>   <td>2.1196</td> \n",
       "</tr>\n",
       "<tr>\n",
       "  <th>C(year)[T.1981.0]</th>  <td>1.4295</td>    <td>0.3486</td>   <td>4.1008</td>  <td>0.0000</td>   <td>0.7461</td>   <td>2.1129</td> \n",
       "</tr>\n",
       "<tr>\n",
       "  <th>C(year)[T.1982.0]</th>  <td>1.4342</td>    <td>0.3440</td>   <td>4.1695</td>  <td>0.0000</td>   <td>0.7598</td>   <td>2.1085</td> \n",
       "</tr>\n",
       "<tr>\n",
       "  <th>C(year)[T.1983.0]</th>  <td>1.4651</td>    <td>0.3420</td>   <td>4.2835</td>  <td>0.0000</td>   <td>0.7946</td>   <td>2.1356</td> \n",
       "</tr>\n",
       "<tr>\n",
       "  <th>C(year)[T.1984.0]</th>  <td>1.4769</td>    <td>0.3357</td>   <td>4.3989</td>  <td>0.0000</td>   <td>0.8187</td>   <td>2.1351</td> \n",
       "</tr>\n",
       "<tr>\n",
       "  <th>C(year)[T.1985.0]</th>  <td>1.4301</td>    <td>0.3388</td>   <td>4.2216</td>  <td>0.0000</td>   <td>0.7660</td>   <td>2.0942</td> \n",
       "</tr>\n",
       "<tr>\n",
       "  <th>C(year)[T.1986.0]</th>  <td>1.4828</td>    <td>0.3368</td>   <td>4.4021</td>  <td>0.0000</td>   <td>0.8224</td>   <td>2.1432</td> \n",
       "</tr>\n",
       "<tr>\n",
       "  <th>C(year)[T.1987.0]</th>  <td>1.5257</td>    <td>0.3375</td>   <td>4.5207</td>  <td>0.0000</td>   <td>0.8640</td>   <td>2.1873</td> \n",
       "</tr>\n",
       "<tr>\n",
       "  <th>C(year)[T.1988.0]</th>  <td>1.6090</td>    <td>0.3380</td>   <td>4.7603</td>  <td>0.0000</td>   <td>0.9464</td>   <td>2.2717</td> \n",
       "</tr>\n",
       "<tr>\n",
       "  <th>C(year)[T.1989.0]</th>  <td>1.6365</td>    <td>0.3397</td>   <td>4.8175</td>  <td>0.0000</td>   <td>0.9705</td>   <td>2.3025</td> \n",
       "</tr>\n",
       "<tr>\n",
       "  <th>C(year)[T.1990.0]</th>  <td>1.7115</td>    <td>0.3417</td>   <td>5.0089</td>  <td>0.0000</td>   <td>1.0416</td>   <td>2.3814</td> \n",
       "</tr>\n",
       "<tr>\n",
       "  <th>C(year)[T.1991.0]</th>  <td>1.7947</td>    <td>0.3411</td>   <td>5.2618</td>  <td>0.0000</td>   <td>1.1260</td>   <td>2.4633</td> \n",
       "</tr>\n",
       "<tr>\n",
       "  <th>C(year)[T.1992.0]</th>  <td>1.8508</td>    <td>0.3444</td>   <td>5.3737</td>  <td>0.0000</td>   <td>1.1756</td>   <td>2.5260</td> \n",
       "</tr>\n",
       "<tr>\n",
       "  <th>C(year)[T.1993.0]</th>  <td>1.9237</td>    <td>0.3408</td>   <td>5.6443</td>  <td>0.0000</td>   <td>1.2555</td>   <td>2.5919</td> \n",
       "</tr>\n",
       "<tr>\n",
       "  <th>C(year)[T.1994.0]</th>  <td>1.9925</td>    <td>0.3411</td>   <td>5.8412</td>  <td>0.0000</td>   <td>1.3238</td>   <td>2.6613</td> \n",
       "</tr>\n",
       "<tr>\n",
       "  <th>C(year)[T.1995.0]</th>  <td>2.0554</td>    <td>0.3459</td>   <td>5.9418</td>  <td>0.0000</td>   <td>1.3773</td>   <td>2.7336</td> \n",
       "</tr>\n",
       "<tr>\n",
       "  <th>C(year)[T.1996.0]</th>  <td>2.0935</td>    <td>0.3450</td>   <td>6.0674</td>  <td>0.0000</td>   <td>1.4170</td>   <td>2.7699</td> \n",
       "</tr>\n",
       "<tr>\n",
       "  <th>C(year)[T.1997.0]</th>  <td>2.1313</td>    <td>0.3416</td>   <td>6.2390</td>  <td>0.0000</td>   <td>1.4616</td>   <td>2.8010</td> \n",
       "</tr>\n",
       "<tr>\n",
       "  <th>C(year)[T.1998.0]</th>  <td>2.2098</td>    <td>0.3418</td>   <td>6.4662</td>  <td>0.0000</td>   <td>1.5398</td>   <td>2.8798</td> \n",
       "</tr>\n",
       "<tr>\n",
       "  <th>C(year)[T.1999.0]</th>  <td>2.2901</td>    <td>0.3451</td>   <td>6.6354</td>  <td>0.0000</td>   <td>1.6134</td>   <td>2.9667</td> \n",
       "</tr>\n",
       "<tr>\n",
       "  <th>C(year)[T.2000.0]</th>  <td>2.3820</td>    <td>0.3451</td>   <td>6.9014</td>  <td>0.0000</td>   <td>1.7053</td>   <td>3.0586</td> \n",
       "</tr>\n",
       "<tr>\n",
       "  <th>C(year)[T.2001.0]</th>  <td>2.3655</td>    <td>0.3441</td>   <td>6.8736</td>  <td>0.0000</td>   <td>1.6908</td>   <td>3.0402</td> \n",
       "</tr>\n",
       "<tr>\n",
       "  <th>C(year)[T.2002.0]</th>  <td>2.4263</td>    <td>0.3424</td>   <td>7.0853</td>  <td>0.0000</td>   <td>1.7550</td>   <td>3.0977</td> \n",
       "</tr>\n",
       "<tr>\n",
       "  <th>C(year)[T.2003.0]</th>  <td>2.4288</td>    <td>0.3443</td>   <td>7.0543</td>  <td>0.0000</td>   <td>1.7538</td>   <td>3.1039</td> \n",
       "</tr>\n",
       "<tr>\n",
       "  <th>C(year)[T.2004.0]</th>  <td>2.4385</td>    <td>0.3483</td>   <td>7.0018</td>  <td>0.0000</td>   <td>1.7557</td>   <td>3.1213</td> \n",
       "</tr>\n",
       "<tr>\n",
       "  <th>C(year)[T.2005.0]</th>  <td>2.4920</td>    <td>0.3477</td>   <td>7.1668</td>  <td>0.0000</td>   <td>1.8103</td>   <td>3.1737</td> \n",
       "</tr>\n",
       "<tr>\n",
       "  <th>C(year)[T.2006.0]</th>  <td>2.5379</td>    <td>0.3447</td>   <td>7.3625</td>  <td>0.0000</td>   <td>1.8621</td>   <td>3.2137</td> \n",
       "</tr>\n",
       "<tr>\n",
       "  <th>C(year)[T.2007.0]</th>  <td>2.5278</td>    <td>0.3474</td>   <td>7.2763</td>  <td>0.0000</td>   <td>1.8468</td>   <td>3.2089</td> \n",
       "</tr>\n",
       "<tr>\n",
       "  <th>C(year)[T.2008.0]</th>  <td>2.4704</td>    <td>0.3459</td>   <td>7.1421</td>  <td>0.0000</td>   <td>1.7923</td>   <td>3.1485</td> \n",
       "</tr>\n",
       "<tr>\n",
       "  <th>C(year)[T.2009.0]</th>  <td>2.5159</td>    <td>0.3447</td>   <td>7.2997</td>  <td>0.0000</td>   <td>1.8402</td>   <td>3.1915</td> \n",
       "</tr>\n",
       "<tr>\n",
       "  <th>C(year)[T.2010.0]</th>  <td>2.5939</td>    <td>0.3450</td>   <td>7.5188</td>  <td>0.0000</td>   <td>1.9175</td>   <td>3.2702</td> \n",
       "</tr>\n",
       "<tr>\n",
       "  <th>C(year)[T.2011.0]</th>  <td>2.5152</td>    <td>0.3514</td>   <td>7.1571</td>  <td>0.0000</td>   <td>1.8263</td>   <td>3.2042</td> \n",
       "</tr>\n",
       "<tr>\n",
       "  <th>C(year)[T.2012.0]</th>  <td>2.5724</td>    <td>0.3458</td>   <td>7.4386</td>  <td>0.0000</td>   <td>1.8945</td>   <td>3.2504</td> \n",
       "</tr>\n",
       "<tr>\n",
       "  <th>C(year)[T.2013.0]</th>  <td>2.5425</td>    <td>0.3462</td>   <td>7.3440</td>  <td>0.0000</td>   <td>1.8638</td>   <td>3.2212</td> \n",
       "</tr>\n",
       "<tr>\n",
       "  <th>C(year)[T.2014.0]</th>  <td>2.5914</td>    <td>0.3483</td>   <td>7.4393</td>  <td>0.0000</td>   <td>1.9085</td>   <td>3.2743</td> \n",
       "</tr>\n",
       "<tr>\n",
       "  <th>C(year)[T.2015.0]</th>  <td>2.5638</td>    <td>0.3509</td>   <td>7.3062</td>  <td>0.0000</td>   <td>1.8758</td>   <td>3.2517</td> \n",
       "</tr>\n",
       "</table><br/><br/>"
      ],
      "text/plain": [
       "<class 'linearmodels.compat.statsmodels.Summary'>\n",
       "\"\"\"\n",
       "                          PanelOLS Estimation Summary                           \n",
       "================================================================================\n",
       "Dep. Variable:        efw_index_1_int   R-squared:                        0.7376\n",
       "Estimator:                   PanelOLS   R-squared (Between):              0.7687\n",
       "No. Observations:                4697   R-squared (Within):               0.6302\n",
       "Date:                Sat, Jun 22 2024   R-squared (Overall):              0.7376\n",
       "Time:                        15:41:38   Log-likelihood                   -4745.3\n",
       "Cov. Estimator:             Clustered                                           \n",
       "                                        F-statistic:                      246.28\n",
       "Entities:                         144   P-value                           0.0000\n",
       "Avg Obs:                       32.618   Distribution:                 F(53,4643)\n",
       "Min Obs:                       3.0000                                           \n",
       "Max Obs:                       45.000   F-statistic (robust):             1409.8\n",
       "                                        P-value                           0.0000\n",
       "Time periods:                      45   Distribution:                 F(53,4643)\n",
       "Avg Obs:                       104.38                                           \n",
       "Min Obs:                       62.000                                           \n",
       "Max Obs:                       144.00                                           \n",
       "                                                                                \n",
       "                                 Parameter Estimates                                 \n",
       "=====================================================================================\n",
       "                   Parameter  Std. Err.     T-stat    P-value    Lower CI    Upper CI\n",
       "-------------------------------------------------------------------------------------\n",
       "l_index125a           0.0447     0.0094     4.7277     0.0000      0.0261      0.0632\n",
       "l_netoda_gdp_cons     0.0203     0.0090     2.2600     0.0239      0.0027      0.0379\n",
       "l_resource_rent      -0.0212     0.0057    -3.7183     0.0002     -0.0323     -0.0100\n",
       "l_lngdp               0.4986     0.0395     12.614     0.0000      0.4211      0.5761\n",
       "l_gdpg                0.0188     0.0044     4.3205     0.0000      0.0103      0.0273\n",
       "l_warDummy           -0.2093     0.1057    -1.9809     0.0477     -0.4164     -0.0022\n",
       "l_christian_int      -0.1853     0.1054    -1.7589     0.0787     -0.3918      0.0212\n",
       "min_legor_uk          0.1622     0.1090     1.4872     0.1370     -0.0516      0.3759\n",
       "l_legor_fr           -0.0473     0.0947    -0.4993     0.6176     -0.2329      0.1383\n",
       "C(year)[T.1971.0]     1.5872     0.3540     4.4831     0.0000      0.8931      2.2813\n",
       "C(year)[T.1972.0]     1.5241     0.3522     4.3275     0.0000      0.8337      2.2146\n",
       "C(year)[T.1973.0]     1.4567     0.3515     4.1446     0.0000      0.7677      2.1458\n",
       "C(year)[T.1974.0]     1.4173     0.3558     3.9834     0.0001      0.7198      2.1148\n",
       "C(year)[T.1975.0]     1.4102     0.3444     4.0943     0.0000      0.7349      2.0854\n",
       "C(year)[T.1976.0]     1.4162     0.3482     4.0671     0.0000      0.7336      2.0989\n",
       "C(year)[T.1977.0]     1.3548     0.3498     3.8733     0.0001      0.6691      2.0405\n",
       "C(year)[T.1978.0]     1.3819     0.3499     3.9491     0.0001      0.6959      2.0680\n",
       "C(year)[T.1979.0]     1.3713     0.3524     3.8917     0.0001      0.6805      2.0622\n",
       "C(year)[T.1980.0]     1.4307     0.3514     4.0712     0.0000      0.7417      2.1196\n",
       "C(year)[T.1981.0]     1.4295     0.3486     4.1008     0.0000      0.7461      2.1129\n",
       "C(year)[T.1982.0]     1.4342     0.3440     4.1695     0.0000      0.7598      2.1085\n",
       "C(year)[T.1983.0]     1.4651     0.3420     4.2835     0.0000      0.7946      2.1356\n",
       "C(year)[T.1984.0]     1.4769     0.3357     4.3989     0.0000      0.8187      2.1351\n",
       "C(year)[T.1985.0]     1.4301     0.3388     4.2216     0.0000      0.7660      2.0942\n",
       "C(year)[T.1986.0]     1.4828     0.3368     4.4021     0.0000      0.8224      2.1432\n",
       "C(year)[T.1987.0]     1.5257     0.3375     4.5207     0.0000      0.8640      2.1873\n",
       "C(year)[T.1988.0]     1.6090     0.3380     4.7603     0.0000      0.9464      2.2717\n",
       "C(year)[T.1989.0]     1.6365     0.3397     4.8175     0.0000      0.9705      2.3025\n",
       "C(year)[T.1990.0]     1.7115     0.3417     5.0089     0.0000      1.0416      2.3814\n",
       "C(year)[T.1991.0]     1.7947     0.3411     5.2618     0.0000      1.1260      2.4633\n",
       "C(year)[T.1992.0]     1.8508     0.3444     5.3737     0.0000      1.1756      2.5260\n",
       "C(year)[T.1993.0]     1.9237     0.3408     5.6443     0.0000      1.2555      2.5919\n",
       "C(year)[T.1994.0]     1.9925     0.3411     5.8412     0.0000      1.3238      2.6613\n",
       "C(year)[T.1995.0]     2.0554     0.3459     5.9418     0.0000      1.3773      2.7336\n",
       "C(year)[T.1996.0]     2.0935     0.3450     6.0674     0.0000      1.4170      2.7699\n",
       "C(year)[T.1997.0]     2.1313     0.3416     6.2390     0.0000      1.4616      2.8010\n",
       "C(year)[T.1998.0]     2.2098     0.3418     6.4662     0.0000      1.5398      2.8798\n",
       "C(year)[T.1999.0]     2.2901     0.3451     6.6354     0.0000      1.6134      2.9667\n",
       "C(year)[T.2000.0]     2.3820     0.3451     6.9014     0.0000      1.7053      3.0586\n",
       "C(year)[T.2001.0]     2.3655     0.3441     6.8736     0.0000      1.6908      3.0402\n",
       "C(year)[T.2002.0]     2.4263     0.3424     7.0853     0.0000      1.7550      3.0977\n",
       "C(year)[T.2003.0]     2.4288     0.3443     7.0543     0.0000      1.7538      3.1039\n",
       "C(year)[T.2004.0]     2.4385     0.3483     7.0018     0.0000      1.7557      3.1213\n",
       "C(year)[T.2005.0]     2.4920     0.3477     7.1668     0.0000      1.8103      3.1737\n",
       "C(year)[T.2006.0]     2.5379     0.3447     7.3625     0.0000      1.8621      3.2137\n",
       "C(year)[T.2007.0]     2.5278     0.3474     7.2763     0.0000      1.8468      3.2089\n",
       "C(year)[T.2008.0]     2.4704     0.3459     7.1421     0.0000      1.7923      3.1485\n",
       "C(year)[T.2009.0]     2.5159     0.3447     7.2997     0.0000      1.8402      3.1915\n",
       "C(year)[T.2010.0]     2.5939     0.3450     7.5188     0.0000      1.9175      3.2702\n",
       "C(year)[T.2011.0]     2.5152     0.3514     7.1571     0.0000      1.8263      3.2042\n",
       "C(year)[T.2012.0]     2.5724     0.3458     7.4386     0.0000      1.8945      3.2504\n",
       "C(year)[T.2013.0]     2.5425     0.3462     7.3440     0.0000      1.8638      3.2212\n",
       "C(year)[T.2014.0]     2.5914     0.3483     7.4393     0.0000      1.9085      3.2743\n",
       "C(year)[T.2015.0]     2.5638     0.3509     7.3062     0.0000      1.8758      3.2517\n",
       "=====================================================================================\n",
       "\n",
       "\n",
       "\"\"\""
      ]
     },
     "execution_count": 816,
     "metadata": {},
     "output_type": "execute_result"
    }
   ],
   "source": [
    "model2 = PanelOLS.from_formula(formula=formula2, data=df_filtered, check_rank=False).fit(cov_type='clustered', cluster_entity=True)\n",
    "\n",
    "model2.summary"
   ]
  },
  {
   "cell_type": "code",
   "execution_count": 817,
   "metadata": {},
   "outputs": [
    {
     "name": "stderr",
     "output_type": "stream",
     "text": [
      "C:\\Users\\guian\\AppData\\Local\\Temp\\ipykernel_28260\\435006430.py:3: SettingWithCopyWarning:\n",
      "\n",
      "\n",
      "A value is trying to be set on a copy of a slice from a DataFrame.\n",
      "Try using .loc[row_indexer,col_indexer] = value instead\n",
      "\n",
      "See the caveats in the documentation: https://pandas.pydata.org/pandas-docs/stable/user_guide/indexing.html#returning-a-view-versus-a-copy\n",
      "\n"
     ]
    },
    {
     "data": {
      "text/plain": [
       "countrycode  year  \n",
       "Albania      1990.0    0.165223\n",
       "             1991.0    0.566752\n",
       "             1992.0    0.888981\n",
       "             1993.0    0.393817\n",
       "             1994.0   -0.110811\n",
       "                         ...   \n",
       "Zimbabwe     2011.0   -1.152028\n",
       "             2012.0   -0.823201\n",
       "             2013.0   -0.802397\n",
       "             2014.0   -0.170499\n",
       "             2015.0    0.334457\n",
       "Name: res2, Length: 4699, dtype: float64"
      ]
     },
     "execution_count": 817,
     "metadata": {},
     "output_type": "execute_result"
    }
   ],
   "source": [
    "reg2 = model2\n",
    "\n",
    "df_filtered['res2'] = model2.resids\n",
    "df_filtered['res2']"
   ]
  },
  {
   "cell_type": "markdown",
   "metadata": {},
   "source": [
    "## Regressão 3"
   ]
  },
  {
   "cell_type": "markdown",
   "metadata": {},
   "source": [
    "#### Robusto"
   ]
  },
  {
   "cell_type": "code",
   "execution_count": 818,
   "metadata": {},
   "outputs": [
    {
     "name": "stderr",
     "output_type": "stream",
     "text": [
      "C:\\Users\\guian\\AppData\\Local\\Temp\\ipykernel_28260\\955576998.py:6: SettingWithCopyWarning:\n",
      "\n",
      "\n",
      "A value is trying to be set on a copy of a slice from a DataFrame\n",
      "\n",
      "See the caveats in the documentation: https://pandas.pydata.org/pandas-docs/stable/user_guide/indexing.html#returning-a-view-versus-a-copy\n",
      "\n"
     ]
    },
    {
     "name": "stdout",
     "output_type": "stream",
     "text": [
      "efw_index_1 ~ l_index25a + l_netoda_gdp_cons + l_resource_rent + l_lngdp + l_gdpg + l_warDummy + l_christian_int + min_legor_uk + l_legor_fr + C(year)\n"
     ]
    },
    {
     "data": {
      "text/html": [
       "<table class=\"simpletable\">\n",
       "<caption>PanelOLS Estimation Summary</caption>\n",
       "<tr>\n",
       "  <th>Dep. Variable:</th>       <td>efw_index_1</td>   <th>  R-squared:         </th>     <td>0.7298</td>  \n",
       "</tr>\n",
       "<tr>\n",
       "  <th>Estimator:</th>            <td>PanelOLS</td>     <th>  R-squared (Between):</th>    <td>0.7712</td>  \n",
       "</tr>\n",
       "<tr>\n",
       "  <th>No. Observations:</th>       <td>2534</td>       <th>  R-squared (Within):</th>     <td>0.5701</td>  \n",
       "</tr>\n",
       "<tr>\n",
       "  <th>Date:</th>             <td>Sat, Jun 22 2024</td> <th>  R-squared (Overall):</th>    <td>0.7298</td>  \n",
       "</tr>\n",
       "<tr>\n",
       "  <th>Time:</th>                 <td>15:41:38</td>     <th>  Log-likelihood     </th>     <td>-2312.1</td> \n",
       "</tr>\n",
       "<tr>\n",
       "  <th>Cov. Estimator:</th>        <td>Robust</td>      <th>                     </th>        <td></td>     \n",
       "</tr>\n",
       "<tr>\n",
       "  <th></th>                          <td></td>         <th>  F-statistic:       </th>     <td>233.16</td>  \n",
       "</tr>\n",
       "<tr>\n",
       "  <th>Entities:</th>                <td>144</td>       <th>  P-value            </th>     <td>0.0000</td>  \n",
       "</tr>\n",
       "<tr>\n",
       "  <th>Avg Obs:</th>               <td>17.597</td>      <th>  Distribution:      </th>   <td>F(29,2504)</td>\n",
       "</tr>\n",
       "<tr>\n",
       "  <th>Min Obs:</th>               <td>3.0000</td>      <th>                     </th>        <td></td>     \n",
       "</tr>\n",
       "<tr>\n",
       "  <th>Max Obs:</th>               <td>21.000</td>      <th>  F-statistic (robust):</th>  <td>1.397e+04</td>\n",
       "</tr>\n",
       "<tr>\n",
       "  <th></th>                          <td></td>         <th>  P-value            </th>     <td>0.0000</td>  \n",
       "</tr>\n",
       "<tr>\n",
       "  <th>Time periods:</th>            <td>21</td>        <th>  Distribution:      </th>   <td>F(29,2504)</td>\n",
       "</tr>\n",
       "<tr>\n",
       "  <th>Avg Obs:</th>               <td>120.67</td>      <th>                     </th>        <td></td>     \n",
       "</tr>\n",
       "<tr>\n",
       "  <th>Min Obs:</th>               <td>79.000</td>      <th>                     </th>        <td></td>     \n",
       "</tr>\n",
       "<tr>\n",
       "  <th>Max Obs:</th>               <td>144.00</td>      <th>                     </th>        <td></td>     \n",
       "</tr>\n",
       "<tr>\n",
       "  <th></th>                          <td></td>         <th>                     </th>        <td></td>     \n",
       "</tr>\n",
       "</table>\n",
       "<table class=\"simpletable\">\n",
       "<caption>Parameter Estimates</caption>\n",
       "<tr>\n",
       "          <td></td>          <th>Parameter</th> <th>Std. Err.</th> <th>T-stat</th>  <th>P-value</th> <th>Lower CI</th> <th>Upper CI</th>\n",
       "</tr>\n",
       "<tr>\n",
       "  <th>l_index25a</th>         <td>0.0238</td>    <td>0.0033</td>   <td>7.3312</td>  <td>0.0000</td>   <td>0.0175</td>   <td>0.0302</td> \n",
       "</tr>\n",
       "<tr>\n",
       "  <th>l_netoda_gdp_cons</th>  <td>0.0209</td>    <td>0.0040</td>   <td>5.2649</td>  <td>0.0000</td>   <td>0.0131</td>   <td>0.0287</td> \n",
       "</tr>\n",
       "<tr>\n",
       "  <th>l_resource_rent</th>    <td>-0.0282</td>   <td>0.0017</td>   <td>-16.299</td> <td>0.0000</td>   <td>-0.0316</td>  <td>-0.0248</td>\n",
       "</tr>\n",
       "<tr>\n",
       "  <th>l_lngdp</th>            <td>0.4758</td>    <td>0.0144</td>   <td>32.934</td>  <td>0.0000</td>   <td>0.4474</td>   <td>0.5041</td> \n",
       "</tr>\n",
       "<tr>\n",
       "  <th>l_gdpg</th>             <td>0.0208</td>    <td>0.0046</td>   <td>4.5417</td>  <td>0.0000</td>   <td>0.0118</td>   <td>0.0298</td> \n",
       "</tr>\n",
       "<tr>\n",
       "  <th>l_warDummy</th>         <td>-0.1954</td>   <td>0.0484</td>   <td>-4.0397</td> <td>0.0001</td>   <td>-0.2902</td>  <td>-0.1006</td>\n",
       "</tr>\n",
       "<tr>\n",
       "  <th>l_christian_int</th>    <td>0.0292</td>    <td>0.0304</td>   <td>0.9587</td>  <td>0.3378</td>   <td>-0.0305</td>  <td>0.0889</td> \n",
       "</tr>\n",
       "<tr>\n",
       "  <th>min_legor_uk</th>       <td>0.1249</td>    <td>0.0420</td>   <td>2.9751</td>  <td>0.0030</td>   <td>0.0426</td>   <td>0.2073</td> \n",
       "</tr>\n",
       "<tr>\n",
       "  <th>l_legor_fr</th>         <td>-0.0403</td>   <td>0.0400</td>   <td>-1.0077</td> <td>0.3137</td>   <td>-0.1187</td>  <td>0.0381</td> \n",
       "</tr>\n",
       "<tr>\n",
       "  <th>C(year)[T.1975.0]</th>  <td>1.4874</td>    <td>0.1656</td>   <td>8.9831</td>  <td>0.0000</td>   <td>1.1627</td>   <td>1.8121</td> \n",
       "</tr>\n",
       "<tr>\n",
       "  <th>C(year)[T.1980.0]</th>  <td>1.5380</td>    <td>0.1708</td>   <td>9.0071</td>  <td>0.0000</td>   <td>1.2032</td>   <td>1.8729</td> \n",
       "</tr>\n",
       "<tr>\n",
       "  <th>C(year)[T.1985.0]</th>  <td>1.5188</td>    <td>0.1725</td>   <td>8.8026</td>  <td>0.0000</td>   <td>1.1804</td>   <td>1.8571</td> \n",
       "</tr>\n",
       "<tr>\n",
       "  <th>C(year)[T.1990.0]</th>  <td>1.8263</td>    <td>0.1654</td>   <td>11.040</td>  <td>0.0000</td>   <td>1.5019</td>   <td>2.1507</td> \n",
       "</tr>\n",
       "<tr>\n",
       "  <th>C(year)[T.1995.0]</th>  <td>2.2197</td>    <td>0.1606</td>   <td>13.821</td>  <td>0.0000</td>   <td>1.9048</td>   <td>2.5347</td> \n",
       "</tr>\n",
       "<tr>\n",
       "  <th>C(year)[T.2000.0]</th>  <td>2.5839</td>    <td>0.1526</td>   <td>16.936</td>  <td>0.0000</td>   <td>2.2847</td>   <td>2.8831</td> \n",
       "</tr>\n",
       "<tr>\n",
       "  <th>C(year)[T.2001.0]</th>  <td>2.5862</td>    <td>0.1534</td>   <td>16.864</td>  <td>0.0000</td>   <td>2.2855</td>   <td>2.8870</td> \n",
       "</tr>\n",
       "<tr>\n",
       "  <th>C(year)[T.2002.0]</th>  <td>2.6489</td>    <td>0.1552</td>   <td>17.069</td>  <td>0.0000</td>   <td>2.3446</td>   <td>2.9532</td> \n",
       "</tr>\n",
       "<tr>\n",
       "  <th>C(year)[T.2003.0]</th>  <td>2.6566</td>    <td>0.1553</td>   <td>17.101</td>  <td>0.0000</td>   <td>2.3520</td>   <td>2.9612</td> \n",
       "</tr>\n",
       "<tr>\n",
       "  <th>C(year)[T.2004.0]</th>  <td>2.6761</td>    <td>0.1582</td>   <td>16.915</td>  <td>0.0000</td>   <td>2.3659</td>   <td>2.9864</td> \n",
       "</tr>\n",
       "<tr>\n",
       "  <th>C(year)[T.2005.0]</th>  <td>2.7302</td>    <td>0.1584</td>   <td>17.238</td>  <td>0.0000</td>   <td>2.4197</td>   <td>3.0408</td> \n",
       "</tr>\n",
       "<tr>\n",
       "  <th>C(year)[T.2006.0]</th>  <td>2.7884</td>    <td>0.1565</td>   <td>17.820</td>  <td>0.0000</td>   <td>2.4816</td>   <td>3.0953</td> \n",
       "</tr>\n",
       "<tr>\n",
       "  <th>C(year)[T.2007.0]</th>  <td>2.7883</td>    <td>0.1593</td>   <td>17.502</td>  <td>0.0000</td>   <td>2.4759</td>   <td>3.1007</td> \n",
       "</tr>\n",
       "<tr>\n",
       "  <th>C(year)[T.2008.0]</th>  <td>2.7355</td>    <td>0.1557</td>   <td>17.567</td>  <td>0.0000</td>   <td>2.4301</td>   <td>3.0408</td> \n",
       "</tr>\n",
       "<tr>\n",
       "  <th>C(year)[T.2009.0]</th>  <td>2.7930</td>    <td>0.1523</td>   <td>18.341</td>  <td>0.0000</td>   <td>2.4944</td>   <td>3.0916</td> \n",
       "</tr>\n",
       "<tr>\n",
       "  <th>C(year)[T.2010.0]</th>  <td>2.8577</td>    <td>0.1509</td>   <td>18.943</td>  <td>0.0000</td>   <td>2.5619</td>   <td>3.1535</td> \n",
       "</tr>\n",
       "<tr>\n",
       "  <th>C(year)[T.2011.0]</th>  <td>2.7798</td>    <td>0.1575</td>   <td>17.653</td>  <td>0.0000</td>   <td>2.4710</td>   <td>3.0886</td> \n",
       "</tr>\n",
       "<tr>\n",
       "  <th>C(year)[T.2012.0]</th>  <td>2.8527</td>    <td>0.1527</td>   <td>18.677</td>  <td>0.0000</td>   <td>2.5532</td>   <td>3.1522</td> \n",
       "</tr>\n",
       "<tr>\n",
       "  <th>C(year)[T.2013.0]</th>  <td>2.8170</td>    <td>0.1497</td>   <td>18.820</td>  <td>0.0000</td>   <td>2.5235</td>   <td>3.1105</td> \n",
       "</tr>\n",
       "<tr>\n",
       "  <th>C(year)[T.2014.0]</th>  <td>2.8621</td>    <td>0.1530</td>   <td>18.705</td>  <td>0.0000</td>   <td>2.5620</td>   <td>3.1621</td> \n",
       "</tr>\n",
       "<tr>\n",
       "  <th>C(year)[T.2015.0]</th>  <td>2.8277</td>    <td>0.1548</td>   <td>18.265</td>  <td>0.0000</td>   <td>2.5241</td>   <td>3.1313</td> \n",
       "</tr>\n",
       "</table><br/><br/>"
      ],
      "text/plain": [
       "<class 'linearmodels.compat.statsmodels.Summary'>\n",
       "\"\"\"\n",
       "                          PanelOLS Estimation Summary                           \n",
       "================================================================================\n",
       "Dep. Variable:            efw_index_1   R-squared:                        0.7298\n",
       "Estimator:                   PanelOLS   R-squared (Between):              0.7712\n",
       "No. Observations:                2534   R-squared (Within):               0.5701\n",
       "Date:                Sat, Jun 22 2024   R-squared (Overall):              0.7298\n",
       "Time:                        15:41:38   Log-likelihood                   -2312.1\n",
       "Cov. Estimator:                Robust                                           \n",
       "                                        F-statistic:                      233.16\n",
       "Entities:                         144   P-value                           0.0000\n",
       "Avg Obs:                       17.597   Distribution:                 F(29,2504)\n",
       "Min Obs:                       3.0000                                           \n",
       "Max Obs:                       21.000   F-statistic (robust):          1.397e+04\n",
       "                                        P-value                           0.0000\n",
       "Time periods:                      21   Distribution:                 F(29,2504)\n",
       "Avg Obs:                       120.67                                           \n",
       "Min Obs:                       79.000                                           \n",
       "Max Obs:                       144.00                                           \n",
       "                                                                                \n",
       "                                 Parameter Estimates                                 \n",
       "=====================================================================================\n",
       "                   Parameter  Std. Err.     T-stat    P-value    Lower CI    Upper CI\n",
       "-------------------------------------------------------------------------------------\n",
       "l_index25a            0.0238     0.0033     7.3312     0.0000      0.0175      0.0302\n",
       "l_netoda_gdp_cons     0.0209     0.0040     5.2649     0.0000      0.0131      0.0287\n",
       "l_resource_rent      -0.0282     0.0017    -16.299     0.0000     -0.0316     -0.0248\n",
       "l_lngdp               0.4758     0.0144     32.934     0.0000      0.4474      0.5041\n",
       "l_gdpg                0.0208     0.0046     4.5417     0.0000      0.0118      0.0298\n",
       "l_warDummy           -0.1954     0.0484    -4.0397     0.0001     -0.2902     -0.1006\n",
       "l_christian_int       0.0292     0.0304     0.9587     0.3378     -0.0305      0.0889\n",
       "min_legor_uk          0.1249     0.0420     2.9751     0.0030      0.0426      0.2073\n",
       "l_legor_fr           -0.0403     0.0400    -1.0077     0.3137     -0.1187      0.0381\n",
       "C(year)[T.1975.0]     1.4874     0.1656     8.9831     0.0000      1.1627      1.8121\n",
       "C(year)[T.1980.0]     1.5380     0.1708     9.0071     0.0000      1.2032      1.8729\n",
       "C(year)[T.1985.0]     1.5188     0.1725     8.8026     0.0000      1.1804      1.8571\n",
       "C(year)[T.1990.0]     1.8263     0.1654     11.040     0.0000      1.5019      2.1507\n",
       "C(year)[T.1995.0]     2.2197     0.1606     13.821     0.0000      1.9048      2.5347\n",
       "C(year)[T.2000.0]     2.5839     0.1526     16.936     0.0000      2.2847      2.8831\n",
       "C(year)[T.2001.0]     2.5862     0.1534     16.864     0.0000      2.2855      2.8870\n",
       "C(year)[T.2002.0]     2.6489     0.1552     17.069     0.0000      2.3446      2.9532\n",
       "C(year)[T.2003.0]     2.6566     0.1553     17.101     0.0000      2.3520      2.9612\n",
       "C(year)[T.2004.0]     2.6761     0.1582     16.915     0.0000      2.3659      2.9864\n",
       "C(year)[T.2005.0]     2.7302     0.1584     17.238     0.0000      2.4197      3.0408\n",
       "C(year)[T.2006.0]     2.7884     0.1565     17.820     0.0000      2.4816      3.0953\n",
       "C(year)[T.2007.0]     2.7883     0.1593     17.502     0.0000      2.4759      3.1007\n",
       "C(year)[T.2008.0]     2.7355     0.1557     17.567     0.0000      2.4301      3.0408\n",
       "C(year)[T.2009.0]     2.7930     0.1523     18.341     0.0000      2.4944      3.0916\n",
       "C(year)[T.2010.0]     2.8577     0.1509     18.943     0.0000      2.5619      3.1535\n",
       "C(year)[T.2011.0]     2.7798     0.1575     17.653     0.0000      2.4710      3.0886\n",
       "C(year)[T.2012.0]     2.8527     0.1527     18.677     0.0000      2.5532      3.1522\n",
       "C(year)[T.2013.0]     2.8170     0.1497     18.820     0.0000      2.5235      3.1105\n",
       "C(year)[T.2014.0]     2.8621     0.1530     18.705     0.0000      2.5620      3.1621\n",
       "C(year)[T.2015.0]     2.8277     0.1548     18.265     0.0000      2.5241      3.1313\n",
       "=====================================================================================\n",
       "\n",
       "\n",
       "\"\"\""
      ]
     },
     "execution_count": 818,
     "metadata": {},
     "output_type": "execute_result"
    }
   ],
   "source": [
    "formula3 = \"efw_index_1 ~ l_index25a + l_netoda_gdp_cons + l_resource_rent + l_lngdp + l_gdpg + l_warDummy + l_christian_int + min_legor_uk + l_legor_fr + C(year)\"\n",
    "\n",
    "# Exibe a nova fórmula\n",
    "print(formula3)\n",
    "\n",
    "df_filtered.dropna(subset=['efw_index_1'], inplace=True)\n",
    "\n",
    "model3 = PanelOLS.from_formula(formula=formula3, data=df_filtered, check_rank=False).fit(cov_type='robust')\n",
    "\n",
    "model3.summary"
   ]
  },
  {
   "cell_type": "markdown",
   "metadata": {},
   "source": [
    "#### Clusters"
   ]
  },
  {
   "cell_type": "code",
   "execution_count": 819,
   "metadata": {},
   "outputs": [
    {
     "name": "stderr",
     "output_type": "stream",
     "text": [
      "C:\\Users\\guian\\AppData\\Local\\Temp\\ipykernel_28260\\563758147.py:1: SettingWithCopyWarning:\n",
      "\n",
      "\n",
      "A value is trying to be set on a copy of a slice from a DataFrame\n",
      "\n",
      "See the caveats in the documentation: https://pandas.pydata.org/pandas-docs/stable/user_guide/indexing.html#returning-a-view-versus-a-copy\n",
      "\n"
     ]
    },
    {
     "data": {
      "text/html": [
       "<table class=\"simpletable\">\n",
       "<caption>PanelOLS Estimation Summary</caption>\n",
       "<tr>\n",
       "  <th>Dep. Variable:</th>       <td>efw_index_1</td>   <th>  R-squared:         </th>     <td>0.7298</td>  \n",
       "</tr>\n",
       "<tr>\n",
       "  <th>Estimator:</th>            <td>PanelOLS</td>     <th>  R-squared (Between):</th>    <td>0.7712</td>  \n",
       "</tr>\n",
       "<tr>\n",
       "  <th>No. Observations:</th>       <td>2534</td>       <th>  R-squared (Within):</th>     <td>0.5701</td>  \n",
       "</tr>\n",
       "<tr>\n",
       "  <th>Date:</th>             <td>Sat, Jun 22 2024</td> <th>  R-squared (Overall):</th>    <td>0.7298</td>  \n",
       "</tr>\n",
       "<tr>\n",
       "  <th>Time:</th>                 <td>15:41:38</td>     <th>  Log-likelihood     </th>     <td>-2312.1</td> \n",
       "</tr>\n",
       "<tr>\n",
       "  <th>Cov. Estimator:</th>       <td>Clustered</td>    <th>                     </th>        <td></td>     \n",
       "</tr>\n",
       "<tr>\n",
       "  <th></th>                          <td></td>         <th>  F-statistic:       </th>     <td>233.16</td>  \n",
       "</tr>\n",
       "<tr>\n",
       "  <th>Entities:</th>                <td>144</td>       <th>  P-value            </th>     <td>0.0000</td>  \n",
       "</tr>\n",
       "<tr>\n",
       "  <th>Avg Obs:</th>               <td>17.597</td>      <th>  Distribution:      </th>   <td>F(29,2504)</td>\n",
       "</tr>\n",
       "<tr>\n",
       "  <th>Min Obs:</th>               <td>3.0000</td>      <th>                     </th>        <td></td>     \n",
       "</tr>\n",
       "<tr>\n",
       "  <th>Max Obs:</th>               <td>21.000</td>      <th>  F-statistic (robust):</th>   <td>1610.7</td>  \n",
       "</tr>\n",
       "<tr>\n",
       "  <th></th>                          <td></td>         <th>  P-value            </th>     <td>0.0000</td>  \n",
       "</tr>\n",
       "<tr>\n",
       "  <th>Time periods:</th>            <td>21</td>        <th>  Distribution:      </th>   <td>F(29,2504)</td>\n",
       "</tr>\n",
       "<tr>\n",
       "  <th>Avg Obs:</th>               <td>120.67</td>      <th>                     </th>        <td></td>     \n",
       "</tr>\n",
       "<tr>\n",
       "  <th>Min Obs:</th>               <td>79.000</td>      <th>                     </th>        <td></td>     \n",
       "</tr>\n",
       "<tr>\n",
       "  <th>Max Obs:</th>               <td>144.00</td>      <th>                     </th>        <td></td>     \n",
       "</tr>\n",
       "<tr>\n",
       "  <th></th>                          <td></td>         <th>                     </th>        <td></td>     \n",
       "</tr>\n",
       "</table>\n",
       "<table class=\"simpletable\">\n",
       "<caption>Parameter Estimates</caption>\n",
       "<tr>\n",
       "          <td></td>          <th>Parameter</th> <th>Std. Err.</th> <th>T-stat</th>  <th>P-value</th> <th>Lower CI</th> <th>Upper CI</th>\n",
       "</tr>\n",
       "<tr>\n",
       "  <th>l_index25a</th>         <td>0.0238</td>    <td>0.0084</td>   <td>2.8435</td>  <td>0.0045</td>   <td>0.0074</td>   <td>0.0403</td> \n",
       "</tr>\n",
       "<tr>\n",
       "  <th>l_netoda_gdp_cons</th>  <td>0.0209</td>    <td>0.0075</td>   <td>2.8029</td>  <td>0.0051</td>   <td>0.0063</td>   <td>0.0355</td> \n",
       "</tr>\n",
       "<tr>\n",
       "  <th>l_resource_rent</th>    <td>-0.0282</td>   <td>0.0047</td>   <td>-5.9491</td> <td>0.0000</td>   <td>-0.0375</td>  <td>-0.0189</td>\n",
       "</tr>\n",
       "<tr>\n",
       "  <th>l_lngdp</th>            <td>0.4758</td>    <td>0.0382</td>   <td>12.455</td>  <td>0.0000</td>   <td>0.4009</td>   <td>0.5507</td> \n",
       "</tr>\n",
       "<tr>\n",
       "  <th>l_gdpg</th>             <td>0.0208</td>    <td>0.0056</td>   <td>3.7036</td>  <td>0.0002</td>   <td>0.0098</td>   <td>0.0318</td> \n",
       "</tr>\n",
       "<tr>\n",
       "  <th>l_warDummy</th>         <td>-0.1954</td>   <td>0.0845</td>   <td>-2.3119</td> <td>0.0209</td>   <td>-0.3611</td>  <td>-0.0297</td>\n",
       "</tr>\n",
       "<tr>\n",
       "  <th>l_christian_int</th>    <td>0.0292</td>    <td>0.0922</td>   <td>0.3166</td>  <td>0.7516</td>   <td>-0.1516</td>  <td>0.2099</td> \n",
       "</tr>\n",
       "<tr>\n",
       "  <th>min_legor_uk</th>       <td>0.1249</td>    <td>0.1240</td>   <td>1.0074</td>  <td>0.3139</td>   <td>-0.1183</td>  <td>0.3682</td> \n",
       "</tr>\n",
       "<tr>\n",
       "  <th>l_legor_fr</th>         <td>-0.0403</td>   <td>0.1188</td>   <td>-0.3394</td> <td>0.7344</td>   <td>-0.2732</td>  <td>0.1926</td> \n",
       "</tr>\n",
       "<tr>\n",
       "  <th>C(year)[T.1975.0]</th>  <td>1.4874</td>    <td>0.3560</td>   <td>4.1784</td>  <td>0.0000</td>   <td>0.7894</td>   <td>2.1854</td> \n",
       "</tr>\n",
       "<tr>\n",
       "  <th>C(year)[T.1980.0]</th>  <td>1.5380</td>    <td>0.3527</td>   <td>4.3603</td>  <td>0.0000</td>   <td>0.8463</td>   <td>2.2297</td> \n",
       "</tr>\n",
       "<tr>\n",
       "  <th>C(year)[T.1985.0]</th>  <td>1.5188</td>    <td>0.3500</td>   <td>4.3392</td>  <td>0.0000</td>   <td>0.8324</td>   <td>2.2051</td> \n",
       "</tr>\n",
       "<tr>\n",
       "  <th>C(year)[T.1990.0]</th>  <td>1.8263</td>    <td>0.3603</td>   <td>5.0690</td>  <td>0.0000</td>   <td>1.1198</td>   <td>2.5328</td> \n",
       "</tr>\n",
       "<tr>\n",
       "  <th>C(year)[T.1995.0]</th>  <td>2.2197</td>    <td>0.3677</td>   <td>6.0367</td>  <td>0.0000</td>   <td>1.4987</td>   <td>2.9408</td> \n",
       "</tr>\n",
       "<tr>\n",
       "  <th>C(year)[T.2000.0]</th>  <td>2.5839</td>    <td>0.3700</td>   <td>6.9829</td>  <td>0.0000</td>   <td>1.8583</td>   <td>3.3095</td> \n",
       "</tr>\n",
       "<tr>\n",
       "  <th>C(year)[T.2001.0]</th>  <td>2.5862</td>    <td>0.3683</td>   <td>7.0213</td>  <td>0.0000</td>   <td>1.8640</td>   <td>3.3085</td> \n",
       "</tr>\n",
       "<tr>\n",
       "  <th>C(year)[T.2002.0]</th>  <td>2.6489</td>    <td>0.3733</td>   <td>7.0968</td>  <td>0.0000</td>   <td>1.9170</td>   <td>3.3808</td> \n",
       "</tr>\n",
       "<tr>\n",
       "  <th>C(year)[T.2003.0]</th>  <td>2.6566</td>    <td>0.3732</td>   <td>7.1182</td>  <td>0.0000</td>   <td>1.9247</td>   <td>3.3884</td> \n",
       "</tr>\n",
       "<tr>\n",
       "  <th>C(year)[T.2004.0]</th>  <td>2.6761</td>    <td>0.3757</td>   <td>7.1222</td>  <td>0.0000</td>   <td>1.9393</td>   <td>3.4129</td> \n",
       "</tr>\n",
       "<tr>\n",
       "  <th>C(year)[T.2005.0]</th>  <td>2.7302</td>    <td>0.3733</td>   <td>7.3137</td>  <td>0.0000</td>   <td>1.9982</td>   <td>3.4622</td> \n",
       "</tr>\n",
       "<tr>\n",
       "  <th>C(year)[T.2006.0]</th>  <td>2.7884</td>    <td>0.3726</td>   <td>7.4843</td>  <td>0.0000</td>   <td>2.0578</td>   <td>3.5190</td> \n",
       "</tr>\n",
       "<tr>\n",
       "  <th>C(year)[T.2007.0]</th>  <td>2.7883</td>    <td>0.3755</td>   <td>7.4255</td>  <td>0.0000</td>   <td>2.0519</td>   <td>3.5246</td> \n",
       "</tr>\n",
       "<tr>\n",
       "  <th>C(year)[T.2008.0]</th>  <td>2.7355</td>    <td>0.3719</td>   <td>7.3558</td>  <td>0.0000</td>   <td>2.0063</td>   <td>3.4647</td> \n",
       "</tr>\n",
       "<tr>\n",
       "  <th>C(year)[T.2009.0]</th>  <td>2.7930</td>    <td>0.3727</td>   <td>7.4941</td>  <td>0.0000</td>   <td>2.0622</td>   <td>3.5238</td> \n",
       "</tr>\n",
       "<tr>\n",
       "  <th>C(year)[T.2010.0]</th>  <td>2.8577</td>    <td>0.3789</td>   <td>7.5423</td>  <td>0.0000</td>   <td>2.1148</td>   <td>3.6007</td> \n",
       "</tr>\n",
       "<tr>\n",
       "  <th>C(year)[T.2011.0]</th>  <td>2.7798</td>    <td>0.3784</td>   <td>7.3455</td>  <td>0.0000</td>   <td>2.0377</td>   <td>3.5218</td> \n",
       "</tr>\n",
       "<tr>\n",
       "  <th>C(year)[T.2012.0]</th>  <td>2.8527</td>    <td>0.3717</td>   <td>7.6752</td>  <td>0.0000</td>   <td>2.1239</td>   <td>3.5816</td> \n",
       "</tr>\n",
       "<tr>\n",
       "  <th>C(year)[T.2013.0]</th>  <td>2.8170</td>    <td>0.3700</td>   <td>7.6146</td>  <td>0.0000</td>   <td>2.0916</td>   <td>3.5425</td> \n",
       "</tr>\n",
       "<tr>\n",
       "  <th>C(year)[T.2014.0]</th>  <td>2.8621</td>    <td>0.3720</td>   <td>7.6944</td>  <td>0.0000</td>   <td>2.1327</td>   <td>3.5915</td> \n",
       "</tr>\n",
       "<tr>\n",
       "  <th>C(year)[T.2015.0]</th>  <td>2.8277</td>    <td>0.3746</td>   <td>7.5496</td>  <td>0.0000</td>   <td>2.0933</td>   <td>3.5622</td> \n",
       "</tr>\n",
       "</table><br/><br/>"
      ],
      "text/plain": [
       "<class 'linearmodels.compat.statsmodels.Summary'>\n",
       "\"\"\"\n",
       "                          PanelOLS Estimation Summary                           \n",
       "================================================================================\n",
       "Dep. Variable:            efw_index_1   R-squared:                        0.7298\n",
       "Estimator:                   PanelOLS   R-squared (Between):              0.7712\n",
       "No. Observations:                2534   R-squared (Within):               0.5701\n",
       "Date:                Sat, Jun 22 2024   R-squared (Overall):              0.7298\n",
       "Time:                        15:41:38   Log-likelihood                   -2312.1\n",
       "Cov. Estimator:             Clustered                                           \n",
       "                                        F-statistic:                      233.16\n",
       "Entities:                         144   P-value                           0.0000\n",
       "Avg Obs:                       17.597   Distribution:                 F(29,2504)\n",
       "Min Obs:                       3.0000                                           \n",
       "Max Obs:                       21.000   F-statistic (robust):             1610.7\n",
       "                                        P-value                           0.0000\n",
       "Time periods:                      21   Distribution:                 F(29,2504)\n",
       "Avg Obs:                       120.67                                           \n",
       "Min Obs:                       79.000                                           \n",
       "Max Obs:                       144.00                                           \n",
       "                                                                                \n",
       "                                 Parameter Estimates                                 \n",
       "=====================================================================================\n",
       "                   Parameter  Std. Err.     T-stat    P-value    Lower CI    Upper CI\n",
       "-------------------------------------------------------------------------------------\n",
       "l_index25a            0.0238     0.0084     2.8435     0.0045      0.0074      0.0403\n",
       "l_netoda_gdp_cons     0.0209     0.0075     2.8029     0.0051      0.0063      0.0355\n",
       "l_resource_rent      -0.0282     0.0047    -5.9491     0.0000     -0.0375     -0.0189\n",
       "l_lngdp               0.4758     0.0382     12.455     0.0000      0.4009      0.5507\n",
       "l_gdpg                0.0208     0.0056     3.7036     0.0002      0.0098      0.0318\n",
       "l_warDummy           -0.1954     0.0845    -2.3119     0.0209     -0.3611     -0.0297\n",
       "l_christian_int       0.0292     0.0922     0.3166     0.7516     -0.1516      0.2099\n",
       "min_legor_uk          0.1249     0.1240     1.0074     0.3139     -0.1183      0.3682\n",
       "l_legor_fr           -0.0403     0.1188    -0.3394     0.7344     -0.2732      0.1926\n",
       "C(year)[T.1975.0]     1.4874     0.3560     4.1784     0.0000      0.7894      2.1854\n",
       "C(year)[T.1980.0]     1.5380     0.3527     4.3603     0.0000      0.8463      2.2297\n",
       "C(year)[T.1985.0]     1.5188     0.3500     4.3392     0.0000      0.8324      2.2051\n",
       "C(year)[T.1990.0]     1.8263     0.3603     5.0690     0.0000      1.1198      2.5328\n",
       "C(year)[T.1995.0]     2.2197     0.3677     6.0367     0.0000      1.4987      2.9408\n",
       "C(year)[T.2000.0]     2.5839     0.3700     6.9829     0.0000      1.8583      3.3095\n",
       "C(year)[T.2001.0]     2.5862     0.3683     7.0213     0.0000      1.8640      3.3085\n",
       "C(year)[T.2002.0]     2.6489     0.3733     7.0968     0.0000      1.9170      3.3808\n",
       "C(year)[T.2003.0]     2.6566     0.3732     7.1182     0.0000      1.9247      3.3884\n",
       "C(year)[T.2004.0]     2.6761     0.3757     7.1222     0.0000      1.9393      3.4129\n",
       "C(year)[T.2005.0]     2.7302     0.3733     7.3137     0.0000      1.9982      3.4622\n",
       "C(year)[T.2006.0]     2.7884     0.3726     7.4843     0.0000      2.0578      3.5190\n",
       "C(year)[T.2007.0]     2.7883     0.3755     7.4255     0.0000      2.0519      3.5246\n",
       "C(year)[T.2008.0]     2.7355     0.3719     7.3558     0.0000      2.0063      3.4647\n",
       "C(year)[T.2009.0]     2.7930     0.3727     7.4941     0.0000      2.0622      3.5238\n",
       "C(year)[T.2010.0]     2.8577     0.3789     7.5423     0.0000      2.1148      3.6007\n",
       "C(year)[T.2011.0]     2.7798     0.3784     7.3455     0.0000      2.0377      3.5218\n",
       "C(year)[T.2012.0]     2.8527     0.3717     7.6752     0.0000      2.1239      3.5816\n",
       "C(year)[T.2013.0]     2.8170     0.3700     7.6146     0.0000      2.0916      3.5425\n",
       "C(year)[T.2014.0]     2.8621     0.3720     7.6944     0.0000      2.1327      3.5915\n",
       "C(year)[T.2015.0]     2.8277     0.3746     7.5496     0.0000      2.0933      3.5622\n",
       "=====================================================================================\n",
       "\n",
       "\n",
       "\"\"\""
      ]
     },
     "execution_count": 819,
     "metadata": {},
     "output_type": "execute_result"
    }
   ],
   "source": [
    "df_filtered.dropna(subset=['efw_index_1'], inplace=True)\n",
    "\n",
    "model3 = PanelOLS.from_formula(formula=formula3, data=df_filtered, check_rank=False).fit(cov_type='clustered', cluster_entity=True)\n",
    "\n",
    "model3.summary"
   ]
  },
  {
   "cell_type": "code",
   "execution_count": 820,
   "metadata": {},
   "outputs": [
    {
     "name": "stderr",
     "output_type": "stream",
     "text": [
      "C:\\Users\\guian\\AppData\\Local\\Temp\\ipykernel_28260\\2210724399.py:3: SettingWithCopyWarning:\n",
      "\n",
      "\n",
      "A value is trying to be set on a copy of a slice from a DataFrame.\n",
      "Try using .loc[row_indexer,col_indexer] = value instead\n",
      "\n",
      "See the caveats in the documentation: https://pandas.pydata.org/pandas-docs/stable/user_guide/indexing.html#returning-a-view-versus-a-copy\n",
      "\n"
     ]
    },
    {
     "data": {
      "text/plain": [
       "countrycode  year  \n",
       "Albania      1990.0    0.069886\n",
       "             1995.0   -0.104514\n",
       "             2000.0   -0.155949\n",
       "             2001.0    0.171942\n",
       "             2002.0    0.323138\n",
       "                         ...   \n",
       "Zimbabwe     2011.0   -1.507437\n",
       "             2012.0   -1.152911\n",
       "             2013.0   -1.123253\n",
       "             2014.0   -0.439839\n",
       "             2015.0    0.103626\n",
       "Name: res3, Length: 2534, dtype: float64"
      ]
     },
     "execution_count": 820,
     "metadata": {},
     "output_type": "execute_result"
    }
   ],
   "source": [
    "reg3 = model3\n",
    "\n",
    "df_filtered['res3'] = model3.resids\n",
    "df_filtered['res3']"
   ]
  },
  {
   "cell_type": "markdown",
   "metadata": {},
   "source": [
    "# Regressão 4"
   ]
  },
  {
   "cell_type": "code",
   "execution_count": 821,
   "metadata": {},
   "outputs": [
    {
     "name": "stdout",
     "output_type": "stream",
     "text": [
      "efw_index_1 ~ l_index125a + l_netoda_gdp_cons + l_resource_rent + l_lngdp + l_gdpg + l_warDummy + l_christian_int + min_legor_uk + l_legor_fr + C(year)\n"
     ]
    },
    {
     "data": {
      "text/html": [
       "<table class=\"simpletable\">\n",
       "<caption>PanelOLS Estimation Summary</caption>\n",
       "<tr>\n",
       "  <th>Dep. Variable:</th>       <td>efw_index_1</td>   <th>  R-squared:         </th>     <td>0.7417</td>  \n",
       "</tr>\n",
       "<tr>\n",
       "  <th>Estimator:</th>            <td>PanelOLS</td>     <th>  R-squared (Between):</th>    <td>0.7760</td>  \n",
       "</tr>\n",
       "<tr>\n",
       "  <th>No. Observations:</th>       <td>2534</td>       <th>  R-squared (Within):</th>     <td>0.6031</td>  \n",
       "</tr>\n",
       "<tr>\n",
       "  <th>Date:</th>             <td>Sat, Jun 22 2024</td> <th>  R-squared (Overall):</th>    <td>0.7417</td>  \n",
       "</tr>\n",
       "<tr>\n",
       "  <th>Time:</th>                 <td>15:41:38</td>     <th>  Log-likelihood     </th>     <td>-2255.0</td> \n",
       "</tr>\n",
       "<tr>\n",
       "  <th>Cov. Estimator:</th>       <td>Clustered</td>    <th>                     </th>        <td></td>     \n",
       "</tr>\n",
       "<tr>\n",
       "  <th></th>                          <td></td>         <th>  F-statistic:       </th>     <td>247.91</td>  \n",
       "</tr>\n",
       "<tr>\n",
       "  <th>Entities:</th>                <td>144</td>       <th>  P-value            </th>     <td>0.0000</td>  \n",
       "</tr>\n",
       "<tr>\n",
       "  <th>Avg Obs:</th>               <td>17.597</td>      <th>  Distribution:      </th>   <td>F(29,2504)</td>\n",
       "</tr>\n",
       "<tr>\n",
       "  <th>Min Obs:</th>               <td>3.0000</td>      <th>                     </th>        <td></td>     \n",
       "</tr>\n",
       "<tr>\n",
       "  <th>Max Obs:</th>               <td>21.000</td>      <th>  F-statistic (robust):</th>   <td>1663.9</td>  \n",
       "</tr>\n",
       "<tr>\n",
       "  <th></th>                          <td></td>         <th>  P-value            </th>     <td>0.0000</td>  \n",
       "</tr>\n",
       "<tr>\n",
       "  <th>Time periods:</th>            <td>21</td>        <th>  Distribution:      </th>   <td>F(29,2504)</td>\n",
       "</tr>\n",
       "<tr>\n",
       "  <th>Avg Obs:</th>               <td>120.67</td>      <th>                     </th>        <td></td>     \n",
       "</tr>\n",
       "<tr>\n",
       "  <th>Min Obs:</th>               <td>79.000</td>      <th>                     </th>        <td></td>     \n",
       "</tr>\n",
       "<tr>\n",
       "  <th>Max Obs:</th>               <td>144.00</td>      <th>                     </th>        <td></td>     \n",
       "</tr>\n",
       "<tr>\n",
       "  <th></th>                          <td></td>         <th>                     </th>        <td></td>     \n",
       "</tr>\n",
       "</table>\n",
       "<table class=\"simpletable\">\n",
       "<caption>Parameter Estimates</caption>\n",
       "<tr>\n",
       "          <td></td>          <th>Parameter</th> <th>Std. Err.</th> <th>T-stat</th>  <th>P-value</th> <th>Lower CI</th> <th>Upper CI</th>\n",
       "</tr>\n",
       "<tr>\n",
       "  <th>l_index125a</th>        <td>0.0375</td>    <td>0.0090</td>   <td>4.1806</td>  <td>0.0000</td>   <td>0.0199</td>   <td>0.0550</td> \n",
       "</tr>\n",
       "<tr>\n",
       "  <th>l_netoda_gdp_cons</th>  <td>0.0205</td>    <td>0.0074</td>   <td>2.7719</td>  <td>0.0056</td>   <td>0.0060</td>   <td>0.0351</td> \n",
       "</tr>\n",
       "<tr>\n",
       "  <th>l_resource_rent</th>    <td>-0.0240</td>   <td>0.0049</td>   <td>-4.8915</td> <td>0.0000</td>   <td>-0.0337</td>  <td>-0.0144</td>\n",
       "</tr>\n",
       "<tr>\n",
       "  <th>l_lngdp</th>            <td>0.4685</td>    <td>0.0360</td>   <td>13.002</td>  <td>0.0000</td>   <td>0.3978</td>   <td>0.5391</td> \n",
       "</tr>\n",
       "<tr>\n",
       "  <th>l_gdpg</th>             <td>0.0199</td>    <td>0.0054</td>   <td>3.7057</td>  <td>0.0002</td>   <td>0.0094</td>   <td>0.0304</td> \n",
       "</tr>\n",
       "<tr>\n",
       "  <th>l_warDummy</th>         <td>-0.1997</td>   <td>0.0842</td>   <td>-2.3721</td> <td>0.0178</td>   <td>-0.3647</td>  <td>-0.0346</td>\n",
       "</tr>\n",
       "<tr>\n",
       "  <th>l_christian_int</th>    <td>-0.0508</td>   <td>0.0974</td>   <td>-0.5221</td> <td>0.6016</td>   <td>-0.2418</td>  <td>0.1401</td> \n",
       "</tr>\n",
       "<tr>\n",
       "  <th>min_legor_uk</th>       <td>0.1766</td>    <td>0.1104</td>   <td>1.5990</td>  <td>0.1099</td>   <td>-0.0400</td>  <td>0.3931</td> \n",
       "</tr>\n",
       "<tr>\n",
       "  <th>l_legor_fr</th>         <td>-0.0195</td>   <td>0.1072</td>   <td>-0.1818</td> <td>0.8558</td>   <td>-0.2297</td>  <td>0.1908</td> \n",
       "</tr>\n",
       "<tr>\n",
       "  <th>C(year)[T.1975.0]</th>  <td>1.5568</td>    <td>0.3307</td>   <td>4.7078</td>  <td>0.0000</td>   <td>0.9083</td>   <td>2.2052</td> \n",
       "</tr>\n",
       "<tr>\n",
       "  <th>C(year)[T.1980.0]</th>  <td>1.5917</td>    <td>0.3297</td>   <td>4.8280</td>  <td>0.0000</td>   <td>0.9452</td>   <td>2.2381</td> \n",
       "</tr>\n",
       "<tr>\n",
       "  <th>C(year)[T.1985.0]</th>  <td>1.5798</td>    <td>0.3209</td>   <td>4.9238</td>  <td>0.0000</td>   <td>0.9506</td>   <td>2.2090</td> \n",
       "</tr>\n",
       "<tr>\n",
       "  <th>C(year)[T.1990.0]</th>  <td>1.8681</td>    <td>0.3281</td>   <td>5.6939</td>  <td>0.0000</td>   <td>1.2248</td>   <td>2.5115</td> \n",
       "</tr>\n",
       "<tr>\n",
       "  <th>C(year)[T.1995.0]</th>  <td>2.2224</td>    <td>0.3349</td>   <td>6.6369</td>  <td>0.0000</td>   <td>1.5658</td>   <td>2.8791</td> \n",
       "</tr>\n",
       "<tr>\n",
       "  <th>C(year)[T.2000.0]</th>  <td>2.5588</td>    <td>0.3367</td>   <td>7.5991</td>  <td>0.0000</td>   <td>1.8985</td>   <td>3.2190</td> \n",
       "</tr>\n",
       "<tr>\n",
       "  <th>C(year)[T.2001.0]</th>  <td>2.5489</td>    <td>0.3369</td>   <td>7.5658</td>  <td>0.0000</td>   <td>1.8883</td>   <td>3.2095</td> \n",
       "</tr>\n",
       "<tr>\n",
       "  <th>C(year)[T.2002.0]</th>  <td>2.6097</td>    <td>0.3397</td>   <td>7.6826</td>  <td>0.0000</td>   <td>1.9436</td>   <td>3.2758</td> \n",
       "</tr>\n",
       "<tr>\n",
       "  <th>C(year)[T.2003.0]</th>  <td>2.6128</td>    <td>0.3408</td>   <td>7.6671</td>  <td>0.0000</td>   <td>1.9446</td>   <td>3.2811</td> \n",
       "</tr>\n",
       "<tr>\n",
       "  <th>C(year)[T.2004.0]</th>  <td>2.6257</td>    <td>0.3447</td>   <td>7.6173</td>  <td>0.0000</td>   <td>1.9498</td>   <td>3.3017</td> \n",
       "</tr>\n",
       "<tr>\n",
       "  <th>C(year)[T.2005.0]</th>  <td>2.6785</td>    <td>0.3428</td>   <td>7.8145</td>  <td>0.0000</td>   <td>2.0063</td>   <td>3.3506</td> \n",
       "</tr>\n",
       "<tr>\n",
       "  <th>C(year)[T.2006.0]</th>  <td>2.7298</td>    <td>0.3419</td>   <td>7.9839</td>  <td>0.0000</td>   <td>2.0594</td>   <td>3.4003</td> \n",
       "</tr>\n",
       "<tr>\n",
       "  <th>C(year)[T.2007.0]</th>  <td>2.7232</td>    <td>0.3448</td>   <td>7.8977</td>  <td>0.0000</td>   <td>2.0471</td>   <td>3.3994</td> \n",
       "</tr>\n",
       "<tr>\n",
       "  <th>C(year)[T.2008.0]</th>  <td>2.6688</td>    <td>0.3416</td>   <td>7.8134</td>  <td>0.0000</td>   <td>1.9990</td>   <td>3.3385</td> \n",
       "</tr>\n",
       "<tr>\n",
       "  <th>C(year)[T.2009.0]</th>  <td>2.7202</td>    <td>0.3421</td>   <td>7.9506</td>  <td>0.0000</td>   <td>2.0493</td>   <td>3.3911</td> \n",
       "</tr>\n",
       "<tr>\n",
       "  <th>C(year)[T.2010.0]</th>  <td>2.7962</td>    <td>0.3458</td>   <td>8.0865</td>  <td>0.0000</td>   <td>2.1182</td>   <td>3.4743</td> \n",
       "</tr>\n",
       "<tr>\n",
       "  <th>C(year)[T.2011.0]</th>  <td>2.7168</td>    <td>0.3479</td>   <td>7.8101</td>  <td>0.0000</td>   <td>2.0347</td>   <td>3.3989</td> \n",
       "</tr>\n",
       "<tr>\n",
       "  <th>C(year)[T.2012.0]</th>  <td>2.7808</td>    <td>0.3422</td>   <td>8.1256</td>  <td>0.0000</td>   <td>2.1097</td>   <td>3.4518</td> \n",
       "</tr>\n",
       "<tr>\n",
       "  <th>C(year)[T.2013.0]</th>  <td>2.7499</td>    <td>0.3405</td>   <td>8.0768</td>  <td>0.0000</td>   <td>2.0823</td>   <td>3.4175</td> \n",
       "</tr>\n",
       "<tr>\n",
       "  <th>C(year)[T.2014.0]</th>  <td>2.7975</td>    <td>0.3421</td>   <td>8.1774</td>  <td>0.0000</td>   <td>2.1267</td>   <td>3.4683</td> \n",
       "</tr>\n",
       "<tr>\n",
       "  <th>C(year)[T.2015.0]</th>  <td>2.7675</td>    <td>0.3440</td>   <td>8.0459</td>  <td>0.0000</td>   <td>2.0931</td>   <td>3.4420</td> \n",
       "</tr>\n",
       "</table><br/><br/>"
      ],
      "text/plain": [
       "<class 'linearmodels.compat.statsmodels.Summary'>\n",
       "\"\"\"\n",
       "                          PanelOLS Estimation Summary                           \n",
       "================================================================================\n",
       "Dep. Variable:            efw_index_1   R-squared:                        0.7417\n",
       "Estimator:                   PanelOLS   R-squared (Between):              0.7760\n",
       "No. Observations:                2534   R-squared (Within):               0.6031\n",
       "Date:                Sat, Jun 22 2024   R-squared (Overall):              0.7417\n",
       "Time:                        15:41:38   Log-likelihood                   -2255.0\n",
       "Cov. Estimator:             Clustered                                           \n",
       "                                        F-statistic:                      247.91\n",
       "Entities:                         144   P-value                           0.0000\n",
       "Avg Obs:                       17.597   Distribution:                 F(29,2504)\n",
       "Min Obs:                       3.0000                                           \n",
       "Max Obs:                       21.000   F-statistic (robust):             1663.9\n",
       "                                        P-value                           0.0000\n",
       "Time periods:                      21   Distribution:                 F(29,2504)\n",
       "Avg Obs:                       120.67                                           \n",
       "Min Obs:                       79.000                                           \n",
       "Max Obs:                       144.00                                           \n",
       "                                                                                \n",
       "                                 Parameter Estimates                                 \n",
       "=====================================================================================\n",
       "                   Parameter  Std. Err.     T-stat    P-value    Lower CI    Upper CI\n",
       "-------------------------------------------------------------------------------------\n",
       "l_index125a           0.0375     0.0090     4.1806     0.0000      0.0199      0.0550\n",
       "l_netoda_gdp_cons     0.0205     0.0074     2.7719     0.0056      0.0060      0.0351\n",
       "l_resource_rent      -0.0240     0.0049    -4.8915     0.0000     -0.0337     -0.0144\n",
       "l_lngdp               0.4685     0.0360     13.002     0.0000      0.3978      0.5391\n",
       "l_gdpg                0.0199     0.0054     3.7057     0.0002      0.0094      0.0304\n",
       "l_warDummy           -0.1997     0.0842    -2.3721     0.0178     -0.3647     -0.0346\n",
       "l_christian_int      -0.0508     0.0974    -0.5221     0.6016     -0.2418      0.1401\n",
       "min_legor_uk          0.1766     0.1104     1.5990     0.1099     -0.0400      0.3931\n",
       "l_legor_fr           -0.0195     0.1072    -0.1818     0.8558     -0.2297      0.1908\n",
       "C(year)[T.1975.0]     1.5568     0.3307     4.7078     0.0000      0.9083      2.2052\n",
       "C(year)[T.1980.0]     1.5917     0.3297     4.8280     0.0000      0.9452      2.2381\n",
       "C(year)[T.1985.0]     1.5798     0.3209     4.9238     0.0000      0.9506      2.2090\n",
       "C(year)[T.1990.0]     1.8681     0.3281     5.6939     0.0000      1.2248      2.5115\n",
       "C(year)[T.1995.0]     2.2224     0.3349     6.6369     0.0000      1.5658      2.8791\n",
       "C(year)[T.2000.0]     2.5588     0.3367     7.5991     0.0000      1.8985      3.2190\n",
       "C(year)[T.2001.0]     2.5489     0.3369     7.5658     0.0000      1.8883      3.2095\n",
       "C(year)[T.2002.0]     2.6097     0.3397     7.6826     0.0000      1.9436      3.2758\n",
       "C(year)[T.2003.0]     2.6128     0.3408     7.6671     0.0000      1.9446      3.2811\n",
       "C(year)[T.2004.0]     2.6257     0.3447     7.6173     0.0000      1.9498      3.3017\n",
       "C(year)[T.2005.0]     2.6785     0.3428     7.8145     0.0000      2.0063      3.3506\n",
       "C(year)[T.2006.0]     2.7298     0.3419     7.9839     0.0000      2.0594      3.4003\n",
       "C(year)[T.2007.0]     2.7232     0.3448     7.8977     0.0000      2.0471      3.3994\n",
       "C(year)[T.2008.0]     2.6688     0.3416     7.8134     0.0000      1.9990      3.3385\n",
       "C(year)[T.2009.0]     2.7202     0.3421     7.9506     0.0000      2.0493      3.3911\n",
       "C(year)[T.2010.0]     2.7962     0.3458     8.0865     0.0000      2.1182      3.4743\n",
       "C(year)[T.2011.0]     2.7168     0.3479     7.8101     0.0000      2.0347      3.3989\n",
       "C(year)[T.2012.0]     2.7808     0.3422     8.1256     0.0000      2.1097      3.4518\n",
       "C(year)[T.2013.0]     2.7499     0.3405     8.0768     0.0000      2.0823      3.4175\n",
       "C(year)[T.2014.0]     2.7975     0.3421     8.1774     0.0000      2.1267      3.4683\n",
       "C(year)[T.2015.0]     2.7675     0.3440     8.0459     0.0000      2.0931      3.4420\n",
       "=====================================================================================\n",
       "\n",
       "\n",
       "\"\"\""
      ]
     },
     "execution_count": 821,
     "metadata": {},
     "output_type": "execute_result"
    }
   ],
   "source": [
    "formula4 = \"efw_index_1 ~ l_index125a + l_netoda_gdp_cons + l_resource_rent + l_lngdp + l_gdpg + l_warDummy + l_christian_int + min_legor_uk + l_legor_fr + C(year)\"\n",
    "\n",
    "# Exibe a nova fórmula\n",
    "print(formula4)\n",
    "\n",
    "model4 = PanelOLS.from_formula(formula=formula4, data=df_filtered, check_rank=False).fit(cov_type='clustered', cluster_entity=True)\n",
    "\n",
    "model4.summary"
   ]
  },
  {
   "cell_type": "code",
   "execution_count": 822,
   "metadata": {},
   "outputs": [
    {
     "name": "stderr",
     "output_type": "stream",
     "text": [
      "C:\\Users\\guian\\AppData\\Local\\Temp\\ipykernel_28260\\2339528180.py:3: SettingWithCopyWarning:\n",
      "\n",
      "\n",
      "A value is trying to be set on a copy of a slice from a DataFrame.\n",
      "Try using .loc[row_indexer,col_indexer] = value instead\n",
      "\n",
      "See the caveats in the documentation: https://pandas.pydata.org/pandas-docs/stable/user_guide/indexing.html#returning-a-view-versus-a-copy\n",
      "\n"
     ]
    },
    {
     "data": {
      "text/plain": [
       "countrycode  year  \n",
       "Albania      1990.0    0.156585\n",
       "             1995.0   -0.123574\n",
       "             2000.0   -0.247963\n",
       "             2001.0    0.067970\n",
       "             2002.0    0.212307\n",
       "                         ...   \n",
       "Zimbabwe     2011.0   -1.316944\n",
       "             2012.0   -0.977639\n",
       "             2013.0   -0.955923\n",
       "             2014.0   -0.305488\n",
       "             2015.0    0.209926\n",
       "Name: res4, Length: 2534, dtype: float64"
      ]
     },
     "execution_count": 822,
     "metadata": {},
     "output_type": "execute_result"
    }
   ],
   "source": [
    "reg4 = model4\n",
    "\n",
    "df_filtered['res4'] = model4.resids\n",
    "df_filtered['res4']"
   ]
  },
  {
   "cell_type": "code",
   "execution_count": 823,
   "metadata": {},
   "outputs": [
    {
     "data": {
      "text/html": [
       "<div>\n",
       "<style scoped>\n",
       "    .dataframe tbody tr th:only-of-type {\n",
       "        vertical-align: middle;\n",
       "    }\n",
       "\n",
       "    .dataframe tbody tr th {\n",
       "        vertical-align: top;\n",
       "    }\n",
       "\n",
       "    .dataframe thead th {\n",
       "        text-align: right;\n",
       "    }\n",
       "</style>\n",
       "<table border=\"1\" class=\"dataframe\">\n",
       "  <thead>\n",
       "    <tr style=\"text-align: right;\">\n",
       "      <th></th>\n",
       "      <th>Dependent variable</th>\n",
       "      <th>EFW index-interpolate (2.50%)</th>\n",
       "      <th>EFW index-interpolate (12.50%)</th>\n",
       "      <th>EFW index (2.50%)</th>\n",
       "      <th>EFW index (12.50%)</th>\n",
       "    </tr>\n",
       "  </thead>\n",
       "  <tbody>\n",
       "    <tr>\n",
       "      <th>0</th>\n",
       "      <td>Regime memory</td>\n",
       "      <td>0.043</td>\n",
       "      <td>0.045</td>\n",
       "      <td>0.024</td>\n",
       "      <td>0.037</td>\n",
       "    </tr>\n",
       "    <tr>\n",
       "      <th>1</th>\n",
       "      <td>Net ODA as % of GDP</td>\n",
       "      <td>0.020</td>\n",
       "      <td>0.020</td>\n",
       "      <td>0.021</td>\n",
       "      <td>0.021</td>\n",
       "    </tr>\n",
       "    <tr>\n",
       "      <th>2</th>\n",
       "      <td>Resource rent as % of GDP</td>\n",
       "      <td>-0.023</td>\n",
       "      <td>-0.021</td>\n",
       "      <td>-0.028</td>\n",
       "      <td>-0.024</td>\n",
       "    </tr>\n",
       "    <tr>\n",
       "      <th>3</th>\n",
       "      <td>ln(GDP per capita)</td>\n",
       "      <td>0.492</td>\n",
       "      <td>0.499</td>\n",
       "      <td>0.476</td>\n",
       "      <td>0.468</td>\n",
       "    </tr>\n",
       "    <tr>\n",
       "      <th>4</th>\n",
       "      <td>GDP Growth</td>\n",
       "      <td>0.019</td>\n",
       "      <td>0.019</td>\n",
       "      <td>0.021</td>\n",
       "      <td>0.020</td>\n",
       "    </tr>\n",
       "    <tr>\n",
       "      <th>5</th>\n",
       "      <td>War Dummy</td>\n",
       "      <td>-0.234</td>\n",
       "      <td>-0.209</td>\n",
       "      <td>-0.195</td>\n",
       "      <td>-0.200</td>\n",
       "    </tr>\n",
       "    <tr>\n",
       "      <th>6</th>\n",
       "      <td>Christian Dummy</td>\n",
       "      <td>-0.143</td>\n",
       "      <td>-0.185</td>\n",
       "      <td>0.029</td>\n",
       "      <td>-0.051</td>\n",
       "    </tr>\n",
       "    <tr>\n",
       "      <th>7</th>\n",
       "      <td>British legal origin</td>\n",
       "      <td>0.089</td>\n",
       "      <td>0.162</td>\n",
       "      <td>0.125</td>\n",
       "      <td>0.177</td>\n",
       "    </tr>\n",
       "    <tr>\n",
       "      <th>8</th>\n",
       "      <td>French legal origin</td>\n",
       "      <td>-0.065</td>\n",
       "      <td>-0.047</td>\n",
       "      <td>-0.040</td>\n",
       "      <td>-0.019</td>\n",
       "    </tr>\n",
       "    <tr>\n",
       "      <th>9</th>\n",
       "      <td>Number of observations</td>\n",
       "      <td>4697</td>\n",
       "      <td>4697</td>\n",
       "      <td>2534</td>\n",
       "      <td>2534</td>\n",
       "    </tr>\n",
       "    <tr>\n",
       "      <th>10</th>\n",
       "      <td>R2</td>\n",
       "      <td>0.732</td>\n",
       "      <td>0.738</td>\n",
       "      <td>0.730</td>\n",
       "      <td>0.742</td>\n",
       "    </tr>\n",
       "  </tbody>\n",
       "</table>\n",
       "</div>"
      ],
      "text/plain": [
       "           Dependent variable EFW index-interpolate (2.50%)   \n",
       "0               Regime memory                         0.043  \\\n",
       "1         Net ODA as % of GDP                         0.020   \n",
       "2   Resource rent as % of GDP                        -0.023   \n",
       "3          ln(GDP per capita)                         0.492   \n",
       "4                  GDP Growth                         0.019   \n",
       "5                   War Dummy                        -0.234   \n",
       "6             Christian Dummy                        -0.143   \n",
       "7        British legal origin                         0.089   \n",
       "8         French legal origin                        -0.065   \n",
       "9      Number of observations                          4697   \n",
       "10                         R2                         0.732   \n",
       "\n",
       "   EFW index-interpolate (12.50%) EFW index (2.50%) EFW index (12.50%)  \n",
       "0                           0.045             0.024              0.037  \n",
       "1                           0.020             0.021              0.021  \n",
       "2                          -0.021            -0.028             -0.024  \n",
       "3                           0.499             0.476              0.468  \n",
       "4                           0.019             0.021              0.020  \n",
       "5                          -0.209            -0.195             -0.200  \n",
       "6                          -0.185             0.029             -0.051  \n",
       "7                           0.162             0.125              0.177  \n",
       "8                          -0.047            -0.040             -0.019  \n",
       "9                            4697              2534               2534  \n",
       "10                          0.738             0.730              0.742  "
      ]
     },
     "execution_count": 823,
     "metadata": {},
     "output_type": "execute_result"
    }
   ],
   "source": [
    "# Extraindo os resultados apenas com os coeficientes\n",
    "results = {\n",
    "    'Dependent variable': [\n",
    "        'Regime memory', 'Net ODA as % of GDP', 'Resource rent as % of GDP',\n",
    "        'ln(GDP per capita)', 'GDP Growth', 'War Dummy', 'Christian Dummy',\n",
    "        'British legal origin', 'French legal origin'\n",
    "    ],\n",
    "    'EFW index-interpolate (2.50%)': [\n",
    "        f'{model1.params[\"l_index25a\"]:.3f}',\n",
    "        f'{model1.params[\"l_netoda_gdp_cons\"]:.3f}',\n",
    "        f'{model1.params[\"l_resource_rent\"]:.3f}',\n",
    "        f'{model1.params[\"l_lngdp\"]:.3f}',\n",
    "        f'{model1.params[\"l_gdpg\"]:.3f}',\n",
    "        f'{model1.params[\"l_warDummy\"]:.3f}',\n",
    "        f'{model1.params[\"l_christian_int\"]:.3f}',\n",
    "        f'{model1.params[\"min_legor_uk\"]:.3f}',\n",
    "        f'{model1.params[\"l_legor_fr\"]:.3f}'\n",
    "    ],\n",
    "    'EFW index-interpolate (12.50%)': [\n",
    "        f'{model2.params[\"l_index125a\"]:.3f}',\n",
    "        f'{model2.params[\"l_netoda_gdp_cons\"]:.3f}',\n",
    "        f'{model2.params[\"l_resource_rent\"]:.3f}',\n",
    "        f'{model2.params[\"l_lngdp\"]:.3f}',\n",
    "        f'{model2.params[\"l_gdpg\"]:.3f}',\n",
    "        f'{model2.params[\"l_warDummy\"]:.3f}',\n",
    "        f'{model2.params[\"l_christian_int\"]:.3f}',\n",
    "        f'{model2.params[\"min_legor_uk\"]:.3f}',\n",
    "        f'{model2.params[\"l_legor_fr\"]:.3f}'\n",
    "    ],\n",
    "    'EFW index (2.50%)': [\n",
    "        f'{model3.params[\"l_index25a\"]:.3f}',\n",
    "        f'{model3.params[\"l_netoda_gdp_cons\"]:.3f}',\n",
    "        f'{model3.params[\"l_resource_rent\"]:.3f}',\n",
    "        f'{model3.params[\"l_lngdp\"]:.3f}',\n",
    "        f'{model3.params[\"l_gdpg\"]:.3f}',\n",
    "        f'{model3.params[\"l_warDummy\"]:.3f}',\n",
    "        f'{model3.params[\"l_christian_int\"]:.3f}',\n",
    "        f'{model3.params[\"min_legor_uk\"]:.3f}',\n",
    "        f'{model3.params[\"l_legor_fr\"]:.3f}'\n",
    "    ],\n",
    "    'EFW index (12.50%)': [\n",
    "        f'{model4.params[\"l_index125a\"]:.3f}',\n",
    "        f'{model4.params[\"l_netoda_gdp_cons\"]:.3f}',\n",
    "        f'{model4.params[\"l_resource_rent\"]:.3f}',\n",
    "        f'{model4.params[\"l_lngdp\"]:.3f}',\n",
    "        f'{model4.params[\"l_gdpg\"]:.3f}',\n",
    "        f'{model4.params[\"l_warDummy\"]:.3f}',\n",
    "        f'{model4.params[\"l_christian_int\"]:.3f}',\n",
    "        f'{model4.params[\"min_legor_uk\"]:.3f}',\n",
    "        f'{model4.params[\"l_legor_fr\"]:.3f}'\n",
    "    ]\n",
    "}\n",
    "\n",
    "# Criando o DataFrame com os resultados\n",
    "results_df = pd.DataFrame(results)\n",
    "\n",
    "# Adicionando as linhas de estatísticas adicionais\n",
    "additional_stats = {\n",
    "    'Dependent variable': ['Number of observations', 'R2'],\n",
    "    'EFW index-interpolate (2.50%)': [\n",
    "        f'{model1.nobs}',\n",
    "        f'{model1.rsquared:.3f}'\n",
    "    ],\n",
    "    'EFW index-interpolate (12.50%)': [\n",
    "        f'{model2.nobs}',\n",
    "        f'{model2.rsquared:.3f}'\n",
    "    ],\n",
    "    'EFW index (2.50%)': [\n",
    "        f'{model3.nobs}',\n",
    "        f'{model3.rsquared:.3f}'\n",
    "    ],\n",
    "    'EFW index (12.50%)': [\n",
    "        f'{model4.nobs}',\n",
    "        f'{model4.rsquared:.3f}'\n",
    "    ]\n",
    "}\n",
    "\n",
    "additional_stats_df = pd.DataFrame(additional_stats)\n",
    "final_df = pd.concat([results_df, additional_stats_df], ignore_index=True)\n",
    "\n",
    "final_df"
   ]
  },
  {
   "cell_type": "code",
   "execution_count": 824,
   "metadata": {},
   "outputs": [
    {
     "name": "stdout",
     "output_type": "stream",
     "text": [
      "\\begin{table}\n",
      "\\caption{Main results.}\n",
      "\\label{tab:main_results}\n",
      "\\resizebox{\\textwidth}{!}{\\begin{tabular}{lcccc}\n",
      "\\toprule\n",
      "Dependent variable & EFW index-interpolate (2.50%) & EFW index-interpolate (12.50%) & EFW index (2.50%) & EFW index (12.50%) \\\\\n",
      "\\midrule\n",
      "Regime memory & 0.043 & 0.045 & 0.024 & 0.037 \\\\\n",
      "Net ODA as % of GDP & 0.020 & 0.020 & 0.021 & 0.021 \\\\\n",
      "Resource rent as % of GDP & -0.023 & -0.021 & -0.028 & -0.024 \\\\\n",
      "ln(GDP per capita) & 0.492 & 0.499 & 0.476 & 0.468 \\\\\n",
      "GDP Growth & 0.019 & 0.019 & 0.021 & 0.020 \\\\\n",
      "War Dummy & -0.234 & -0.209 & -0.195 & -0.200 \\\\\n",
      "Christian Dummy & -0.143 & -0.185 & 0.029 & -0.051 \\\\\n",
      "British legal origin & 0.089 & 0.162 & 0.125 & 0.177 \\\\\n",
      "French legal origin & -0.065 & -0.047 & -0.040 & -0.019 \\\\\n",
      "Number of observations & 4697 & 4697 & 2534 & 2534 \\\\\n",
      "R2 & 0.732 & 0.738 & 0.730 & 0.742 \\\\\n",
      "\\bottomrule\n",
      "\\end{tabular}}\n",
      "\\end{table}\n",
      "\n"
     ]
    }
   ],
   "source": [
    "# Convertendo o DataFrame para LaTeX\n",
    "latex_table = final_df.to_latex(index=False, column_format='lcccc', caption='Main results.', label='tab:main_results', escape=False)\n",
    "\n",
    "# Ajustando a largura da tabela com resizebox\n",
    "latex_table = latex_table.replace('\\\\begin{tabular}', '\\\\resizebox{\\\\textwidth}{!}{\\\\begin{tabular}')\n",
    "latex_table = latex_table.replace('\\\\end{tabular}', '\\\\end{tabular}}')\n",
    "\n",
    "print(latex_table)"
   ]
  },
  {
   "cell_type": "markdown",
   "metadata": {},
   "source": [
    "# Tabela 4 - Controles adicionais - Coup e Gini"
   ]
  },
  {
   "cell_type": "code",
   "execution_count": 825,
   "metadata": {},
   "outputs": [
    {
     "name": "stderr",
     "output_type": "stream",
     "text": [
      "c:\\Users\\guian\\AppData\\Local\\Programs\\Python\\Python311\\Lib\\site-packages\\linearmodels\\panel\\model.py:1214: MissingValueWarning:\n",
      "\n",
      "\n",
      "Inputs contain missing values. Dropping rows with missing observations.\n",
      "\n"
     ]
    },
    {
     "name": "stdout",
     "output_type": "stream",
     "text": [
      "efw_index_1_int ~ l_index25a + l_netoda_gdp_cons + l_resource_rent + l_lngdp + l_gdpg + l_warDummy + l_christian_int + min_legor_uk + l_legor_fr + l_coup + C(year)\n",
      "                          PanelOLS Estimation Summary                           \n",
      "================================================================================\n",
      "Dep. Variable:        efw_index_1_int   R-squared:                        0.7267\n",
      "Estimator:                   PanelOLS   R-squared (Between):              0.7603\n",
      "No. Observations:                4477   R-squared (Within):               0.6037\n",
      "Date:                Sat, Jun 22 2024   R-squared (Overall):              0.7267\n",
      "Time:                        15:41:38   Log-likelihood                   -4631.9\n",
      "Cov. Estimator:             Clustered                                           \n",
      "                                        F-statistic:                      217.72\n",
      "Entities:                         136   P-value                           0.0000\n",
      "Avg Obs:                       32.919   Distribution:                 F(54,4422)\n",
      "Min Obs:                       3.0000                                           \n",
      "Max Obs:                       45.000   F-statistic (robust):             1335.7\n",
      "                                        P-value                           0.0000\n",
      "Time periods:                      45   Distribution:                 F(54,4422)\n",
      "Avg Obs:                       99.489                                           \n",
      "Min Obs:                       61.000                                           \n",
      "Max Obs:                       136.00                                           \n",
      "                                                                                \n",
      "                                 Parameter Estimates                                 \n",
      "=====================================================================================\n",
      "                   Parameter  Std. Err.     T-stat    P-value    Lower CI    Upper CI\n",
      "-------------------------------------------------------------------------------------\n",
      "l_index25a            0.0447     0.0110     4.0705     0.0000      0.0231      0.0662\n",
      "l_netoda_gdp_cons     0.0205     0.0095     2.1564     0.0311      0.0019      0.0392\n",
      "l_resource_rent      -0.0231     0.0057    -4.0798     0.0000     -0.0342     -0.0120\n",
      "l_lngdp               0.4851     0.0480     10.104     0.0000      0.3910      0.5793\n",
      "l_gdpg                0.0195     0.0047     4.1271     0.0000      0.0102      0.0288\n",
      "l_warDummy           -0.2444     0.1017    -2.4029     0.0163     -0.4438     -0.0450\n",
      "l_christian_int      -0.1321     0.1084    -1.2192     0.2228     -0.3446      0.0803\n",
      "min_legor_uk          0.0769     0.1256     0.6127     0.5401     -0.1692      0.3231\n",
      "l_legor_fr           -0.0719     0.1002    -0.7178     0.4729     -0.2683      0.1245\n",
      "l_coup               -0.0392     0.0830    -0.4724     0.6367     -0.2019      0.1235\n",
      "C(year)[T.1971.0]     1.7169     0.4098     4.1897     0.0000      0.9135      2.5204\n",
      "C(year)[T.1972.0]     1.6506     0.4099     4.0269     0.0001      0.8470      2.4542\n",
      "C(year)[T.1973.0]     1.5815     0.4077     3.8795     0.0001      0.7823      2.3808\n",
      "C(year)[T.1974.0]     1.5422     0.4134     3.7308     0.0002      0.7318      2.3526\n",
      "C(year)[T.1975.0]     1.5424     0.4072     3.7878     0.0002      0.7441      2.3407\n",
      "C(year)[T.1976.0]     1.5448     0.4125     3.7451     0.0002      0.7361      2.3535\n",
      "C(year)[T.1977.0]     1.4820     0.4104     3.6113     0.0003      0.6774      2.2865\n",
      "C(year)[T.1978.0]     1.5119     0.4128     3.6627     0.0003      0.7026      2.3211\n",
      "C(year)[T.1979.0]     1.4944     0.4161     3.5914     0.0003      0.6786      2.3101\n",
      "C(year)[T.1980.0]     1.5606     0.4160     3.7518     0.0002      0.7451      2.3761\n",
      "C(year)[T.1981.0]     1.5695     0.4125     3.8052     0.0001      0.7609      2.3782\n",
      "C(year)[T.1982.0]     1.5753     0.4068     3.8721     0.0001      0.7777      2.3729\n",
      "C(year)[T.1983.0]     1.6174     0.4060     3.9841     0.0001      0.8215      2.4133\n",
      "C(year)[T.1984.0]     1.6259     0.4011     4.0539     0.0001      0.8396      2.4122\n",
      "C(year)[T.1985.0]     1.5871     0.4021     3.9469     0.0001      0.7988      2.3754\n",
      "C(year)[T.1986.0]     1.6361     0.4024     4.0654     0.0000      0.8471      2.4250\n",
      "C(year)[T.1987.0]     1.6847     0.4033     4.1769     0.0000      0.8940      2.4755\n",
      "C(year)[T.1988.0]     1.7766     0.4052     4.3848     0.0000      0.9823      2.5709\n",
      "C(year)[T.1989.0]     1.8062     0.4072     4.4354     0.0000      1.0078      2.6046\n",
      "C(year)[T.1990.0]     1.8917     0.4122     4.5888     0.0000      1.0835      2.6999\n",
      "C(year)[T.1991.0]     1.9776     0.4122     4.7983     0.0000      1.1696      2.7857\n",
      "C(year)[T.1992.0]     2.0325     0.4169     4.8754     0.0000      1.2152      2.8499\n",
      "C(year)[T.1993.0]     2.1193     0.4126     5.1360     0.0000      1.3103      2.9283\n",
      "C(year)[T.1994.0]     2.1895     0.4149     5.2767     0.0000      1.3760      3.0030\n",
      "C(year)[T.1995.0]     2.2605     0.4206     5.3746     0.0000      1.4360      3.0851\n",
      "C(year)[T.1996.0]     2.3194     0.4198     5.5246     0.0000      1.4963      3.1425\n",
      "C(year)[T.1997.0]     2.3624     0.4168     5.6686     0.0000      1.5454      3.1794\n",
      "C(year)[T.1998.0]     2.4464     0.4186     5.8440     0.0000      1.6257      3.2671\n",
      "C(year)[T.1999.0]     2.5344     0.4222     6.0031     0.0000      1.7067      3.3620\n",
      "C(year)[T.2000.0]     2.6330     0.4240     6.2099     0.0000      1.8018      3.4643\n",
      "C(year)[T.2001.0]     2.6156     0.4223     6.1938     0.0000      1.7877      3.4435\n",
      "C(year)[T.2002.0]     2.6827     0.4234     6.3361     0.0000      1.8526      3.5128\n",
      "C(year)[T.2003.0]     2.6900     0.4241     6.3422     0.0000      1.8585      3.5215\n",
      "C(year)[T.2004.0]     2.7047     0.4282     6.3158     0.0000      1.8651      3.5442\n",
      "C(year)[T.2005.0]     2.7550     0.4267     6.4568     0.0000      1.9185      3.5916\n",
      "C(year)[T.2006.0]     2.8043     0.4246     6.6048     0.0000      1.9719      3.6367\n",
      "C(year)[T.2007.0]     2.7949     0.4271     6.5434     0.0000      1.9575      3.6322\n",
      "C(year)[T.2008.0]     2.7350     0.4248     6.4385     0.0000      1.9022      3.5678\n",
      "C(year)[T.2009.0]     2.7833     0.4245     6.5570     0.0000      1.9511      3.6154\n",
      "C(year)[T.2010.0]     2.8464     0.4263     6.6777     0.0000      2.0108      3.6821\n",
      "C(year)[T.2011.0]     2.7671     0.4310     6.4210     0.0000      1.9223      3.6120\n",
      "C(year)[T.2012.0]     2.8266     0.4249     6.6522     0.0000      1.9936      3.6596\n",
      "C(year)[T.2013.0]     2.7945     0.4249     6.5772     0.0000      1.9616      3.6275\n",
      "C(year)[T.2014.0]     2.8435     0.4279     6.6448     0.0000      2.0046      3.6825\n",
      "C(year)[T.2015.0]     2.8314     0.4294     6.5943     0.0000      1.9896      3.6732\n",
      "=====================================================================================\n",
      "\n",
      "\n"
     ]
    }
   ],
   "source": [
    "# Definindo a fórmula do modelo usando control2\n",
    "formula5 = \"efw_index_1_int ~ l_index25a + l_netoda_gdp_cons + l_resource_rent + l_lngdp + l_gdpg + l_warDummy + l_christian_int + min_legor_uk + l_legor_fr + l_coup + C(year)\"\n",
    "\n",
    "df_filtered1 = data[data['sample_full'] == 1]\n",
    "\n",
    "# Exibindo a fórmula\n",
    "print(formula5)\n",
    "\n",
    "model5 = PanelOLS.from_formula(formula=formula5, data=df_filtered1, check_rank=False).fit(cov_type='clustered', cluster_entity=True)\n",
    "\n",
    "# Exibindo o resumo do modelo\n",
    "print(model5.summary)\n"
   ]
  },
  {
   "cell_type": "code",
   "execution_count": 826,
   "metadata": {},
   "outputs": [
    {
     "name": "stderr",
     "output_type": "stream",
     "text": [
      "C:\\Users\\guian\\AppData\\Local\\Temp\\ipykernel_28260\\639811588.py:3: SettingWithCopyWarning:\n",
      "\n",
      "\n",
      "A value is trying to be set on a copy of a slice from a DataFrame.\n",
      "Try using .loc[row_indexer,col_indexer] = value instead\n",
      "\n",
      "See the caveats in the documentation: https://pandas.pydata.org/pandas-docs/stable/user_guide/indexing.html#returning-a-view-versus-a-copy\n",
      "\n"
     ]
    }
   ],
   "source": [
    "reg5 = model5\n",
    "\n",
    "df_filtered['res5'] = model5.resids"
   ]
  },
  {
   "cell_type": "code",
   "execution_count": 827,
   "metadata": {},
   "outputs": [
    {
     "name": "stderr",
     "output_type": "stream",
     "text": [
      "c:\\Users\\guian\\AppData\\Local\\Programs\\Python\\Python311\\Lib\\site-packages\\linearmodels\\panel\\model.py:1214: MissingValueWarning:\n",
      "\n",
      "\n",
      "Inputs contain missing values. Dropping rows with missing observations.\n",
      "\n"
     ]
    },
    {
     "name": "stdout",
     "output_type": "stream",
     "text": [
      "efw_index_1_int ~ l_index25a + l_netoda_gdp_cons + l_resource_rent + l_lngdp + l_gdpg + l_warDummy + l_christian_int + min_legor_uk + l_legor_fr + l_coup + l_gini_disp + C(year)\n",
      "                          PanelOLS Estimation Summary                           \n",
      "================================================================================\n",
      "Dep. Variable:        efw_index_1_int   R-squared:                        0.7141\n",
      "Estimator:                   PanelOLS   R-squared (Between):              0.7340\n",
      "No. Observations:                3462   R-squared (Within):               0.6232\n",
      "Date:                Sat, Jun 22 2024   R-squared (Overall):              0.7141\n",
      "Time:                        15:41:39   Log-likelihood                   -3426.2\n",
      "Cov. Estimator:             Clustered                                           \n",
      "                                        F-statistic:                      154.68\n",
      "Entities:                         134   P-value                           0.0000\n",
      "Avg Obs:                       25.836   Distribution:                 F(55,3406)\n",
      "Min Obs:                       1.0000                                           \n",
      "Max Obs:                       45.000   F-statistic (robust):             1082.9\n",
      "                                        P-value                           0.0000\n",
      "Time periods:                      45   Distribution:                 F(55,3406)\n",
      "Avg Obs:                       76.933                                           \n",
      "Min Obs:                       25.000                                           \n",
      "Max Obs:                       127.00                                           \n",
      "                                                                                \n",
      "                                 Parameter Estimates                                 \n",
      "=====================================================================================\n",
      "                   Parameter  Std. Err.     T-stat    P-value    Lower CI    Upper CI\n",
      "-------------------------------------------------------------------------------------\n",
      "l_index25a            0.0451     0.0133     3.3812     0.0007      0.0189      0.0712\n",
      "l_netoda_gdp_cons     0.0210     0.0093     2.2519     0.0244      0.0027      0.0393\n",
      "l_resource_rent      -0.0265     0.0068    -3.8696     0.0001     -0.0399     -0.0131\n",
      "l_lngdp               0.4642     0.0673     6.8943     0.0000      0.3322      0.5962\n",
      "l_gdpg                0.0324     0.0055     5.9263     0.0000      0.0217      0.0431\n",
      "l_warDummy           -0.1930     0.1015    -1.9008     0.0574     -0.3921      0.0061\n",
      "l_christian_int      -0.0487     0.1157    -0.4207     0.6740     -0.2754      0.1781\n",
      "min_legor_uk          0.0613     0.1617     0.3788     0.7048     -0.2558      0.3784\n",
      "l_legor_fr           -0.1428     0.1222    -1.1686     0.2427     -0.3825      0.0968\n",
      "l_coup               -0.1310     0.0953    -1.3751     0.1692     -0.3179      0.0558\n",
      "l_gini_disp           0.0022     0.0079     0.2787     0.7805     -0.0133      0.0177\n",
      "C(year)[T.1971.0]     1.7540     0.7002     2.5051     0.0123      0.3812      3.1267\n",
      "C(year)[T.1972.0]     1.6928     0.6965     2.4305     0.0151      0.3272      3.0583\n",
      "C(year)[T.1973.0]     1.5917     0.6936     2.2948     0.0218      0.2318      2.9517\n",
      "C(year)[T.1974.0]     1.5295     0.6727     2.2735     0.0231      0.2104      2.8485\n",
      "C(year)[T.1975.0]     1.5536     0.6736     2.3062     0.0212      0.2328      2.8743\n",
      "C(year)[T.1976.0]     1.5300     0.6871     2.2268     0.0260      0.1829      2.8771\n",
      "C(year)[T.1977.0]     1.4679     0.6937     2.1162     0.0344      0.1079      2.8280\n",
      "C(year)[T.1978.0]     1.5277     0.6961     2.1946     0.0283      0.1629      2.8926\n",
      "C(year)[T.1979.0]     1.5280     0.7024     2.1755     0.0297      0.1509      2.9051\n",
      "C(year)[T.1980.0]     1.5879     0.6957     2.2825     0.0225      0.2239      2.9520\n",
      "C(year)[T.1981.0]     1.6225     0.6924     2.3431     0.0192      0.2648      2.9801\n",
      "C(year)[T.1982.0]     1.6793     0.6966     2.4108     0.0160      0.3135      3.0451\n",
      "C(year)[T.1983.0]     1.7170     0.6871     2.4990     0.0125      0.3699      3.0641\n",
      "C(year)[T.1984.0]     1.7415     0.6848     2.5431     0.0110      0.3989      3.0841\n",
      "C(year)[T.1985.0]     1.6642     0.6895     2.4137     0.0158      0.3124      3.0161\n",
      "C(year)[T.1986.0]     1.7599     0.6967     2.5259     0.0116      0.3938      3.1259\n",
      "C(year)[T.1987.0]     1.7887     0.7015     2.5497     0.0108      0.4133      3.1642\n",
      "C(year)[T.1988.0]     1.8531     0.7074     2.6198     0.0088      0.4662      3.2400\n",
      "C(year)[T.1989.0]     1.8805     0.7133     2.6362     0.0084      0.4819      3.2791\n",
      "C(year)[T.1990.0]     1.9166     0.7142     2.6836     0.0073      0.5163      3.3168\n",
      "C(year)[T.1991.0]     2.0098     0.7196     2.7931     0.0052      0.5990      3.4206\n",
      "C(year)[T.1992.0]     2.1087     0.7223     2.9194     0.0035      0.6925      3.5249\n",
      "C(year)[T.1993.0]     2.1864     0.7279     3.0036     0.0027      0.7592      3.6136\n",
      "C(year)[T.1994.0]     2.2333     0.7320     3.0511     0.0023      0.7982      3.6684\n",
      "C(year)[T.1995.0]     2.3278     0.7380     3.1541     0.0016      0.8808      3.7748\n",
      "C(year)[T.1996.0]     2.3679     0.7422     3.1905     0.0014      0.9127      3.8230\n",
      "C(year)[T.1997.0]     2.3960     0.7411     3.2330     0.0012      0.9429      3.8491\n",
      "C(year)[T.1998.0]     2.4829     0.7434     3.3399     0.0008      1.0253      3.9404\n",
      "C(year)[T.1999.0]     2.5880     0.7480     3.4600     0.0005      1.1215      4.0545\n",
      "C(year)[T.2000.0]     2.6738     0.7492     3.5689     0.0004      1.2049      4.1427\n",
      "C(year)[T.2001.0]     2.6523     0.7477     3.5471     0.0004      1.1862      4.1183\n",
      "C(year)[T.2002.0]     2.7437     0.7484     3.6662     0.0002      1.2764      4.2110\n",
      "C(year)[T.2003.0]     2.7468     0.7489     3.6680     0.0002      1.2786      4.2151\n",
      "C(year)[T.2004.0]     2.7642     0.7484     3.6933     0.0002      1.2968      4.2316\n",
      "C(year)[T.2005.0]     2.7964     0.7471     3.7428     0.0002      1.3315      4.2613\n",
      "C(year)[T.2006.0]     2.8462     0.7427     3.8325     0.0001      1.3901      4.3023\n",
      "C(year)[T.2007.0]     2.8299     0.7446     3.8006     0.0001      1.3700      4.2898\n",
      "C(year)[T.2008.0]     2.7771     0.7430     3.7377     0.0002      1.3204      4.2339\n",
      "C(year)[T.2009.0]     2.8544     0.7361     3.8776     0.0001      1.4111      4.2977\n",
      "C(year)[T.2010.0]     2.9705     0.7396     4.0163     0.0001      1.5204      4.4207\n",
      "C(year)[T.2011.0]     2.8094     0.7494     3.7489     0.0002      1.3401      4.2786\n",
      "C(year)[T.2012.0]     2.8738     0.7432     3.8670     0.0001      1.4167      4.3309\n",
      "C(year)[T.2013.0]     2.8935     0.7448     3.8848     0.0001      1.4332      4.3539\n",
      "C(year)[T.2014.0]     2.9100     0.7468     3.8966     0.0001      1.4458      4.3742\n",
      "C(year)[T.2015.0]     2.9124     0.7480     3.8936     0.0001      1.4458      4.3790\n",
      "=====================================================================================\n",
      "\n",
      "\n"
     ]
    }
   ],
   "source": [
    "# Definindo a fórmula do modelo usando control3\n",
    "formula6 = \"efw_index_1_int ~ l_index25a + l_netoda_gdp_cons + l_resource_rent + l_lngdp + l_gdpg + l_warDummy + l_christian_int + min_legor_uk + l_legor_fr + l_coup + l_gini_disp + C(year)\"\n",
    "\n",
    "# Exibindo a fórmula\n",
    "print(formula6)\n",
    "\n",
    "model6 = PanelOLS.from_formula(formula=formula6, data=df_filtered1, check_rank=False).fit(cov_type='clustered', cluster_entity=True)\n",
    "\n",
    "# Exibindo o resumo do modelo\n",
    "print(model6.summary)"
   ]
  },
  {
   "cell_type": "code",
   "execution_count": 828,
   "metadata": {},
   "outputs": [
    {
     "name": "stderr",
     "output_type": "stream",
     "text": [
      "C:\\Users\\guian\\AppData\\Local\\Temp\\ipykernel_28260\\792898192.py:1: SettingWithCopyWarning:\n",
      "\n",
      "\n",
      "A value is trying to be set on a copy of a slice from a DataFrame.\n",
      "Try using .loc[row_indexer,col_indexer] = value instead\n",
      "\n",
      "See the caveats in the documentation: https://pandas.pydata.org/pandas-docs/stable/user_guide/indexing.html#returning-a-view-versus-a-copy\n",
      "\n"
     ]
    },
    {
     "data": {
      "text/plain": [
       "countrycode  year  \n",
       "Albania      1990.0         NaN\n",
       "             1995.0         NaN\n",
       "             2000.0   -0.163254\n",
       "             2001.0    0.249317\n",
       "             2002.0    0.350393\n",
       "                         ...   \n",
       "Zimbabwe     2011.0   -1.633005\n",
       "             2012.0   -1.193082\n",
       "             2013.0   -1.229896\n",
       "             2014.0   -0.375439\n",
       "             2015.0    0.145531\n",
       "Name: res6, Length: 2534, dtype: float64"
      ]
     },
     "execution_count": 828,
     "metadata": {},
     "output_type": "execute_result"
    }
   ],
   "source": [
    "df_filtered['res6'] = model6.resids\n",
    "df_filtered['res6']"
   ]
  },
  {
   "cell_type": "code",
   "execution_count": 829,
   "metadata": {},
   "outputs": [
    {
     "name": "stdout",
     "output_type": "stream",
     "text": [
      "efw_index_1_int ~ l_index125a + l_netoda_gdp_cons + l_resource_rent + l_lngdp + l_gdpg + l_warDummy + l_christian_int + min_legor_uk + l_legor_fr + l_coup + C(year)\n"
     ]
    },
    {
     "name": "stderr",
     "output_type": "stream",
     "text": [
      "c:\\Users\\guian\\AppData\\Local\\Programs\\Python\\Python311\\Lib\\site-packages\\linearmodels\\panel\\model.py:1214: MissingValueWarning:\n",
      "\n",
      "\n",
      "Inputs contain missing values. Dropping rows with missing observations.\n",
      "\n"
     ]
    },
    {
     "name": "stdout",
     "output_type": "stream",
     "text": [
      "                          PanelOLS Estimation Summary                           \n",
      "================================================================================\n",
      "Dep. Variable:        efw_index_1_int   R-squared:                        0.7328\n",
      "Estimator:                   PanelOLS   R-squared (Between):              0.7623\n",
      "No. Observations:                4477   R-squared (Within):               0.6235\n",
      "Date:                Sat, Jun 22 2024   R-squared (Overall):              0.7328\n",
      "Time:                        15:41:39   Log-likelihood                   -4581.6\n",
      "Cov. Estimator:             Clustered                                           \n",
      "                                        F-statistic:                      224.53\n",
      "Entities:                         136   P-value                           0.0000\n",
      "Avg Obs:                       32.919   Distribution:                 F(54,4422)\n",
      "Min Obs:                       3.0000                                           \n",
      "Max Obs:                       45.000   F-statistic (robust):             1324.2\n",
      "                                        P-value                           0.0000\n",
      "Time periods:                      45   Distribution:                 F(54,4422)\n",
      "Avg Obs:                       99.489                                           \n",
      "Min Obs:                       61.000                                           \n",
      "Max Obs:                       136.00                                           \n",
      "                                                                                \n",
      "                                 Parameter Estimates                                 \n",
      "=====================================================================================\n",
      "                   Parameter  Std. Err.     T-stat    P-value    Lower CI    Upper CI\n",
      "-------------------------------------------------------------------------------------\n",
      "l_index125a           0.0457     0.0100     4.5467     0.0000      0.0260      0.0654\n",
      "l_netoda_gdp_cons     0.0206     0.0093     2.2151     0.0268      0.0024      0.0388\n",
      "l_resource_rent      -0.0208     0.0059    -3.5091     0.0005     -0.0324     -0.0092\n",
      "l_lngdp               0.4935     0.0449     10.998     0.0000      0.4055      0.5815\n",
      "l_gdpg                0.0192     0.0046     4.1481     0.0000      0.0101      0.0282\n",
      "l_warDummy           -0.2218     0.1073    -2.0663     0.0389     -0.4322     -0.0114\n",
      "l_christian_int      -0.1777     0.1109    -1.6029     0.1090     -0.3950      0.0396\n",
      "min_legor_uk          0.1555     0.1180     1.3180     0.1876     -0.0758      0.3869\n",
      "l_legor_fr           -0.0495     0.0985    -0.5029     0.6151     -0.2427      0.1436\n",
      "l_coup               -0.0206     0.0838    -0.2458     0.8058     -0.1848      0.1436\n",
      "C(year)[T.1971.0]     1.6390     0.3881     4.2229     0.0000      0.8781      2.4000\n",
      "C(year)[T.1972.0]     1.5746     0.3874     4.0641     0.0000      0.8150      2.3342\n",
      "C(year)[T.1973.0]     1.5093     0.3857     3.9136     0.0001      0.7532      2.2654\n",
      "C(year)[T.1974.0]     1.4707     0.3919     3.7528     0.0002      0.7024      2.2389\n",
      "C(year)[T.1975.0]     1.4645     0.3836     3.8179     0.0001      0.7125      2.2165\n",
      "C(year)[T.1976.0]     1.4691     0.3876     3.7905     0.0002      0.7093      2.2289\n",
      "C(year)[T.1977.0]     1.4061     0.3869     3.6346     0.0003      0.6477      2.1645\n",
      "C(year)[T.1978.0]     1.4353     0.3889     3.6909     0.0002      0.6729      2.1977\n",
      "C(year)[T.1979.0]     1.4165     0.3919     3.6140     0.0003      0.6481      2.1849\n",
      "C(year)[T.1980.0]     1.4683     0.3925     3.7408     0.0002      0.6988      2.2379\n",
      "C(year)[T.1981.0]     1.4770     0.3889     3.7981     0.0001      0.7146      2.2394\n",
      "C(year)[T.1982.0]     1.4831     0.3829     3.8729     0.0001      0.7323      2.2338\n",
      "C(year)[T.1983.0]     1.5228     0.3799     4.0086     0.0001      0.7780      2.2675\n",
      "C(year)[T.1984.0]     1.5282     0.3746     4.0800     0.0000      0.7939      2.2625\n",
      "C(year)[T.1985.0]     1.4881     0.3761     3.9567     0.0001      0.7507      2.2254\n",
      "C(year)[T.1986.0]     1.5357     0.3757     4.0875     0.0000      0.7991      2.2723\n",
      "C(year)[T.1987.0]     1.5817     0.3751     4.2173     0.0000      0.8464      2.3170\n",
      "C(year)[T.1988.0]     1.6689     0.3755     4.4440     0.0000      0.9327      2.4052\n",
      "C(year)[T.1989.0]     1.6946     0.3772     4.4933     0.0000      0.9552      2.4340\n",
      "C(year)[T.1990.0]     1.7717     0.3801     4.6610     0.0000      1.0265      2.5168\n",
      "C(year)[T.1991.0]     1.8485     0.3797     4.8676     0.0000      1.1040      2.5929\n",
      "C(year)[T.1992.0]     1.8999     0.3834     4.9554     0.0000      1.1482      2.6515\n",
      "C(year)[T.1993.0]     1.9738     0.3788     5.2105     0.0000      1.2312      2.7165\n",
      "C(year)[T.1994.0]     2.0361     0.3805     5.3510     0.0000      1.2901      2.7821\n",
      "C(year)[T.1995.0]     2.0959     0.3857     5.4347     0.0000      1.3399      2.8520\n",
      "C(year)[T.1996.0]     2.1438     0.3853     5.5641     0.0000      1.3885      2.8992\n",
      "C(year)[T.1997.0]     2.1786     0.3811     5.7168     0.0000      1.4315      2.9257\n",
      "C(year)[T.1998.0]     2.2597     0.3822     5.9130     0.0000      1.5105      3.0089\n",
      "C(year)[T.1999.0]     2.3441     0.3848     6.0911     0.0000      1.5896      3.0985\n",
      "C(year)[T.2000.0]     2.4369     0.3852     6.3269     0.0000      1.6818      3.1921\n",
      "C(year)[T.2001.0]     2.4120     0.3844     6.2741     0.0000      1.6583      3.1657\n",
      "C(year)[T.2002.0]     2.4756     0.3826     6.4709     0.0000      1.7256      3.2256\n",
      "C(year)[T.2003.0]     2.4796     0.3842     6.4547     0.0000      1.7265      3.2327\n",
      "C(year)[T.2004.0]     2.4873     0.3889     6.3960     0.0000      1.7249      3.2497\n",
      "C(year)[T.2005.0]     2.5360     0.3883     6.5315     0.0000      1.7748      3.2973\n",
      "C(year)[T.2006.0]     2.5813     0.3856     6.6940     0.0000      1.8253      3.3373\n",
      "C(year)[T.2007.0]     2.5659     0.3882     6.6090     0.0000      1.8047      3.3270\n",
      "C(year)[T.2008.0]     2.5061     0.3868     6.4797     0.0000      1.7478      3.2643\n",
      "C(year)[T.2009.0]     2.5523     0.3862     6.6082     0.0000      1.7951      3.3095\n",
      "C(year)[T.2010.0]     2.6251     0.3860     6.8002     0.0000      1.8683      3.3819\n",
      "C(year)[T.2011.0]     2.5442     0.3936     6.4637     0.0000      1.7725      3.3158\n",
      "C(year)[T.2012.0]     2.5984     0.3883     6.6918     0.0000      1.8371      3.3596\n",
      "C(year)[T.2013.0]     2.5705     0.3882     6.6222     0.0000      1.8095      3.3315\n",
      "C(year)[T.2014.0]     2.6208     0.3907     6.7079     0.0000      1.8548      3.3868\n",
      "C(year)[T.2015.0]     2.6110     0.3916     6.6670     0.0000      1.8432      3.3788\n",
      "=====================================================================================\n",
      "\n",
      "\n"
     ]
    }
   ],
   "source": [
    "# Definindo a fórmula do modelo usando control2\n",
    "formula7 = \"efw_index_1_int ~ l_index125a + l_netoda_gdp_cons + l_resource_rent + l_lngdp + l_gdpg + l_warDummy + l_christian_int + min_legor_uk + l_legor_fr + l_coup + C(year)\"\n",
    "\n",
    "# Exibindo a fórmula\n",
    "print(formula7)\n",
    "\n",
    "model7 = PanelOLS.from_formula(formula=formula7, data=df_filtered1, check_rank=False).fit(cov_type='clustered', cluster_entity=True)\n",
    "\n",
    "# Exibindo o resumo do modelo\n",
    "print(model7.summary)"
   ]
  },
  {
   "cell_type": "code",
   "execution_count": 830,
   "metadata": {},
   "outputs": [
    {
     "name": "stderr",
     "output_type": "stream",
     "text": [
      "C:\\Users\\guian\\AppData\\Local\\Temp\\ipykernel_28260\\1181270545.py:1: SettingWithCopyWarning:\n",
      "\n",
      "\n",
      "A value is trying to be set on a copy of a slice from a DataFrame.\n",
      "Try using .loc[row_indexer,col_indexer] = value instead\n",
      "\n",
      "See the caveats in the documentation: https://pandas.pydata.org/pandas-docs/stable/user_guide/indexing.html#returning-a-view-versus-a-copy\n",
      "\n"
     ]
    },
    {
     "data": {
      "text/plain": [
       "countrycode  year  \n",
       "Albania      1990.0    0.147255\n",
       "             1995.0   -0.118155\n",
       "             2000.0   -0.282260\n",
       "             2001.0    0.035491\n",
       "             2002.0    0.172922\n",
       "                         ...   \n",
       "Zimbabwe     2011.0   -1.155810\n",
       "             2012.0   -0.821310\n",
       "             2013.0   -0.802263\n",
       "             2014.0   -0.166959\n",
       "             2015.0    0.319999\n",
       "Name: res7, Length: 2534, dtype: float64"
      ]
     },
     "execution_count": 830,
     "metadata": {},
     "output_type": "execute_result"
    }
   ],
   "source": [
    "df_filtered['res7'] = model7.resids\n",
    "df_filtered['res7']"
   ]
  },
  {
   "cell_type": "code",
   "execution_count": 831,
   "metadata": {},
   "outputs": [
    {
     "name": "stdout",
     "output_type": "stream",
     "text": [
      "efw_index_1_int ~ l_index125a + l_netoda_gdp_cons + l_resource_rent + l_lngdp + l_gdpg + l_warDummy + l_christian_int + min_legor_uk + l_legor_fr + l_coup + l_gini_disp + C(year)\n",
      "                          PanelOLS Estimation Summary                           \n",
      "================================================================================\n",
      "Dep. Variable:        efw_index_1_int   R-squared:                        0.7242\n",
      "Estimator:                   PanelOLS   R-squared (Between):              0.7413\n",
      "No. Observations:                3462   R-squared (Within):               0.6493\n",
      "Date:                Sat, Jun 22 2024   R-squared (Overall):              0.7242\n",
      "Time:                        15:41:39   Log-likelihood                   -3363.7\n",
      "Cov. Estimator:             Clustered                                           \n",
      "                                        F-statistic:                      162.64\n",
      "Entities:                         134   P-value                           0.0000\n",
      "Avg Obs:                       25.836   Distribution:                 F(55,3406)\n",
      "Min Obs:                       1.0000                                           \n",
      "Max Obs:                       45.000   F-statistic (robust):             1125.1\n",
      "                                        P-value                           0.0000\n",
      "Time periods:                      45   Distribution:                 F(55,3406)\n",
      "Avg Obs:                       76.933                                           \n",
      "Min Obs:                       25.000                                           \n",
      "Max Obs:                       127.00                                           \n",
      "                                                                                \n",
      "                                 Parameter Estimates                                 \n",
      "=====================================================================================\n",
      "                   Parameter  Std. Err.     T-stat    P-value    Lower CI    Upper CI\n",
      "-------------------------------------------------------------------------------------\n",
      "l_index125a           0.0496     0.0116     4.2816     0.0000      0.0269      0.0723\n",
      "l_netoda_gdp_cons     0.0216     0.0094     2.3001     0.0215      0.0032      0.0401\n",
      "l_resource_rent      -0.0234     0.0068    -3.4206     0.0006     -0.0368     -0.0100\n",
      "l_lngdp               0.4811     0.0615     7.8206     0.0000      0.3605      0.6017\n",
      "l_gdpg                0.0316     0.0052     6.0605     0.0000      0.0214      0.0419\n",
      "l_warDummy           -0.1675     0.1107    -1.5129     0.1304     -0.3846      0.0496\n",
      "l_christian_int      -0.1134     0.1188    -0.9539     0.3402     -0.3463      0.1196\n",
      "min_legor_uk          0.1478     0.1464     1.0101     0.3125     -0.1391      0.4348\n",
      "l_legor_fr           -0.1202     0.1149    -1.0459     0.2957     -0.3454      0.1051\n",
      "l_coup               -0.1017     0.0944    -1.0771     0.2815     -0.2869      0.0834\n",
      "l_gini_disp           0.0040     0.0080     0.5029     0.6151     -0.0116      0.0196\n",
      "C(year)[T.1971.0]     1.5120     0.6630     2.2803     0.0226      0.2120      2.8120\n",
      "C(year)[T.1972.0]     1.4484     0.6606     2.1926     0.0284      0.1532      2.7436\n",
      "C(year)[T.1973.0]     1.3587     0.6601     2.0583     0.0396      0.0644      2.6529\n",
      "C(year)[T.1974.0]     1.2952     0.6414     2.0192     0.0435      0.0376      2.5529\n",
      "C(year)[T.1975.0]     1.3305     0.6435     2.0677     0.0387      0.0689      2.5922\n",
      "C(year)[T.1976.0]     1.3070     0.6529     2.0018     0.0454      0.0269      2.5871\n",
      "C(year)[T.1977.0]     1.2450     0.6579     1.8923     0.0585     -0.0450      2.5350\n",
      "C(year)[T.1978.0]     1.3036     0.6587     1.9789     0.0479      0.0120      2.5951\n",
      "C(year)[T.1979.0]     1.3001     0.6637     1.9588     0.0502     -0.0012      2.6015\n",
      "C(year)[T.1980.0]     1.3532     0.6563     2.0617     0.0393      0.0663      2.6400\n",
      "C(year)[T.1981.0]     1.3835     0.6530     2.1187     0.0342      0.1032      2.6637\n",
      "C(year)[T.1982.0]     1.4448     0.6554     2.2044     0.0276      0.1598      2.7298\n",
      "C(year)[T.1983.0]     1.4787     0.6443     2.2950     0.0218      0.2154      2.7420\n",
      "C(year)[T.1984.0]     1.4998     0.6419     2.3364     0.0195      0.2412      2.7583\n",
      "C(year)[T.1985.0]     1.4247     0.6458     2.2059     0.0275      0.1584      2.6910\n",
      "C(year)[T.1986.0]     1.5130     0.6515     2.3224     0.0203      0.2357      2.7903\n",
      "C(year)[T.1987.0]     1.5404     0.6548     2.3525     0.0187      0.2566      2.8242\n",
      "C(year)[T.1988.0]     1.5970     0.6590     2.4233     0.0154      0.3049      2.8891\n",
      "C(year)[T.1989.0]     1.6173     0.6642     2.4348     0.0150      0.3149      2.9196\n",
      "C(year)[T.1990.0]     1.6474     0.6639     2.4815     0.0131      0.3458      2.9490\n",
      "C(year)[T.1991.0]     1.7299     0.6694     2.5841     0.0098      0.4173      3.0425\n",
      "C(year)[T.1992.0]     1.8217     0.6705     2.7170     0.0066      0.5071      3.1363\n",
      "C(year)[T.1993.0]     1.8893     0.6770     2.7906     0.0053      0.5619      3.2167\n",
      "C(year)[T.1994.0]     1.9267     0.6813     2.8278     0.0047      0.5908      3.2626\n",
      "C(year)[T.1995.0]     2.0071     0.6870     2.9215     0.0035      0.6601      3.3541\n",
      "C(year)[T.1996.0]     2.0397     0.6923     2.9464     0.0032      0.6824      3.3971\n",
      "C(year)[T.1997.0]     2.0644     0.6898     2.9926     0.0028      0.7119      3.4169\n",
      "C(year)[T.1998.0]     2.1480     0.6917     3.1053     0.0019      0.7918      3.5042\n",
      "C(year)[T.1999.0]     2.2475     0.6959     3.2298     0.0013      0.8831      3.6119\n",
      "C(year)[T.2000.0]     2.3264     0.6954     3.3452     0.0008      0.9629      3.6899\n",
      "C(year)[T.2001.0]     2.2958     0.6962     3.2977     0.0010      0.9308      3.6607\n",
      "C(year)[T.2002.0]     2.3813     0.6942     3.4305     0.0006      1.0203      3.7423\n",
      "C(year)[T.2003.0]     2.3800     0.6952     3.4236     0.0006      1.0170      3.7429\n",
      "C(year)[T.2004.0]     2.3899     0.6946     3.4406     0.0006      1.0280      3.7519\n",
      "C(year)[T.2005.0]     2.4232     0.6945     3.4893     0.0005      1.0616      3.7848\n",
      "C(year)[T.2006.0]     2.4688     0.6901     3.5773     0.0004      1.1157      3.8220\n",
      "C(year)[T.2007.0]     2.4451     0.6917     3.5351     0.0004      1.0890      3.8012\n",
      "C(year)[T.2008.0]     2.3915     0.6908     3.4619     0.0005      1.0371      3.7460\n",
      "C(year)[T.2009.0]     2.4640     0.6849     3.5976     0.0003      1.1212      3.8069\n",
      "C(year)[T.2010.0]     2.5876     0.6869     3.7669     0.0002      1.2407      3.9344\n",
      "C(year)[T.2011.0]     2.4281     0.6975     3.4809     0.0005      1.0604      3.7957\n",
      "C(year)[T.2012.0]     2.4874     0.6926     3.5911     0.0003      1.1293      3.8454\n",
      "C(year)[T.2013.0]     2.5123     0.6935     3.6225     0.0003      1.1525      3.8720\n",
      "C(year)[T.2014.0]     2.5302     0.6943     3.6441     0.0003      1.1689      3.8916\n",
      "C(year)[T.2015.0]     2.5329     0.6952     3.6437     0.0003      1.1700      3.8959\n",
      "=====================================================================================\n",
      "\n",
      "\n"
     ]
    },
    {
     "name": "stderr",
     "output_type": "stream",
     "text": [
      "c:\\Users\\guian\\AppData\\Local\\Programs\\Python\\Python311\\Lib\\site-packages\\linearmodels\\panel\\model.py:1214: MissingValueWarning:\n",
      "\n",
      "\n",
      "Inputs contain missing values. Dropping rows with missing observations.\n",
      "\n"
     ]
    }
   ],
   "source": [
    "# Definindo a fórmula do modelo usando control3\n",
    "formula8 = \"efw_index_1_int ~ l_index125a + l_netoda_gdp_cons + l_resource_rent + l_lngdp + l_gdpg + l_warDummy + l_christian_int + min_legor_uk + l_legor_fr + l_coup + l_gini_disp + C(year)\"\n",
    "\n",
    "# Exibindo a fórmula\n",
    "print(formula8)\n",
    "\n",
    "model8 = PanelOLS.from_formula(formula=formula8, data=df_filtered1, check_rank=False).fit(cov_type='clustered', cluster_entity=True)\n",
    "\n",
    "# Exibindo o resumo do modelo\n",
    "print(model8.summary)"
   ]
  },
  {
   "cell_type": "code",
   "execution_count": 832,
   "metadata": {},
   "outputs": [
    {
     "name": "stdout",
     "output_type": "stream",
     "text": [
      "\\begin{table}\n",
      "\\caption{Main results.}\n",
      "\\label{tab:main_results}\n",
      "\\resizebox{\\textwidth}{!}{\\begin{tabular}{lcccc}\n",
      "\\toprule\n",
      "Dependent variable & EFW index-interpolate (2.50%) & EFW index-interpolate (12.50%) & EFW index (2.50%) & EFW index (12.50%) \\\\\n",
      "\\midrule\n",
      "Regime memory & 0.045 & 0.046 & 0.045 & 0.050 \\\\\n",
      "Net ODA as % of GDP & 0.021 & 0.021 & 0.021 & 0.022 \\\\\n",
      "Resource rent as % of GDP & -0.023 & -0.021 & -0.026 & -0.023 \\\\\n",
      "ln(GDP per capita) & 0.485 & 0.493 & 0.464 & 0.481 \\\\\n",
      "GDP Growth & 0.020 & 0.019 & 0.032 & 0.032 \\\\\n",
      "War Dummy & -0.244 & -0.222 & -0.193 & -0.167 \\\\\n",
      "Christian Dummy & -0.132 & -0.178 & -0.049 & -0.113 \\\\\n",
      "British legal origin & 0.077 & 0.156 & 0.061 & 0.148 \\\\\n",
      "French legal origin & -0.072 & -0.050 & -0.143 & -0.120 \\\\\n",
      "Coup Dummy & -0.039 & -0.021 & -0.131 & -0.102 \\\\\n",
      "Gini Disposable & NA & NA & 0.002 & 0.004 \\\\\n",
      "Number of observations & 4477 & 4477 & 3462 & 3462 \\\\\n",
      "R2 & 0.727 & 0.733 & 0.714 & 0.724 \\\\\n",
      "\\bottomrule\n",
      "\\end{tabular}}\n",
      "\\end{table}\n",
      "\n"
     ]
    }
   ],
   "source": [
    "# Extraindo os resultados apenas com os coeficientes\n",
    "results = {\n",
    "    'Dependent variable': [\n",
    "        'Regime memory', 'Net ODA as % of GDP', 'Resource rent as % of GDP',\n",
    "        'ln(GDP per capita)', 'GDP Growth', 'War Dummy', 'Christian Dummy',\n",
    "        'British legal origin', 'French legal origin', 'Coup Dummy', 'Gini Disposable'\n",
    "    ],\n",
    "    'EFW index-interpolate (2.50%)': [\n",
    "        f'{model5.params[\"l_index25a\"]:.3f}',\n",
    "        f'{model5.params[\"l_netoda_gdp_cons\"]:.3f}',\n",
    "        f'{model5.params[\"l_resource_rent\"]:.3f}',\n",
    "        f'{model5.params[\"l_lngdp\"]:.3f}',\n",
    "        f'{model5.params[\"l_gdpg\"]:.3f}',\n",
    "        f'{model5.params[\"l_warDummy\"]:.3f}',\n",
    "        f'{model5.params[\"l_christian_int\"]:.3f}',\n",
    "        f'{model5.params[\"min_legor_uk\"]:.3f}',\n",
    "        f'{model5.params[\"l_legor_fr\"]:.3f}',\n",
    "        f'{model5.params[\"l_coup\"]:.3f}',\n",
    "        'NA'\n",
    "    ],\n",
    "    'EFW index-interpolate (12.50%)': [\n",
    "        f'{model7.params[\"l_index125a\"]:.3f}',\n",
    "        f'{model7.params[\"l_netoda_gdp_cons\"]:.3f}',\n",
    "        f'{model7.params[\"l_resource_rent\"]:.3f}',\n",
    "        f'{model7.params[\"l_lngdp\"]:.3f}',\n",
    "        f'{model7.params[\"l_gdpg\"]:.3f}',\n",
    "        f'{model7.params[\"l_warDummy\"]:.3f}',\n",
    "        f'{model7.params[\"l_christian_int\"]:.3f}',\n",
    "        f'{model7.params[\"min_legor_uk\"]:.3f}',\n",
    "        f'{model7.params[\"l_legor_fr\"]:.3f}',\n",
    "        f'{model7.params[\"l_coup\"]:.3f}',\n",
    "        'NA'\n",
    "    ],\n",
    "    'EFW index (2.50%)': [\n",
    "        f'{model6.params[\"l_index25a\"]:.3f}',\n",
    "        f'{model6.params[\"l_netoda_gdp_cons\"]:.3f}',\n",
    "        f'{model6.params[\"l_resource_rent\"]:.3f}',\n",
    "        f'{model6.params[\"l_lngdp\"]:.3f}',\n",
    "        f'{model6.params[\"l_gdpg\"]:.3f}',\n",
    "        f'{model6.params[\"l_warDummy\"]:.3f}',\n",
    "        f'{model6.params[\"l_christian_int\"]:.3f}',\n",
    "        f'{model6.params[\"min_legor_uk\"]:.3f}',\n",
    "        f'{model6.params[\"l_legor_fr\"]:.3f}',\n",
    "        f'{model6.params[\"l_coup\"]:.3f}',\n",
    "        f'{model6.params[\"l_gini_disp\"]:.3f}'\n",
    "    ],\n",
    "    'EFW index (12.50%)': [\n",
    "        f'{model8.params[\"l_index125a\"]:.3f}',\n",
    "        f'{model8.params[\"l_netoda_gdp_cons\"]:.3f}',\n",
    "        f'{model8.params[\"l_resource_rent\"]:.3f}',\n",
    "        f'{model8.params[\"l_lngdp\"]:.3f}',\n",
    "        f'{model8.params[\"l_gdpg\"]:.3f}',\n",
    "        f'{model8.params[\"l_warDummy\"]:.3f}',\n",
    "        f'{model8.params[\"l_christian_int\"]:.3f}',\n",
    "        f'{model8.params[\"min_legor_uk\"]:.3f}',\n",
    "        f'{model8.params[\"l_legor_fr\"]:.3f}',\n",
    "        f'{model8.params[\"l_coup\"]:.3f}',\n",
    "        f'{model8.params[\"l_gini_disp\"]:.3f}'\n",
    "    ]\n",
    "}\n",
    "\n",
    "# Criando o DataFrame com os resultados\n",
    "results_df = pd.DataFrame(results)\n",
    "\n",
    "# Adicionando as linhas de estatísticas adicionais\n",
    "additional_stats = {\n",
    "    'Dependent variable': ['Number of observations', 'R2'],\n",
    "    'EFW index-interpolate (2.50%)': [\n",
    "        f'{model5.nobs}',\n",
    "        f'{model5.rsquared:.3f}'\n",
    "    ],\n",
    "    'EFW index-interpolate (12.50%)': [\n",
    "        f'{model7.nobs}',\n",
    "        f'{model7.rsquared:.3f}'\n",
    "    ],\n",
    "    'EFW index (2.50%)': [\n",
    "        f'{model6.nobs}',\n",
    "        f'{model6.rsquared:.3f}'\n",
    "    ],\n",
    "    'EFW index (12.50%)': [\n",
    "        f'{model8.nobs}',\n",
    "        f'{model8.rsquared:.3f}'\n",
    "    ]\n",
    "}\n",
    "\n",
    "additional_stats_df = pd.DataFrame(additional_stats)\n",
    "final_df = pd.concat([results_df, additional_stats_df], ignore_index=True)\n",
    "\n",
    "# Convertendo o DataFrame para LaTeX\n",
    "latex_table = final_df.to_latex(index=False, column_format='lcccc', caption='Main results.', label='tab:main_results', escape=False)\n",
    "\n",
    "# Ajustando a largura da tabela com resizebox\n",
    "latex_table = latex_table.replace('\\\\begin{tabular}', '\\\\resizebox{\\\\textwidth}{!}{\\\\begin{tabular}')\n",
    "latex_table = latex_table.replace('\\\\end{tabular}', '\\\\end{tabular}}')\n",
    "\n",
    "print(latex_table)"
   ]
  },
  {
   "cell_type": "markdown",
   "metadata": {},
   "source": [
    "# Tabela 5 - OLS agrupado - Atraso de 5 períodos - colunas 1 e 2"
   ]
  },
  {
   "cell_type": "code",
   "execution_count": 833,
   "metadata": {},
   "outputs": [
    {
     "name": "stdout",
     "output_type": "stream",
     "text": [
      "efw_index_1_int ~ l5_index25a + l5_netoda_gdp_cons + l5_resource_rent + l5_lngdp + l5_gdpg + l5_warDummy + l5_christian_int + min_legor_uk + l5_legor_fr + l5_coup + l5_gini_disp + C(year)\n",
      "                          PanelOLS Estimation Summary                           \n",
      "================================================================================\n",
      "Dep. Variable:        efw_index_1_int   R-squared:                        0.6889\n",
      "Estimator:                   PanelOLS   R-squared (Between):              0.7230\n",
      "No. Observations:                3097   R-squared (Within):               0.5612\n",
      "Date:                Sat, Jun 22 2024   R-squared (Overall):              0.6889\n",
      "Time:                        15:41:39   Log-likelihood                   -3110.1\n",
      "Cov. Estimator:                Robust                                           \n",
      "                                        F-statistic:                      132.24\n",
      "Entities:                         134   P-value                           0.0000\n",
      "Avg Obs:                       23.112   Distribution:                 F(51,3045)\n",
      "Min Obs:                       1.0000                                           \n",
      "Max Obs:                       41.000   F-statistic (robust):             8634.8\n",
      "                                        P-value                           0.0000\n",
      "Time periods:                      41   Distribution:                 F(51,3045)\n",
      "Avg Obs:                       75.537                                           \n",
      "Min Obs:                       26.000                                           \n",
      "Max Obs:                       130.00                                           \n",
      "                                                                                \n",
      "                                 Parameter Estimates                                  \n",
      "======================================================================================\n",
      "                    Parameter  Std. Err.     T-stat    P-value    Lower CI    Upper CI\n",
      "--------------------------------------------------------------------------------------\n",
      "l5_index25a            0.0397     0.0033     12.189     0.0000      0.0333      0.0461\n",
      "l5_netoda_gdp_cons     0.0203     0.0030     6.7053     0.0000      0.0144      0.0262\n",
      "l5_resource_rent      -0.0252     0.0019    -13.584     0.0000     -0.0288     -0.0215\n",
      "l5_lngdp               0.4333     0.0152     28.586     0.0000      0.4036      0.4631\n",
      "l5_gdpg                0.0284     0.0033     8.5785     0.0000      0.0219      0.0349\n",
      "l5_warDummy           -0.0901     0.0455    -1.9804     0.0477     -0.1793     -0.0009\n",
      "l5_christian_int       0.0212     0.0312     0.6789     0.4973     -0.0400      0.0824\n",
      "min_legor_uk           0.0616     0.0420     1.4640     0.1433     -0.0209      0.1440\n",
      "l5_legor_fr           -0.1752     0.0345    -5.0862     0.0000     -0.2428     -0.1077\n",
      "l5_coup               -0.0966     0.0728    -1.3266     0.1848     -0.2393      0.0462\n",
      "l5_gini_disp          -0.0024     0.0019    -1.2178     0.2234     -0.0062      0.0014\n",
      "C(year)[T.1975.0]      1.9247     0.2347     8.2015     0.0000      1.4646      2.3849\n",
      "C(year)[T.1976.0]      1.9301     0.2203     8.7613     0.0000      1.4982      2.3621\n",
      "C(year)[T.1977.0]      1.8921     0.2157     8.7735     0.0000      1.4693      2.3150\n",
      "C(year)[T.1978.0]      1.9144     0.2138     8.9536     0.0000      1.4952      2.3336\n",
      "C(year)[T.1979.0]      2.0388     0.2059     9.9008     0.0000      1.6350      2.4426\n",
      "C(year)[T.1980.0]      2.0211     0.2076     9.7350     0.0000      1.6141      2.4282\n",
      "C(year)[T.1981.0]      1.9565     0.2009     9.7367     0.0000      1.5625      2.3505\n",
      "C(year)[T.1982.0]      2.0264     0.2003     10.116     0.0000      1.6336      2.4192\n",
      "C(year)[T.1983.0]      2.0279     0.2003     10.125     0.0000      1.6351      2.4206\n",
      "C(year)[T.1984.0]      2.0828     0.2081     10.006     0.0000      1.6747      2.4909\n",
      "C(year)[T.1985.0]      2.1190     0.2094     10.119     0.0000      1.7084      2.5295\n",
      "C(year)[T.1986.0]      2.2265     0.2022     11.013     0.0000      1.8301      2.6229\n",
      "C(year)[T.1987.0]      2.3299     0.1980     11.770     0.0000      1.9418      2.7180\n",
      "C(year)[T.1988.0]      2.4245     0.1971     12.300     0.0000      2.0380      2.8110\n",
      "C(year)[T.1989.0]      2.4221     0.1985     12.199     0.0000      2.0328      2.8114\n",
      "C(year)[T.1990.0]      2.4897     0.1976     12.597     0.0000      2.1021      2.8772\n",
      "C(year)[T.1991.0]      2.5238     0.1943     12.992     0.0000      2.1429      2.9046\n",
      "C(year)[T.1992.0]      2.6269     0.1905     13.787     0.0000      2.2533      3.0005\n",
      "C(year)[T.1993.0]      2.6759     0.1908     14.024     0.0000      2.3018      3.0501\n",
      "C(year)[T.1994.0]      2.7441     0.1892     14.501     0.0000      2.3730      3.1151\n",
      "C(year)[T.1995.0]      2.8436     0.1886     15.078     0.0000      2.4738      3.2134\n",
      "C(year)[T.1996.0]      2.9278     0.1865     15.698     0.0000      2.5621      3.2934\n",
      "C(year)[T.1997.0]      2.9870     0.1820     16.413     0.0000      2.6301      3.3438\n",
      "C(year)[T.1998.0]      3.0376     0.1807     16.806     0.0000      2.6832      3.3920\n",
      "C(year)[T.1999.0]      3.1047     0.1806     17.195     0.0000      2.7506      3.4587\n",
      "C(year)[T.2000.0]      3.1378     0.1818     17.259     0.0000      2.7813      3.4943\n",
      "C(year)[T.2001.0]      3.1117     0.1812     17.177     0.0000      2.7565      3.4669\n",
      "C(year)[T.2002.0]      3.1809     0.1799     17.680     0.0000      2.8281      3.5336\n",
      "C(year)[T.2003.0]      3.2254     0.1802     17.900     0.0000      2.8721      3.5787\n",
      "C(year)[T.2004.0]      3.2473     0.1800     18.037     0.0000      2.8943      3.6003\n",
      "C(year)[T.2005.0]      3.3398     0.1783     18.736     0.0000      2.9903      3.6893\n",
      "C(year)[T.2006.0]      3.3528     0.1793     18.700     0.0000      3.0012      3.7043\n",
      "C(year)[T.2007.0]      3.3540     0.1793     18.705     0.0000      3.0024      3.7056\n",
      "C(year)[T.2008.0]      3.2977     0.1781     18.514     0.0000      2.9485      3.6470\n",
      "C(year)[T.2009.0]      3.2626     0.1777     18.358     0.0000      2.9142      3.6111\n",
      "C(year)[T.2010.0]      3.3343     0.1761     18.939     0.0000      2.9891      3.6795\n",
      "C(year)[T.2011.0]      3.3064     0.1769     18.690     0.0000      2.9595      3.6533\n",
      "C(year)[T.2012.0]      3.2941     0.1779     18.512     0.0000      2.9452      3.6429\n",
      "C(year)[T.2013.0]      3.3821     0.1769     19.122     0.0000      3.0353      3.7289\n",
      "C(year)[T.2014.0]      3.4779     0.1791     19.422     0.0000      3.1268      3.8290\n",
      "C(year)[T.2015.0]      3.3489     0.1818     18.418     0.0000      2.9923      3.7054\n",
      "======================================================================================\n",
      "\n",
      "\n"
     ]
    }
   ],
   "source": [
    "# Definindo a fórmula do modelo usando control5\n",
    "formula9 = \"efw_index_1_int ~ l5_index25a + l5_netoda_gdp_cons + l5_resource_rent + l5_lngdp + l5_gdpg + l5_warDummy + l5_christian_int + min_legor_uk + l5_legor_fr + l5_coup + l5_gini_disp + C(year)\"\n",
    "\n",
    "# Exibindo a fórmula\n",
    "print(formula9)\n",
    "\n",
    "model9 = PanelOLS.from_formula(formula=formula9, data=subset_5L, check_rank=False).fit(cov_type='robust')\n",
    "\n",
    "# Exibindo o resumo do modelo\n",
    "print(model9.summary)"
   ]
  },
  {
   "cell_type": "code",
   "execution_count": 834,
   "metadata": {},
   "outputs": [
    {
     "name": "stderr",
     "output_type": "stream",
     "text": [
      "C:\\Users\\guian\\AppData\\Local\\Temp\\ipykernel_28260\\1817717951.py:1: SettingWithCopyWarning:\n",
      "\n",
      "\n",
      "A value is trying to be set on a copy of a slice from a DataFrame.\n",
      "Try using .loc[row_indexer,col_indexer] = value instead\n",
      "\n",
      "See the caveats in the documentation: https://pandas.pydata.org/pandas-docs/stable/user_guide/indexing.html#returning-a-view-versus-a-copy\n",
      "\n"
     ]
    },
    {
     "data": {
      "text/plain": [
       "countrycode  year  \n",
       "Albania      1990.0         NaN\n",
       "             1995.0         NaN\n",
       "             2000.0         NaN\n",
       "             2001.0    0.360423\n",
       "             2002.0    1.173755\n",
       "                         ...   \n",
       "Zimbabwe     2011.0   -0.803686\n",
       "             2012.0   -0.289567\n",
       "             2013.0    0.193937\n",
       "             2014.0   -0.618924\n",
       "             2015.0   -0.351967\n",
       "Name: res9, Length: 2534, dtype: float64"
      ]
     },
     "execution_count": 834,
     "metadata": {},
     "output_type": "execute_result"
    }
   ],
   "source": [
    "df_filtered['res9'] = model9.resids\n",
    "df_filtered['res9']"
   ]
  },
  {
   "cell_type": "code",
   "execution_count": 835,
   "metadata": {},
   "outputs": [
    {
     "name": "stdout",
     "output_type": "stream",
     "text": [
      "efw_index_1_int ~ l5_index125a + l5_netoda_gdp_cons + l5_resource_rent + l5_lngdp + l5_gdpg + l5_warDummy + l5_christian_int + min_legor_uk + l5_legor_fr + l5_coup + l5_gini_disp + C(year)\n",
      "                          PanelOLS Estimation Summary                           \n",
      "================================================================================\n",
      "Dep. Variable:        efw_index_1_int   R-squared:                        0.7027\n",
      "Estimator:                   PanelOLS   R-squared (Between):              0.7303\n",
      "No. Observations:                3097   R-squared (Within):               0.6022\n",
      "Date:                Sat, Jun 22 2024   R-squared (Overall):              0.7027\n",
      "Time:                        15:41:39   Log-likelihood                   -3039.8\n",
      "Cov. Estimator:             Clustered                                           \n",
      "                                        F-statistic:                      141.15\n",
      "Entities:                         134   P-value                           0.0000\n",
      "Avg Obs:                       23.112   Distribution:                 F(51,3045)\n",
      "Min Obs:                       1.0000                                           \n",
      "Max Obs:                       41.000   F-statistic (robust):             1288.8\n",
      "                                        P-value                           0.0000\n",
      "Time periods:                      41   Distribution:                 F(51,3045)\n",
      "Avg Obs:                       75.537                                           \n",
      "Min Obs:                       26.000                                           \n",
      "Max Obs:                       130.00                                           \n",
      "                                                                                \n",
      "                                 Parameter Estimates                                  \n",
      "======================================================================================\n",
      "                    Parameter  Std. Err.     T-stat    P-value    Lower CI    Upper CI\n",
      "--------------------------------------------------------------------------------------\n",
      "l5_index125a           0.0483     0.0121     3.9872     0.0001      0.0246      0.0721\n",
      "l5_netoda_gdp_cons     0.0207     0.0078     2.6479     0.0081      0.0054      0.0361\n",
      "l5_resource_rent      -0.0214     0.0069    -3.1090     0.0019     -0.0350     -0.0079\n",
      "l5_lngdp               0.4373     0.0632     6.9235     0.0000      0.3134      0.5611\n",
      "l5_gdpg                0.0281     0.0053     5.2909     0.0000      0.0177      0.0385\n",
      "l5_warDummy           -0.0765     0.1049    -0.7298     0.4656     -0.2821      0.1291\n",
      "l5_christian_int      -0.0484     0.1249    -0.3874     0.6985     -0.2933      0.1966\n",
      "min_legor_uk           0.1284     0.1531     0.8392     0.4014     -0.1717      0.4285\n",
      "l5_legor_fr           -0.1506     0.1139    -1.3214     0.1865     -0.3739      0.0728\n",
      "l5_coup               -0.0623     0.1000    -0.6233     0.5331     -0.2584      0.1337\n",
      "l5_gini_disp          -0.0005     0.0078    -0.0603     0.9519     -0.0157      0.0148\n",
      "C(year)[T.1975.0]      1.7825     0.6678     2.6691     0.0076      0.4731      3.0919\n",
      "C(year)[T.1976.0]      1.7852     0.6615     2.6988     0.0070      0.4882      3.0821\n",
      "C(year)[T.1977.0]      1.7598     0.6598     2.6670     0.0077      0.4660      3.0536\n",
      "C(year)[T.1978.0]      1.7811     0.6349     2.8051     0.0051      0.5361      3.0261\n",
      "C(year)[T.1979.0]      1.9153     0.6384     3.0000     0.0027      0.6635      3.1671\n",
      "C(year)[T.1980.0]      1.8993     0.6474     2.9337     0.0034      0.6299      3.1687\n",
      "C(year)[T.1981.0]      1.8352     0.6492     2.8271     0.0047      0.5624      3.1081\n",
      "C(year)[T.1982.0]      1.9050     0.6490     2.9351     0.0034      0.6324      3.1776\n",
      "C(year)[T.1983.0]      1.9056     0.6494     2.9342     0.0034      0.6322      3.1789\n",
      "C(year)[T.1984.0]      1.9506     0.6414     3.0413     0.0024      0.6930      3.2082\n",
      "C(year)[T.1985.0]      1.9828     0.6413     3.0920     0.0020      0.7254      3.2402\n",
      "C(year)[T.1986.0]      2.0964     0.6501     3.2248     0.0013      0.8217      3.3711\n",
      "C(year)[T.1987.0]      2.1981     0.6438     3.4141     0.0006      0.9357      3.4605\n",
      "C(year)[T.1988.0]      2.2894     0.6462     3.5429     0.0004      1.0224      3.5564\n",
      "C(year)[T.1989.0]      2.2894     0.6556     3.4920     0.0005      1.0039      3.5750\n",
      "C(year)[T.1990.0]      2.3503     0.6624     3.5479     0.0004      1.0514      3.6492\n",
      "C(year)[T.1991.0]      2.3837     0.6673     3.5720     0.0004      1.0752      3.6921\n",
      "C(year)[T.1992.0]      2.4784     0.6701     3.6985     0.0002      1.1645      3.7923\n",
      "C(year)[T.1993.0]      2.5196     0.6762     3.7262     0.0002      1.1938      3.8454\n",
      "C(year)[T.1994.0]      2.5825     0.6768     3.8158     0.0001      1.2555      3.9096\n",
      "C(year)[T.1995.0]      2.6717     0.6808     3.9245     0.0001      1.3369      4.0065\n",
      "C(year)[T.1996.0]      2.7519     0.6816     4.0376     0.0001      1.4155      4.0882\n",
      "C(year)[T.1997.0]      2.7994     0.6864     4.0781     0.0000      1.4535      4.1454\n",
      "C(year)[T.1998.0]      2.8401     0.6899     4.1167     0.0000      1.4874      4.1928\n",
      "C(year)[T.1999.0]      2.8930     0.6941     4.1682     0.0000      1.5321      4.2539\n",
      "C(year)[T.2000.0]      2.9182     0.6989     4.1755     0.0000      1.5479      4.2885\n",
      "C(year)[T.2001.0]      2.8892     0.6949     4.1578     0.0000      1.5267      4.2517\n",
      "C(year)[T.2002.0]      2.9556     0.6928     4.2661     0.0000      1.5972      4.3140\n",
      "C(year)[T.2003.0]      2.9955     0.6920     4.3291     0.0000      1.6388      4.3523\n",
      "C(year)[T.2004.0]      3.0099     0.6905     4.3592     0.0000      1.6561      4.3637\n",
      "C(year)[T.2005.0]      3.0914     0.6857     4.5082     0.0000      1.7468      4.4359\n",
      "C(year)[T.2006.0]      3.1033     0.6865     4.5205     0.0000      1.7572      4.4493\n",
      "C(year)[T.2007.0]      3.0986     0.6886     4.4998     0.0000      1.7484      4.4487\n",
      "C(year)[T.2008.0]      3.0356     0.6863     4.4232     0.0000      1.6900      4.3812\n",
      "C(year)[T.2009.0]      2.9954     0.6880     4.3537     0.0000      1.6464      4.3444\n",
      "C(year)[T.2010.0]      3.0648     0.6870     4.4613     0.0000      1.7178      4.4118\n",
      "C(year)[T.2011.0]      3.0304     0.6878     4.4060     0.0000      1.6818      4.3790\n",
      "C(year)[T.2012.0]      3.0165     0.6906     4.3678     0.0000      1.6624      4.3707\n",
      "C(year)[T.2013.0]      3.0996     0.6838     4.5330     0.0000      1.7589      4.4404\n",
      "C(year)[T.2014.0]      3.2016     0.6815     4.6980     0.0000      1.8654      4.5379\n",
      "C(year)[T.2015.0]      3.0734     0.6908     4.4488     0.0000      1.7188      4.4279\n",
      "======================================================================================\n",
      "\n",
      "\n"
     ]
    }
   ],
   "source": [
    "# Definindo a fórmula do modelo usando control5\n",
    "formula10 = \"efw_index_1_int ~ l5_index125a + l5_netoda_gdp_cons + l5_resource_rent + l5_lngdp + l5_gdpg + l5_warDummy + l5_christian_int + min_legor_uk + l5_legor_fr + l5_coup + l5_gini_disp + C(year)\"\n",
    "\n",
    "# Exibindo a fórmula\n",
    "print(formula10)\n",
    "\n",
    "model10 = PanelOLS.from_formula(formula=formula10, data=subset_5L, check_rank=False).fit(cov_type='clustered', cluster_entity=True)\n",
    "\n",
    "# Exibindo o resumo do modelo\n",
    "print(model10.summary)"
   ]
  },
  {
   "cell_type": "code",
   "execution_count": 836,
   "metadata": {},
   "outputs": [
    {
     "name": "stderr",
     "output_type": "stream",
     "text": [
      "C:\\Users\\guian\\AppData\\Local\\Temp\\ipykernel_28260\\1064465808.py:1: SettingWithCopyWarning:\n",
      "\n",
      "\n",
      "A value is trying to be set on a copy of a slice from a DataFrame.\n",
      "Try using .loc[row_indexer,col_indexer] = value instead\n",
      "\n",
      "See the caveats in the documentation: https://pandas.pydata.org/pandas-docs/stable/user_guide/indexing.html#returning-a-view-versus-a-copy\n",
      "\n"
     ]
    },
    {
     "data": {
      "text/plain": [
       "countrycode  year  \n",
       "Albania      1990.0         NaN\n",
       "             1995.0         NaN\n",
       "             2000.0         NaN\n",
       "             2001.0    0.281173\n",
       "             2002.0    1.051292\n",
       "                         ...   \n",
       "Zimbabwe     2011.0   -0.578807\n",
       "             2012.0   -0.116834\n",
       "             2013.0    0.386914\n",
       "             2014.0   -0.404397\n",
       "             2015.0   -0.157857\n",
       "Name: res10, Length: 2534, dtype: float64"
      ]
     },
     "execution_count": 836,
     "metadata": {},
     "output_type": "execute_result"
    }
   ],
   "source": [
    "df_filtered['res10'] = model10.resids\n",
    "df_filtered['res10']"
   ]
  },
  {
   "cell_type": "markdown",
   "metadata": {},
   "source": [
    "# Períodos de 5 anos - colunas 3 e 4 na tabela 5"
   ]
  },
  {
   "cell_type": "code",
   "execution_count": 837,
   "metadata": {},
   "outputs": [
    {
     "name": "stderr",
     "output_type": "stream",
     "text": [
      "C:\\Users\\guian\\AppData\\Local\\Temp\\ipykernel_28260\\2097788657.py:2: SettingWithCopyWarning:\n",
      "\n",
      "\n",
      "A value is trying to be set on a copy of a slice from a DataFrame.\n",
      "Try using .loc[row_indexer,col_indexer] = value instead\n",
      "\n",
      "See the caveats in the documentation: https://pandas.pydata.org/pandas-docs/stable/user_guide/indexing.html#returning-a-view-versus-a-copy\n",
      "\n"
     ]
    }
   ],
   "source": [
    "# Criar uma nova coluna 'five' com valor inicial de 0\n",
    "df_filtered['five'] = 0\n",
    "\n",
    "# Substituir os valores da coluna 'five' de acordo com as condições do do-file\n",
    "df_filtered.loc[df_filtered['year'] == 1965, 'five'] = 1\n",
    "df_filtered.loc[(df_filtered['efw_index_1'].notnull()) & (df_filtered['year'] < 2001), 'five'] = 1\n",
    "df_filtered.loc[df_filtered['year'] == 2005, 'five'] = 1\n",
    "df_filtered.loc[df_filtered['year'] == 2010, 'five'] = 1\n",
    "df_filtered.loc[df_filtered['year'] == 2015, 'five'] = 1"
   ]
  },
  {
   "cell_type": "code",
   "execution_count": 838,
   "metadata": {},
   "outputs": [],
   "source": [
    "#df_filtered = data[data['sample_full'] == 1]\n",
    "df_filtered_five = df_filtered[df_filtered['five'] == 1]"
   ]
  },
  {
   "cell_type": "code",
   "execution_count": 839,
   "metadata": {},
   "outputs": [
    {
     "name": "stderr",
     "output_type": "stream",
     "text": [
      "c:\\Users\\guian\\AppData\\Local\\Programs\\Python\\Python311\\Lib\\site-packages\\linearmodels\\panel\\model.py:1214: MissingValueWarning:\n",
      "\n",
      "\n",
      "Inputs contain missing values. Dropping rows with missing observations.\n",
      "\n"
     ]
    },
    {
     "name": "stdout",
     "output_type": "stream",
     "text": [
      "efw_index_1_int ~ l_index25a + l_netoda_gdp_cons + l_resource_rent + l_lngdp + l_gdpg + l_warDummy + l_christian_int + min_legor_uk + l_legor_fr + l_coup + l_gini_disp + C(year)\n",
      "                          PanelOLS Estimation Summary                           \n",
      "================================================================================\n",
      "Dep. Variable:        efw_index_1_int   R-squared:                        0.7143\n",
      "Estimator:                   PanelOLS   R-squared (Between):              0.7193\n",
      "No. Observations:                 727   R-squared (Within):               0.6340\n",
      "Date:                Sat, Jun 22 2024   R-squared (Overall):              0.7143\n",
      "Time:                        15:41:40   Log-likelihood                   -722.09\n",
      "Cov. Estimator:             Clustered                                           \n",
      "                                        F-statistic:                      93.016\n",
      "Entities:                         133   P-value                           0.0000\n",
      "Avg Obs:                       5.4662   Distribution:                  F(19,707)\n",
      "Min Obs:                       1.0000                                           \n",
      "Max Obs:                       9.0000   F-statistic (robust):             1785.6\n",
      "                                        P-value                           0.0000\n",
      "Time periods:                       9   Distribution:                  F(19,707)\n",
      "Avg Obs:                       80.778                                           \n",
      "Min Obs:                       34.000                                           \n",
      "Max Obs:                       124.00                                           \n",
      "                                                                                \n",
      "                                 Parameter Estimates                                 \n",
      "=====================================================================================\n",
      "                   Parameter  Std. Err.     T-stat    P-value    Lower CI    Upper CI\n",
      "-------------------------------------------------------------------------------------\n",
      "l_index25a            0.0412     0.0130     3.1671     0.0016      0.0157      0.0668\n",
      "l_netoda_gdp_cons     0.0239     0.0097     2.4649     0.0139      0.0049      0.0430\n",
      "l_resource_rent      -0.0287     0.0076    -3.7711     0.0002     -0.0437     -0.0138\n",
      "l_lngdp               0.4711     0.0657     7.1670     0.0000      0.3421      0.6002\n",
      "l_gdpg                0.0293     0.0072     4.0903     0.0000      0.0152      0.0434\n",
      "l_warDummy           -0.2568     0.1081    -2.3761     0.0178     -0.4689     -0.0446\n",
      "l_christian_int      -0.0692     0.1114    -0.6209     0.5349     -0.2879      0.1496\n",
      "min_legor_uk          0.0676     0.1594     0.4240     0.6717     -0.2454      0.3806\n",
      "l_legor_fr           -0.1379     0.1269    -1.0871     0.2774     -0.3870      0.1112\n",
      "l_coup               -0.2122     0.1458    -1.4553     0.1460     -0.4986      0.0741\n",
      "l_gini_disp           0.0017     0.0078     0.2151     0.8297     -0.0137      0.0171\n",
      "C(year)[T.1975.0]     1.5647     0.6669     2.3461     0.0192      0.2553      2.8741\n",
      "C(year)[T.1980.0]     1.5962     0.6903     2.3125     0.0210      0.2410      2.9514\n",
      "C(year)[T.1985.0]     1.6673     0.6880     2.4232     0.0156      0.3164      3.0181\n",
      "C(year)[T.1990.0]     1.9133     0.7132     2.6826     0.0075      0.5130      3.3136\n",
      "C(year)[T.1995.0]     2.3196     0.7320     3.1691     0.0016      0.8826      3.7567\n",
      "C(year)[T.2000.0]     2.6717     0.7407     3.6067     0.0003      1.2173      4.1260\n",
      "C(year)[T.2005.0]     2.8013     0.7454     3.7582     0.0002      1.3379      4.2647\n",
      "C(year)[T.2010.0]     2.9586     0.7247     4.0823     0.0000      1.5357      4.3814\n",
      "C(year)[T.2015.0]     2.9133     0.7411     3.9311     0.0001      1.4583      4.3683\n",
      "=====================================================================================\n",
      "\n",
      "\n"
     ]
    }
   ],
   "source": [
    "# Definindo a fórmula do modelo usando control3\n",
    "formula11 = \"efw_index_1_int ~ l_index25a + l_netoda_gdp_cons + l_resource_rent + l_lngdp + l_gdpg + l_warDummy + l_christian_int + min_legor_uk + l_legor_fr + l_coup + l_gini_disp + C(year)\"\n",
    "\n",
    "# Exibindo a fórmula\n",
    "print(formula11)\n",
    "\n",
    "model11 = PanelOLS.from_formula(formula=formula11, data=df_filtered_five, check_rank=False).fit(cov_type='clustered', cluster_entity=True)\n",
    "\n",
    "# Exibindo o resumo do modelo\n",
    "print(model11.summary)"
   ]
  },
  {
   "cell_type": "code",
   "execution_count": 840,
   "metadata": {},
   "outputs": [
    {
     "name": "stderr",
     "output_type": "stream",
     "text": [
      "C:\\Users\\guian\\AppData\\Local\\Temp\\ipykernel_28260\\1181026978.py:1: SettingWithCopyWarning:\n",
      "\n",
      "\n",
      "A value is trying to be set on a copy of a slice from a DataFrame.\n",
      "Try using .loc[row_indexer,col_indexer] = value instead\n",
      "\n",
      "See the caveats in the documentation: https://pandas.pydata.org/pandas-docs/stable/user_guide/indexing.html#returning-a-view-versus-a-copy\n",
      "\n"
     ]
    },
    {
     "data": {
      "text/plain": [
       "countrycode  year  \n",
       "Albania      1990.0         NaN\n",
       "             1995.0         NaN\n",
       "             2000.0   -0.217502\n",
       "             2001.0         NaN\n",
       "             2002.0         NaN\n",
       "                         ...   \n",
       "Zimbabwe     2011.0         NaN\n",
       "             2012.0         NaN\n",
       "             2013.0         NaN\n",
       "             2014.0         NaN\n",
       "             2015.0    0.133391\n",
       "Name: res11, Length: 2534, dtype: float64"
      ]
     },
     "execution_count": 840,
     "metadata": {},
     "output_type": "execute_result"
    }
   ],
   "source": [
    "df_filtered['res11'] = model11.resids\n",
    "df_filtered['res11']"
   ]
  },
  {
   "cell_type": "code",
   "execution_count": 841,
   "metadata": {},
   "outputs": [
    {
     "name": "stdout",
     "output_type": "stream",
     "text": [
      "efw_index_1_int ~ l_index125a + l_netoda_gdp_cons + l_resource_rent + l_lngdp + l_gdpg + l_warDummy + l_christian_int + min_legor_uk + l_legor_fr + l_coup + l_gini_disp + C(year)\n"
     ]
    },
    {
     "name": "stderr",
     "output_type": "stream",
     "text": [
      "c:\\Users\\guian\\AppData\\Local\\Programs\\Python\\Python311\\Lib\\site-packages\\linearmodels\\panel\\model.py:1214: MissingValueWarning:\n",
      "\n",
      "\n",
      "Inputs contain missing values. Dropping rows with missing observations.\n",
      "\n"
     ]
    },
    {
     "name": "stdout",
     "output_type": "stream",
     "text": [
      "                          PanelOLS Estimation Summary                           \n",
      "================================================================================\n",
      "Dep. Variable:        efw_index_1_int   R-squared:                        0.7239\n",
      "Estimator:                   PanelOLS   R-squared (Between):              0.7271\n",
      "No. Observations:                 727   R-squared (Within):               0.6570\n",
      "Date:                Sat, Jun 22 2024   R-squared (Overall):              0.7239\n",
      "Time:                        15:41:40   Log-likelihood                   -709.68\n",
      "Cov. Estimator:             Clustered                                           \n",
      "                                        F-statistic:                      97.539\n",
      "Entities:                         133   P-value                           0.0000\n",
      "Avg Obs:                       5.4662   Distribution:                  F(19,707)\n",
      "Min Obs:                       1.0000                                           \n",
      "Max Obs:                       9.0000   F-statistic (robust):             1886.2\n",
      "                                        P-value                           0.0000\n",
      "Time periods:                       9   Distribution:                  F(19,707)\n",
      "Avg Obs:                       80.778                                           \n",
      "Min Obs:                       34.000                                           \n",
      "Max Obs:                       124.00                                           \n",
      "                                                                                \n",
      "                                 Parameter Estimates                                 \n",
      "=====================================================================================\n",
      "                   Parameter  Std. Err.     T-stat    P-value    Lower CI    Upper CI\n",
      "-------------------------------------------------------------------------------------\n",
      "l_index125a           0.0465     0.0114     4.0955     0.0000      0.0242      0.0688\n",
      "l_netoda_gdp_cons     0.0248     0.0100     2.4836     0.0132      0.0052      0.0445\n",
      "l_resource_rent      -0.0256     0.0075    -3.3906     0.0007     -0.0404     -0.0108\n",
      "l_lngdp               0.4875     0.0593     8.2152     0.0000      0.3710      0.6041\n",
      "l_gdpg                0.0300     0.0069     4.3242     0.0000      0.0164      0.0436\n",
      "l_warDummy           -0.2222     0.1172    -1.8963     0.0583     -0.4522      0.0078\n",
      "l_christian_int      -0.1309     0.1152    -1.1355     0.2566     -0.3571      0.0954\n",
      "min_legor_uk          0.1442     0.1452     0.9933     0.3209     -0.1408      0.4292\n",
      "l_legor_fr           -0.1207     0.1181    -1.0225     0.3069     -0.3525      0.1111\n",
      "l_coup               -0.1452     0.1543    -0.9406     0.3472     -0.4481      0.1578\n",
      "l_gini_disp           0.0034     0.0078     0.4292     0.6679     -0.0120      0.0188\n",
      "C(year)[T.1975.0]     1.3409     0.6313     2.1241     0.0340      0.1015      2.5804\n",
      "C(year)[T.1980.0]     1.3629     0.6445     2.1147     0.0348      0.0975      2.6283\n",
      "C(year)[T.1985.0]     1.4302     0.6383     2.2407     0.0254      0.1770      2.6833\n",
      "C(year)[T.1990.0]     1.6499     0.6570     2.5111     0.0123      0.3599      2.9398\n",
      "C(year)[T.1995.0]     2.0086     0.6760     2.9714     0.0031      0.6814      3.3358\n",
      "C(year)[T.2000.0]     2.3359     0.6819     3.4258     0.0006      0.9972      3.6746\n",
      "C(year)[T.2005.0]     2.4373     0.6876     3.5446     0.0004      1.0873      3.7874\n",
      "C(year)[T.2010.0]     2.5922     0.6690     3.8744     0.0001      1.2786      3.9057\n",
      "C(year)[T.2015.0]     2.5456     0.6839     3.7222     0.0002      1.2029      3.8883\n",
      "=====================================================================================\n",
      "\n",
      "\n"
     ]
    }
   ],
   "source": [
    "# Definindo a fórmula do modelo usando control3\n",
    "formula12 = \"efw_index_1_int ~ l_index125a + l_netoda_gdp_cons + l_resource_rent + l_lngdp + l_gdpg + l_warDummy + l_christian_int + min_legor_uk + l_legor_fr + l_coup + l_gini_disp + C(year)\"\n",
    "\n",
    "# Exibindo a fórmula\n",
    "print(formula12)\n",
    "\n",
    "model12 = PanelOLS.from_formula(formula=formula12, data=df_filtered_five, check_rank=False).fit(cov_type='clustered', cluster_entity=True)\n",
    "\n",
    "# Exibindo o resumo do modelo\n",
    "print(model12.summary)"
   ]
  },
  {
   "cell_type": "code",
   "execution_count": 842,
   "metadata": {},
   "outputs": [
    {
     "name": "stderr",
     "output_type": "stream",
     "text": [
      "C:\\Users\\guian\\AppData\\Local\\Temp\\ipykernel_28260\\736997466.py:1: SettingWithCopyWarning:\n",
      "\n",
      "\n",
      "A value is trying to be set on a copy of a slice from a DataFrame.\n",
      "Try using .loc[row_indexer,col_indexer] = value instead\n",
      "\n",
      "See the caveats in the documentation: https://pandas.pydata.org/pandas-docs/stable/user_guide/indexing.html#returning-a-view-versus-a-copy\n",
      "\n"
     ]
    },
    {
     "data": {
      "text/plain": [
       "countrycode  year  \n",
       "Albania      1990.0         NaN\n",
       "             1995.0         NaN\n",
       "             2000.0   -0.379651\n",
       "             2001.0         NaN\n",
       "             2002.0         NaN\n",
       "                         ...   \n",
       "Zimbabwe     2011.0         NaN\n",
       "             2012.0         NaN\n",
       "             2013.0         NaN\n",
       "             2014.0         NaN\n",
       "             2015.0    0.230803\n",
       "Name: res12, Length: 2534, dtype: float64"
      ]
     },
     "execution_count": 842,
     "metadata": {},
     "output_type": "execute_result"
    }
   ],
   "source": [
    "df_filtered['res12'] = model12.resids\n",
    "df_filtered['res12']"
   ]
  },
  {
   "cell_type": "code",
   "execution_count": 843,
   "metadata": {},
   "outputs": [
    {
     "name": "stdout",
     "output_type": "stream",
     "text": [
      "efw_index_1_int ~ l5_index25a + l5_netoda_gdp_cons + l5_resource_rent + l5_lngdp + l5_gdpg + l5_warDummy + l5_christian_int + min_legor_uk + l5_legor_fr + l5_coup + l5_gini_disp + C(year)\n"
     ]
    }
   ],
   "source": [
    "print(formula9)"
   ]
  },
  {
   "cell_type": "code",
   "execution_count": 844,
   "metadata": {},
   "outputs": [
    {
     "name": "stdout",
     "output_type": "stream",
     "text": [
      "\\begin{table}\n",
      "\\caption{Five year lag results.}\n",
      "\\label{tab:five_year_lag_results}\n",
      "\\resizebox{\\textwidth}{!}{\\begin{tabular}{lcccc}\n",
      "\\toprule\n",
      "Dependent variable & 2.50% (1) & 12.50% (2) & 2.50% (3) & 12.50% (4) \\\\\n",
      "\\midrule\n",
      "Regime memory & 0.040 & 0.048 & 0.041 & 0.047 \\\\\n",
      "Net ODA as % of GDP & 0.020 & 0.021 & 0.024 & 0.025 \\\\\n",
      "Resource rent as % of GDP & -0.025 & -0.021 & -0.029 & -0.026 \\\\\n",
      "ln(GDP per capita) & 0.433 & 0.437 & 0.471 & 0.488 \\\\\n",
      "GDP Growth & 0.028 & 0.028 & 0.029 & 0.030 \\\\\n",
      "War Dummy & -0.090 & -0.077 & -0.257 & -0.222 \\\\\n",
      "Christian Dummy & 0.021 & -0.048 & -0.069 & -0.131 \\\\\n",
      "British legal origin & 0.062 & 0.128 & 0.068 & 0.144 \\\\\n",
      "French legal origin & -0.175 & -0.151 & -0.138 & -0.121 \\\\\n",
      "Coup d'etat & -0.097 & -0.062 & -0.212 & -0.145 \\\\\n",
      "Gini coefficient & -0.002 & -0.000 & 0.002 & 0.003 \\\\\n",
      "Number of observations & 3097 & 3097 & 727 & 727 \\\\\n",
      "R2 & 0.689 & 0.703 & 0.714 & 0.724 \\\\\n",
      "\\bottomrule\n",
      "\\end{tabular}}\n",
      "\\end{table}\n",
      "\n"
     ]
    }
   ],
   "source": [
    "# Extraindo os resultados\n",
    "results = {\n",
    "    'Dependent variable': [\n",
    "        'Regime memory', 'Net ODA as % of GDP', 'Resource rent as % of GDP',\n",
    "        'ln(GDP per capita)', 'GDP Growth', 'War Dummy', 'Christian Dummy',\n",
    "        'British legal origin', 'French legal origin', 'Coup d\\'etat', 'Gini coefficient'\n",
    "    ],\n",
    "    '2.50% (1)': [\n",
    "        f'{model9.params[\"l5_index25a\"]:.3f}',\n",
    "        f'{model9.params[\"l5_netoda_gdp_cons\"]:.3f}',\n",
    "        f'{model9.params[\"l5_resource_rent\"]:.3f}',\n",
    "        f'{model9.params[\"l5_lngdp\"]:.3f}',\n",
    "        f'{model9.params[\"l5_gdpg\"]:.3f}',\n",
    "        f'{model9.params[\"l5_warDummy\"]:.3f}',\n",
    "        f'{model9.params[\"l5_christian_int\"]:.3f}',\n",
    "        f'{model9.params[\"min_legor_uk\"]:.3f}',\n",
    "        f'{model9.params[\"l5_legor_fr\"]:.3f}',\n",
    "        f'{model9.params[\"l5_coup\"]:.3f}',\n",
    "        f'{model9.params[\"l5_gini_disp\"]:.3f}'\n",
    "    ],\n",
    "    '12.50% (2)': [\n",
    "        f'{model10.params[\"l5_index125a\"]:.3f}',\n",
    "        f'{model10.params[\"l5_netoda_gdp_cons\"]:.3f}',\n",
    "        f'{model10.params[\"l5_resource_rent\"]:.3f}',\n",
    "        f'{model10.params[\"l5_lngdp\"]:.3f}',\n",
    "        f'{model10.params[\"l5_gdpg\"]:.3f}',\n",
    "        f'{model10.params[\"l5_warDummy\"]:.3f}',\n",
    "        f'{model10.params[\"l5_christian_int\"]:.3f}',\n",
    "        f'{model10.params[\"min_legor_uk\"]:.3f}',\n",
    "        f'{model10.params[\"l5_legor_fr\"]:.3f}',\n",
    "        f'{model10.params[\"l5_coup\"]:.3f}',\n",
    "        f'{model10.params[\"l5_gini_disp\"]:.3f}'\n",
    "    ],\n",
    "    '2.50% (3)': [\n",
    "        f'{model11.params[\"l_index25a\"]:.3f}',\n",
    "        f'{model11.params[\"l_netoda_gdp_cons\"]:.3f}',\n",
    "        f'{model11.params[\"l_resource_rent\"]:.3f}',\n",
    "        f'{model11.params[\"l_lngdp\"]:.3f}',\n",
    "        f'{model11.params[\"l_gdpg\"]:.3f}',\n",
    "        f'{model11.params[\"l_warDummy\"]:.3f}',\n",
    "        f'{model11.params[\"l_christian_int\"]:.3f}',\n",
    "        f'{model11.params[\"min_legor_uk\"]:.3f}',\n",
    "        f'{model11.params[\"l_legor_fr\"]:.3f}',\n",
    "        f'{model11.params[\"l_coup\"]:.3f}',\n",
    "        f'{model11.params[\"l_gini_disp\"]:.3f}'\n",
    "    ],\n",
    "    '12.50% (4)': [\n",
    "        f'{model12.params[\"l_index125a\"]:.3f}',\n",
    "        f'{model12.params[\"l_netoda_gdp_cons\"]:.3f}',\n",
    "        f'{model12.params[\"l_resource_rent\"]:.3f}',\n",
    "        f'{model12.params[\"l_lngdp\"]:.3f}',\n",
    "        f'{model12.params[\"l_gdpg\"]:.3f}',\n",
    "        f'{model12.params[\"l_warDummy\"]:.3f}',\n",
    "        f'{model12.params[\"l_christian_int\"]:.3f}',\n",
    "        f'{model12.params[\"min_legor_uk\"]:.3f}',\n",
    "        f'{model12.params[\"l_legor_fr\"]:.3f}',\n",
    "        f'{model12.params[\"l_coup\"]:.3f}',\n",
    "        f'{model12.params[\"l_gini_disp\"]:.3f}'\n",
    "    ]\n",
    "}\n",
    "\n",
    "# Criando o DataFrame com os resultados\n",
    "results_df = pd.DataFrame(results)\n",
    "\n",
    "# Adicionando as linhas de estatísticas adicionais\n",
    "additional_stats = {\n",
    "    'Dependent variable': ['Number of observations', 'R2'],\n",
    "    '2.50% (1)': [\n",
    "        f'{model9.nobs}',\n",
    "        f'{model9.rsquared:.3f}'\n",
    "    ],\n",
    "    '12.50% (2)': [\n",
    "        f'{model10.nobs}',\n",
    "        f'{model10.rsquared:.3f}'\n",
    "    ],\n",
    "    '2.50% (3)': [\n",
    "        f'{model11.nobs}',\n",
    "        f'{model11.rsquared:.3f}'\n",
    "    ],\n",
    "    '12.50% (4)': [\n",
    "        f'{model12.nobs}',\n",
    "        f'{model12.rsquared:.3f}'\n",
    "    ]\n",
    "}\n",
    "\n",
    "additional_stats_df = pd.DataFrame(additional_stats)\n",
    "final_df = pd.concat([results_df, additional_stats_df], ignore_index=True)\n",
    "\n",
    "# Convertendo o DataFrame para LaTeX\n",
    "latex_table = final_df.to_latex(index=False, column_format='lcccc', caption='Five year lag results.', label='tab:five_year_lag_results', escape=False)\n",
    "\n",
    "# Ajustando a largura da tabela com resizebox\n",
    "latex_table = latex_table.replace('\\\\begin{tabular}', '\\\\resizebox{\\\\textwidth}{!}{\\\\begin{tabular}')\n",
    "latex_table = latex_table.replace('\\\\end{tabular}', '\\\\end{tabular}}')\n",
    "\n",
    "print(latex_table)"
   ]
  },
  {
   "cell_type": "markdown",
   "metadata": {},
   "source": [
    "# Tabela 6 - Análise de sub-amostra"
   ]
  },
  {
   "cell_type": "code",
   "execution_count": 845,
   "metadata": {},
   "outputs": [],
   "source": [
    "# Criando a amostra para países que estiveram na amostra por mais de 10 anos\n",
    "countries = [\"Bahrain\", \"Guinea\", \"Cambodia\", \"Lebanon\", \"Bhutan\", \"Liberia\", \"Myanmar\", \"Qatar\", \"Azerbaijan\", \"Gambia\", \"Saudi Arabia\", \"Suriname\", \"Tajikistan\", \"Timor-Leste\", \"Congo, Rep.\", \"Kuwait\", \"Chad\", \"Congo, Dem. Rep.\", \"Montenegro\"]\n",
    "\n",
    "# Copiando a coluna 'sample_full' para a coluna 'sample_11'\n",
    "data['sample_11'] = data['sample_full']\n",
    "# Definindo a coluna 'sample_11' como 0 para os países que não estão na lista\n",
    "data.loc[data['country'].isin(countries), 'sample_11'] = 0"
   ]
  },
  {
   "cell_type": "code",
   "execution_count": 846,
   "metadata": {},
   "outputs": [],
   "source": [
    "# Criando o dataframe com a amostra de países que estiveram na amostra por mais de 20 anos\n",
    "countries = [\n",
    "    \"Gabon\", \"Togo\", \"Angola\", \"Bosnia and Herzegovina\", \"Burkina Faso\", \n",
    "    \"Ethiopia\", \"Kazakhstan\", \"Kyrgyz Republic\", \"Lesotho\", \"Mauritania\", \n",
    "    \"Moldova\", \"Oman\", \"Armenia\", \"Haiti\", \"Mongolia\", \"Benin\", \n",
    "    \"Georgia\", \"Mozambique\", \"Vietnam\", \"Papua New Guinea\", \n",
    "    \"Guyana\", \"Canada\", \"Guinea-Bissau\", \"Albania\", \"Cameroon\", \n",
    "    \"Croatia\", \"Estonia\", \"Israel\", \"Latvia\", \"Lithuania\", \n",
    "    \"Slovenia\"\n",
    "]\n",
    "\n",
    "# Copiando a coluna 'sample_full' para a coluna 'sample_21'\n",
    "data['sample_21'] = data['sample_full']\n",
    "\n",
    "# Definindo 'sample_21' como 0 para os países especificados\n",
    "data.loc[data['country'].isin(countries), 'sample_21'] = 0\n"
   ]
  },
  {
   "cell_type": "code",
   "execution_count": 847,
   "metadata": {},
   "outputs": [
    {
     "name": "stderr",
     "output_type": "stream",
     "text": [
      "C:\\Users\\guian\\AppData\\Local\\Temp\\ipykernel_28260\\1326407446.py:2: SettingWithCopyWarning:\n",
      "\n",
      "\n",
      "A value is trying to be set on a copy of a slice from a DataFrame.\n",
      "Try using .loc[row_indexer,col_indexer] = value instead\n",
      "\n",
      "See the caveats in the documentation: https://pandas.pydata.org/pandas-docs/stable/user_guide/indexing.html#returning-a-view-versus-a-copy\n",
      "\n"
     ]
    }
   ],
   "source": [
    "# Criando mais um controle para as regressões a partir da virada do milênio\n",
    "df_filtered['sample_00'] = 0\n",
    "df_filtered.loc[df_filtered['year'] > 1999, 'sample_00'] = 1"
   ]
  },
  {
   "cell_type": "code",
   "execution_count": 848,
   "metadata": {},
   "outputs": [],
   "source": [
    "samples = [data['sample_11'], data['sample_21'], df_filtered['sample_00']]\n",
    "\n",
    "subset_11 = data[data['sample_11'] == 1]\n",
    "subset_21 = data[data['sample_21'] == 1]\n",
    "subset_00 = df_filtered[df_filtered['sample_00'] == 1]\n",
    "\n",
    "dados = [subset_11, subset_21, subset_00]"
   ]
  },
  {
   "cell_type": "code",
   "execution_count": 849,
   "metadata": {},
   "outputs": [
    {
     "name": "stderr",
     "output_type": "stream",
     "text": [
      "c:\\Users\\guian\\AppData\\Local\\Programs\\Python\\Python311\\Lib\\site-packages\\linearmodels\\panel\\model.py:1214: MissingValueWarning:\n",
      "\n",
      "\n",
      "Inputs contain missing values. Dropping rows with missing observations.\n",
      "\n"
     ]
    },
    {
     "name": "stderr",
     "output_type": "stream",
     "text": [
      "c:\\Users\\guian\\AppData\\Local\\Programs\\Python\\Python311\\Lib\\site-packages\\linearmodels\\panel\\model.py:1214: MissingValueWarning:\n",
      "\n",
      "\n",
      "Inputs contain missing values. Dropping rows with missing observations.\n",
      "\n",
      "c:\\Users\\guian\\AppData\\Local\\Programs\\Python\\Python311\\Lib\\site-packages\\linearmodels\\panel\\model.py:1214: MissingValueWarning:\n",
      "\n",
      "\n",
      "Inputs contain missing values. Dropping rows with missing observations.\n",
      "\n",
      "c:\\Users\\guian\\AppData\\Local\\Programs\\Python\\Python311\\Lib\\site-packages\\linearmodels\\panel\\model.py:1214: MissingValueWarning:\n",
      "\n",
      "\n",
      "Inputs contain missing values. Dropping rows with missing observations.\n",
      "\n",
      "c:\\Users\\guian\\AppData\\Local\\Programs\\Python\\Python311\\Lib\\site-packages\\linearmodels\\panel\\model.py:1214: MissingValueWarning:\n",
      "\n",
      "\n",
      "Inputs contain missing values. Dropping rows with missing observations.\n",
      "\n",
      "c:\\Users\\guian\\AppData\\Local\\Programs\\Python\\Python311\\Lib\\site-packages\\linearmodels\\panel\\model.py:1214: MissingValueWarning:\n",
      "\n",
      "\n",
      "Inputs contain missing values. Dropping rows with missing observations.\n",
      "\n"
     ]
    }
   ],
   "source": [
    "formula_local = \"efw_index_1_int ~ l_index25a + l_netoda_gdp_cons + l_resource_rent + l_lngdp + l_gdpg + l_warDummy + l_christian_int + min_legor_uk + l_legor_fr + l_coup + l_gini_disp + C(year)\"\n",
    "\n",
    "model12 = PanelOLS.from_formula(formula=formula_local, data=subset_11, check_rank=False).fit(cov_type='clustered', cluster_entity=True)\n",
    "model13 = PanelOLS.from_formula(formula=formula_local, data=subset_21, check_rank=False).fit(cov_type='clustered', cluster_entity=True)\n",
    "model14 = PanelOLS.from_formula(formula=formula_local, data=subset_00, check_rank=False).fit(cov_type='clustered', cluster_entity=True)\n",
    "\n",
    "formula_local2 = \"efw_index_1_int ~ l_index125a + l_netoda_gdp_cons + l_resource_rent + l_lngdp + l_gdpg + l_warDummy + l_christian_int + min_legor_uk + l_legor_fr + l_coup + l_gini_disp + C(year)\"\n",
    "\n",
    "model15 = PanelOLS.from_formula(formula=formula_local2, data=subset_11, check_rank=False).fit(cov_type='clustered', cluster_entity=True)\n",
    "model16 = PanelOLS.from_formula(formula=formula_local2, data=subset_21, check_rank=False).fit(cov_type='clustered', cluster_entity=True)\n",
    "model17 = PanelOLS.from_formula(formula=formula_local2, data=subset_00, check_rank=False).fit(cov_type='clustered', cluster_entity=True)"
   ]
  },
  {
   "cell_type": "code",
   "execution_count": 850,
   "metadata": {},
   "outputs": [
    {
     "name": "stdout",
     "output_type": "stream",
     "text": [
      "\\begin{table}\n",
      "\\caption{Sub-sample robustness check.}\n",
      "\\label{tab:sub_sample_robustness_check}\n",
      "\\resizebox{\\textwidth}{!}{\\begin{tabular}{lcccccc}\n",
      "\\toprule\n",
      "Dependent variable & 11 or more years (2.50%) & 11 or more years (12.50%) & 21 or more years (2.50%) & 21 or more years (12.50%) & 2000-2015 (2.50%) & 2000-2015 (12.50%) \\\\\n",
      "\\midrule\n",
      "Regime memory & 0.047 & 0.051 & 0.050 & 0.051 & 0.012 & 0.030 \\\\\n",
      "Net ODA as % of GDP & 0.020 & 0.021 & 0.028 & 0.030 & 0.027 & 0.025 \\\\\n",
      "Resource rent as % of GDP & -0.026 & -0.023 & -0.025 & -0.023 & -0.033 & -0.029 \\\\\n",
      "ln(GDP per capita) & 0.459 & 0.479 & 0.483 & 0.508 & 0.465 & 0.448 \\\\\n",
      "GDP Growth & 0.034 & 0.033 & 0.035 & 0.034 & 0.025 & 0.025 \\\\\n",
      "War Dummy & -0.192 & -0.165 & -0.165 & -0.135 & -0.129 & -0.154 \\\\\n",
      "Christian Dummy & -0.043 & -0.105 & -0.063 & -0.137 & 0.130 & 0.046 \\\\\n",
      "British legal origin & 0.032 & 0.125 & 0.141 & 0.211 & 0.019 & 0.043 \\\\\n",
      "French legal origin & -0.154 & -0.129 & -0.085 & -0.091 & -0.127 & -0.119 \\\\\n",
      "Coup Dummy & -0.126 & -0.100 & -0.124 & -0.095 & -0.136 & -0.128 \\\\\n",
      "Gini Disposable & 0.003 & 0.004 & 0.003 & 0.005 & 0.007 & 0.008 \\\\\n",
      "Number of observations & 3368 & 3368 & 3026 & 3026 & 1814 & 1814 \\\\\n",
      "R2 & 0.715 & 0.726 & 0.722 & 0.729 & 0.697 & 0.708 \\\\\n",
      "\\bottomrule\n",
      "\\end{tabular}}\n",
      "\\end{table}\n",
      "\n"
     ]
    }
   ],
   "source": [
    "# Extraindo os resultados apenas com os coeficientes\n",
    "results = {\n",
    "    'Dependent variable': [\n",
    "        'Regime memory', 'Net ODA as % of GDP', 'Resource rent as % of GDP',\n",
    "        'ln(GDP per capita)', 'GDP Growth', 'War Dummy', 'Christian Dummy',\n",
    "        'British legal origin', 'French legal origin', 'Coup Dummy', 'Gini Disposable'\n",
    "    ],\n",
    "    '11 or more years (2.50%)': [\n",
    "        f'{model12.params[\"l_index25a\"]:.3f}',\n",
    "        f'{model12.params[\"l_netoda_gdp_cons\"]:.3f}',\n",
    "        f'{model12.params[\"l_resource_rent\"]:.3f}',\n",
    "        f'{model12.params[\"l_lngdp\"]:.3f}',\n",
    "        f'{model12.params[\"l_gdpg\"]:.3f}',\n",
    "        f'{model12.params[\"l_warDummy\"]:.3f}',\n",
    "        f'{model12.params[\"l_christian_int\"]:.3f}',\n",
    "        f'{model12.params[\"min_legor_uk\"]:.3f}',\n",
    "        f'{model12.params[\"l_legor_fr\"]:.3f}',\n",
    "        f'{model12.params[\"l_coup\"]:.3f}',\n",
    "        f'{model12.params[\"l_gini_disp\"]:.3f}'\n",
    "    ],\n",
    "    '11 or more years (12.50%)': [\n",
    "        f'{model15.params[\"l_index125a\"]:.3f}',\n",
    "        f'{model15.params[\"l_netoda_gdp_cons\"]:.3f}',\n",
    "        f'{model15.params[\"l_resource_rent\"]:.3f}',\n",
    "        f'{model15.params[\"l_lngdp\"]:.3f}',\n",
    "        f'{model15.params[\"l_gdpg\"]:.3f}',\n",
    "        f'{model15.params[\"l_warDummy\"]:.3f}',\n",
    "        f'{model15.params[\"l_christian_int\"]:.3f}',\n",
    "        f'{model15.params[\"min_legor_uk\"]:.3f}',\n",
    "        f'{model15.params[\"l_legor_fr\"]:.3f}',\n",
    "        f'{model15.params[\"l_coup\"]:.3f}',\n",
    "        f'{model15.params[\"l_gini_disp\"]:.3f}'\n",
    "    ],\n",
    "    '21 or more years (2.50%)': [\n",
    "        f'{model13.params[\"l_index25a\"]:.3f}',\n",
    "        f'{model13.params[\"l_netoda_gdp_cons\"]:.3f}',\n",
    "        f'{model13.params[\"l_resource_rent\"]:.3f}',\n",
    "        f'{model13.params[\"l_lngdp\"]:.3f}',\n",
    "        f'{model13.params[\"l_gdpg\"]:.3f}',\n",
    "        f'{model13.params[\"l_warDummy\"]:.3f}',\n",
    "        f'{model13.params[\"l_christian_int\"]:.3f}',\n",
    "        f'{model13.params[\"min_legor_uk\"]:.3f}',\n",
    "        f'{model13.params[\"l_legor_fr\"]:.3f}',\n",
    "        f'{model13.params[\"l_coup\"]:.3f}',\n",
    "        f'{model13.params[\"l_gini_disp\"]:.3f}'\n",
    "    ],\n",
    "    '21 or more years (12.50%)': [\n",
    "        f'{model16.params[\"l_index125a\"]:.3f}',\n",
    "        f'{model16.params[\"l_netoda_gdp_cons\"]:.3f}',\n",
    "        f'{model16.params[\"l_resource_rent\"]:.3f}',\n",
    "        f'{model16.params[\"l_lngdp\"]:.3f}',\n",
    "        f'{model16.params[\"l_gdpg\"]:.3f}',\n",
    "        f'{model16.params[\"l_warDummy\"]:.3f}',\n",
    "        f'{model16.params[\"l_christian_int\"]:.3f}',\n",
    "        f'{model16.params[\"min_legor_uk\"]:.3f}',\n",
    "        f'{model16.params[\"l_legor_fr\"]:.3f}',\n",
    "        f'{model16.params[\"l_coup\"]:.3f}',\n",
    "        f'{model16.params[\"l_gini_disp\"]:.3f}'\n",
    "    ],\n",
    "    '2000-2015 (2.50%)': [\n",
    "        f'{model14.params[\"l_index25a\"]:.3f}',\n",
    "        f'{model14.params[\"l_netoda_gdp_cons\"]:.3f}',\n",
    "        f'{model14.params[\"l_resource_rent\"]:.3f}',\n",
    "        f'{model14.params[\"l_lngdp\"]:.3f}',\n",
    "        f'{model14.params[\"l_gdpg\"]:.3f}',\n",
    "        f'{model14.params[\"l_warDummy\"]:.3f}',\n",
    "        f'{model14.params[\"l_christian_int\"]:.3f}',\n",
    "        f'{model14.params[\"min_legor_uk\"]:.3f}',\n",
    "        f'{model14.params[\"l_legor_fr\"]:.3f}',\n",
    "        f'{model14.params[\"l_coup\"]:.3f}',\n",
    "        f'{model14.params[\"l_gini_disp\"]:.3f}'\n",
    "    ],\n",
    "    '2000-2015 (12.50%)': [\n",
    "        f'{model17.params[\"l_index125a\"]:.3f}',\n",
    "        f'{model17.params[\"l_netoda_gdp_cons\"]:.3f}',\n",
    "        f'{model17.params[\"l_resource_rent\"]:.3f}',\n",
    "        f'{model17.params[\"l_lngdp\"]:.3f}',\n",
    "        f'{model17.params[\"l_gdpg\"]:.3f}',\n",
    "        f'{model17.params[\"l_warDummy\"]:.3f}',\n",
    "        f'{model17.params[\"l_christian_int\"]:.3f}',\n",
    "        f'{model17.params[\"min_legor_uk\"]:.3f}',\n",
    "        f'{model17.params[\"l_legor_fr\"]:.3f}',\n",
    "        f'{model17.params[\"l_coup\"]:.3f}',\n",
    "        f'{model17.params[\"l_gini_disp\"]:.3f}'\n",
    "    ]\n",
    "}\n",
    "\n",
    "# Criando o DataFrame com os resultados\n",
    "results_df = pd.DataFrame(results)\n",
    "\n",
    "# Adicionando as linhas de estatísticas adicionais\n",
    "additional_stats = {\n",
    "    'Dependent variable': ['Number of observations', 'R2'],\n",
    "    '11 or more years (2.50%)': [\n",
    "        f'{model12.nobs}',\n",
    "        f'{model12.rsquared:.3f}'\n",
    "    ],\n",
    "    '11 or more years (12.50%)': [\n",
    "        f'{model15.nobs}',\n",
    "        f'{model15.rsquared:.3f}'\n",
    "    ],\n",
    "    '21 or more years (2.50%)': [\n",
    "        f'{model13.nobs}',\n",
    "        f'{model13.rsquared:.3f}'\n",
    "    ],\n",
    "    '21 or more years (12.50%)': [\n",
    "        f'{model16.nobs}',\n",
    "        f'{model16.rsquared:.3f}'\n",
    "    ],\n",
    "    '2000-2015 (2.50%)': [\n",
    "        f'{model14.nobs}',\n",
    "        f'{model14.rsquared:.3f}'\n",
    "    ],\n",
    "    '2000-2015 (12.50%)': [\n",
    "        f'{model17.nobs}',\n",
    "        f'{model17.rsquared:.3f}'\n",
    "    ]\n",
    "}\n",
    "\n",
    "additional_stats_df = pd.DataFrame(additional_stats)\n",
    "final_df = pd.concat([results_df, additional_stats_df], ignore_index=True)\n",
    "\n",
    "# Convertendo o DataFrame para LaTeX\n",
    "latex_table = final_df.to_latex(index=False, column_format='lcccccc', caption='Sub-sample robustness check.', label='tab:sub_sample_robustness_check', escape=False)\n",
    "\n",
    "# Ajustando a largura da tabela com resizebox\n",
    "latex_table = latex_table.replace('\\\\begin{tabular}', '\\\\resizebox{\\\\textwidth}{!}{\\\\begin{tabular}')\n",
    "latex_table = latex_table.replace('\\\\end{tabular}', '\\\\end{tabular}}')\n",
    "\n",
    "print(latex_table)\n"
   ]
  }
 ],
 "metadata": {
  "kernelspec": {
   "display_name": "Python 3",
   "language": "python",
   "name": "python3"
  },
  "language_info": {
   "codemirror_mode": {
    "name": "ipython",
    "version": 3
   },
   "file_extension": ".py",
   "mimetype": "text/x-python",
   "name": "python",
   "nbconvert_exporter": "python",
   "pygments_lexer": "ipython3",
   "version": "3.11.5"
  }
 },
 "nbformat": 4,
 "nbformat_minor": 2
}
